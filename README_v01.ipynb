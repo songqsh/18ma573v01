{
 "cells": [
  {
   "cell_type": "markdown",
   "metadata": {},
   "source": [
    "# 18ma573v01 \n",
    "\n",
    "## COMPUTATIONAL METHODS OF FINANCIAL MATHEMATICS\n",
    "\n",
    "__General course info__\n",
    "\n",
    "- Syllabus - [pdf](doc/syllabus_v01.pdf)\n",
    "- Final and capston project -[pdf](./doc/capstone.pdf)\n",
    "- Mapping - [ipynb](src/mapping.ipynb)"
   ]
  },
  {
   "cell_type": "markdown",
   "metadata": {},
   "source": [
    "\n",
    "__Python basics on Jupyter notebook__\n",
    "\n",
    "In this section, we will get familiar with python language with Jupyter notebook through some financial applications.\n",
    "\n",
    "- Environment setup [ipynb](https://github.com/songqsh/18ma573pub/blob/master/src/first_notebook_v01.ipynb)\n",
    "- Python on Jupyter notebook [ipynb](src/python_notebook.ipynb)\n",
    "- Pandas [ipynb](src/pandas_basics.ipynb)\n",
    "\n",
    "__Finite difference operators with python functions__\n",
    "\n",
    "Below, we will discuss some simple coding related to finite difference operators and convergence rate. This will help you to get to know basic coding with python functions. However, it's your responsibility to get to know enough coding via online resource. \n",
    "\n",
    "- First order finite difference operators - [ipynb](src/first_fd_v01.ipynb)\n",
    "- Convergence order - [ipynb](src/ffd_convergence_rate_v01.ipynb)\n",
    "    - (hw) Second order finite difference operator - [ipynb](src/second_fd.ipynb) \n",
    "        - soln - [ipynb](src/second_fd_soln.ipynb)\n",
    "    - (hw) Finite difference operator with higher order convergence - [ipynb](src/ex_fd.ipynb)\n",
    "        - soln - [ipynb](src/ex_fd_soln.ipynb)\n",
    "    - (ex) FD - [ipynb](doc/fd_ex.pdf)\n",
    "\n",
    "\n",
    "__BSM option price__\n",
    "\n",
    "- European call/put option class - \n",
    "    [ipynb](https://github.com/songqsh/18ma573pub/blob/master/src/european_options_class.ipynb)\n",
    "    - (hw) payoff diagram of butterfly - \n",
    "        [ipynb](https://github.com/songqsh/18ma573pub/blob/master/src/option_combinations.ipynb)\n",
    "- BSM formula - \n",
    "    [ipynb](https://github.com/songqsh/18ma573pub/blob/master/src/bsm_formula_v01.ipynb)\n",
    "    - (hw) Bsm price change -\n",
    "        [ipynb](https://github.com/songqsh/18ma573pub/blob/master/src/bsm_price_change.ipynb)\n",
    "- Importing modules - \n",
    "    [md](https://github.com/songqsh/18ma573pub/blob/master/src/import_modules.md)"
   ]
  },
  {
   "cell_type": "markdown",
   "metadata": {},
   "source": [
    "__Calibration__\n",
    "\n",
    "- implied volatility - [ipynb](https://nbviewer.jupyter.org/github/songqsh/18ma573pub/blob/master/src/implied_vol_v01.ipynb)\n",
    "    - (hw) IV - [ipynb](https://nbviewer.jupyter.org/github/songqsh/18ma573pub/blob/master/src/hw_implied_vol.ipynb)\n",
    "    - (ex) Sensitivity - [ipynb](src/ex_montonicity.ipynb)\n",
    "- volatility smile  - [ipynb](src/vol_smile_v01.ipynb)\n",
    "- bsm_calibration - [ipynb](src/bsm_calibration_v01.ipynb)\n",
    "    - (hw) - [ipynb](https://nbviewer.jupyter.org/github/songqsh/18ma573pub/blob/master/src/hw_bsm_calibration.ipynb)\n",
    "- BSM geometric asian option - [ipynb](src/bsm_geometric_asian_option.ipynb)\n",
    "    - (hw) calibration performance - [ipynb](src/hw_bsm_geometric_asian_option.ipynb)\n",
    "        - (soln) [ipynb](src/calibration_performance_v01.ipynb)"
   ]
  },
  {
   "cell_type": "markdown",
   "metadata": {},
   "source": [
    "__Monte Carlo basics__\n",
    "\n",
    "- Monte Carlo basics: Estimating $\\pi$ - [pdf](./doc/pi_mc_01.pdf) - [ipynb](https://github.com/songqsh/18ma573pub/blob/master/src/pi.ipynb)\n",
    "    - (hw) [pdf](doc/hw_mc_01.pdf)\n",
    "    - (hw) [ipynb](https://github.com/songqsh/18ma573pub/blob/master/src/hw_mc_02.ipynb)\n",
    "    - (ex) [ipynb](src/ex_omc_01.ipynb)\n",
    "- Ordinary Monte Carlo: Definite integral [pdf](https://github.com/songqsh/18ma573pub/blob/master/doc/omc_integral_01.pdf)\n",
    "    - (hw) [pdf](doc/hw_omc_integral.pdf)\n",
    "- Inverse transform method + Importance sampling: Definite integral - [pdf](./doc/is_it_integral.pdf)\n",
    "    - (hw) - [pdf](./doc/hw_is_it_integral.pdf)\n",
    "- Exact sampling of a Brownian path - [pdf](doc/bm_1d.pdf)\n",
    "    - (hw) bsm + aac + exact sampling - [pdf](doc/hw_exact_sample.pdf)\n",
    "        - (soln) [ipynb](src/soln_exact_sample.ipynb)\n",
    "    - (hw) correlations to aac - [pdf](doc/hw_payoff_correlation.pdf)\n",
    "        - (soln) [ipynb](src/soln_payoff_correlation.ipynb)\n",
    "    - (hw) vasicek model calibration - [pdf](doc/hw_vasicek_calibration.pdf)\n",
    "        - (soln part 1) - [ipynb](src/hw_vasicek_calibration_soln_part1.ipynb)\n",
    "        - (soln part 2) - [ipynb](src/calibration_vasicek_libor_swap_part2.ipynb)\n",
    "                "
   ]
  },
  {
   "cell_type": "markdown",
   "metadata": {},
   "source": [
    "__Fourier method__\n",
    "- References: \n",
    "    - [pdf by Chiu](other/paper/ChiXX_Fourier.pdf)\n",
    "    - [pdf by Carr and Madan 1999](other/paper/CM99_FFT.pdf)\n",
    "- Fourier method - [ipynb](src/fourier_method.ipynb)    \n",
    "    - (hw) - [ipynb](src/hw_fourier.ipynb)\n",
    "        - (soln) - [ipynb](src/hw_fourier_soln.ipynb)\n",
    "- Fourier method by Carr-Madan \n",
    "    - demo - [ipynb](src/fourier_carr_madan.ipynb)"
   ]
  },
  {
   "cell_type": "markdown",
   "metadata": {},
   "source": [
    "__Euler scheme__\n",
    "- 1d Euler scheme - [pdf](./doc/euler_sde_1d.pdf)\n",
    "    - Demo: bm_1d_path - [ipynb](./src/bm_1d_path.ipynb)\n",
    "    - Demo: euler_1d_path - [ipynb](./src/euler_1d.ipynb)\n",
    "- 2d Euler scheme - [pdf](./doc/euler_sde_2d.pdf)\n",
    "    - Call on Heston model - [ipynb](./src/euler_heston.ipynb)\n",
    "    - Heston European option data cook - [ipynb](./src/heston_data_cook.ipynb)\n",
    "- geometric asian option + Heston + Euler - [ipynb](src/heston_geometric_asian_euler.ipynb)"
   ]
  },
  {
   "cell_type": "markdown",
   "metadata": {},
   "source": [
    "__Finite difference method__    \n",
    "\n",
    "- FTCS with a toy - [ipynb](src/ftcs_stability_heat_toy.ipynb) and [pdf](./doc/stability_ftcs_01.pdf)\n",
    "    - (hw) FTCS and stability: Heat equation with Cauchy-Dirichlet data - [ipynb](./src/ftcs_stability_heat_1d.ipynb) \n",
    "    - (hw) FTCS stability questions - [ipynb](src/hw_ftcs_stability.ipynb)\n",
    "\n",
    "- BTCS and CRR model - [pdf](doc/fdm_crr.pdf)\n",
    "    - (hw) [pdf](doc/hw_crr.pdf)\n",
    "        - (soln by) [song](src/L05s01.ipynb)\n",
    "    - BTCS and stability: Heat equation - [ipynb](./src/btcs_stability_heat_1d.ipynb)\n",
    "\n",
    "- Stability analysis of FTCS - [pdf](./doc/stability_ftcs_02.pdf)\n",
    "- Crank-Nicolson scheme - [pdf](./doc/stability_ftcs_03.pdf)\n",
    "\n",
    "\n"
   ]
  },
  {
   "cell_type": "markdown",
   "metadata": {},
   "source": [
    "\n",
    "\n",
    "# Explicit pricing formula\n",
    "\n",
    "- [Explicit Option Price: BSM+Eu](./src/explicit_bsm_eu.ipynb)\n",
    "- [Project: BSM Greeks](./src/explicit_bsm_greeks.ipynb)\n",
    "    - [Soln](./src/explicit_bsm_greeks_soln.ipynb)\n",
    "\n",
    "# Monte Carlo - Exact sampling\n",
    "- [Exact Sampling: BSM+Eu](./src/es_bsm_eu.ipynb)\n",
    "- [Exact sampling: BSM + Knock-in](./src/es_bsm_knock_in.ipynb)\n",
    "- [Importance sampling: BSM + Knock-in](./src/is_bsm_knock_in.ipynb)\n",
    "- [Control Variates: BSM+Aac](./src/control_variates_bsm_aac.ipynb)\n",
    "\n",
    "\n",
    "\n",
    "# Problem Sets\n",
    "\n",
    "- [Problems01](./src/problems01.ipynb)\n"
   ]
  },
  {
   "cell_type": "code",
   "execution_count": null,
   "metadata": {},
   "outputs": [],
   "source": []
  }
 ],
 "metadata": {
  "kernelspec": {
   "display_name": "Python 3",
   "language": "python",
   "name": "python3"
  },
  "language_info": {
   "codemirror_mode": {
    "name": "ipython",
    "version": 3
   },
   "file_extension": ".py",
   "mimetype": "text/x-python",
   "name": "python",
   "nbconvert_exporter": "python",
   "pygments_lexer": "ipython3",
   "version": "3.6.4"
  }
 },
 "nbformat": 4,
 "nbformat_minor": 2
}
