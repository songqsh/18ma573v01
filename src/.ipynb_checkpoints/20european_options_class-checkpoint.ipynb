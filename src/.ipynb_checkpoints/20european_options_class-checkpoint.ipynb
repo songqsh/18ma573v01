{
 "cells": [
  {
   "cell_type": "markdown",
   "metadata": {
    "colab_type": "text",
    "id": "eplzMXxaKsPg"
   },
   "source": [
    "# Abstract\n",
    "\n",
    "- Create european call/put  class\n",
    "- Analyse payoff structures of option combinations, such as writeen straddle and butterfly."
   ]
  },
  {
   "cell_type": "markdown",
   "metadata": {
    "colab_type": "text",
    "id": "iBhy7g4PLNZd"
   },
   "source": [
    "# Anal\n",
    "\n",
    "Payoff of European call with \n",
    "strike $K$ and exercise price $S$ is given as\n",
    "$$C(S, K)= (S - K)^+ = \\max\\{S- K, 0\\}.$$\n",
    "Similarly European put with \n",
    "strike $K$ and exercise price $S$ is given as\n",
    "$$P(S, K)= (S - K)^- = \\max\\{-S+ K, 0\\}.$$\n",
    "Traders use different option combinations according to market analysis to meet their various objectives. Please find wiki for those combinations and their use.\n",
    "\n"
   ]
  },
  {
   "cell_type": "markdown",
   "metadata": {
    "colab_type": "text",
    "id": "OMBWh9sCNhWS"
   },
   "source": [
    "# Code\n",
    "\n",
    "First, we create call/put class"
   ]
  },
  {
   "cell_type": "code",
   "execution_count": 1,
   "metadata": {
    "colab": {},
    "colab_type": "code",
    "id": "GhQhpUpypenq"
   },
   "outputs": [],
   "source": [
    "'''=========\n",
    "option class init\n",
    "=========='''\n",
    "class VanillaOption:\n",
    "    def __init__(\n",
    "        self,\n",
    "        otype = 1, # 1: 'call'\n",
    "                  # -1: 'put'\n",
    "        strike = 110.,\n",
    "        maturity = 1.,\n",
    "        market_price = 10.):\n",
    "      self.otype = otype\n",
    "      self.strike = strike\n",
    "      self.maturity = maturity\n",
    "      self.market_price = market_price #this will be used for calibration\n",
    "      \n",
    "        \n",
    "    def payoff(self, s): #s: excercise price\n",
    "      otype = self.otype\n",
    "      k = self.strike\n",
    "      maturity = self.maturity\n",
    "      return max([0, (s - k)*otype])"
   ]
  },
  {
   "cell_type": "markdown",
   "metadata": {
    "colab_type": "text",
    "id": "a92eaPhnN9Kn"
   },
   "source": [
    "__Test__\n",
    "\n",
    "We will use a few examples to test the above class.\n",
    "\n",
    "__ex__\n",
    "\n",
    "plot payoff diagram of 40-strike call as a function of exercise price."
   ]
  },
  {
   "cell_type": "code",
   "execution_count": 2,
   "metadata": {},
   "outputs": [],
   "source": [
    "import matplotlib.pyplot as plt"
   ]
  },
  {
   "cell_type": "code",
   "execution_count": 3,
   "metadata": {},
   "outputs": [
    {
     "data": {
      "image/png": "[encoded data removed]",
      "text/plain": [
       "<Figure size 432x288 with 1 Axes>"
      ]
     },
     "metadata": {
      "needs_background": "light"
     },
     "output_type": "display_data"
    }
   ],
   "source": [
    "\n",
    "#create option instance, maturity is just arbitrarily given\n",
    "opt1 = VanillaOption(otype = 1, strike = 40, maturity= 1.) \n",
    "stk_list = range(20, 61)\n",
    "payoff_list = [opt1.payoff(s) for s in stk_list]\n",
    "plt.plot(stk_list, payoff_list)\n",
    "\n",
    "#decorations\n",
    "plt.xlabel('exercise price')\n",
    "plt.ylabel('payoff')\n",
    "plt.title('40-strike call');\n",
    "plt.show()"
   ]
  },
  {
   "cell_type": "code",
   "execution_count": null,
   "metadata": {
    "colab": {},
    "colab_type": "code",
    "id": "YRgXQ89sPEn3"
   },
   "outputs": [],
   "source": []
  }
 ],
 "metadata": {
  "colab": {
   "include_colab_link": true,
   "name": "european_options_class.ipynb",
   "provenance": [],
   "version": "0.3.2"
  },
  "kernelspec": {
   "display_name": "Python 3",
   "language": "python",
   "name": "python3"
  },
  "language_info": {
   "codemirror_mode": {
    "name": "ipython",
    "version": 3
   },
   "file_extension": ".py",
   "mimetype": "text/x-python",
   "name": "python",
   "nbconvert_exporter": "python",
   "pygments_lexer": "ipython3",
   "version": "3.7.4"
  }
 },
 "nbformat": 4,
 "nbformat_minor": 1
}
