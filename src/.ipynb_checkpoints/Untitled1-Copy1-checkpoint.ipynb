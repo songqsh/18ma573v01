{
 "cells": [
  {
   "cell_type": "code",
   "execution_count": 38,
   "metadata": {},
   "outputs": [],
   "source": [
    "import numpy as np\n",
    "from scipy.integrate import quad\n",
    "\n",
    "from contract_v01 import VanillaOption\n",
    "from sde_1d_v01 import Gbm_1d"
   ]
  },
  {
   "cell_type": "code",
   "execution_count": 10,
   "metadata": {},
   "outputs": [
    {
     "name": "stdout",
     "output_type": "stream",
     "text": [
      ">>>>>>>>>>call value is 5.943273183452838\n",
      ">>>>>>>>>>put value is 10.84042522804176\n"
     ]
    }
   ],
   "source": [
    "'''===============\n",
    "Test bsm_price\n",
    "================='''\n",
    "s0 = 100\n",
    "r = .0475\n",
    "sigma = .2\n",
    "otype = 1\n",
    "T = 110.\n",
    "K = 1.\n",
    "\n",
    "gbm1 = Gbm_1d(init_state=100., drift_ratio=.0475, vol_ratio=.2)\n",
    "option1 = VanillaOption(otype = 1, strike = 110., maturity= 1., market_price=15.) \n",
    "\n",
    "print('>>>>>>>>>>call value is ' + str(gbm1.bsm_price(option1)))\n",
    "option2 = VanillaOption(otype=-1)\n",
    "print('>>>>>>>>>>put value is ' + str(gbm1.bsm_price(option2)))    \n"
   ]
  },
  {
   "cell_type": "code",
   "execution_count": 56,
   "metadata": {},
   "outputs": [],
   "source": [
    "#characteristic function of log terminal price of GBM\n",
    "def char_fun_log_gbm_price(u, gbm, T):\n",
    "    tmp1 = u*(np.log(gbm.init_state)+gbm.drift_ratio*T)\n",
    "    tmp2 = -.5*gbm.vol_ratio**2*T*u**2\n",
    "    return np.exp(tmp1*1j + tmp2)"
   ]
  },
  {
   "cell_type": "code",
   "execution_count": 57,
   "metadata": {},
   "outputs": [],
   "source": [
    "def integrand_1(u, gbm, contract):\n",
    "    tmp1 = (np.exp(-1j*u*np.log(contract.strike))*\n",
    "            char_fun_log_gbm_price(u-1j,gbm, contract.strike)\n",
    "           )\n",
    "    tmp2 = 1j*u*char_fun_log_gbm_price(-1j, gbm, contract.strike)\n",
    "    return (tmp1/tmp2).real"
   ]
  },
  {
   "cell_type": "code",
   "execution_count": 58,
   "metadata": {},
   "outputs": [],
   "source": [
    "pi_1 = .5 + 1./np.pi*quad(integrand_1, 0, np.inf, args = (gbm1, option1))[0]"
   ]
  },
  {
   "cell_type": "code",
   "execution_count": 59,
   "metadata": {},
   "outputs": [],
   "source": [
    "def integrand_2(u,gbm,contract):\n",
    "    tmp1 = (np.exp(-1j*u*np.log(contract.strike))*\n",
    "            char_fun_log_gbm_price(u,gbm, contract.strike)\n",
    "           )\n",
    "    return (tmp1/(1j*u)).real"
   ]
  },
  {
   "cell_type": "code",
   "execution_count": 60,
   "metadata": {},
   "outputs": [],
   "source": [
    "pi_2 = .5 + 1./np.pi*quad(integrand_2, 0, np.inf, args = (gbm1, option1))[0]"
   ]
  },
  {
   "cell_type": "code",
   "execution_count": 61,
   "metadata": {},
   "outputs": [],
   "source": [
    "c = s0*pi_1- K*np.exp(-r*T)*pi_2"
   ]
  },
  {
   "cell_type": "code",
   "execution_count": 62,
   "metadata": {},
   "outputs": [
    {
     "data": {
      "text/plain": [
       "99.99438139274815"
      ]
     },
     "execution_count": 62,
     "metadata": {},
     "output_type": "execute_result"
    }
   ],
   "source": [
    "c"
   ]
  },
  {
   "cell_type": "code",
   "execution_count": 63,
   "metadata": {},
   "outputs": [
    {
     "data": {
      "text/plain": [
       "0.9999972283710257"
      ]
     },
     "execution_count": 63,
     "metadata": {},
     "output_type": "execute_result"
    }
   ],
   "source": [
    "pi_1"
   ]
  },
  {
   "cell_type": "code",
   "execution_count": 64,
   "metadata": {},
   "outputs": [
    {
     "data": {
      "text/plain": [
       "0.9927671000113301"
      ]
     },
     "execution_count": 64,
     "metadata": {},
     "output_type": "execute_result"
    }
   ],
   "source": [
    "pi_2"
   ]
  },
  {
   "cell_type": "code",
   "execution_count": null,
   "metadata": {},
   "outputs": [],
   "source": []
  }
 ],
 "metadata": {
  "kernelspec": {
   "display_name": "Python 3",
   "language": "python",
   "name": "python3"
  },
  "language_info": {
   "codemirror_mode": {
    "name": "ipython",
    "version": 3
   },
   "file_extension": ".py",
   "mimetype": "text/x-python",
   "name": "python",
   "nbconvert_exporter": "python",
   "pygments_lexer": "ipython3",
   "version": "3.6.4"
  }
 },
 "nbformat": 4,
 "nbformat_minor": 2
}
