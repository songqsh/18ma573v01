{
 "cells": [
  {
   "cell_type": "markdown",
   "metadata": {
    "colab_type": "text",
    "id": "view-in-github"
   },
   "source": [
    "<a href=\"https://colab.research.google.com/github/songqsh/18ma573v01/blob/master/src/bsm_calibration_v01.ipynb\" target=\"_parent\"><img src=\"https://colab.research.google.com/assets/colab-badge.svg\" alt=\"Open In Colab\"/></a>"
   ]
  },
  {
   "cell_type": "markdown",
   "metadata": {
    "colab_type": "text",
    "id": "VBlkqbgUvQ6k"
   },
   "source": [
    "# Volatility calibration to BSM"
   ]
  },
  {
   "cell_type": "markdown",
   "metadata": {
    "colab_type": "text",
    "id": "gxxtEM40t092"
   },
   "source": [
    "## Abstract\n",
    "\n",
    "- Goal\n",
    "    - Calibrate BSM model for makert price of options\n"
   ]
  },
  {
   "cell_type": "markdown",
   "metadata": {
    "colab_type": "text",
    "id": "Y0jFTVYPt1Ot"
   },
   "source": [
    "## Problem\n",
    "\n",
    "All of pricing models require a set of model parameters in order to fully define the dynamics of each model. The process of adjusting model parameters such that the model prices are compatible with market prices is called **Calibration**. \n",
    "\n",
    "Input:\n",
    "\n",
    "- market prices of several options with different strikes and maturities\n",
    "- spot price\n",
    "- interest rates\n",
    "\n",
    "Output:\n",
    "\n",
    "- Find volatility of BSM model"
   ]
  },
  {
   "cell_type": "markdown",
   "metadata": {
    "colab_type": "text",
    "id": "imn9O8Qcu1iW"
   },
   "source": [
    "## Anal\n",
    "\n",
    "\n",
    "Suppose\n",
    "- Model prameter $\\theta = (\\theta_1, ... \\theta_m)$ is a vector\n",
    "- Prices of $n$ instruments are aviable in the market with its market price of $i$th instrument quoted by $C_i$. \n",
    "Let's denote $C = (C_1, ..., C_n)$ as a market price vector.\n",
    "- In theory, $C_i^\\theta$ is the model price of the $i$th instrument, and they are denoted as a vector $C^\\theta = (C_1^\\theta, ...,  C^\\theta_n)$. \n",
    "\n",
    "Given a distance function $H: \\mathbb R^n \\times \\mathbb R^n \\mapsto \\mathbb R^+$, calibration is to find the parameter $\\theta^*$  which minimize the objective function $H(C^\\theta, C)$, i.e.\n",
    "$$ \\theta^* = \\arg\\min_\\theta H(C^\\theta, C).$$\n",
    "\n",
    "Commonly used distance functions for $H$ are \n",
    "- $H(x, y) = (\\sum_{i=1}^n w_i |x_i - y_i|^p)^{1/p}.$\n",
    "- $H(x, y) = (\\sum_{i=1}^n w_i | \\frac{x_i - y_i}{y_i}|^p)^{1/p}.$ If $p = 2$, $w_i =1$, then $H^2$ is called as SSRE (sum of squred relative errors)\n",
    "- $H(x, y) = (\\sum_{i=1}^n w_i |\\ln x - \\ln y|^p)^{1/p}.$\n",
    "\n",
    "In this below, we are goint to use, the first case of $H$ with $p = 2$ and $w_i = 1$ for all i's."
   ]
  },
  {
   "cell_type": "markdown",
   "metadata": {
    "colab_type": "text",
    "id": "eVZsLxD8uEwA"
   },
   "source": [
    "## Code"
   ]
  },
  {
   "cell_type": "markdown",
   "metadata": {
    "colab_type": "text",
    "id": "3KZKEJdCUJa_"
   },
   "source": [
    "- here we import our own python modules and common modules"
   ]
  },
  {
   "cell_type": "code",
   "execution_count": 1,
   "metadata": {
    "colab": {},
    "colab_type": "code",
    "id": "xJiFQheVT0SO"
   },
   "outputs": [],
   "source": [
    "from contract_v01 import VanillaOption\n",
    "from sde_1d_v01 import Gbm_1d\n",
    "import numpy as np\n",
    "import matplotlib.pyplot as plt\n",
    "import scipy.optimize as so"
   ]
  },
  {
   "cell_type": "markdown",
   "metadata": {
    "colab_type": "text",
    "id": "1s1eIpODUW_A"
   },
   "source": [
    "- Read data from .dat file. It has call option prices of\n",
    "  - maturities 2 months and 5 months;\n",
    "  - strikes of 97, 99, 101, 103"
   ]
  },
  {
   "cell_type": "code",
   "execution_count": 2,
   "metadata": {
    "colab": {
     "base_uri": "https://localhost:8080/",
     "height": 170
    },
    "colab_type": "code",
    "id": "55dseLN6URf0",
    "outputId": "10754f47-49b8-4b2f-9872-ad6bed9a8f98"
   },
   "outputs": [
    {
     "name": "stdout",
     "output_type": "stream",
     "text": [
      ">>>>>>otype, maturity, strike, option_price\n",
      "[[  1.           0.16666667  97.           5.32705461]\n",
      " [  1.           0.16666667  99.           3.86224255]\n",
      " [  1.           0.16666667 101.           2.7204371 ]\n",
      " [  1.           0.16666667 103.           2.1202793 ]\n",
      " [  1.           0.41666667  97.           7.23756307]\n",
      " [  1.           0.41666667  99.           5.95053461]\n",
      " [  1.           0.41666667 101.           5.2640122 ]\n",
      " [  1.           0.41666667 103.           4.97493422]]\n"
     ]
    }
   ],
   "source": [
    "'''======\n",
    "Read data\n",
    "========='''\n",
    "#Read four-column data\n",
    "#columns are otype, maturity, strike, option_price\n",
    "np_option_data1 = np.loadtxt('optiondata2.dat', comments='#', delimiter=',')\n",
    "\n",
    "print('>>>>>>otype, maturity, strike, option_price')\n",
    "print(np_option_data1)"
   ]
  },
  {
   "cell_type": "markdown",
   "metadata": {
    "colab_type": "text",
    "id": "rLJ7Qm2nWehV"
   },
   "source": [
    "- We also need to give spot price and interest rate before the computation."
   ]
  },
  {
   "cell_type": "code",
   "execution_count": 3,
   "metadata": {
    "colab": {},
    "colab_type": "code",
    "id": "-5Oe6-JIWd1m"
   },
   "outputs": [],
   "source": [
    "'''==============\n",
    "below are from the market data for underlying process\n",
    "================='''\n",
    "gbm1 = Gbm_1d(\n",
    "    init_state = 100, #market data\n",
    "    drift_ratio = .05, #market data\n",
    "    vol_ratio = .1 #initial guess\n",
    ")"
   ]
  },
  {
   "cell_type": "markdown",
   "metadata": {
    "colab_type": "text",
    "id": "jtzdzPDRXkSO"
   },
   "source": [
    "- creat option_list from the data"
   ]
  },
  {
   "cell_type": "code",
   "execution_count": 4,
   "metadata": {
    "colab": {},
    "colab_type": "code",
    "id": "GErLpqgQXtDS"
   },
   "outputs": [],
   "source": [
    "num_row = np_option_data1.shape[0]\n",
    "option_list1 = []\n",
    "\n",
    "for i in range(num_row):\n",
    "  option1 = VanillaOption(\n",
    "      otype = np_option_data1[i,0],\n",
    "      strike = np_option_data1[i,2],\n",
    "      maturity = np_option_data1[i,1],\n",
    "      market_price = np_option_data1[i,3]\n",
    "  )\n",
    "      \n",
    "  option_list1.append(option1) \n",
    "  "
   ]
  },
  {
   "cell_type": "markdown",
   "metadata": {
    "colab_type": "text",
    "id": "x0F0-26vXsYp"
   },
   "source": [
    "- Define calibration method"
   ]
  },
  {
   "cell_type": "code",
   "execution_count": 5,
   "metadata": {
    "colab": {},
    "colab_type": "code",
    "id": "8HbNeNkVnEtT"
   },
   "outputs": [],
   "source": [
    "'''==========\n",
    "define a method for error function\n",
    "============'''\n",
    "\n",
    "def error_function(vol, gbm, option_list):\n",
    "  gbm.vol_ratio = vol\n",
    "  err1 = 0\n",
    "  for i in np.arange(len(option_list)):\n",
    "    err1 = err1 + ((option_list[i]).market_price - gbm.bsm_price(option_list[i]))**2    \n",
    "  return err1"
   ]
  },
  {
   "cell_type": "code",
   "execution_count": 6,
   "metadata": {
    "colab": {},
    "colab_type": "code",
    "id": "bVnh5RUk5d6q"
   },
   "outputs": [],
   "source": [
    "'''==========\n",
    "define a method to seek for a calibrated volatility\n",
    "============'''\n",
    "\n",
    "def bsm_calibration(gbm, option_list):\n",
    "  init_vol = .1 #initial guess\n",
    "  return so.fmin(error_function, init_vol, args = (gbm, option_list), disp = 0)[0]"
   ]
  },
  {
   "cell_type": "markdown",
   "metadata": {
    "colab_type": "text",
    "id": "g-m2t4ASEFj8"
   },
   "source": [
    "- filtering out options of 2-mon maturity"
   ]
  },
  {
   "cell_type": "code",
   "execution_count": 7,
   "metadata": {
    "colab": {
     "base_uri": "https://localhost:8080/",
     "height": 34
    },
    "colab_type": "code",
    "id": "difSQvSK8t9A",
    "outputId": "d9c440b7-a11a-4c64-8936-ad72dcdea710"
   },
   "outputs": [
    {
     "name": "stdout",
     "output_type": "stream",
     "text": [
      ">>>>>>>> calibrated_volatility is 0.18109375000000028\n"
     ]
    }
   ],
   "source": [
    "# Take options of 2-mon maturity\n",
    "filter1 = list(filter(lambda x: x.maturity == 2/12, option_list1))\n",
    "calibrated_volatility1 = bsm_calibration(gbm1, filter1)\n",
    "print('>>>>>>>> calibrated_volatility is ' + str(calibrated_volatility1))"
   ]
  },
  {
   "cell_type": "code",
   "execution_count": 8,
   "metadata": {
    "colab": {
     "base_uri": "https://localhost:8080/",
     "height": 51
    },
    "colab_type": "code",
    "id": "oqHGpYx36QyF",
    "outputId": "e93c4505-0c02-4a10-a8a6-460a82782b20"
   },
   "outputs": [
    {
     "name": "stdout",
     "output_type": "stream",
     "text": [
      ">>>>>>>>> this is option price calculated from calibrated vol\n"
     ]
    },
    {
     "data": {
      "text/plain": [
       "[5.184221823763238, 3.9225121216534404, 2.8709333662230563, 2.0297005112870465]"
      ]
     },
     "execution_count": 8,
     "metadata": {},
     "output_type": "execute_result"
    }
   ],
   "source": [
    "gbm1.vol_ratio = calibrated_volatility1\n",
    "\n",
    "#find calibrated option price\n",
    "filter1_calibrated_price = [gbm1.bsm_price(filter1[i]) for i in range(len(filter1))]\n",
    "print('>>>>>>>>> this is option price calculated from calibrated vol')\n",
    "filter1_calibrated_price"
   ]
  },
  {
   "cell_type": "code",
   "execution_count": 9,
   "metadata": {
    "colab": {
     "base_uri": "https://localhost:8080/",
     "height": 361
    },
    "colab_type": "code",
    "id": "iqohN8KJCgn3",
    "outputId": "ade36416-2b62-41f5-f5be-397cd7d828eb"
   },
   "outputs": [
    {
     "data": {
      "image/png": "[encoded data removed]",
      "text/plain": [
       "<matplotlib.figure.Figure at 0x1101f1be0>"
      ]
     },
     "metadata": {},
     "output_type": "display_data"
    }
   ],
   "source": [
    "x_co = [filter1[i].strike for i in range(len(filter1))]\n",
    "y_co = [filter1[i].market_price for i in range(len(filter1))]\n",
    "plt.plot(x_co, y_co, 'o', label='market price')\n",
    "\n",
    "y_co = filter1_calibrated_price\n",
    "plt.plot(x_co, y_co, label = 'calib price')\n",
    "\n",
    "plt.ylabel('option price')\n",
    "plt.xlabel('strike with fixed 2-mon maturity')\n",
    "plt.legend();\n"
   ]
  },
  {
   "cell_type": "markdown",
   "metadata": {
    "colab_type": "text",
    "id": "cN50FH0HEKvF"
   },
   "source": [
    "- filtering out options of 5-mon maturity"
   ]
  },
  {
   "cell_type": "code",
   "execution_count": 10,
   "metadata": {
    "colab": {
     "base_uri": "https://localhost:8080/",
     "height": 34
    },
    "colab_type": "code",
    "id": "c9-K7xuUENQk",
    "outputId": "b7a82cfb-881e-4f83-d01a-617a8900bb73"
   },
   "outputs": [
    {
     "name": "stdout",
     "output_type": "stream",
     "text": [
      ">>>>>>>> calibrated_volatility is 0.1839843750000003\n"
     ]
    }
   ],
   "source": [
    "# Take options of 2-mon maturity\n",
    "filter2 = list(filter(lambda x: x.maturity == 5/12, option_list1))\n",
    "calibrated_volatility2 = bsm_calibration(gbm1, filter2)\n",
    "print('>>>>>>>> calibrated_volatility is ' + str(calibrated_volatility2))"
   ]
  },
  {
   "cell_type": "code",
   "execution_count": 11,
   "metadata": {
    "colab": {
     "base_uri": "https://localhost:8080/",
     "height": 51
    },
    "colab_type": "code",
    "id": "u-OottXfESIR",
    "outputId": "33d65bca-df2d-456f-df5f-bdd65d42957c"
   },
   "outputs": [
    {
     "name": "stdout",
     "output_type": "stream",
     "text": [
      ">>>>>>>>> this is option price calculated from calibrated vol\n"
     ]
    },
    {
     "data": {
      "text/plain": [
       "[7.540104147003916, 6.340281448569769, 5.270421573192927, 4.330492653848275]"
      ]
     },
     "execution_count": 11,
     "metadata": {},
     "output_type": "execute_result"
    }
   ],
   "source": [
    "gbm1.vol_ratio = calibrated_volatility2\n",
    "\n",
    "#find calibrated option price\n",
    "filter2_calibrated_price = [gbm1.bsm_price(filter2[i]) for i in range(len(filter2))]\n",
    "print('>>>>>>>>> this is option price calculated from calibrated vol')\n",
    "filter2_calibrated_price"
   ]
  },
  {
   "cell_type": "code",
   "execution_count": 12,
   "metadata": {
    "colab": {
     "base_uri": "https://localhost:8080/",
     "height": 361
    },
    "colab_type": "code",
    "id": "U6CadXi3EfVW",
    "outputId": "4664b179-25e1-4649-f56b-431e1c460b1e"
   },
   "outputs": [
    {
     "data": {
      "image/png": "[encoded data removed]",
      "text/plain": [
       "<matplotlib.figure.Figure at 0x1101f1470>"
      ]
     },
     "metadata": {},
     "output_type": "display_data"
    }
   ],
   "source": [
    "x_co = [filter2[i].strike for i in range(len(filter2))]\n",
    "y_co = [filter2[i].market_price for i in range(len(filter2))]\n",
    "plt.plot(x_co, y_co, 'o', label='market price')\n",
    "\n",
    "y_co = filter2_calibrated_price\n",
    "plt.plot(x_co, y_co, label = 'calib price')\n",
    "\n",
    "plt.ylabel('option price')\n",
    "plt.xlabel('strike with fixed 5-mon maturity')\n",
    "plt.legend();\n"
   ]
  },
  {
   "cell_type": "code",
   "execution_count": null,
   "metadata": {
    "colab": {},
    "colab_type": "code",
    "id": "UOVUqxlEEqIG"
   },
   "outputs": [],
   "source": []
  },
  {
   "cell_type": "code",
   "execution_count": null,
   "metadata": {},
   "outputs": [],
   "source": []
  },
  {
   "cell_type": "code",
   "execution_count": null,
   "metadata": {},
   "outputs": [],
   "source": []
  }
 ],
 "metadata": {
  "colab": {
   "include_colab_link": true,
   "name": "bsm_calibration_v01.ipynb",
   "provenance": [],
   "version": "0.3.2"
  },
  "kernelspec": {
   "display_name": "Python 3",
   "language": "python",
   "name": "python3"
  },
  "language_info": {
   "codemirror_mode": {
    "name": "ipython",
    "version": 3
   },
   "file_extension": ".py",
   "mimetype": "text/x-python",
   "name": "python",
   "nbconvert_exporter": "python",
   "pygments_lexer": "ipython3",
   "version": "3.6.4"
  }
 },
 "nbformat": 4,
 "nbformat_minor": 1
}
