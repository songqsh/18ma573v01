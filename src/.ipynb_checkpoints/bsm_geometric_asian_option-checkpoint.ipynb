{
 "cells": [
  {
   "cell_type": "markdown",
   "metadata": {},
   "source": [
    "__Black and Scholes formula__\n"
   ]
  },
  {
   "cell_type": "markdown",
   "metadata": {},
   "source": [
    "Recall that \n",
    "BS model assumes the distribution of stock as lognormal. In particular, it writes \n",
    "$$\\ln \\frac{S(T)}{S(0)} \\sim \\mathcal N((r - \\frac 1 2 \\sigma^2) T, \\sigma^2 T)$$\n",
    "with respect to risk neutral measure. In the above, the parameters stand for\n",
    "\n",
    "* $S(0)$: The initial stock price\n",
    "* $S(T)$: The stock price at $T$\n",
    "* $r$: interest rate\n",
    "* $\\sigma$: volatility\n",
    "\n",
    "The call and put price with maturity $T$ and $K$ will be known as $C_0$ and $P_0$ given as below:\n",
    "$$C_0 = \\mathbb E [e^{-rT} (S(T) - K)^+] = S_0 e^{-\\delta T} \\Phi(d_1) - K e^{-rT} \\Phi(d_2),$$\n",
    "and \n",
    "$$P_0 = \\mathbb E [e^{-rT} (S(T) - K)^-] = K e^{-rT} \\Phi(- d_2) - S_0 e^{-\\delta T} \\Phi(- d_1),$$\n",
    "where $d_i$ are given as\n",
    "$$d_1 = \\frac{(r + \\frac 1 2 \\sigma^2) T - \\ln \\frac{K}{S_0}}{\\sigma \\sqrt T},$$\n",
    "and\n",
    "$$d_2 = \\frac{(r - \\frac 1 2 \\sigma^2) T - \\ln \\frac{K}{S_0}}{\\sigma \\sqrt T},$$"
   ]
  },
  {
   "cell_type": "markdown",
   "metadata": {},
   "source": [
    "**Ex.**\n",
    "\n",
    "Find BS call and put price for the given parameters below"
   ]
  },
  {
   "cell_type": "code",
   "execution_count": 1,
   "metadata": {},
   "outputs": [],
   "source": [
    "#An example is given here\n",
    "s0 = 100.0\n",
    "K = 110.0\n",
    "r=0.0475\n",
    "sigma = 0.20\n",
    "maturity = 1."
   ]
  },
  {
   "cell_type": "code",
   "execution_count": 2,
   "metadata": {},
   "outputs": [],
   "source": [
    "import numpy as np\n",
    "from contract_v01 import VanillaOption\n",
    "from sde_1d_v01 import Sde_1d, Gbm_1d"
   ]
  },
  {
   "cell_type": "code",
   "execution_count": 3,
   "metadata": {},
   "outputs": [
    {
     "name": "stdout",
     "output_type": "stream",
     "text": [
      ">>>>>>>>>> Exact call value is 5.943273183452838\n",
      ">>>>>>>>>> Exact put value is 10.84042522804176\n"
     ]
    }
   ],
   "source": [
    "#initiate option and sde instances\n",
    "option1 = VanillaOption(otype = 1, strike = 110., maturity= 1., market_price=15.) \n",
    "option2 = VanillaOption(otype = -1, strike = 110., maturity= 1., market_price=15.) \n",
    "gbm1 = Gbm_1d(init_state=100., drift_ratio=.0475, vol_ratio=.2)\n",
    "maturity = option1.maturity\n",
    "print('>>>>>>>>>> Exact call value is ' + str(gbm1.bsm_price(option1)))\n",
    "print('>>>>>>>>>> Exact put value is ' + str(gbm1.bsm_price(option2)))  "
   ]
  },
  {
   "cell_type": "markdown",
   "metadata": {},
   "source": [
    "__Application to Geometric asian option price__"
   ]
  },
  {
   "cell_type": "markdown",
   "metadata": {},
   "source": [
    "Geometric asian call option with maturity $T$ and strick $K$ has its pay off as\n",
    "$$C(T) = (A(T) - K)^+,$$\n",
    "where $A(T)$ is geometric average of the stock price at times\n",
    "$0 \\le t_1 < t_2, \\ldots, < t_n = T$, i.e.\n",
    "$$A(T) = (S(t_1)S(t_2) \\ldots S(t_n))^{1/n}.$$\n",
    "\n",
    "The call price can be thus written by\n",
    "$$C_0 = \\mathbb E [e^{-rT} (A(T) - K)^+].$$\n"
   ]
  },
  {
   "cell_type": "markdown",
   "metadata": {},
   "source": [
    "We set $t_0 = 0$.\n",
    "Under the above BS model, one can show that the distribution of $A(T)$ is again a lognormal in the form of\n",
    "$$\\ln \\frac{A(T)}{S(0)} \\sim \\mathcal N(\\hat \\mu T, \\hat \\sigma^2 T),$$\n",
    "where \n",
    "$$\\mu = r - \\frac 1 2 \\sigma^2$$ \n",
    "$$\\hat \\mu T = \\frac \\mu n \\sum_{i=1}^n t_i,$$\n",
    "$$\\hat \\sigma^2 T = \\frac{\\sigma^2}{n^2} \\sum_{j=0}^{n-1} (n-j)^2 (t_{j+1} - t_j).$$\n"
   ]
  },
  {
   "cell_type": "markdown",
   "metadata": {},
   "source": [
    "Therefore, we can rewrite the price formula as, with $Z\\sim \\mathcal N(0,1)$\n",
    "$$C_0 = \\mathbb E[ e^{-rT} (S(0) e^{\\hat \\mu T + \\hat \\sigma \\sqrt T Z} - K)^+] \n",
    "= e^{(\\hat r - r) T} BSM(S(0), \\hat r, \\hat \\sigma, K, T, call)$$\n",
    "with \n",
    "$$\\hat r = \\hat \\mu + \\frac 1 2 \\hat \\sigma^2.$$"
   ]
  },
  {
   "cell_type": "markdown",
   "metadata": {},
   "source": [
    "Put formula is similar. \n",
    "$$P_0 = \\mathbb E[ e^{-rT} (S(0) e^{\\hat \\mu T + \\hat \\sigma \\sqrt T Z} - K)^-] \n",
    "= e^{(\\hat r - r) T} BSM(S(0), \\hat r, \\hat \\sigma, K, T, put)$$"
   ]
  },
  {
   "cell_type": "markdown",
   "metadata": {},
   "source": [
    "__ex__ \n",
    "\n",
    "If the time stepsize is uniform $m$ partitions on $[0, T]$ for the geometric asian option, \n",
    "the average points include actually $n = m+1$ points:\n",
    "$$t_i = \\frac T m  (i-1), \\ \\forall i = 1, 2, \\ldots m+1,$$\n",
    "\n",
    "then one can determine $\\hat r$ and $\\hat \\mu$ as follows:\n",
    "$$\\hat \\mu = \\frac{\\mu}{2}$$\n",
    "$$\\hat \\sigma^2 = \\frac{\\sigma^2 (2m+1)}{6(m+1)}$$\n",
    "$$\\hat r = \\hat \\mu + \\frac 1 2 \\hat \\sigma^2.$$\n"
   ]
  },
  {
   "cell_type": "code",
   "execution_count": 4,
   "metadata": {},
   "outputs": [
    {
     "name": "stdout",
     "output_type": "stream",
     "text": [
      ">>>>>> geometric call option value is 1.7901482754575957\n"
     ]
    }
   ],
   "source": [
    "'''==============\n",
    "Test BSM geometric asian option price\n",
    "==============='''\n",
    "gbm1 = Gbm_1d(init_state=100., drift_ratio=0.0475, vol_ratio=.2)\n",
    "gao1 = gbm1.bsm_geometric_asian_price(\n",
    "                          otype = 1,\n",
    "                          strike = 110.,\n",
    "                          maturity = 1, \n",
    "                          num_step = 40\n",
    "                          )\n",
    "print('>>>>>> geometric call option value is ' + str(gao1))"
   ]
  }
 ],
 "metadata": {
  "kernelspec": {
   "display_name": "Python 3",
   "language": "python",
   "name": "python3"
  },
  "language_info": {
   "codemirror_mode": {
    "name": "ipython",
    "version": 3
   },
   "file_extension": ".py",
   "mimetype": "text/x-python",
   "name": "python",
   "nbconvert_exporter": "python",
   "pygments_lexer": "ipython3",
   "version": "3.6.4"
  }
 },
 "nbformat": 4,
 "nbformat_minor": 2
}
