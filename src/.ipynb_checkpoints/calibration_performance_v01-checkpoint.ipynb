{
 "cells": [
  {
   "cell_type": "markdown",
   "metadata": {},
   "source": [
    "# Calibration (continued)"
   ]
  },
  {
   "cell_type": "markdown",
   "metadata": {},
   "source": [
    "## Abstract\n",
    "\n",
    "In the previous section, we have pretty good result on BSM model calibration on the call price of 2-month maturity, see [here](https://nbviewer.jupyter.org/github/songqsh/18ma573pub/blob/master/src/bsm_calibration.ipynb). We say it is pretty good calibration because the calibrated volatility reproduce 2-mon call price close to corresponding market data. \n",
    "\n",
    "A further step to verify its performance is to use the same calibrated volatility to reproduce other option prices available in the market. In this below, we are going to reproduce geometric asian options given below."
   ]
  },
  {
   "cell_type": "code",
   "execution_count": 1,
   "metadata": {},
   "outputs": [],
   "source": [
    "'''===============\n",
    "market available data\n",
    "=================='''\n",
    "#paras for stock price\n",
    "spot = 100\n",
    "rate = .05\n",
    "\n",
    "#paras for geometric asian options\n",
    "otype = 1\n",
    "maturity = 2/12\n",
    "num_step = 8\n",
    "strike_list = [97, 99, 101, 103]\n",
    "market_price_list = [\n",
    "    3.7925736094875964,\n",
    "    2.5429985313737244,\n",
    "    1.6026613800895042,\n",
    "    0.9366198675047346]"
   ]
  },
  {
   "cell_type": "code",
   "execution_count": 2,
   "metadata": {},
   "outputs": [],
   "source": [
    "'''================\n",
    "calibrated volatility based on vanilla options\n",
    "=================='''\n",
    "calibarated_vol = 0.18109375000000028"
   ]
  },
  {
   "cell_type": "markdown",
   "metadata": {},
   "source": [
    "## Code"
   ]
  },
  {
   "cell_type": "code",
   "execution_count": 3,
   "metadata": {},
   "outputs": [],
   "source": [
    "import numpy as np\n",
    "from sde_1d_v01 import Gbm_1d\n",
    "import matplotlib.pylab as plt"
   ]
  },
  {
   "cell_type": "code",
   "execution_count": 4,
   "metadata": {},
   "outputs": [
    {
     "name": "stdout",
     "output_type": "stream",
     "text": [
      ">>>>>> geometric call option value is 1.607164727431734\n"
     ]
    }
   ],
   "source": [
    "'''==============\n",
    "Test BSM geometric asian option price\n",
    "==============='''\n",
    "gbm1 = Gbm_1d(init_state=100., drift_ratio=0.0475, vol_ratio=.2)\n",
    "gao1 = gbm1.bsm_geometric_asian_price(\n",
    "                          otype = 1,\n",
    "                          strike = 110.,\n",
    "                          maturity = 1, \n",
    "                          num_step = 4\n",
    "                          )\n",
    "print('>>>>>> geometric call option value is ' + str(gao1))"
   ]
  },
  {
   "cell_type": "code",
   "execution_count": 5,
   "metadata": {},
   "outputs": [
    {
     "name": "stdout",
     "output_type": "stream",
     "text": [
      ">>>>>> geometric call option values are \n",
      " [3.807571582023542, 2.4020600269716677, 1.3571851322662047, 0.6779174887750915]\n",
      ">>>>> while the market prices are \n",
      " [3.7925736094875964, 2.5429985313737244, 1.6026613800895042, 0.9366198675047346]\n"
     ]
    }
   ],
   "source": [
    "'''==============\n",
    "reproduce BSM geometric asian option price\n",
    "==============='''\n",
    "gbm1 = Gbm_1d(init_state=spot, drift_ratio=rate, vol_ratio=calibarated_vol)\n",
    "calibrated_price_list = []\n",
    "for strike in strike_list:\n",
    "    gao1=gbm1.bsm_geometric_asian_price(\n",
    "                          otype = otype,\n",
    "                          strike = strike,\n",
    "                          maturity = maturity, \n",
    "                          num_step = num_step\n",
    "                          )\n",
    "    calibrated_price_list.append(gao1)\n",
    "    \n",
    "print('>>>>>> geometric call option values are \\n', calibrated_price_list)\n",
    "print('>>>>> while the market prices are \\n', market_price_list)"
   ]
  },
  {
   "cell_type": "code",
   "execution_count": 6,
   "metadata": {},
   "outputs": [
    {
     "data": {
      "text/plain": [
       "<matplotlib.legend.Legend at 0x1128becc0>"
      ]
     },
     "execution_count": 6,
     "metadata": {},
     "output_type": "execute_result"
    },
    {
     "data": {
      "image/png": "[encoded data removed]",
      "text/plain": [
       "<matplotlib.figure.Figure at 0x1126f7a20>"
      ]
     },
     "metadata": {},
     "output_type": "display_data"
    }
   ],
   "source": [
    "plt.plot(strike_list, calibrated_price_list, label='calibrated price')\n",
    "plt.plot(strike_list, market_price_list, '*', label = 'market price')\n",
    "plt.ylabel('option price')\n",
    "plt.xlabel('strike with fixed 2-mon maturity')\n",
    "plt.legend()"
   ]
  },
  {
   "cell_type": "code",
   "execution_count": null,
   "metadata": {},
   "outputs": [],
   "source": []
  }
 ],
 "metadata": {
  "kernelspec": {
   "display_name": "Python 3",
   "language": "python",
   "name": "python3"
  },
  "language_info": {
   "codemirror_mode": {
    "name": "ipython",
    "version": 3
   },
   "file_extension": ".py",
   "mimetype": "text/x-python",
   "name": "python",
   "nbconvert_exporter": "python",
   "pygments_lexer": "ipython3",
   "version": "3.6.4"
  }
 },
 "nbformat": 4,
 "nbformat_minor": 2
}
