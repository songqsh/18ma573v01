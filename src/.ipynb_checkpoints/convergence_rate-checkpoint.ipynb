{
 "cells": [
  {
   "cell_type": "markdown",
   "metadata": {},
   "source": [
    "# Abstract\n",
    "- Goal:\n",
    "    - Demonstrate convergence rate\n"
   ]
  },
  {
   "cell_type": "markdown",
   "metadata": {},
   "source": [
    "# Problem\n",
    "\n",
    "Let $f(x) = \\sin x$. We shall demonstrate its FFD convergence rate being $1$."
   ]
  },
  {
   "cell_type": "markdown",
   "metadata": {},
   "source": [
    "# Anal \n",
    "\n",
    "Given a smooth function $f: \\mathbb R \\mapsto \\mathbb R$, recall that FFD is defined by\n",
    "$$f'(x) \\simeq  \\frac{f(x+h) - f(x)}{h} := \\delta_h f.$$\n",
    "Moreover, FFD has convergence order $1$; i.e.\n",
    "$$|\\delta_h f(x) - f'(x)| = O(h) \\simeq K h^{-1}.$$\n",
    "\n",
    "To demonstrate it we shall use the following approach. Suppose the error term follows \n",
    "$$\\epsilon(h) \\simeq K h^\\alpha.$$\n",
    "Write \n",
    "$$\\epsilon_n = \\epsilon(e^{-n}) \\simeq K e^{-n\\alpha}.$$\n",
    "Take log both sides, we have\n",
    "$$\\ln \\epsilon_n \\simeq \\ln K -  \\alpha \\cdot n.$$\n",
    "We can plot a $n$ vs $\\ln \\epsilon_n$ as $n$ varies from small number to a big number."
   ]
  },
  {
   "cell_type": "markdown",
   "metadata": {},
   "source": [
    "__Paras__\n",
    "\n",
    "Verify FFD convergence rate with at $\\pi/3$ with $h = e^{-n}$, where $n$ ranges from 5 to 9."
   ]
  },
  {
   "cell_type": "markdown",
   "metadata": {},
   "source": [
    "# Code"
   ]
  },
  {
   "cell_type": "code",
   "execution_count": 1,
   "metadata": {},
   "outputs": [],
   "source": [
    "import numpy as np\n",
    "import pandas as pd\n",
    "import matplotlib.pyplot as plt"
   ]
  },
  {
   "cell_type": "code",
   "execution_count": 2,
   "metadata": {},
   "outputs": [],
   "source": [
    "def FFD(f, x, h):\n",
    "    return (f(x+h) - f(x))/h\n",
    "\n",
    "def BFD(f, x, h):\n",
    "    return (f(x) - f(x-h))/h\n",
    "\n",
    "def CFD(f, x, h):\n",
    "    return (f(x+h) - f(x-h))/h/2\n",
    "\n"
   ]
  },
  {
   "cell_type": "code",
   "execution_count": 3,
   "metadata": {},
   "outputs": [],
   "source": [
    "x_target = np.pi/3 #target point to be examined\n",
    "y_target = np.cos(x_target) #exact derivative value at the target point"
   ]
  },
  {
   "cell_type": "code",
   "execution_count": 4,
   "metadata": {},
   "outputs": [],
   "source": [
    "nn = np.arange(5,10)\n",
    "hh = np.exp(-nn) #step sizes to be taken\n",
    "\n",
    "#xx = np.log(2)*nn #x_coordinate for the log-log plot chart\n",
    "err = FFD(np.sin, x_target, hh) - y_target #errors corresponding to each step size\n",
    "yy = np.log(np.abs(err))"
   ]
  },
  {
   "cell_type": "code",
   "execution_count": 5,
   "metadata": {},
   "outputs": [
    {
     "data": {
      "text/plain": [
       "[<matplotlib.lines.Line2D at 0x117929ef0>]"
      ]
     },
     "execution_count": 5,
     "metadata": {},
     "output_type": "execute_result"
    },
    {
     "data": {
      "image/png": "[encoded data removed]",
      "text/plain": [
       "<matplotlib.figure.Figure at 0x111f11a90>"
      ]
     },
     "metadata": {},
     "output_type": "display_data"
    }
   ],
   "source": [
    "plt.plot(nn, yy)"
   ]
  },
  {
   "cell_type": "code",
   "execution_count": 6,
   "metadata": {},
   "outputs": [
    {
     "name": "stdout",
     "output_type": "stream",
     "text": [
      "the convergence order is 1.0002948546217365\n"
     ]
    }
   ],
   "source": [
    "import scipy.stats as ss\n",
    "out = ss.linregress(nn,yy)\n",
    "print('the convergence order is ' + str(-out[0]))"
   ]
  }
 ],
 "metadata": {
  "kernelspec": {
   "display_name": "Python 3",
   "language": "python",
   "name": "python3"
  },
  "language_info": {
   "codemirror_mode": {
    "name": "ipython",
    "version": 3
   },
   "file_extension": ".py",
   "mimetype": "text/x-python",
   "name": "python",
   "nbconvert_exporter": "python",
   "pygments_lexer": "ipython3",
   "version": "3.6.4"
  }
 },
 "nbformat": 4,
 "nbformat_minor": 1
}
