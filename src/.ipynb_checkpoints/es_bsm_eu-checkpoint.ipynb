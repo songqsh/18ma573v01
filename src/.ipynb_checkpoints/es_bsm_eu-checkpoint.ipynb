{
 "cells": [
  {
   "cell_type": "markdown",
   "metadata": {},
   "source": [
    "__Abstract__\n",
    "\n",
    "- Goal\n",
    "    - Apply exact sampling (ES) to geometric Brownian motion and European options.\n",
    "- Ref"
   ]
  },
  {
   "cell_type": "markdown",
   "metadata": {},
   "source": [
    "__Problem__\n",
    "\n",
    "- Asset follows $GBM(S_0, r, \\sigma^2)$;\n",
    "- European call payoff is given as\n",
    "$$F(S) = (S-K)^+$$\n",
    "- Find price $$e^{-rT}\\mathbb E [F(S_T)]$$"
   ]
  },
  {
   "cell_type": "markdown",
   "metadata": {},
   "source": [
    "__Anal__. \n",
    "\n",
    "Whenever explicit solution for SDE available, exact simulation is also available."
   ]
  },
  {
   "cell_type": "markdown",
   "metadata": {},
   "source": [
    "__Parameters__. Benchmark examples is from [Exact Option Price: BSM](./exact_option_price_bsm.ipynb)\n",
    "\n",
    "- $S(0) = 100, K = 110, r = 4.75\\%, \\sigma = 20\\%, T = 1.$\n",
    "- $k = 1000$, $n = 1000$, $m = 2$"
   ]
  },
  {
   "cell_type": "markdown",
   "metadata": {},
   "source": [
    "__Algo__. Crude MC\n",
    "\n",
    "- Repeat $k$ times of the following MC:\n",
    "    - Repeat $n$ times of simulations:\n",
    "        - Generate GBM path with $m$ steps;\n",
    "        - Compute payoff for each path, and take average;\n",
    "    - Average Payoff, then discount;\n",
    "- Find mean, MSE"
   ]
  },
  {
   "cell_type": "code",
   "execution_count": 1,
   "metadata": {},
   "outputs": [
    {
     "name": "stdout",
     "output_type": "stream",
     "text": [
      "Benchmark:\n",
      " call is 5.943273183452838 and put is 10.840425228041752\n"
     ]
    }
   ],
   "source": [
    "%reset -f\n",
    "from explicit_option_price import *\n",
    "S0 = 100.0\n",
    "K = 110.0\n",
    "r=0.0475\n",
    "sigma = 0.20\n",
    "T = 1.\n",
    "icall = bsm_call_value(S0, K, T, r, sigma)\n",
    "iput = bsm_put_value(S0, K, T, r, sigma)\n",
    "print('Benchmark:\\n call is ' + repr(icall) + ' and put is ' + repr(iput))"
   ]
  },
  {
   "cell_type": "code",
   "execution_count": 2,
   "metadata": {},
   "outputs": [],
   "source": [
    "from exact_simulation_v01 import *"
   ]
  },
  {
   "cell_type": "code",
   "execution_count": 3,
   "metadata": {},
   "outputs": [],
   "source": [
    "n = 100; m = 2; k = 1000"
   ]
  },
  {
   "cell_type": "code",
   "execution_count": 4,
   "metadata": {},
   "outputs": [],
   "source": [
    "val = np.zeros(k) #initialize call price\n",
    "payoff = np.zeros(n) #payoff for each path\n",
    "for i in np.arange(k):\n",
    "    for j in np.arange(n):\n",
    "        S = gbm_1d(T, m, r, sigma, x0 = S0)\n",
    "        payoff[j] = np.max([S[-1] - K, 0])\n",
    "    val[i] = payoff.mean()*np.exp(-r*T)\n"
   ]
  },
  {
   "cell_type": "code",
   "execution_count": 5,
   "metadata": {},
   "outputs": [
    {
     "name": "stdout",
     "output_type": "stream",
     "text": [
      "MC computation for Call value: \n",
      "\n",
      "Mean is 5.960512412903396\n",
      "MSE is 1.2933489723187597\n"
     ]
    }
   ],
   "source": [
    "print('MC computation for Call value: \\n')\n",
    "print('Mean is ' + str(val.mean()))    \n",
    "print('MSE is ' + str(val.var()))"
   ]
  },
  {
   "cell_type": "code",
   "execution_count": null,
   "metadata": {},
   "outputs": [],
   "source": []
  }
 ],
 "metadata": {
  "kernelspec": {
   "display_name": "Python 3",
   "language": "python",
   "name": "python3"
  },
  "language_info": {
   "codemirror_mode": {
    "name": "ipython",
    "version": 3
   },
   "file_extension": ".py",
   "mimetype": "text/x-python",
   "name": "python",
   "nbconvert_exporter": "python",
   "pygments_lexer": "ipython3",
   "version": "3.6.4"
  }
 },
 "nbformat": 4,
 "nbformat_minor": 2
}
