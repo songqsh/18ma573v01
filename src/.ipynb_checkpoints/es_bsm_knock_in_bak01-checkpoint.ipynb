{
 "cells": [
  {
   "cell_type": "markdown",
   "metadata": {},
   "source": [
    "__Goal__. Apply exact sampling (ES) to Knock-In option associated to geometric Brownian motion.\n",
    "\n",
    "__Ref__. Ex4.6.4 of [Gla03]"
   ]
  },
  {
   "cell_type": "markdown",
   "metadata": {},
   "source": [
    "__Problem__\n",
    "\n",
    "- Asset follows $GBM(S_0, r, \\sigma^2)$;\n",
    "- Knock-in payoff is given as\n",
    "$$F(S) = 1000 \\cdot I(S_T > K) \\cdot I\\Big(\\min_{1\\le k \\le m} S(t_k) < H\\Big).$$\n",
    "- Find price $$e^{-rT}\\mathbb E [F(S)]$$"
   ]
  },
  {
   "cell_type": "markdown",
   "metadata": {},
   "source": [
    "__Parameters__\n",
    "\n",
    "- $r = 5\\%, \\sigma = 15\\%, S(0) = 95$\n",
    "- $T = 0.25, m = 50, H = 85, K = 96.$"
   ]
  },
  {
   "cell_type": "markdown",
   "metadata": {},
   "source": [
    "__Idea__\n"
   ]
  },
  {
   "cell_type": "markdown",
   "metadata": {},
   "source": [
    "__Algo__\n",
    "\n",
    "- Repeat $k = 1000$ times of the following MC:\n",
    "    - Simulate $n = 1000$ paths for $S_t$ with $m = 50$ steps;\n",
    "    - Compute payoff for each path, and take average;\n",
    "- Find mean, MSE, and confidence interval using $k$ many MC outputs."
   ]
  },
  {
   "cell_type": "code",
   "execution_count": 2,
   "metadata": {},
   "outputs": [],
   "source": [
    "import numpy as np\n",
    "from exact_simulation import *\n",
    "from payoff import *\n",
    "\n",
    "r = .05; sigma = 0.15; s0 = 95\n",
    "T = 0.25; H = 85; K = 96\n",
    "k = 100; n = 1000; m = 50"
   ]
  },
  {
   "cell_type": "code",
   "execution_count": 3,
   "metadata": {},
   "outputs": [],
   "source": [
    "call_val = np.zeros(k)\n",
    "s0 = s0*np.ones(n)\n",
    "dt = T/m\n",
    "\n",
    "for j in range(k):\n",
    "    S = gbm_1d(m, dt, s0, r, sigma)\n",
    "\n",
    "    i_payoff = np.zeros(n)\n",
    "    for i in range(n):\n",
    "        i_payoff[i] = 1000* down_in_digital_call_payoff(H, K, S[i,:])\n",
    "\n",
    "    call_val[j] = i_payoff.mean()*np.exp(-r*T)"
   ]
  },
  {
   "cell_type": "code",
   "execution_count": 4,
   "metadata": {},
   "outputs": [
    {
     "name": "stdout",
     "output_type": "stream",
     "text": [
      "MC computation for down_in_digital_call value: \n",
      "\n",
      "Mean is 0.4542857882271855\n",
      "MSE is 0.47634136103463764\n"
     ]
    }
   ],
   "source": [
    "print('MC computation for down_in_digital_call value: \\n')\n",
    "print('Mean is ' + str(call_val.mean()))    \n",
    "print('MSE is ' + str(call_val.var()))"
   ]
  },
  {
   "cell_type": "code",
   "execution_count": null,
   "metadata": {},
   "outputs": [],
   "source": []
  }
 ],
 "metadata": {
  "kernelspec": {
   "display_name": "Python 3",
   "language": "python",
   "name": "python3"
  },
  "language_info": {
   "codemirror_mode": {
    "name": "ipython",
    "version": 3
   },
   "file_extension": ".py",
   "mimetype": "text/x-python",
   "name": "python",
   "nbconvert_exporter": "python",
   "pygments_lexer": "ipython3",
   "version": "3.6.4"
  }
 },
 "nbformat": 4,
 "nbformat_minor": 2
}
