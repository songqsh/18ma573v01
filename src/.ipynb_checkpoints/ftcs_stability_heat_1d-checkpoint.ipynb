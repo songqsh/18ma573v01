{
 "cells": [
  {
   "cell_type": "markdown",
   "metadata": {},
   "source": [
    "__Abstract__\n",
    " - Goal \n",
    "     - Apply foward time, centered space (FTCS) to heat equation, and investigate stability.\n",
    " - Ref\n",
    "     - [FDM heat](http://www.nada.kth.se/~jjalap/numme/FDheat.pdf), [Hir13]"
   ]
  },
  {
   "cell_type": "markdown",
   "metadata": {},
   "source": [
    "__Problem__\n",
    "\n",
    "- Heat equation:\n",
    "$$u_t = \\alpha u_{xx}, \\quad a\\le x \\le b, t\\ge 0$$\n",
    "- Boundary condition:\n",
    "$$u(a, t) = g(t); \\quad u(b, t) = h(t).$$\n",
    "- Initial condition:\n",
    "$$u(x, 0) = f(x).$$"
   ]
  },
  {
   "cell_type": "markdown",
   "metadata": {},
   "source": [
    "__Anal__\n",
    "\n",
    "Grid with $\\Delta x$ and $\\Delta t$ will be\n",
    "$$x_i = a + i \\Delta x; \\ \\Delta x = \\frac{b-a}{N}, \\ i = 0, 1, \\ldots, N$$\n",
    "and\n",
    "$$t_k = k \\Delta t; \\ \\Delta t = T/M, \\ k = 0, 1, \\ldots, M.$$\n",
    "\n",
    "Use forward difference in time, central difference in space, one obtains iterative scheme inside the domain:\n",
    "$$\n",
    "u_{i, k} = \\rho u_{i-1, k-1} + (1 - 2\\rho) u_{i,k-1} + \\rho u_{i+1, k-1},\n",
    "\\quad \n",
    "1\\le i \\le N-1, 1\\le k \\le M\n",
    "$$\n",
    "where\n",
    "$$\\rho = \\frac{\\alpha \\Delta t}{(\\Delta x)^2}.$$\n",
    "It is shown that $\\rho< 1/2$ is needed for its stability."
   ]
  },
  {
   "cell_type": "markdown",
   "metadata": {},
   "source": [
    "__Para__\n",
    "\n",
    "- $\\alpha = 1$, $a = 0$, $b = 1$;\n",
    "- $f(x) = \\sin(\\pi x)$\n",
    "- $g(t) = h(t) = 0$.\n",
    "- Exact solution:\n",
    "$$u(x, t) = e^{- \\pi^2 t} \\sin(\\pi x).$$"
   ]
  },
  {
   "cell_type": "markdown",
   "metadata": {},
   "source": [
    "__Implementation - 01__\n",
    "\n",
    "We first choose $\\rho = 0.4$ other parameters given below."
   ]
  },
  {
   "cell_type": "code",
   "execution_count": 3,
   "metadata": {},
   "outputs": [],
   "source": [
    "al = 1 #alpha\n",
    "dx = .2 #space mesh size\n",
    "rho = .4 #conditinal number, to be less than .5 for the stability\n",
    "dt = rho*(dx**2)/al #time step size"
   ]
  },
  {
   "cell_type": "markdown",
   "metadata": {},
   "source": [
    "- (todo) find $L^\\infty$ error between exact solution and ftcs solution\n",
    "- (todo) plot three error curves in one figure corresponding to $t = 1.95, 1.97, 1.98$.\n",
    "- (todo) plot a surface of eact solution. "
   ]
  },
  {
   "cell_type": "markdown",
   "metadata": {},
   "source": [
    "__Implementation - 02__\n",
    "\n",
    "We change $\\rho = 1$ with others unchanged.\n",
    "\n",
    "- find $L^\\infty$ error between exact solution and ftcs solution\n",
    "- plot three error curves corresponding to $t = 1.88, 1.92, 1.96$\n",
    "- observe intersections of three curves, if any. identify erros at each intersections.\n",
    "- (__A-bonus__) can you reveal why three error curves have common intersections?"
   ]
  },
  {
   "cell_type": "code",
   "execution_count": null,
   "metadata": {},
   "outputs": [],
   "source": []
  }
 ],
 "metadata": {
  "kernelspec": {
   "display_name": "Python 3",
   "language": "python",
   "name": "python3"
  },
  "language_info": {
   "codemirror_mode": {
    "name": "ipython",
    "version": 3
   },
   "file_extension": ".py",
   "mimetype": "text/x-python",
   "name": "python",
   "nbconvert_exporter": "python",
   "pygments_lexer": "ipython3",
   "version": "3.6.4"
  }
 },
 "nbformat": 4,
 "nbformat_minor": 2
}
