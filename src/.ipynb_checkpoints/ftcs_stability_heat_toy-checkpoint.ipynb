{
 "cells": [
  {
   "cell_type": "markdown",
   "metadata": {},
   "source": [
    "# FTCS on a toy problem"
   ]
  },
  {
   "cell_type": "markdown",
   "metadata": {},
   "source": [
    "## Absttract\n",
    "\n",
    "FTCS stands for the finite difference operator of Forward in time and central in space.\n",
    "- We will perform FTCS on a simple heat equation\n",
    "- Handwriting computation is possible for FTCS solution\n",
    "- Demonstrate the dangerous instability issue"
   ]
  },
  {
   "cell_type": "markdown",
   "metadata": {},
   "source": [
    "## Problem\n",
    "\n",
    "Our heat equation is \n",
    "$$u_t = u_{xx}, \\quad t\\ge 0; x\\in \\mathbb R\n",
    "$$\n",
    "with initial condition\n",
    "$$u(x,0) = \\phi(x), \\quad x\\in \\mathbb R.$$\n",
    "In the above, $\\phi$ is a given function and $u$ is unknown function we seek for. \n",
    "For instance, let's say $\\phi$ is a continuous function given by\n",
    "$$\\phi(x) = \\cos(c x) I_{(- \\pi/2c, + \\pi/2c)}(x).\n",
    "$$"
   ]
  },
  {
   "cell_type": "markdown",
   "metadata": {},
   "source": [
    "__ex.__ plot the function $\\phi$"
   ]
  },
  {
   "cell_type": "markdown",
   "metadata": {},
   "source": [
    "It is known that the above heat equation has unique solution. Now, we are going to use FTCS to approximate the solution with some grid $(\\Delta x, \\Delta t)$."
   ]
  },
  {
   "cell_type": "markdown",
   "metadata": {},
   "source": [
    "## Anal"
   ]
  },
  {
   "cell_type": "markdown",
   "metadata": {},
   "source": [
    "The __Grid__ with $(\\Delta x, \\Delta t)$ is given by countable points \n",
    "$$\\{(j \\Delta x, n \\Delta t): j \\in \\mathbb Z, n \\in \\mathbb Z^+\\}.$$"
   ]
  },
  {
   "cell_type": "markdown",
   "metadata": {},
   "source": [
    "The output of FTCS scheme are numbers $u_j^n$ on each grid point above. "
   ]
  },
  {
   "cell_type": "markdown",
   "metadata": {},
   "source": [
    "Our objective is to produce FTCS solution $(u_j^n)$, such that their linear interpolation is close to the true solution $u$ on the domain, i.e.\n",
    "\n",
    "- $u_j^n \\sim u(j\\Delta x, n \\Delta t)$\n",
    "- If $(x, t)$ is in some grid satisying \n",
    "    $$j\\Delta x \\le x < (j+1) \\Delta x, \\quad n\\Delta t \\le t (n+1) \\Delta t,$$\n",
    "  then the linear interpolation\n",
    "  $$\\hat u(x, t) = p_j(x) q_n(t) u_j^n + p_{j+1}(x) q_n(t) u_{j+1}^n + p_j(x) q_{n+1})(t) u_j^{n+1} + p_{j+1}(x)q_{n+1}(t) u_{j+1}^{n+1}$$\n",
    "  with interpolation coefficients\n",
    "  $$p_j(x) = \\frac{(j+1)\\Delta x - x}{\\Delta x}, \\quad p_{j+1}(x) = 1 - p_j(x)$$\n",
    "  and \n",
    "  $$q_n(t) = \\frac{(n+1)\\Delta t - t}{\\Delta t}, \\quad q_{n+1}(t) = 1 - q_n(t)$$\n",
    "  satisfies\n",
    "  $$\\hat u(x, t) \\sim u(x, t).$$"
   ]
  },
  {
   "cell_type": "markdown",
   "metadata": {},
   "source": [
    "__FTCS__ scheme suggests the discretization of PDE in the following manner:\n",
    "$$\\frac{u_j^{n+1} - u_j^n}{\\Delta t} = \\frac{u_{j+1}^n - 2 u_j^n + u_{j-1}^n}{(\\Delta x)^2}$$\n",
    "with initialization\n",
    "$$u_j^0 = \\phi(j\\Delta x, 0).$$\n",
    "Then, the above FTCS can be implemented from $n = 0, 1, 2, \\ldots$ iteratively."
   ]
  },
  {
   "cell_type": "markdown",
   "metadata": {},
   "source": [
    "To see that, we simplify it with the following setup:\n",
    "$$\\Delta = (\\Delta x)^2, \\frac{\\pi}{2c} < \\Delta x.$$\n",
    "Then, FTCS suggests to do the following iterations:\n",
    "\n",
    "- compute $u_j^0$ for all $j$\n",
    "- given $(u_j^n: j\\in \\mathbb Z)$ for some $n$, compoute $n+1$ level by\n",
    "    $$u_j^{n+1} = u_{j+1}^n -  u_j^n + u_{j-1}^n.$$"
   ]
  },
  {
   "cell_type": "markdown",
   "metadata": {},
   "source": [
    "The comutation yields that\n",
    "\n",
    "$$n = 2: \\quad ... 0 \\quad 1 \\quad -2 \\quad +3 \\quad -2 \\quad 1 \\quad 0 ...$$\n",
    "$$n = 1: \\quad ... 0 \\quad 0 \\quad +1 \\quad -1 \\quad +1 \\quad 0 \\quad 0 ...$$\n",
    "$$n = 0: \\quad ... 0 \\quad 0 \\quad +0 \\quad +1 \\quad +0 \\quad 0 \\quad 0 ...$$"
   ]
  },
  {
   "cell_type": "markdown",
   "metadata": {},
   "source": [
    "__hw__\n",
    "\n",
    "Find out $\\max_{j\\in \\mathbb Z} |u_j^{10}|$."
   ]
  },
  {
   "cell_type": "code",
   "execution_count": null,
   "metadata": {},
   "outputs": [],
   "source": []
  }
 ],
 "metadata": {
  "kernelspec": {
   "display_name": "Python 3",
   "language": "python",
   "name": "python3"
  },
  "language_info": {
   "codemirror_mode": {
    "name": "ipython",
    "version": 3
   },
   "file_extension": ".py",
   "mimetype": "text/x-python",
   "name": "python",
   "nbconvert_exporter": "python",
   "pygments_lexer": "ipython3",
   "version": "3.6.4"
  }
 },
 "nbformat": 4,
 "nbformat_minor": 2
}
