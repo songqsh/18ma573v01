{
 "cells": [
  {
   "cell_type": "markdown",
   "metadata": {},
   "source": [
    "Our goal is to derive the characteristic function for a normal distribution.\n",
    "- (todo) Let \n",
    "    $$X_t = e^{iu W_t}$$\n",
    "    for a brownian motion $W$. Find \n",
    "    $$\\phi(t) = \\mathbb E[X_t].$$"
   ]
  },
  {
   "cell_type": "markdown",
   "metadata": {},
   "source": [
    "- (todo) Let $$Y \\sim \\mathcal{N}(\\mu, \\sigma^2)$$\n",
    "    be a random variable. Prove that its characteristic function\n",
    "    $$\\phi(u) = \\mathbb E[e^{iuY}]$$\n",
    "    is\n",
    "    $$\\phi(u) = e^{iu \\mu - \\frac 1 2 u^2 \\sigma^2}.$$"
   ]
  },
  {
   "cell_type": "code",
   "execution_count": null,
   "metadata": {},
   "outputs": [],
   "source": []
  }
 ],
 "metadata": {
  "kernelspec": {
   "display_name": "Python 3",
   "language": "python",
   "name": "python3"
  },
  "language_info": {
   "codemirror_mode": {
    "name": "ipython",
    "version": 3
   },
   "file_extension": ".py",
   "mimetype": "text/x-python",
   "name": "python",
   "nbconvert_exporter": "python",
   "pygments_lexer": "ipython3",
   "version": "3.6.4"
  }
 },
 "nbformat": 4,
 "nbformat_minor": 2
}
