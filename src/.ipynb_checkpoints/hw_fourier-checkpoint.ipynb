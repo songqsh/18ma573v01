{
 "cells": [
  {
   "cell_type": "markdown",
   "metadata": {},
   "source": [
    "__todo__ \n",
    "\n",
    "Find the characteristic function of $W_t$ by deriving \n",
    "$$\\phi_t(u) = \\mathbb E[e^{iuW_t}].$$"
   ]
  },
  {
   "cell_type": "markdown",
   "metadata": {},
   "source": [
    "__todo__\n",
    "\n",
    "Use the explicit formula to find BSM call price with the following paras."
   ]
  },
  {
   "cell_type": "code",
   "execution_count": 1,
   "metadata": {},
   "outputs": [],
   "source": [
    "'''========\n",
    "paras\n",
    "============'''\n",
    "s0 = 100\n",
    "r = .0475\n",
    "sigma = .2\n",
    "otype = 1\n",
    "K = 110.\n",
    "T = 1."
   ]
  },
  {
   "cell_type": "markdown",
   "metadata": {},
   "source": [
    "__todo__\n",
    "\n",
    "Use the fourier transform method to find out the same BSM call price."
   ]
  }
 ],
 "metadata": {
  "kernelspec": {
   "display_name": "Python 3",
   "language": "python",
   "name": "python3"
  },
  "language_info": {
   "codemirror_mode": {
    "name": "ipython",
    "version": 3
   },
   "file_extension": ".py",
   "mimetype": "text/x-python",
   "name": "python",
   "nbconvert_exporter": "python",
   "pygments_lexer": "ipython3",
   "version": "3.6.4"
  }
 },
 "nbformat": 4,
 "nbformat_minor": 2
}
