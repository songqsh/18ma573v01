{
 "cells": [
  {
   "cell_type": "markdown",
   "metadata": {},
   "source": [
    "- price call for heston model with paras given below:\n",
    "\n",
    "    - Heston\n",
    "        - (init_state=[100., .04], r=.05, kappa=1.2, theta=.04, xi=.3, rho=.5)\n",
    "    - Vanilla Option\n",
    "        - (otype = 1, strike = 100., maturity= 1., market_price=15.) "
   ]
  },
  {
   "cell_type": "markdown",
   "metadata": {},
   "source": [
    "Hint. See the book by Ali Hirsa, section 1.2.3."
   ]
  },
  {
   "cell_type": "code",
   "execution_count": null,
   "metadata": {},
   "outputs": [],
   "source": []
  }
 ],
 "metadata": {
  "kernelspec": {
   "display_name": "Python 3",
   "language": "python",
   "name": "python3"
  },
  "language_info": {
   "codemirror_mode": {
    "name": "ipython",
    "version": 3
   },
   "file_extension": ".py",
   "mimetype": "text/x-python",
   "name": "python",
   "nbconvert_exporter": "python",
   "pygments_lexer": "ipython3",
   "version": "3.7.1"
  }
 },
 "nbformat": 4,
 "nbformat_minor": 2
}
