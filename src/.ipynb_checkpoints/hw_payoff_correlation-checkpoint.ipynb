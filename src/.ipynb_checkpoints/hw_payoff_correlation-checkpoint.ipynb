{
 "cells": [
  {
   "cell_type": "markdown",
   "metadata": {},
   "source": [
    "Our objective is to investigate the correlations of the payoffs between \n",
    "    - stock, \n",
    "    - european call, \n",
    "    - geometric asian call, \n",
    "    - arithmetic asian call."
   ]
  },
  {
   "cell_type": "code",
   "execution_count": 22,
   "metadata": {},
   "outputs": [],
   "source": [
    "#paras are given here\n",
    "S0 = 100.0\n",
    "K = 110.0\n",
    "r=0.0475\n",
    "sigma = 0.20\n",
    "T = 1.\n",
    "num_step = 4"
   ]
  },
  {
   "cell_type": "markdown",
   "metadata": {},
   "source": [
    "- Implement the following pseudocode with num_step = 4 and num_paths = 100\n",
    "\n",
    "__pseudocode.__ bsm_option_payoff_generators(num_step, num_paths)\n",
    "- generate (num_paths) many gbm paths, each path is produced from exact smapling with (num_step) time steps\n",
    "- for each path, compute corresponding payoff of the following contract seperately:\n",
    "    - stock, \n",
    "    - european call, \n",
    "    - geometric asian call, \n",
    "    - arithmetric asian call.\n"
   ]
  },
  {
   "cell_type": "markdown",
   "metadata": {},
   "source": [
    "- plot the following three figures with format string 'ro' in your plot arguments:\n",
    "    - aac vs. stk\n",
    "    - aac vs. ec\n",
    "    - aac vs. gac"
   ]
  },
  {
   "cell_type": "markdown",
   "metadata": {},
   "source": [
    "- which asset is most highly correlated to aac?\n",
    "- Based on your observation, can you improve OMC computation of aac?"
   ]
  },
  {
   "cell_type": "code",
   "execution_count": null,
   "metadata": {},
   "outputs": [],
   "source": []
  }
 ],
 "metadata": {
  "kernelspec": {
   "display_name": "Python 3",
   "language": "python",
   "name": "python3"
  },
  "language_info": {
   "codemirror_mode": {
    "name": "ipython",
    "version": 3
   },
   "file_extension": ".py",
   "mimetype": "text/x-python",
   "name": "python",
   "nbconvert_exporter": "python",
   "pygments_lexer": "ipython3",
   "version": "3.6.4"
  }
 },
 "nbformat": 4,
 "nbformat_minor": 1
}
