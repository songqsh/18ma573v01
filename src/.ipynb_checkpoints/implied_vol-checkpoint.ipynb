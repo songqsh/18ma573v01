{
 "cells": [
  {
   "cell_type": "markdown",
   "metadata": {},
   "source": [
    "# Volatility smile"
   ]
  },
  {
   "cell_type": "markdown",
   "metadata": {},
   "source": [
    "## Recall BSM formula"
   ]
  },
  {
   "cell_type": "code",
   "execution_count": 1,
   "metadata": {},
   "outputs": [],
   "source": [
    "from mpl_toolkits.mplot3d import Axes3D\n",
    "import matplotlib.pyplot as plt\n",
    "from matplotlib import cm\n",
    "from matplotlib.ticker import LinearLocator, FormatStrFormatter\n",
    "import numpy as np\n",
    "\n",
    "import scipy.stats as ss\n",
    "import scipy.optimize as so"
   ]
  },
  {
   "cell_type": "code",
   "execution_count": 2,
   "metadata": {},
   "outputs": [],
   "source": [
    "'''============\n",
    "Gbm class inherited from sde_1d\n",
    "============='''\n",
    "\n",
    "class Gbm:\n",
    "    def __init__(self,\n",
    "                 init_state = 100.,\n",
    "                 drift_ratio = .0475,\n",
    "                 vol_ratio = .2\n",
    "                ):\n",
    "        self.init_state = init_state\n",
    "        self.drift_ratio = drift_ratio\n",
    "        self.vol_ratio = vol_ratio"
   ]
  },
  {
   "cell_type": "code",
   "execution_count": 3,
   "metadata": {},
   "outputs": [],
   "source": [
    "'''=========\n",
    "option class init\n",
    "=========='''\n",
    "class EuropeanOption:\n",
    "    def __init__(self,\n",
    "                otype = 1, # 1: 'call'\n",
    "                        # -1: 'put'\n",
    "                strike = 110.,\n",
    "                maturity = 1.\n",
    "                ):\n",
    "        self.otype = otype\n",
    "        self.strike = strike\n",
    "        self.maturity = 1.\n",
    "        \n",
    "    def payoff(self, s): #s: excercise price\n",
    "        otype = self.otype\n",
    "        k = self.strike\n",
    "        maturity = self.maturity\n",
    "        return np.max([0, (s - k)*otype])\n",
    "        "
   ]
  },
  {
   "cell_type": "code",
   "execution_count": 4,
   "metadata": {},
   "outputs": [],
   "source": [
    "'''========\n",
    "Black-Scholes-Merton formula. \n",
    "=========='''\n",
    "\n",
    "def bsm_price(self, european_option):\n",
    "    s0 = self.init_state\n",
    "    sigma = self.vol_ratio\n",
    "    r = self.drift_ratio\n",
    "    \n",
    "    otype = european_option.otype\n",
    "    k = european_option.strike\n",
    "    maturity = european_option.maturity\n",
    "    \n",
    "    d1 = (np.log(s0 / k) + (r + 0.5 * sigma ** 2) \n",
    "          * maturity) / (sigma * np.sqrt(maturity))\n",
    "    d2 = d1 - sigma * np.sqrt(maturity)\n",
    "    \n",
    "    return otype * s0 * ss.norm.cdf(otype * d1) - otype * np.exp(-r * maturity) * k * ss.norm.cdf(otype * d2)\n",
    "\n",
    "Gbm.bsm_price = bsm_price"
   ]
  },
  {
   "cell_type": "code",
   "execution_count": 5,
   "metadata": {},
   "outputs": [
    {
     "name": "stdout",
     "output_type": "stream",
     "text": [
      "--->>call value is 5.943273183452838\n",
      "--->>put value is 10.84042522804176\n"
     ]
    }
   ],
   "source": [
    "'''===============\n",
    "Test bsm_price\n",
    "================='''\n",
    "gbm1 = Gbm()\n",
    "option1 = EuropeanOption()\n",
    "print('--->>call value is ' + str(gbm1.bsm_price(option1)))\n",
    "option2 = EuropeanOption(otype=-1)\n",
    "print('--->>put value is ' + str(gbm1.bsm_price(option2)))\n"
   ]
  },
  {
   "cell_type": "markdown",
   "metadata": {},
   "source": [
    "## Implied volatility"
   ]
  },
  {
   "cell_type": "markdown",
   "metadata": {},
   "source": [
    "In the market, usually volatility (vol = 0.2 in the above) is not available, but market price (call = 5.94) for the option is available. One wants find a volatility such that associated BSM formula is equal to (fit) the market price. "
   ]
  },
  {
   "cell_type": "code",
   "execution_count": 6,
   "metadata": {},
   "outputs": [],
   "source": [
    "'''==========\n",
    "define a method to seek for an implied volatility\n",
    "============'''\n",
    "\n",
    "def implied_volatility(spot_price, otype, maturity, strike, interest_rate, market_option_price):\n",
    "    option = EuropeanOption(otype, strike, maturity)\n",
    "    init_vol = .1 #initial guess\n",
    "    gbm = Gbm(spot_price, interest_rate, init_vol)\n",
    "    \n",
    "    def error_function(vol):\n",
    "        gbm.vol_ratio = vol\n",
    "        return np.abs(market_option_price - gbm.bsm_price(option))\n",
    "    \n",
    "    return so.fmin(error_function, 0.1, disp = False)[0]"
   ]
  },
  {
   "cell_type": "code",
   "execution_count": 7,
   "metadata": {},
   "outputs": [
    {
     "name": "stdout",
     "output_type": "stream",
     "text": [
      "---->>>>implied volatility is\n"
     ]
    },
    {
     "data": {
      "text/plain": [
       "0.19992187500000036"
      ]
     },
     "execution_count": 7,
     "metadata": {},
     "output_type": "execute_result"
    }
   ],
   "source": [
    "'''============\n",
    "test the implied_vol by reversing bsm_formula example in the above\n",
    "=============='''\n",
    "print('---->>>>implied volatility is')\n",
    "implied_volatility(spot_price=100, otype=1, maturity=1, strike=110, interest_rate=.0475, market_option_price=5.94)"
   ]
  },
  {
   "cell_type": "markdown",
   "metadata": {},
   "source": [
    "## Volatility smile"
   ]
  },
  {
   "cell_type": "code",
   "execution_count": 8,
   "metadata": {},
   "outputs": [
    {
     "name": "stdout",
     "output_type": "stream",
     "text": [
      "--->>first a few columns are <<-----\n",
      "otype, maturity, strike, option_price\n",
      "[-1.00000000e+00  8.33333333e-02  9.60000000e+01  6.97778188e-01]\n",
      "[-1.00000000e+00  8.33333333e-02  9.70000000e+01  9.99395332e-01]\n",
      "[-1.00000000e+00  8.33333333e-02  9.80000000e+01  1.18362576e+00]\n",
      "[-1.00000000e+00  8.33333333e-02  9.90000000e+01  1.53762709e+00]\n",
      "[-1.00000000e+00  8.33333333e-02  1.00000000e+02  2.14495963e+00]\n"
     ]
    }
   ],
   "source": [
    "'''======\n",
    "Read data\n",
    "========='''\n",
    "#Read four-column data\n",
    "#columns are otype, maturity, strike, option_price\n",
    "np_option_data1 = np.loadtxt('optiondata1.dat', comments='#', delimiter=',')\n",
    "\n",
    "print('--->>first a few columns are <<-----')\n",
    "print('otype, maturity, strike, option_price')\n",
    "for i in range(5):\n",
    "    print(np_option_data1[i, :])"
   ]
  },
  {
   "cell_type": "code",
   "execution_count": 9,
   "metadata": {},
   "outputs": [
    {
     "name": "stdout",
     "output_type": "stream",
     "text": [
      "[-1.00000000e+00  8.33333333e-02  9.60000000e+01  6.97778188e-01\n",
      "  8.97363281e-02]\n",
      "[-1.00000000e+00  8.33333333e-02  9.70000000e+01  9.99395332e-01\n",
      "  9.46679688e-02]\n",
      "[-1.00000000e+00  8.33333333e-02  9.80000000e+01  1.18362576e+00\n",
      "  9.35693359e-02]\n",
      "[-1.00000000e+00  8.33333333e-02  9.90000000e+01  1.53762709e+00\n",
      "  9.69824219e-02]\n",
      "[-1.00000000e+00  8.33333333e-02  1.00000000e+02  2.14495963e+00\n",
      "  1.06279297e-01]\n"
     ]
    }
   ],
   "source": [
    "#below are given \n",
    "spot_price = 100\n",
    "interest_rate = .05\n",
    "\n",
    "num_row = np_option_data1.shape[0]\n",
    "#expand one column for vol\n",
    "np_option_data2 = np.c_[np_option_data1, np.zeros([num_row, 1])]\n",
    "for i in range(num_row):\n",
    "    otype = np_option_data1[i, 0]\n",
    "    maturity = np_option_data1[i,1]\n",
    "    strike = np_option_data1[i,2]\n",
    "    market_option_price = np_option_data1[i,3]\n",
    "    \n",
    "    np_option_data2[i, 4] = implied_volatility(spot_price, otype, maturity, strike, interest_rate, market_option_price)\n",
    "    \n",
    "\n",
    "for i in range(5):\n",
    "    print(np_option_data2[i, :])"
   ]
  },
  {
   "cell_type": "code",
   "execution_count": 10,
   "metadata": {},
   "outputs": [
    {
     "data": {
      "text/plain": [
       "[<matplotlib.lines.Line2D at 0x1147a7cc0>]"
      ]
     },
     "execution_count": 10,
     "metadata": {},
     "output_type": "execute_result"
    },
    {
     "data": {
      "image/png": "[encoded data removed]",
      "text/plain": [
       "<matplotlib.figure.Figure at 0x10ed849b0>"
      ]
     },
     "metadata": {},
     "output_type": "display_data"
    }
   ],
   "source": [
    "filter1 = np_option_data2[np_option_data2[:,1] == 3/12]\n",
    "filter2 = filter1[filter1[:,0] == 1.]\n",
    "plt.plot(filter2[:,2], filter2[:,4])"
   ]
  },
  {
   "cell_type": "code",
   "execution_count": 14,
   "metadata": {},
   "outputs": [
    {
     "data": {
      "text/plain": [
       "[<matplotlib.lines.Line2D at 0x114ae7198>]"
      ]
     },
     "execution_count": 14,
     "metadata": {},
     "output_type": "execute_result"
    },
    {
     "data": {
      "image/png": "[encoded data removed]",
      "text/plain": [
       "<matplotlib.figure.Figure at 0x114a3bb00>"
      ]
     },
     "metadata": {},
     "output_type": "display_data"
    }
   ],
   "source": [
    "filter1 = np_option_data2[np_option_data2[:,1] == 1/12]\n",
    "filter2 = filter1[filter1[:,0] == 1.]\n",
    "plt.plot(filter2[:,2], filter2[:,4])"
   ]
  },
  {
   "cell_type": "code",
   "execution_count": null,
   "metadata": {},
   "outputs": [],
   "source": []
  }
 ],
 "metadata": {
  "kernelspec": {
   "display_name": "Python 3",
   "language": "python",
   "name": "python3"
  },
  "language_info": {
   "codemirror_mode": {
    "name": "ipython",
    "version": 3
   },
   "file_extension": ".py",
   "mimetype": "text/x-python",
   "name": "python",
   "nbconvert_exporter": "python",
   "pygments_lexer": "ipython3",
   "version": "3.6.4"
  }
 },
 "nbformat": 4,
 "nbformat_minor": 1
}
