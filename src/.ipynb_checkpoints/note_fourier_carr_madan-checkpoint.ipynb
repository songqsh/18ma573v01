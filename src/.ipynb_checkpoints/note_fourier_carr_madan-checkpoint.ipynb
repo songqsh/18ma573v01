{
 "cells": [
  {
   "cell_type": "markdown",
   "metadata": {},
   "source": [
    "# Fourier transform by Carr-Madan"
   ]
  },
  {
   "cell_type": "markdown",
   "metadata": {},
   "source": [
    "## Abstract\n",
    "\n",
    "Our goal is\n",
    "\n",
    "- Use alternative Fourier transform method proposed by Carr and Madan for european call pricing whenever characteristic function is available for its log price."
   ]
  },
  {
   "cell_type": "markdown",
   "metadata": {},
   "source": [
    "## Analysis\n",
    "\n",
    "__Propostion__\n",
    "\n",
    "Let interest rate be $r$ and the characteristic function of $\\ln(S_T)$ be $\\phi$. Then, the price $C(K)$ of Call(T, K) satisfies, for any $\\alpha>0$, \n",
    "$$ C(K) = \\frac{e^{-\\alpha \\ln K}}{\\pi} \\int_0^\\infty e^{-i\\nu \\ln K} \\psi (\\nu) d\\nu,$$\n",
    "where\n",
    "$$\n",
    "\\psi(\\nu) = \\frac{e^{-rT} \\phi(\\nu - (\\alpha+1)i)}{\\alpha^2+\\alpha-\\nu^2+i(2\\alpha+1)\\nu}.\n",
    "$$"
   ]
  },
  {
   "cell_type": "markdown",
   "metadata": {},
   "source": [
    "__Q.__ Does the above proposition still hold if $\\alpha = 0$?"
   ]
  },
  {
   "cell_type": "markdown",
   "metadata": {},
   "source": [
    "### Proof"
   ]
  },
  {
   "cell_type": "markdown",
   "metadata": {},
   "source": [
    "__step1__\n",
    "\n",
    "Let $k = \\ln K$ be the log strike, and $c(k)$ be \n",
    "$$c(k) = e^{\\alpha k} C(e^k).$$\n",
    "Then, Fourier transform of $c(K)$\n",
    "$$\\psi(\\nu) = \\int_{-\\infty}^\\infty e^{i\\nu k} c(k) dk$$\n",
    "exists, and the inverse transform of $\\psi(\\nu)$ recovers $c(k)$, i.e.\n",
    "$$c(k) = \\frac{1}{2\\pi}\\int_{-\\infty}^{\\infty} e^{-i\\nu k} \\psi(\\nu) d \\nu = \n",
    "\\frac{1}{\\pi}\\int_{0}^{\\infty} e^{-i\\nu k} \\psi(\\nu) d \\nu $$\n",
    "The second equality is valid since $\\psi$ is odd in its imaginary part and even in its real part (why?).\n"
   ]
  },
  {
   "cell_type": "markdown",
   "metadata": {},
   "source": [
    "__step2__\n",
    "\n",
    "Therefore, it's enough to show the representation of $\\psi$ in terms of $\\phi$. This can be done Fubini's theorem."
   ]
  },
  {
   "cell_type": "code",
   "execution_count": null,
   "metadata": {},
   "outputs": [],
   "source": []
  }
 ],
 "metadata": {
  "kernelspec": {
   "display_name": "Python 3",
   "language": "python",
   "name": "python3"
  },
  "language_info": {
   "codemirror_mode": {
    "name": "ipython",
    "version": 3
   },
   "file_extension": ".py",
   "mimetype": "text/x-python",
   "name": "python",
   "nbconvert_exporter": "python",
   "pygments_lexer": "ipython3",
   "version": "3.6.4"
  }
 },
 "nbformat": 4,
 "nbformat_minor": 2
}
