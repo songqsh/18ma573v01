{
 "cells": [
  {
   "cell_type": "code",
   "execution_count": 1,
   "metadata": {},
   "outputs": [],
   "source": [
    "#pip install quandl\n",
    "import quandl\n",
    "import matplotlib.pyplot as plt\n",
    "import pandas as pd"
   ]
  },
  {
   "cell_type": "code",
   "execution_count": 2,
   "metadata": {},
   "outputs": [
    {
     "data": {
      "text/html": [
       "<div>\n",
       "<style scoped>\n",
       "    .dataframe tbody tr th:only-of-type {\n",
       "        vertical-align: middle;\n",
       "    }\n",
       "\n",
       "    .dataframe tbody tr th {\n",
       "        vertical-align: top;\n",
       "    }\n",
       "\n",
       "    .dataframe thead th {\n",
       "        text-align: right;\n",
       "    }\n",
       "</style>\n",
       "<table border=\"1\" class=\"dataframe\">\n",
       "  <thead>\n",
       "    <tr style=\"text-align: right;\">\n",
       "      <th></th>\n",
       "      <th>Open</th>\n",
       "      <th>High</th>\n",
       "      <th>Low</th>\n",
       "      <th>Close</th>\n",
       "      <th>Volume</th>\n",
       "      <th>Ex-Dividend</th>\n",
       "      <th>Split Ratio</th>\n",
       "      <th>Adj. Open</th>\n",
       "      <th>Adj. High</th>\n",
       "      <th>Adj. Low</th>\n",
       "      <th>Adj. Close</th>\n",
       "      <th>Adj. Volume</th>\n",
       "    </tr>\n",
       "    <tr>\n",
       "      <th>Date</th>\n",
       "      <th></th>\n",
       "      <th></th>\n",
       "      <th></th>\n",
       "      <th></th>\n",
       "      <th></th>\n",
       "      <th></th>\n",
       "      <th></th>\n",
       "      <th></th>\n",
       "      <th></th>\n",
       "      <th></th>\n",
       "      <th></th>\n",
       "      <th></th>\n",
       "    </tr>\n",
       "  </thead>\n",
       "  <tbody>\n",
       "    <tr>\n",
       "      <th>2016-05-16</th>\n",
       "      <td>13.820</td>\n",
       "      <td>14.020</td>\n",
       "      <td>13.80</td>\n",
       "      <td>13.93</td>\n",
       "      <td>57848601.0</td>\n",
       "      <td>0.0</td>\n",
       "      <td>1.0</td>\n",
       "      <td>13.508028</td>\n",
       "      <td>13.703513</td>\n",
       "      <td>13.488480</td>\n",
       "      <td>13.615545</td>\n",
       "      <td>57848601.0</td>\n",
       "    </tr>\n",
       "    <tr>\n",
       "      <th>2016-05-17</th>\n",
       "      <td>13.890</td>\n",
       "      <td>14.130</td>\n",
       "      <td>13.82</td>\n",
       "      <td>14.01</td>\n",
       "      <td>76237641.0</td>\n",
       "      <td>0.0</td>\n",
       "      <td>1.0</td>\n",
       "      <td>13.576448</td>\n",
       "      <td>13.811030</td>\n",
       "      <td>13.508028</td>\n",
       "      <td>13.693739</td>\n",
       "      <td>76237641.0</td>\n",
       "    </tr>\n",
       "    <tr>\n",
       "      <th>2016-05-18</th>\n",
       "      <td>14.020</td>\n",
       "      <td>14.750</td>\n",
       "      <td>14.01</td>\n",
       "      <td>14.69</td>\n",
       "      <td>151871694.0</td>\n",
       "      <td>0.0</td>\n",
       "      <td>1.0</td>\n",
       "      <td>13.703513</td>\n",
       "      <td>14.417034</td>\n",
       "      <td>13.693739</td>\n",
       "      <td>14.358389</td>\n",
       "      <td>151871694.0</td>\n",
       "    </tr>\n",
       "    <tr>\n",
       "      <th>2016-05-19</th>\n",
       "      <td>14.595</td>\n",
       "      <td>14.865</td>\n",
       "      <td>14.43</td>\n",
       "      <td>14.53</td>\n",
       "      <td>106156946.0</td>\n",
       "      <td>0.0</td>\n",
       "      <td>1.0</td>\n",
       "      <td>14.265533</td>\n",
       "      <td>14.529438</td>\n",
       "      <td>14.104258</td>\n",
       "      <td>14.202001</td>\n",
       "      <td>106156946.0</td>\n",
       "    </tr>\n",
       "    <tr>\n",
       "      <th>2016-05-20</th>\n",
       "      <td>14.640</td>\n",
       "      <td>14.700</td>\n",
       "      <td>14.43</td>\n",
       "      <td>14.52</td>\n",
       "      <td>81195479.0</td>\n",
       "      <td>0.0</td>\n",
       "      <td>1.0</td>\n",
       "      <td>14.309517</td>\n",
       "      <td>14.368163</td>\n",
       "      <td>14.104258</td>\n",
       "      <td>14.192226</td>\n",
       "      <td>81195479.0</td>\n",
       "    </tr>\n",
       "  </tbody>\n",
       "</table>\n",
       "</div>"
      ],
      "text/plain": [
       "              Open    High    Low  Close       Volume  Ex-Dividend  \\\n",
       "Date                                                                 \n",
       "2016-05-16  13.820  14.020  13.80  13.93   57848601.0          0.0   \n",
       "2016-05-17  13.890  14.130  13.82  14.01   76237641.0          0.0   \n",
       "2016-05-18  14.020  14.750  14.01  14.69  151871694.0          0.0   \n",
       "2016-05-19  14.595  14.865  14.43  14.53  106156946.0          0.0   \n",
       "2016-05-20  14.640  14.700  14.43  14.52   81195479.0          0.0   \n",
       "\n",
       "            Split Ratio  Adj. Open  Adj. High   Adj. Low  Adj. Close  \\\n",
       "Date                                                                   \n",
       "2016-05-16          1.0  13.508028  13.703513  13.488480   13.615545   \n",
       "2016-05-17          1.0  13.576448  13.811030  13.508028   13.693739   \n",
       "2016-05-18          1.0  13.703513  14.417034  13.693739   14.358389   \n",
       "2016-05-19          1.0  14.265533  14.529438  14.104258   14.202001   \n",
       "2016-05-20          1.0  14.309517  14.368163  14.104258   14.192226   \n",
       "\n",
       "            Adj. Volume  \n",
       "Date                     \n",
       "2016-05-16   57848601.0  \n",
       "2016-05-17   76237641.0  \n",
       "2016-05-18  151871694.0  \n",
       "2016-05-19  106156946.0  \n",
       "2016-05-20   81195479.0  "
      ]
     },
     "execution_count": 2,
     "metadata": {},
     "output_type": "execute_result"
    }
   ],
   "source": [
    "t0 = \"2016-05-15\" #start-date\n",
    "t1 = \"2018-05-15\" #end-date\n",
    "i_ticker = 'WIKI/BAC' #We import data from Wiki Table of Quandl\n",
    "stk = quandl.get(i_ticker, start_date= t0, end_date=t1)\n",
    "\n",
    "type(stk)\n",
    "stk.head()"
   ]
  },
  {
   "cell_type": "code",
   "execution_count": 3,
   "metadata": {},
   "outputs": [
    {
     "data": {
      "image/png": "[encoded data removed]",
      "text/plain": [
       "<matplotlib.figure.Figure at 0x115909860>"
      ]
     },
     "metadata": {},
     "output_type": "display_data"
    }
   ],
   "source": [
    "stk.Close.plot()\n",
    "#stk.Volume.plot()\n",
    "\n",
    "plt.title(i_ticker + \" Price\")\n",
    "plt.xlabel(\"Date\")\n",
    "plt.ylabel(\"Price\")\n",
    "plt.legend();\n",
    "\n",
    "plt.show()\n"
   ]
  },
  {
   "cell_type": "code",
   "execution_count": 4,
   "metadata": {},
   "outputs": [
    {
     "data": {
      "text/plain": [
       "<matplotlib.axes._subplots.AxesSubplot at 0x1159bf9e8>"
      ]
     },
     "execution_count": 4,
     "metadata": {},
     "output_type": "execute_result"
    },
    {
     "data": {
      "image/png": "[encoded data removed]",
      "text/plain": [
       "<matplotlib.figure.Figure at 0x115909dd8>"
      ]
     },
     "metadata": {},
     "output_type": "display_data"
    }
   ],
   "source": [
    "rolling_mean = stk['Close'].rolling(60).mean()\n",
    "stk.Close.plot()\n",
    "rolling_mean.plot()"
   ]
  },
  {
   "cell_type": "code",
   "execution_count": null,
   "metadata": {},
   "outputs": [],
   "source": []
  }
 ],
 "metadata": {
  "kernelspec": {
   "display_name": "Python 3",
   "language": "python",
   "name": "python3"
  },
  "language_info": {
   "codemirror_mode": {
    "name": "ipython",
    "version": 3
   },
   "file_extension": ".py",
   "mimetype": "text/x-python",
   "name": "python",
   "nbconvert_exporter": "python",
   "pygments_lexer": "ipython3",
   "version": "3.6.4"
  }
 },
 "nbformat": 4,
 "nbformat_minor": 2
}
