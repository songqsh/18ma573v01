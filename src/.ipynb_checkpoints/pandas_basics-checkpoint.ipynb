{
 "cells": [
  {
   "cell_type": "markdown",
   "metadata": {},
   "source": [
    "__Abstract__\n",
    "\n",
    "- Goal: Learn Pandas dataframe via an example\n",
    "- Ref:\n",
    " https://github.com/pandas-dev/pandas"
   ]
  },
  {
   "cell_type": "markdown",
   "metadata": {},
   "source": [
    "__Problem__\n",
    "\n",
    "- Import quandl stock data into dataframe\n",
    "- Manipulate dataframe, draw its 60 days rolling mean"
   ]
  },
  {
   "cell_type": "code",
   "execution_count": null,
   "metadata": {},
   "outputs": [],
   "source": [
    "# !pip install quandl #add this line if you run on colab\n",
    "import quandl\n",
    "import matplotlib.pyplot as plt\n",
    "import pandas as pd"
   ]
  },
  {
   "cell_type": "code",
   "execution_count": null,
   "metadata": {},
   "outputs": [],
   "source": [
    "t0 = \"2017-05-15\" #start-date\n",
    "t1 = \"2018-05-15\" #end-date\n",
    "i_ticker = 'WIKI/INTC' #We import data from Wiki Table of Quandl\n",
    "stk = quandl.get(i_ticker, start_date= t0, end_date=t1)\n",
    "\n",
    "type(stk)\n",
    "stk.head()"
   ]
  },
  {
   "cell_type": "code",
   "execution_count": null,
   "metadata": {},
   "outputs": [],
   "source": [
    "stk.Close.plot()\n",
    "#stk.Volume.plot()\n",
    "\n",
    "plt.title(i_ticker + \" Price\")\n",
    "plt.xlabel(\"Date\")\n",
    "plt.ylabel(\"Price\")\n",
    "plt.legend();\n",
    "\n",
    "plt.show()\n"
   ]
  },
  {
   "cell_type": "code",
   "execution_count": null,
   "metadata": {},
   "outputs": [],
   "source": [
    "rolling_mean = stk['Close'].rolling(10).mean()\n",
    "stk.Close.plot()\n",
    "rolling_mean.plot()\n",
    "\n",
    "\n",
    "plt.title(i_ticker + ' Price with its rolling means')\n",
    "plt.xlabel(\"Date\")\n",
    "plt.ylabel(\"Price\")\n",
    "plt.legend();\n",
    "plt.show()"
   ]
  },
  {
   "cell_type": "code",
   "execution_count": null,
   "metadata": {},
   "outputs": [],
   "source": []
  }
 ],
 "metadata": {
  "kernelspec": {
   "display_name": "Python 3",
   "language": "python",
   "name": "python3"
  },
  "language_info": {
   "codemirror_mode": {
    "name": "ipython",
    "version": 3
   },
   "file_extension": ".py",
   "mimetype": "text/x-python",
   "name": "python",
   "nbconvert_exporter": "python",
   "pygments_lexer": "ipython3",
   "version": "3.6.4"
  }
 },
 "nbformat": 4,
 "nbformat_minor": 2
}
