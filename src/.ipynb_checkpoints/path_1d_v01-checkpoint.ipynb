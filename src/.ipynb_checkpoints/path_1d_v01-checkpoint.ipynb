{
 "cells": [
  {
   "cell_type": "code",
   "execution_count": 1,
   "metadata": {},
   "outputs": [],
   "source": [
    "import numpy as np"
   ]
  },
  {
   "cell_type": "markdown",
   "metadata": {},
   "source": [
    "# Path space"
   ]
  },
  {
   "cell_type": "code",
   "execution_count": 6,
   "metadata": {},
   "outputs": [],
   "source": [
    "'''=============\n",
    "a path with state in $n$ dim space\n",
    "Input:\n",
    "    dim: positive integer\n",
    "    time_step: np 1-d array\n",
    "================'''\n",
    "class Path:\n",
    "    def __init__(self,\n",
    "                dim=1,\n",
    "                time_step=np.linspace(0,1,11)\n",
    "                ):\n",
    "        self.dim = dim\n",
    "        self.time_step = time_step\n",
    "        self.state = np.zeros([dim, len(time_step)])\n",
    "        "
   ]
  },
  {
   "cell_type": "code",
   "execution_count": 41,
   "metadata": {},
   "outputs": [],
   "source": [
    "'''============\n",
    "geometric average for the absolute state values\n",
    "If no_initial ==1, then\n",
    "    return a geometric average without the intial state\n",
    "otherwise, \n",
    "    return a geometric average for all absolute value of states\n",
    "no_initial =1 is particularly designed for geometric asian option\n",
    "=============='''\n",
    "def geometric_average(self, no_initial = 1):\n",
    "    if no_initial == 1:\n",
    "        arr1 = self.state[:, 1:]\n",
    "    else:\n",
    "        arr1 = self.state\n",
    "    return np.exp(np.log(np.abs(arr1)).mean(axis = 1))        \n",
    "Path.geometric_average = geometric_average"
   ]
  },
  {
   "cell_type": "code",
   "execution_count": 42,
   "metadata": {},
   "outputs": [],
   "source": [
    "path1 = Path(dim = 2, time_step=np.linspace(0,2,5))\n",
    "path1.state = np.random.normal(size = (path1.dim, len(path1.time_step)))"
   ]
  },
  {
   "cell_type": "code",
   "execution_count": 43,
   "metadata": {},
   "outputs": [
    {
     "data": {
      "text/plain": [
       "array([[ 1.06091886,  0.30266103, -1.08987103,  0.45182158,  0.54675061],\n",
       "       [-0.47705246, -0.35727075, -0.10614683,  0.15373971, -0.84949612]])"
      ]
     },
     "execution_count": 43,
     "metadata": {},
     "output_type": "execute_result"
    }
   ],
   "source": [
    "path1.state"
   ]
  },
  {
   "cell_type": "code",
   "execution_count": 44,
   "metadata": {},
   "outputs": [
    {
     "data": {
      "text/plain": [
       "array([0.53428375, 0.26528518])"
      ]
     },
     "execution_count": 44,
     "metadata": {},
     "output_type": "execute_result"
    }
   ],
   "source": [
    "path1.geometric_average()"
   ]
  },
  {
   "cell_type": "code",
   "execution_count": 45,
   "metadata": {},
   "outputs": [
    {
     "data": {
      "text/plain": [
       "array([0.61284974, 0.29832086])"
      ]
     },
     "execution_count": 45,
     "metadata": {},
     "output_type": "execute_result"
    }
   ],
   "source": [
    "path1.geometric_average(no_initial=0)"
   ]
  }
 ],
 "metadata": {
  "kernelspec": {
   "display_name": "Python 3",
   "language": "python",
   "name": "python3"
  },
  "language_info": {
   "codemirror_mode": {
    "name": "ipython",
    "version": 3
   },
   "file_extension": ".py",
   "mimetype": "text/x-python",
   "name": "python",
   "nbconvert_exporter": "python",
   "pygments_lexer": "ipython3",
   "version": "3.6.4"
  }
 },
 "nbformat": 4,
 "nbformat_minor": 2
}
