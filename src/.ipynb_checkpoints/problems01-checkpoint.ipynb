{
 "cells": [
  {
   "cell_type": "markdown",
   "metadata": {},
   "source": [
    "# Project\n",
    "\n",
    "## Setup\n",
    "\n",
    "Let\n",
    "${\\mathbb T} = \\Big\\{i \\frac T m: i = 1, 2, \\ldots, m \\Big\\}.$\n",
    "\n",
    "Consider a process\n",
    "$$ \n",
    "\\left\\{\n",
    "\\begin{array}{l}\n",
    "d X_t = b_t dt + dW_t, \\ X_0 = 0, \n",
    "\\\\\n",
    "b_t = - b_1 I(t< \\tau) + b_2 I(t\\ge \\tau)\n",
    "\\\\\n",
    "\\tau = \\inf\\{t\\in \\mathbb T: X_t < -l\\}.\n",
    "\\end{array}\n",
    "\\right.\n",
    "$$\n",
    "\n",
    "Let $F(X) = I(\\tau<T) I(X_T >0).$\n",
    "\n",
    "## Todo\n",
    "\n",
    "- Let $b_1 = b_2 = l$. Use OMC find $\\mathbb E F(X).$\n",
    "- Can you find explicit formula for $\\mathbb E F(X)?$"
   ]
  },
  {
   "cell_type": "code",
   "execution_count": null,
   "metadata": {},
   "outputs": [],
   "source": []
  }
 ],
 "metadata": {
  "kernelspec": {
   "display_name": "Python 3",
   "language": "python",
   "name": "python3"
  },
  "language_info": {
   "codemirror_mode": {
    "name": "ipython",
    "version": 3
   },
   "file_extension": ".py",
   "mimetype": "text/x-python",
   "name": "python",
   "nbconvert_exporter": "python",
   "pygments_lexer": "ipython3",
   "version": "3.6.4"
  }
 },
 "nbformat": 4,
 "nbformat_minor": 2
}
