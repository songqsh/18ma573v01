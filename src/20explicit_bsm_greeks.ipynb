{
 "cells": [
  {
   "cell_type": "markdown",
   "metadata": {},
   "source": [
    "__Abstract__\n",
    "\n",
    "- Goal\n",
    "    - Familiarize to python function\n",
    "    - Apply explicit BSM formula and FD to find greeks\n",
    "- Ref"
   ]
  },
  {
   "cell_type": "markdown",
   "metadata": {},
   "source": [
    "__Problem__\n",
    "\n",
    "Given a BS model with the parameters denoted by\n",
    "\n",
    "* $S(t)$: The initial stock price\n",
    "* $S(T)$: The stock price at $T$\n",
    "* $r$: interest rate\n",
    "* $\\sigma$: volatility\n",
    "\n",
    "our goal is to \n",
    "- find the exact value of $\\Delta$ and $\\theta$ of call. \n",
    "- find the approximation of $\\Delta$ and $\\theta$ by CFD, and compare it with exact ones."
   ]
  },
  {
   "cell_type": "markdown",
   "metadata": {},
   "source": [
    "__Anal__. \n",
    "\n",
    "If we denote $C$ as the call price when its spot price is $S$ and time is $t$, and other parameters are frozen, then its formula is given by\n",
    "$$C(S, t) = S_t  \\Phi(d_1) - K e^{-r(T-t)} \\Phi(d_2),$$\n",
    "where $d_i$ are given as\n",
    "$$d_1 = \\frac{(r + \\frac 1 2 \\sigma^2) (T-t) - \\ln \\frac{K}{S_0}}{\\sigma \\sqrt {T-t}}, \n",
    "\\quad \n",
    "d_2 = d_1 - \\sigma \\sqrt {T-t}.$$\n",
    "\n",
    "By its very definition of Greeks, we write\n",
    "$$\\Delta = \\partial_s C, \\quad \\theta = \\partial_t C.$$\n",
    "\n",
    "With BSM, they have explicit form of\n",
    "$$\\Delta = \\Phi(d_1), \\quad \\theta = - \\frac{S \\phi(d_1) \\sigma}{2 \\sqrt{T-t}} - r K e^{-r(T-t)} \\Phi(d_2).$$"
   ]
  },
  {
   "cell_type": "markdown",
   "metadata": {},
   "source": [
    "__Parameters__\n",
    "\n",
    "$$S(0) = 100, t = 0, K = 110, r = 4.75\\%, \\sigma = 20\\%, T = 1, h = .1.$$"
   ]
  },
  {
   "cell_type": "markdown",
   "metadata": {},
   "source": [
    "__Algo__. \n"
   ]
  },
  {
   "cell_type": "code",
   "execution_count": 1,
   "metadata": {},
   "outputs": [],
   "source": [
    "import numpy as np\n",
    "import pandas as pd\n",
    "import matplotlib.pyplot as plt\n",
    "import scipy.stats as ss"
   ]
  },
  {
   "cell_type": "code",
   "execution_count": 2,
   "metadata": {},
   "outputs": [],
   "source": [
    "#Setting parameters\n",
    "S = 100.0\n",
    "t = 0.\n",
    "K = 110.0\n",
    "r=0.0475\n",
    "sigma = 0.20\n",
    "T = 1.\n"
   ]
  },
  {
   "cell_type": "code",
   "execution_count": 3,
   "metadata": {},
   "outputs": [],
   "source": [
    "def bsm_call_value(S0, K, T, r, sigma):\n",
    "    ''' Calculates Black-Scholes-Merton European call option value.\n",
    "    '''\n",
    "    d1 = (np.log(S0 / K) + (r + 0.5 * sigma ** 2)\n",
    "          * T) / (sigma * np.sqrt(T))\n",
    "    \n",
    "    d2 = d1 - sigma * np.sqrt(T)\n",
    "    call_value = S0 * ss.norm.cdf(d1) - np.exp(-r * T) * K * ss.norm.cdf(d2)\n",
    "    return call_value"
   ]
  },
  {
   "cell_type": "markdown",
   "metadata": {},
   "source": [
    "__1__. Find exact $\\Delta$"
   ]
  },
  {
   "cell_type": "code",
   "execution_count": 4,
   "metadata": {},
   "outputs": [],
   "source": [
    "#Your input here\n",
    "\n"
   ]
  },
  {
   "cell_type": "markdown",
   "metadata": {},
   "source": [
    "__2__. Find exact $\\theta$"
   ]
  },
  {
   "cell_type": "code",
   "execution_count": 5,
   "metadata": {},
   "outputs": [],
   "source": [
    "#Your input here\n",
    "\n"
   ]
  },
  {
   "cell_type": "markdown",
   "metadata": {},
   "source": [
    "__3__. Approximate $\\Delta$"
   ]
  },
  {
   "cell_type": "code",
   "execution_count": 6,
   "metadata": {},
   "outputs": [],
   "source": [
    "h = 0.1 #step size for CFD\n",
    "\n",
    "#Use central finite difference\n",
    "def CFD(f, x, h):\n",
    "    return (f(x+h) - f(x-h))/h/2"
   ]
  },
  {
   "cell_type": "code",
   "execution_count": 7,
   "metadata": {},
   "outputs": [],
   "source": [
    "#Your input here\n",
    "\n"
   ]
  },
  {
   "cell_type": "markdown",
   "metadata": {},
   "source": [
    "__4__. Approximate $\\theta$"
   ]
  },
  {
   "cell_type": "code",
   "execution_count": 8,
   "metadata": {},
   "outputs": [],
   "source": [
    "#Your input here\n",
    "\n"
   ]
  },
  {
   "cell_type": "code",
   "execution_count": null,
   "metadata": {},
   "outputs": [],
   "source": []
  }
 ],
 "metadata": {
  "kernelspec": {
   "display_name": "Python 3",
   "language": "python",
   "name": "python3"
  },
  "language_info": {
   "codemirror_mode": {
    "name": "ipython",
    "version": 3
   },
   "file_extension": ".py",
   "mimetype": "text/x-python",
   "name": "python",
   "nbconvert_exporter": "python",
   "pygments_lexer": "ipython3",
   "version": "3.7.4"
  }
 },
 "nbformat": 4,
 "nbformat_minor": 2
}
