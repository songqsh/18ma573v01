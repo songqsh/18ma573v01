{
  "nbformat": 4,
  "nbformat_minor": 0,
  "metadata": {
    "colab": {
      "name": "20imp_vol_v01.ipynb",
      "provenance": [],
      "toc_visible": true
    },
    "kernelspec": {
      "name": "python3",
      "display_name": "Python 3"
    }
  },
  "cells": [
    {
      "cell_type": "markdown",
      "metadata": {
        "id": "9wAnvUp_XoFq",
        "colab_type": "text"
      },
      "source": [
        "# Implied volatility\n",
        "\n",
        "## Abstract \n",
        "\n",
        "\n",
        "- We will introduce implied volatility and its computations"
      ]
    },
    {
      "cell_type": "markdown",
      "metadata": {
        "id": "F9tYcXcNcbil",
        "colab_type": "text"
      },
      "source": [
        "## Problem\n",
        "\n",
        "We have seen that BS call price is 5.94 with the following parameters:"
      ]
    },
    {
      "cell_type": "code",
      "metadata": {
        "id": "bYOOPXNNdfNB",
        "colab_type": "code",
        "colab": {}
      },
      "source": [
        "vol_ratio = .2; spot_price = 100.; drift_ratio = .0475; strike = 110.; maturity = 1."
      ],
      "execution_count": 0,
      "outputs": []
    },
    {
      "cell_type": "markdown",
      "metadata": {
        "id": "dAbOAKUgdrFE",
        "colab_type": "text"
      },
      "source": [
        "\n",
        "\n",
        "In the market, usually volatility (vol = 0.2 in the above) is not available, but market price (call = 5.94) for the option is available. One wants to find a volatility such that associated BSM formula is equal to (fit) the market price. This is called implied volatility. \n",
        "\n",
        "Next, we are goint to find implied volatility given the following parameters:"
      ]
    },
    {
      "cell_type": "markdown",
      "metadata": {
        "id": "DE2UqN3GeDPt",
        "colab_type": "text"
      },
      "source": [
        "spot_price = 100.; drift_ratio = .0475; strike = 110.; maturity = 1.; market_call_price = 5.94"
      ]
    },
    {
      "cell_type": "markdown",
      "metadata": {
        "id": "SSW1z2w6eUZq",
        "colab_type": "text"
      },
      "source": [
        "## Anal\n",
        "\n",
        "the implied volatility of an option contract is that value of the volatility of the underlying instrument which, when input in an option pricing model (such as Black–Scholes) will return a theoretical value equal to the current market price of the option. \n",
        "\n",
        "Consider a derivative or a call option particularly, we know parameter sets of \n",
        "- spot price.; drift_ratio (interest rate); strike.; maturity\n",
        "\n",
        "For a BSM theoretical price, the only missing parameter is the volatility $\\sigma$. Let's denote a function $f$ be\n",
        "$$f: \\sigma \\mapsto BSM(\\sigma, others).$$\n",
        "Suppose we denote by $p$ for the market price of the call option, then the implied volatility is\n",
        "$\\hat \\sigma$ satisfying\n",
        "$$f(\\hat \\sigma) = p$$\n",
        "or \n",
        "$$\\hat \\sigma = f^{-1}(p),$$\n",
        "if the inverse of $f$ is well defined at $p$."
      ]
    },
    {
      "cell_type": "markdown",
      "metadata": {
        "id": "iHMqWczsik6_",
        "colab_type": "text"
      },
      "source": [
        "The next lemma tells us, we can search for the minimizer of the error function\n",
        "$$\\sigma \\mapsto |f(\\sigma) - p|,$$\n",
        "which is available by \"scipy.optimize.fmin\". \n",
        "\n",
        "__Lemma__\n",
        "\n",
        "Supose $f$ is a function satisfying\n",
        "- $f: [0, \\infty) \\mapsto (f_{min}, f_{max})$\n",
        "- $f$ is continuous\n",
        "- $f$ is strictly increasing\n",
        "\n",
        "then, for any $p\\in  (f_{min}, f_{max})$, \n",
        "- there exists unique $\\hat \\sigma$, s.t. $f(\\hat \\sigma) = p$;\n",
        "- Moreover, \n",
        "$$\\hat \\sigma = \\arg\\min_{\\sigma\\in (0,\\infty)} | f(\\sigma) - p|.$$"
      ]
    },
    {
      "cell_type": "markdown",
      "metadata": {
        "id": "52JzYn6dYS1v",
        "colab_type": "text"
      },
      "source": [
        "## Code"
      ]
    },
    {
      "cell_type": "markdown",
      "metadata": {
        "id": "GnXQ6y3oLHxq",
        "colab_type": "text"
      },
      "source": [
        "For this purpose, we first need bsm pricing engines developed before."
      ]
    },
    {
      "cell_type": "code",
      "metadata": {
        "id": "Ip-amjbnLeIq",
        "colab_type": "code",
        "colab": {}
      },
      "source": [
        "import numpy as np\n",
        "import scipy.stats as ss\n",
        "\n",
        "'''=========\n",
        "option class init\n",
        "=========='''\n",
        "class VanillaOption:\n",
        "    def __init__(\n",
        "        self,\n",
        "        otype = 1, # 1: 'call'\n",
        "                  # -1: 'put'\n",
        "        strike = 110.,\n",
        "        maturity = 1.,\n",
        "        market_price = 10.):\n",
        "      self.otype = otype\n",
        "      self.strike = strike\n",
        "      self.maturity = maturity\n",
        "      self.market_price = market_price #this will be used for calibration\n",
        "      \n",
        "        \n",
        "    def payoff(self, s): #s: excercise price\n",
        "      otype = self.otype\n",
        "      k = self.strike\n",
        "      maturity = self.maturity\n",
        "      return max([0, (s - k)*otype])\n",
        "'''============\n",
        "Gbm class\n",
        "============='''\n",
        "\n",
        "class Gbm:\n",
        "    def __init__(self,\n",
        "                 init_state = 100.,\n",
        "                 drift_ratio = .0475,\n",
        "                 vol_ratio = .2\n",
        "                ):\n",
        "        self.init_state = init_state\n",
        "        self.drift_ratio = drift_ratio\n",
        "        self.vol_ratio = vol_ratio\n",
        "\n",
        "'''========\n",
        "Black-Scholes-Merton formula. \n",
        "=========='''\n",
        "\n",
        "def bsm_price(self, vanilla_option):\n",
        "    s0 = self.init_state\n",
        "    sigma = self.vol_ratio\n",
        "    r = self.drift_ratio\n",
        "    \n",
        "    otype = vanilla_option.otype\n",
        "    k = vanilla_option.strike\n",
        "    maturity = vanilla_option.maturity\n",
        "    \n",
        "    d1 = (np.log(s0 / k) + (r + 0.5 * sigma ** 2) \n",
        "          * maturity) / (sigma * np.sqrt(maturity))\n",
        "    d2 = d1 - sigma * np.sqrt(maturity)\n",
        "    \n",
        "    return (otype * s0 * ss.norm.cdf(otype * d1) #line break needs parenthesis\n",
        "            - otype * np.exp(-r * maturity) * k * ss.norm.cdf(otype * d2))\n",
        "\n",
        "Gbm.bsm_price = bsm_price"
      ],
      "execution_count": 0,
      "outputs": []
    },
    {
      "cell_type": "code",
      "metadata": {
        "id": "yQ4FQRjQMJRj",
        "colab_type": "code",
        "colab": {
          "base_uri": "https://localhost:8080/",
          "height": 51
        },
        "outputId": "2ff90903-a99b-4a73-e2b5-069c47a002b3"
      },
      "source": [
        "'''===============\n",
        "Test bsm_price\n",
        "================='''\n",
        "gbm1 = Gbm(\n",
        "    init_state = 100., \n",
        "    drift_ratio = .0475,\n",
        "    vol_ratio = .2)\n",
        "option1 = VanillaOption(\n",
        "    otype = 1,\n",
        "    strike = 110.,                \n",
        "    maturity = 1.\n",
        ")    \n",
        "\n",
        "print('>>>>>>>>>>call value is ' + str(gbm1.bsm_price(option1)))\n",
        "option2 = VanillaOption(otype=-1)\n",
        "print('>>>>>>>>>>put value is ' + str(gbm1.bsm_price(option2)))"
      ],
      "execution_count": 7,
      "outputs": [
        {
          "output_type": "stream",
          "text": [
            ">>>>>>>>>>call value is 5.943273183452838\n",
            ">>>>>>>>>>put value is 10.84042522804176\n"
          ],
          "name": "stdout"
        }
      ]
    },
    {
      "cell_type": "markdown",
      "metadata": {
        "id": "B9lm4Ai9ZjgE",
        "colab_type": "text"
      },
      "source": [
        "In the market, usually volatility (vol = 0.2 in the above) is not available, but market price (call = 5.94) for the option is available. One wants find a volatility such that associated BSM formula is equal to (fit) the market price. "
      ]
    },
    {
      "cell_type": "code",
      "metadata": {
        "id": "9fyC1yH-aLyw",
        "colab_type": "code",
        "colab": {}
      },
      "source": [
        "'''================\n",
        "define an error function\n",
        "===================='''\n",
        "def error_function(vol, gbm, option):\n",
        "  gbm.vol_ratio = vol\n",
        "  return abs(option.market_price - gbm.bsm_price(option))"
      ],
      "execution_count": 0,
      "outputs": []
    },
    {
      "cell_type": "code",
      "metadata": {
        "id": "iOn05OXQbQnr",
        "colab_type": "code",
        "colab": {}
      },
      "source": [
        "'''==========\n",
        "define a method to seek for an implied volatility\n",
        "============'''\n",
        "import scipy.optimize as so\n",
        "def implied_volatility(gbm, option):\n",
        "  init_vol = .1 #initial guess\n",
        "  return so.fmin(error_function, init_vol, \n",
        "                 args = (gbm, option), disp = 0)[0]"
      ],
      "execution_count": 0,
      "outputs": []
    },
    {
      "cell_type": "code",
      "metadata": {
        "id": "CMcocDWvc_wf",
        "colab_type": "code",
        "outputId": "2547938d-402d-463e-eefa-4013e037d039",
        "colab": {
          "base_uri": "https://localhost:8080/",
          "height": 34
        }
      },
      "source": [
        "'''============\n",
        "test the implied_vol by reversing bsm_formula example in the above\n",
        "=============='''\n",
        "\n",
        "option1.market_price = 5.94\n",
        "\n",
        "print('>>>>>>>>implied volatility is ' + \n",
        "     str(implied_volatility(gbm1, option1)))\n"
      ],
      "execution_count": 12,
      "outputs": [
        {
          "output_type": "stream",
          "text": [
            ">>>>>>>>implied volatility is 0.19992187500000036\n"
          ],
          "name": "stdout"
        }
      ]
    },
    {
      "cell_type": "code",
      "metadata": {
        "id": "bCxueCrEx9q7",
        "colab_type": "code",
        "colab": {}
      },
      "source": [
        ""
      ],
      "execution_count": 0,
      "outputs": []
    }
  ]
}