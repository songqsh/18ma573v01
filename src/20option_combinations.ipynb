{
 "cells": [
  {
   "cell_type": "markdown",
   "metadata": {
    "colab_type": "text",
    "id": "C8HzenUTSqhK"
   },
   "source": [
    "Recall that, \n",
    "\n",
    "\n",
    "__Written K-strike straddle__ is a portfolio of\n",
    "- selling K-strike call of one unit\n",
    "- selling K-strike put of one unit\n",
    "\n",
    "__Butterfly__ with three stikes $K_1 < K_2 < K_3$ is the portfolio of\n",
    "- 1 unit of written K-strike straddle\n",
    "- 1 unit of purchased K-strike call\n",
    "- 1 unit of purchased K-strike put\n",
    "\n",
    "Plot a diagram of exercise price versus payoff for the following portfolios:\n",
    "- written 40-strike straddle\n",
    "- a butterfly consists of\n",
    "  - written 40-strike straddle\n",
    "  - purchased 45-strike call\n",
    "  - purchased 35-strike put"
   ]
  },
  {
   "cell_type": "code",
   "execution_count": 0,
   "metadata": {
    "colab": {},
    "colab_type": "code",
    "id": "Fkeqt5l6TWgP"
   },
   "outputs": [],
   "source": []
  }
 ],
 "metadata": {
  "colab": {
   "include_colab_link": true,
   "name": "option_combinations.ipynb",
   "provenance": [],
   "version": "0.3.2"
  },
  "kernelspec": {
   "display_name": "Python 3",
   "language": "python",
   "name": "python3"
  },
  "language_info": {
   "codemirror_mode": {
    "name": "ipython",
    "version": 3
   },
   "file_extension": ".py",
   "mimetype": "text/x-python",
   "name": "python",
   "nbconvert_exporter": "python",
   "pygments_lexer": "ipython3",
   "version": "3.7.4"
  }
 },
 "nbformat": 4,
 "nbformat_minor": 1
}
