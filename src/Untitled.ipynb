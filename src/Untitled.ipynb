{
 "cells": [
  {
   "cell_type": "code",
   "execution_count": 2,
   "metadata": {},
   "outputs": [],
   "source": [
    "from contract_v01 import VanillaOption\n",
    "from sde_1d_v01 import Gbm_1d\n",
    "\n",
    "import numpy as np\n",
    "from scipy.fftpack import fft, ifft"
   ]
  },
  {
   "cell_type": "code",
   "execution_count": 3,
   "metadata": {},
   "outputs": [],
   "source": [
    "'''===========\n",
    "paras\n",
    "========'''\n",
    "s0 = 100 \n",
    "r = .05 \n",
    "sigma = .3\n",
    "T = 1\n",
    "K = 90\n",
    "otype = 1\n"
   ]
  },
  {
   "cell_type": "code",
   "execution_count": 4,
   "metadata": {},
   "outputs": [
    {
     "name": "stdout",
     "output_type": "stream",
     "text": [
      ">>>>>>>>>> exact call value is 19.69744208683972\n"
     ]
    }
   ],
   "source": [
    "'''===============\n",
    "Test bsm_price\n",
    "================='''\n",
    "gbm1 = Gbm_1d(init_state=s0, drift_ratio=r, vol_ratio=sigma)\n",
    "option1 = VanillaOption(otype = otype, strike = K, maturity= T) \n",
    "\n",
    "print('>>>>>>>>>> exact call value is ' + str(gbm1.bsm_price(option1)))   \n"
   ]
  },
  {
   "cell_type": "markdown",
   "metadata": {},
   "source": [
    "Next, we use FFT to recover the result on the page 44 of [Hir13] for the above model."
   ]
  },
  {
   "cell_type": "code",
   "execution_count": 5,
   "metadata": {},
   "outputs": [],
   "source": [
    "'''=============\n",
    "FFT paras\n",
    "================='''\n",
    "alpha = 1\n",
    "N = 2**8\n",
    "eta = 0.1"
   ]
  },
  {
   "cell_type": "code",
   "execution_count": 6,
   "metadata": {},
   "outputs": [],
   "source": [
    "'''============\n",
    "step 1. set Phi(t), the characteristic function of the terminal stock price\n",
    "================'''\n",
    "Phi = lambda t: np.exp(1j*t*(r-sigma**2/2)-.5*sigma**2*t**2)"
   ]
  },
  {
   "cell_type": "code",
   "execution_count": 25,
   "metadata": {},
   "outputs": [],
   "source": [
    "lamda = 2*np.pi/N/eta\n",
    "nu = np.arange(N)*eta\n",
    "c = np.exp(-r*T)\n",
    "beta = np.log(s0) - lamda*N/2\n",
    "k_arr = np.arange(N)*lamda + beta"
   ]
  },
  {
   "cell_type": "code",
   "execution_count": 22,
   "metadata": {},
   "outputs": [],
   "source": [
    "x = []\n",
    "for k in range(N):\n",
    "    x.append(eta*c/(alpha+1j*nu[k])/(alpha+1j*nu[k]+1)*np.exp(-1j*beta*nu[k])*Phi(nu[k]- (alpha+1)*1j))\n",
    "x[0] = x[0]/2"
   ]
  },
  {
   "cell_type": "code",
   "execution_count": 26,
   "metadata": {},
   "outputs": [],
   "source": [
    "y = fft(x)"
   ]
  },
  {
   "cell_type": "code",
   "execution_count": 27,
   "metadata": {},
   "outputs": [],
   "source": [
    "call_fft = [np.exp(-alpha*k_arr[k])*y[k].real for k in range(N)]"
   ]
  },
  {
   "cell_type": "code",
   "execution_count": 28,
   "metadata": {},
   "outputs": [
    {
     "data": {
      "text/plain": [
       "8.673617379884016e-19"
      ]
     },
     "execution_count": 28,
     "metadata": {},
     "output_type": "execute_result"
    }
   ],
   "source": [
    "call_fft[int(N/2)]"
   ]
  },
  {
   "cell_type": "code",
   "execution_count": 30,
   "metadata": {},
   "outputs": [
    {
     "data": {
      "text/plain": [
       "[<matplotlib.lines.Line2D at 0x1140febe0>]"
      ]
     },
     "execution_count": 30,
     "metadata": {},
     "output_type": "execute_result"
    },
    {
     "data": {
      "image/png": "[encoded data removed]",
      "text/plain": [
       "<matplotlib.figure.Figure at 0x10e6e6710>"
      ]
     },
     "metadata": {},
     "output_type": "display_data"
    }
   ],
   "source": [
    "import matplotlib.pyplot as plt\n",
    "plt.plot(np.exp(k_arr), call_fft)"
   ]
  },
  {
   "cell_type": "code",
   "execution_count": 66,
   "metadata": {},
   "outputs": [],
   "source": [
    "'''============\n",
    "step 2. determine characteristic function of the modified call\n",
    "=============='''\n",
    "c = np.exp(-r*T)\n",
    "Psi = lambda nu: c/(alpha + nu*1j)/(alpha + 1j*nu+1)*Phi(nu-(alpha+1)*1j)"
   ]
  },
  {
   "cell_type": "code",
   "execution_count": 47,
   "metadata": {},
   "outputs": [],
   "source": [
    "'''=========\n",
    "step 3. set other parameters\n",
    "============'''\n",
    "lamda = 2*np.pi/N/eta\n",
    "beta = np.log(s0) - lamda*N/2\n",
    "k_arr = np.arange(N)*lamda + beta"
   ]
  },
  {
   "cell_type": "code",
   "execution_count": 79,
   "metadata": {},
   "outputs": [],
   "source": [
    "'''=============\n",
    "step 4. set discrete points for fft \n",
    "==============='''\n",
    "nu = np.arange(N)*eta\n",
    "w = 2*np.ones(N); w[0] = 1; w = w*eta/2\n",
    "x = [np.exp(-1j*beta*nu[j])*Psi(nu[j])*w[j] for j in np.arange(N)]"
   ]
  },
  {
   "cell_type": "code",
   "execution_count": 80,
   "metadata": {},
   "outputs": [],
   "source": [
    "call_fft = ifft(x)"
   ]
  },
  {
   "cell_type": "code",
   "execution_count": 81,
   "metadata": {},
   "outputs": [
    {
     "data": {
      "text/plain": [
       "100.00000000000023"
      ]
     },
     "execution_count": 81,
     "metadata": {},
     "output_type": "execute_result"
    }
   ],
   "source": [
    "np.exp(k_arr[int(N/2)])"
   ]
  },
  {
   "cell_type": "code",
   "execution_count": 82,
   "metadata": {},
   "outputs": [
    {
     "data": {
      "text/plain": [
       "4.87890977618477e-19"
      ]
     },
     "execution_count": 82,
     "metadata": {},
     "output_type": "execute_result"
    }
   ],
   "source": [
    "call_fft[int(N/2)].real"
   ]
  },
  {
   "cell_type": "code",
   "execution_count": 19,
   "metadata": {},
   "outputs": [
    {
     "data": {
      "text/plain": [
       "0.0"
      ]
     },
     "execution_count": 19,
     "metadata": {},
     "output_type": "execute_result"
    }
   ],
   "source": [
    "tmp = np.zeros(5)\n",
    "tmp[0]"
   ]
  },
  {
   "cell_type": "code",
   "execution_count": 20,
   "metadata": {},
   "outputs": [
    {
     "data": {
      "text/plain": [
       "(3.028546679035096e-17+1.6563219027517557e-17j)"
      ]
     },
     "execution_count": 20,
     "metadata": {},
     "output_type": "execute_result"
    }
   ],
   "source": [
    "x"
   ]
  },
  {
   "cell_type": "code",
   "execution_count": null,
   "metadata": {},
   "outputs": [],
   "source": []
  }
 ],
 "metadata": {
  "kernelspec": {
   "display_name": "Python 3",
   "language": "python",
   "name": "python3"
  },
  "language_info": {
   "codemirror_mode": {
    "name": "ipython",
    "version": 3
   },
   "file_extension": ".py",
   "mimetype": "text/x-python",
   "name": "python",
   "nbconvert_exporter": "python",
   "pygments_lexer": "ipython3",
   "version": "3.6.4"
  }
 },
 "nbformat": 4,
 "nbformat_minor": 2
}
