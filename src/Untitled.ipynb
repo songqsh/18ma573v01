{
 "cells": [
  {
   "cell_type": "code",
   "execution_count": 1,
   "metadata": {},
   "outputs": [],
   "source": [
    "from contract_v01 import VanillaOption\n",
    "from sde_1d_v01 import Gbm_1d\n",
    "\n",
    "import numpy as np\n",
    "from scipy.fftpack import fft, ifft"
   ]
  },
  {
   "cell_type": "code",
   "execution_count": 1,
   "metadata": {},
   "outputs": [],
   "source": [
    "def many_args(*args):\n",
    "    print('len of args is '+ str(len(args)))\n",
    "    print('list of args is '+ str(args))"
   ]
  },
  {
   "cell_type": "code",
   "execution_count": 4,
   "metadata": {},
   "outputs": [
    {
     "name": "stdout",
     "output_type": "stream",
     "text": [
      "len of args is 3\n",
      "list of args is (1, 2, 'string')\n"
     ]
    }
   ],
   "source": [
    "many_args(1, 2, 'string')"
   ]
  },
  {
   "cell_type": "code",
   "execution_count": 2,
   "metadata": {},
   "outputs": [],
   "source": [
    "'''===========\n",
    "paras\n",
    "========'''\n",
    "s0 = 100 \n",
    "r = .05 \n",
    "sigma = .3\n",
    "T = 1\n",
    "K = 90\n",
    "otype = 1\n"
   ]
  },
  {
   "cell_type": "code",
   "execution_count": 3,
   "metadata": {},
   "outputs": [
    {
     "name": "stdout",
     "output_type": "stream",
     "text": [
      ">>>>>>>>>> exact call value is 19.69744208683972\n"
     ]
    }
   ],
   "source": [
    "'''===============\n",
    "Test bsm_price\n",
    "================='''\n",
    "gbm1 = Gbm_1d(init_state=s0, drift_ratio=r, vol_ratio=sigma)\n",
    "option1 = VanillaOption(otype = otype, strike = K, maturity= T) \n",
    "\n",
    "print('>>>>>>>>>> exact call value is ' + str(gbm1.bsm_price(option1)))   \n"
   ]
  },
  {
   "cell_type": "markdown",
   "metadata": {},
   "source": [
    "Next, we use FFT to recover the result on the page 44 of [Hir13] for the above model."
   ]
  },
  {
   "cell_type": "code",
   "execution_count": 34,
   "metadata": {},
   "outputs": [],
   "source": [
    "'''=============\n",
    "FFT paras\n",
    "================='''\n",
    "alpha = 1\n",
    "N = 2**6\n",
    "eta = 0.1"
   ]
  },
  {
   "cell_type": "code",
   "execution_count": 35,
   "metadata": {},
   "outputs": [],
   "source": [
    "'''============\n",
    "step 1. set Phi(t), the characteristic function of the terminal stock price\n",
    "================'''\n",
    "Phi = lambda t: np.exp(1j*t*(np.log(s0)+(r-sigma**2/2)*T)-.5*sigma**2*T*t**2)"
   ]
  },
  {
   "cell_type": "code",
   "execution_count": 36,
   "metadata": {},
   "outputs": [],
   "source": [
    "lamda = 2*np.pi/N/eta\n",
    "nu = np.arange(N)*eta\n",
    "c = np.exp(-r*T)\n",
    "beta = np.log(K) - lamda*N/2\n",
    "k_arr = np.arange(N)*lamda + beta"
   ]
  },
  {
   "cell_type": "code",
   "execution_count": 37,
   "metadata": {},
   "outputs": [
    {
     "data": {
      "text/plain": [
       "90.0"
      ]
     },
     "execution_count": 37,
     "metadata": {},
     "output_type": "execute_result"
    }
   ],
   "source": [
    "np.exp(k_arr[int(N/2)])\n",
    "#np.exp(beta)\n"
   ]
  },
  {
   "cell_type": "code",
   "execution_count": 38,
   "metadata": {},
   "outputs": [],
   "source": [
    "x = []\n",
    "for k in range(N):\n",
    "    x.append(eta*c/(alpha+1j*nu[k])/(alpha+1j*nu[k]+1)*np.exp(-1j*beta*nu[k])*Phi(nu[k]- (alpha+1)*1j))\n",
    "x[0] = x[0]/2"
   ]
  },
  {
   "cell_type": "code",
   "execution_count": 39,
   "metadata": {},
   "outputs": [],
   "source": [
    "y = fft(x)"
   ]
  },
  {
   "cell_type": "code",
   "execution_count": 40,
   "metadata": {},
   "outputs": [],
   "source": [
    "call_fft = [np.exp(-alpha*k_arr[k])*y[k].real for k in range(N)]"
   ]
  },
  {
   "cell_type": "code",
   "execution_count": 41,
   "metadata": {},
   "outputs": [
    {
     "data": {
      "text/plain": [
       "61.45964269696038"
      ]
     },
     "execution_count": 41,
     "metadata": {},
     "output_type": "execute_result"
    }
   ],
   "source": [
    "call_fft[int(N/2)]"
   ]
  },
  {
   "cell_type": "code",
   "execution_count": 42,
   "metadata": {},
   "outputs": [
    {
     "data": {
      "text/plain": [
       "[<matplotlib.lines.Line2D at 0x10dd75588>]"
      ]
     },
     "execution_count": 42,
     "metadata": {},
     "output_type": "execute_result"
    },
    {
     "data": {
      "image/png": "[encoded data removed]",
      "text/plain": [
       "<matplotlib.figure.Figure at 0x10dd40048>"
      ]
     },
     "metadata": {},
     "output_type": "display_data"
    }
   ],
   "source": [
    "import matplotlib.pyplot as plt\n",
    "plt.plot(np.exp(k_arr), call_fft)"
   ]
  },
  {
   "cell_type": "code",
   "execution_count": 12,
   "metadata": {},
   "outputs": [],
   "source": [
    "'''============\n",
    "step 2. determine characteristic function of the modified call\n",
    "=============='''\n",
    "c = np.exp(-r*T)\n",
    "Psi = lambda nu: c/(alpha + nu*1j)/(alpha + 1j*nu+1)*Phi(nu-(alpha+1)*1j)"
   ]
  },
  {
   "cell_type": "code",
   "execution_count": 13,
   "metadata": {},
   "outputs": [],
   "source": [
    "'''=========\n",
    "step 3. set other parameters\n",
    "============'''\n",
    "lamda = 2*np.pi/N/eta\n",
    "beta = np.log(s0) - lamda*N/2\n",
    "k_arr = np.arange(N)*lamda + beta"
   ]
  },
  {
   "cell_type": "code",
   "execution_count": 14,
   "metadata": {},
   "outputs": [],
   "source": [
    "'''=============\n",
    "step 4. set discrete points for fft \n",
    "==============='''\n",
    "nu = np.arange(N)*eta\n",
    "w = 2*np.ones(N); w[0] = 1; w = w*eta/2\n",
    "x = [np.exp(-1j*beta*nu[j])*Psi(nu[j])*w[j] for j in np.arange(N)]"
   ]
  },
  {
   "cell_type": "code",
   "execution_count": 15,
   "metadata": {},
   "outputs": [],
   "source": [
    "call_fft = ifft(x)"
   ]
  },
  {
   "cell_type": "code",
   "execution_count": 16,
   "metadata": {},
   "outputs": [
    {
     "data": {
      "text/plain": [
       "100.00000000000023"
      ]
     },
     "execution_count": 16,
     "metadata": {},
     "output_type": "execute_result"
    }
   ],
   "source": [
    "np.exp(k_arr[int(N/2)])"
   ]
  },
  {
   "cell_type": "code",
   "execution_count": 17,
   "metadata": {},
   "outputs": [
    {
     "data": {
      "text/plain": [
       "17.464377143366253"
      ]
     },
     "execution_count": 17,
     "metadata": {},
     "output_type": "execute_result"
    }
   ],
   "source": [
    "call_fft[int(N/2)].real"
   ]
  },
  {
   "cell_type": "code",
   "execution_count": 18,
   "metadata": {},
   "outputs": [
    {
     "data": {
      "text/plain": [
       "0.0"
      ]
     },
     "execution_count": 18,
     "metadata": {},
     "output_type": "execute_result"
    }
   ],
   "source": [
    "tmp = np.zeros(5)\n",
    "tmp[0]"
   ]
  },
  {
   "cell_type": "code",
   "execution_count": 19,
   "metadata": {},
   "outputs": [
    {
     "data": {
      "text/plain": [
       "[(287.56844971430695+0j),\n",
       " (-566.406824350614+74.69988401253036j),\n",
       " (541.3238265905201-144.04101908237135j),\n",
       " (-502.89774446041395+203.69551862577205j),\n",
       " (455.25693977772835-251.01947795797815j),\n",
       " (-402.73708510672895+285.1688952484239j),\n",
       " (349.16001871686535-306.77879254065283j),\n",
       " (-297.44655955919524+317.4389918459206j),\n",
       " (249.53679506307955-319.1793900636172j),\n",
       " (-206.50742893119997+314.0812956307978j),\n",
       " (168.77298554215585-304.04052216260993j),\n",
       " (-136.293221577975+290.65654518782605j),\n",
       " (108.74796706283419-275.2064676017106j),\n",
       " (-85.66787196570671+258.66676569869423j),\n",
       " (66.52395723200925-241.7565399582266j),\n",
       " (-50.784350069043114+224.9863202710371j),\n",
       " (37.94724174508589-208.7040507110537j),\n",
       " (-27.55774429202478+193.1346577696279j),\n",
       " (19.21445178669668-178.41228920197355j),\n",
       " (-12.569795472858676+164.60564320165048j),\n",
       " (7.326929835405321-151.73735452700163j),\n",
       " (-3.234905370316153+139.79853392857862j),\n",
       " (0.08320779901439437-128.7594884378397j),\n",
       " (2.3037047978032548+118.57750321180703j),\n",
       " (-4.071523426477028-109.20240216068333j),\n",
       " (5.340704062811085+100.58045280669124j),\n",
       " (-6.210521635867252-92.657051405925j),\n",
       " (6.762567568986293+85.37851924264278j),\n",
       " (-7.063729203423037-78.69325819423446j),\n",
       " (7.168704590691687+72.55244976698467j),\n",
       " (-7.122110813014757-66.91043321900177j),\n",
       " (6.960242747347905+61.724861849338346j),\n",
       " (-6.712534863725233-56.95670928761453j),\n",
       " (6.402772960569573+52.570177444090234j),\n",
       " (-6.0500966941903584-48.53254293112559j),\n",
       " (5.66982791617687+44.813967898312306j),\n",
       " (-5.274154475491011-41.387293311909175j),\n",
       " (4.872694391477044+38.227826983280934j),\n",
       " (-4.4729611835707805-35.313134533699895j),\n",
       " (4.080747624892689+32.62283854455756j),\n",
       " (-3.700442215623072-30.138429064490413j),\n",
       " (3.3352901834383917+27.843087193173275j),\n",
       " (-2.9876087465798964-25.7215224626428j),\n",
       " (2.658964658074217+23.759824064112024j),\n",
       " (-2.3503206313420564-21.94532552846462j),\n",
       " (2.062156078568615+20.266482194281114j),\n",
       " (-1.7945666315791955-18.712760639095364j),\n",
       " (1.5473461247262748+17.274539171955837j),\n",
       " (-1.3200540702017949-15.943018462571452j),\n",
       " (1.1120711233462515+14.710141395911648j),\n",
       " (-0.9226445979566003-13.568521277994643j),\n",
       " (0.7509257323004856+12.51137756946396j),\n",
       " (-0.5960001113044221-11.532478381972098j),\n",
       " (0.45691240767364577+10.626089033915258j),\n",
       " (-0.3326864050304643-9.786926023718676j),\n",
       " (0.22234110170992613+9.010115838710327j),\n",
       " (-0.12490355834032202-8.291158074434959j),\n",
       " (0.03941904050587404+7.625892392358157j),\n",
       " (0.03504108459441302-7.010468892958483j),\n",
       " (-0.09937331495354443+6.441321526109933j),\n",
       " (0.15443752477845188-5.915144201488563j),\n",
       " (-0.20105375292144523+5.428869298665201j),\n",
       " (0.24000004549128084-4.979648309802337j),\n",
       " (-0.2720111656458723+4.5648343777218185j),\n",
       " (0.2977780137429075-4.181966518827845j),\n",
       " (-0.31794762621755496+3.828755344231192j),\n",
       " (0.33312364259340105-3.503070113695347j),\n",
       " (-0.3438671476637735+3.202926975963278j),\n",
       " (0.35069781066021655-2.926478265862759j),\n",
       " (-0.354095255652924+2.6720027435448457j),\n",
       " (0.35450060789378246-2.437896674482208j),\n",
       " (-0.3523181696437226+2.22266566062333j),\n",
       " (0.34791718649737935-2.024917143525826j),\n",
       " (-0.3416336715488688+1.8433535095250606j),\n",
       " (0.3337722601166804-1.6767657351640572j),\n",
       " (-0.32460807232435535+1.5240275183336291j),\n",
       " (0.31438856473188-1.3840898469546654j),\n",
       " (-0.3033353555459757+1.2559759626696563j),\n",
       " (0.2916460107904375-1.1387766819815721j),\n",
       " (-0.2794957812564853+1.0316460416613118j),\n",
       " (0.2670392821523864-0.9337972391032207j),\n",
       " (-0.2544121091659874+0.8444988417045081j),\n",
       " (0.24173238620001608-0.7630712423279795j),\n",
       " (-0.22910224136260912+0.6888833405280214j),\n",
       " (0.2166092089327746-0.6213494315168929j),\n",
       " (-0.20432755599021327+0.5599262868614304j),\n",
       " (0.1923195332302835-0.5041104126601799j),\n",
       " (-0.18063655018896171+0.4534354724895222j),\n",
       " (0.1693202756990894-0.40746986374976385j),\n",
       " (-0.15840366490157343+0.36581443721164614j),\n",
       " (0.14791191455090552-0.32810035058301446j),\n",
       " (-0.13786334869928962+0.29398704780069185j),\n",
       " (0.12827023712130045-0.26316035652274966j),\n",
       " (-0.11913954906191343+0.23533069696490197j),\n",
       " (0.1104736450610589-0.210231395805043j),\n",
       " (-0.10227090973248221+0.1876170993842362j),\n",
       " (0.09452632846101056-0.16726228086999242j),\n",
       " (-0.0872320110328234+0.1489598364288187j),\n",
       " (0.08037766523440519-0.13251976578665445j),\n",
       " (-0.07395102344937808+0.1177679328462275j),\n",
       " (0.06793822525398692-0.1045449022845415j),\n",
       " (-0.06232415896304836+0.09270484827814751j),\n",
       " (0.057092765012634356-0.08211453170269589j),\n",
       " (-0.05222730398605921+0.07265234233074322j),\n",
       " (0.04771059199789367-0.06420740271174129j),\n",
       " (-0.04352520604970742+0.056678730563075534j),\n",
       " (0.039653661862198895-0.04997445663413551j),\n",
       " (-0.03607856657367176+0.04401109512852538j),\n",
       " (0.03278274857594448-0.038712863884577425j),\n",
       " (-0.029749366636956088+0.0340110516230902j),\n",
       " (0.026962000336316707-0.029843429674570113j),\n",
       " (-0.024404723716554257+0.026153705697611364j),\n",
       " (0.022062163930094886-0.02289101699605439j),\n",
       " (-0.019919546541038485+0.0200094611357879j),\n",
       " (0.01796272902200211-0.01746766165331479j),\n",
       " (-0.016178223870803844+0.015228366737437563j),\n",
       " (0.014553212659737306-0.013258078853239923j),\n",
       " (-0.013075552222298387+0.011526713363927424j),\n",
       " (0.01173377407880823-0.010007284291155048j),\n",
       " (-0.010517078103651276+0.008675615438321184j),\n",
       " (0.0094153213431484-0.007510075183787549j),\n",
       " (-0.008419002804436679+0.006491333332173318j),\n",
       " (0.007519244952293897-0.005602138491596522j),\n",
       " (-0.006707772572639977+0.004827114522905744j),\n",
       " (0.005976889588413655-0.004152574683497815j),\n",
       " (-0.0053194543456654315+0.0035663521630435826j),\n",
       " (0.004728853824863523-0.0030576457813092164j),\n",
       " (-0.004198977174490139+0.002616879689093131j),\n",
       " (0.0037241889108394024-0.0022355759820055785j),\n",
       " (-0.003299302079329429+0.0019062392033157253j),\n",
       " (0.002919551628432753-0.001622251776255781j),\n",
       " (-0.0025805682072799303+0.0013777794679672288j),\n",
       " (0.0022783525618938908-0.001167686046615643j),\n",
       " (-0.002009250672636326+0.0009874563500509464j),\n",
       " (0.001769929746561139-0.0008331270387182403j),\n",
       " (-0.0015573551527432049+0.0007012243573119038j),\n",
       " (0.00136876836605229-0.0005887082789118981j),\n",
       " (-0.0012016659650447767+0.0004929224520573883j),\n",
       " (0.0010537797124300248-0.0004115494154172518j),\n",
       " (-0.0009230577317136356+0.00034257058645563134j),\n",
       " (0.0008076467809251073-0.00028423056979450363j),\n",
       " (-0.0007058756135979454+0.00023500536791225453j),\n",
       " (0.0006162394082000107-0.00019357411144289537j),\n",
       " (-0.0005373852398306519+0.00015879395872716898j),\n",
       " (0.00046809856203906743-0.00012967784449351174j),\n",
       " (-0.00040729066191919376+0.00010537478568999897j),\n",
       " (0.00035398704805067157-8.515247863868554e-05j),\n",
       " (-0.00030731672824797643+6.838194592649823e-05j),\n",
       " (0.0002665023323239427-5.4524013872525106e-05j),\n",
       " (-0.00023085103405374695+4.3117422114549377e-05j),\n",
       " (0.0001997462261359852-3.3768385925844985e-05j),\n",
       " (-0.00017263990209207398+2.6141449402393062e-05j),\n",
       " (0.00014904569963755286-1.995148373930252e-05j),\n",
       " (-0.00012853256102093028+1.4956699532749411e-05j),\n",
       " (0.00011071896708764263-1.095255548946342e-05j),\n",
       " (-9.526770332693388e-05+7.766458181871964e-06j),\n",
       " (8.188111784310115e-05-5.253158638163344e-06j),\n",
       " (-7.029683301183962e-05+3.2907616807184506e-06j),\n",
       " (6.0283874495649484e-05-1.7772730997004294e-06j),\n",
       " (-5.1639183263426696e-05+6.276180442679427e-07j),\n",
       " (4.4184478257693637e-05+2.2892850010767052e-07j),\n",
       " (-3.776343935233922e-05-8.509515368965829e-07j),\n",
       " (3.223918222244279e-05+1.2867925143796868e-06j),\n",
       " (-2.7491998687748278e-05-1.5761733033351969e-06j),\n",
       " (2.3417337978073713e-05+1.7515837200801697e-06j),\n",
       " (-1.992400619080095e-05-1.839464269461598e-06j),\n",
       " (1.693256295871854e-05+1.8612119041219758e-06j),\n",
       " (-1.4373896014305413e-05-1.83403314514844e-06j),\n",
       " (1.218795591946011e-05+1.7716658441541002e-06j),\n",
       " (-1.0322634724939248e-05-1.684988149943693e-06j),\n",
       " (8.732773729947607e-06+1.5825308399605464e-06j),\n",
       " (-7.379286829396459e-06-1.4709070553373296e-06j),\n",
       " (6.22838716520219e-06+1.3551716097511573e-06j),\n",
       " (-5.2509059404495805e-06-1.2391203995227545e-06j),\n",
       " (4.421693313764867e-06+1.1255390012958752e-06j),\n",
       " (-3.7190922688270442e-06-1.0164082821201526e-06j),\n",
       " (3.124477254037435e-06+9.130737447555968e-07j),\n",
       " (-2.6218502136631675e-06-8.163843705056314e-07j),\n",
       " (2.1974873881957613e-06+7.268058865193701e-07j),\n",
       " (-1.8396309522730809e-06-6.445126595680266e-07j),\n",
       " (1.5382201873634125e-06+5.6946179070039e-07j),\n",
       " (-1.2846574576133966e-06-5.014524430346403e-07j),\n",
       " (1.0716047748192352e-06+4.401729677778483e-07j),\n",
       " (-8.928072063284499e-07-3.8523799196976865e-07j),\n",
       " (7.429398016277282e-07+3.3621728706612075e-07j),\n",
       " (-6.174750930573219e-07-2.9265794294649455e-07j),\n",
       " (5.125685670167689e-07+2.541011206702572e-07j),\n",
       " (-4.2495980748359086e-07-2.2009444356166006e-07j),\n",
       " (3.518872867778534e-07+1.9020090488884643e-07j),\n",
       " (-2.9101502220022685e-07-1.640050170391528e-07j),\n",
       " (2.4036953417467474e-07+1.4111679778764962e-07j),\n",
       " (-1.9828573438915303e-07-1.211740805729421e-07j),\n",
       " (1.6336054349745402e-07+1.0384354466465809e-07j),\n",
       " (-1.3441318939763474e-07-8.882078513436562e-08j),\n",
       " (1.1045127093657692e-07+7.582967937694147e-08j),\n",
       " (-9.064178993421053e-08-6.462125463220855e-08j),\n",
       " (7.428645834994634e-08+5.4972217845051556e-08j),\n",
       " (-6.080067874985896e-08-4.668327383455291e-08j),\n",
       " (4.969567635901669e-08+3.9577328879547296e-08j),\n",
       " (-4.056333115159978e-08-3.349765340898115e-08j),\n",
       " (3.3063319772240833e-08+2.8306058606197142e-08j),\n",
       " (-2.6912230613401822e-08-2.388112662737353e-08j),\n",
       " (2.1874362010167576e-08+2.0116522143123866e-08j),\n",
       " (-1.7753954074611744e-08-1.691940348737358e-08j),\n",
       " (1.438863990922345e-08+1.4208944374493013e-08j),\n",
       " (-1.1643932465969927e-08-1.1914971533985402e-08j),\n",
       " (9.40858973472378e-09+9.976719386312383e-09j),\n",
       " (-7.590723768522404e-09-8.34169977114038e-09j),\n",
       " (6.114538739213542e-09+6.964682516019912e-09j),\n",
       " (-4.9176001699554995e-09-5.806781112387164e-09j),\n",
       " (3.948552066138172e-09+4.834636794518749e-09j),\n",
       " (-3.1652111772551856e-09-4.019693770357022e-09j),\n",
       " (2.5329783440794787e-09+3.3375581296005528e-09j),\n",
       " (-2.0235160594262364e-09-2.7674329720963292e-09j),\n",
       " (1.6136492078176652e-09+2.2916224927125727e-09j),\n",
       " (-1.2844526337465731e-09-1.8950980752842284e-09j),\n",
       " (1.0204948804275383e-09+1.5651198468746478e-09j),\n",
       " (-8.092122806753493e-10-1.2909075924239416e-09j),\n",
       " (6.403916899281485e-10+1.0633554044106663e-09j),\n",
       " (-5.05743633601924e-10-8.747849238245378e-10j),\n",
       " (3.9855058766132153e-10+7.187325039259001e-10j),\n",
       " (-3.133776010085361e-10-5.897660871017055e-10j),\n",
       " (2.458345685858057e-10+4.833280208906257e-10j),\n",
       " (-1.9238123309228484e-10-3.956004475922682e-10j),\n",
       " (1.5016748087307464e-10+3.2339028029469314e-10j),\n",
       " (-1.1690274661380407e-10-2.6403112558133164e-10j),\n",
       " (9.074938860138416e-11+2.1529982957699662e-10j),\n",
       " (-7.023577275501334e-11-1.7534561011222722e-10j),\n",
       " (5.4185536060145974e-11+1.4262999490863917e-10j),\n",
       " (-4.166011115057483e-11-1.1587601546363515e-10j),\n",
       " (3.1912102869175236e-11+9.402531061034692e-11j),\n",
       " (-2.434753105256676e-11-7.620197453651242e-11j),\n",
       " (1.8495305391085722e-11+6.168214338299349e-11j),\n",
       " (-1.3982589717297244e-11-4.986845440877455e-11j),\n",
       " (1.0514954365441963e-11+4.026863403168327e-11j),\n",
       " (-7.860414643017131e-12-3.24775776673731e-11j),\n",
       " (5.836617971127445e-12+2.6162376909263708e-11j),\n",
       " (-4.300577761746059e-12-2.104982980997402e-11j),\n",
       " (3.1404635371586403e-12+1.6916039298965752e-11j),\n",
       " (-2.2690482843051564e-12-1.3577764428913124e-11j),\n",
       " (1.6184890200633907e-12+1.0885240383456896e-11j),\n",
       " (-1.1361778960521183e-12-8.716227077294419e-12j),\n",
       " (7.814512854688967e-13+6.97108369594725e-12j),\n",
       " (-5.229851577626295e-13-5.568698509132709e-12j),\n",
       " (3.367383090211654e-13+4.443130501289019e-12j),\n",
       " (-2.0433204291533096e-13-3.5408424576515534e-12j),\n",
       " (1.1177681819533272e-13+2.8184247045201336e-12j),\n",
       " (-4.84741265172174e-14-2.2407252343170453e-12j),\n",
       " (6.43620654611595e-15+1.7793158901119385e-12j),\n",
       " (2.0322231219522813e-14-1.411236022191172e-12j),\n",
       " (-3.6256781221627594e-14+1.1179648908411966e-12j),\n",
       " (4.465965042076551e-14-8.845823589625447e-13j),\n",
       " (-4.794252526912977e-14+6.99084339561927e-13j),\n",
       " (4.7854224629794976e-14-5.518252457287178e-13j),\n",
       " (-4.5647530334078115e-14+4.350645131034546e-13j),\n",
       " (4.2206531132441287e-14-3.42598279412001e-13j)]"
      ]
     },
     "execution_count": 19,
     "metadata": {},
     "output_type": "execute_result"
    }
   ],
   "source": [
    "x"
   ]
  },
  {
   "cell_type": "code",
   "execution_count": null,
   "metadata": {},
   "outputs": [],
   "source": []
  }
 ],
 "metadata": {
  "kernelspec": {
   "display_name": "Python 3",
   "language": "python",
   "name": "python3"
  },
  "language_info": {
   "codemirror_mode": {
    "name": "ipython",
    "version": 3
   },
   "file_extension": ".py",
   "mimetype": "text/x-python",
   "name": "python",
   "nbconvert_exporter": "python",
   "pygments_lexer": "ipython3",
   "version": "3.6.4"
  }
 },
 "nbformat": 4,
 "nbformat_minor": 2
}
