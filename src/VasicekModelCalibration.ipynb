{
 "cells": [
  {
   "cell_type": "markdown",
   "metadata": {},
   "source": [
    "# Calibration: Vasicek model\n",
    "**Ref** Chapter 7 of [Hir13]"
   ]
  },
  {
   "cell_type": "code",
   "execution_count": 189,
   "metadata": {},
   "outputs": [],
   "source": [
    "import numpy as np\n",
    "import pandas as pd\n",
    "import matplotlib.pyplot as plt\n",
    "import scipy.optimize as so"
   ]
  },
  {
   "cell_type": "markdown",
   "metadata": {},
   "source": [
    "## General formulation of Calibration \n",
    "\n",
    "All of pricing models require a set of model parameters in order to fully define the dynamics of each model. The process of adjusting model parameters such that the model prices are compatible with market prices is called **Calibration**. Let's discribe the general approach of the model calibration in this below.\n",
    "\n",
    "Suppose\n",
    "- Model prameter $\\theta = (\\theta_1, ... \\theta_m)$ is a vector\n",
    "- Prices of $n$ instruments are aviable in the market with its market price of $i$th instrument quoted by $C_i$. \n",
    "Let's denote $C = (C_1, ..., C_n)$ as a market price vector.\n",
    "- In theory, $C_i^\\theta$ is the model price of the $i$th instrument, and they are denoted as a vector $C^\\theta = (C_1^\\theta, ...,  C^\\theta_n)$. \n",
    "\n",
    "Given a distance function $H: \\mathbb R^n \\times \\mathbb R^n \\mapsto \\mathbb R^+$, calibration is to find the parameter $\\theta^*$  which minimize the objective function $H(C^\\theta, C)$, i.e.\n",
    "$$ \\theta^* = \\arg\\min_\\theta H(C^\\theta, C).$$\n",
    "\n",
    "Commonly used distance functions for $H$ are \n",
    "- $H(x, y) = (\\sum_{i=1}^n w_i |x_i - y_i|^p)^{1/p}.$\n",
    "- $H(x, y) = (\\sum_{i=1}^n w_i | \\frac{x_i - y_i}{y_i}|^p)^{1/p}.$ If $p = 2$, $w_i =1$, then $H^2$ is called as SSRE (sum of squred relative errors)\n",
    "- $H(x, y) = (\\sum_{i=1}^n w_i |\\ln x - \\ln y|^p)^{1/p}.$"
   ]
  },
  {
   "cell_type": "markdown",
   "metadata": {},
   "source": [
    "## Pricing formula for Vasicek model\n",
    "\n",
    "Notations: \n",
    "- $P(t, T)$: zero coupon bond price\n",
    "- $L(t, T)$: LIBOR rate\n",
    "- $s(t, T, N)$: swap rate with $N$ terms on $[t, T]$\n",
    "\n",
    "Pricing formulas are \n",
    "$$L(t, T) = \\frac{100}{T-t} ( \\frac{1}{P(t, T)} - 1)$$\n",
    "and \n",
    "$$ s(t, T, N) = 100 \\frac{1 - P(t, T)}{ \\Delta \\sum_{j=1}^N P(t, t + j \\Delta)}, \\hbox{ where } \\Delta = \\frac{T - t}{N}. $$\n",
    "\n",
    "If we further assume Vasicek model for the short rates with parameter $\\theta = (\\kappa, \\mu, \\sigma, r_0)$, i.e.\n",
    "$$d r_t = \\kappa (\\mu - r_t) dt + dW_t, \\hbox{ with } r_0,$$\n",
    "then ZCB is determined by\n",
    "$$P(t, T) = e^{A(t, T) - B(t, T) r_t}$$\n",
    "with \n",
    "$$B(t, T) = \\frac{1 - e^{-\\kappa(T-t)}}{\\kappa}, \\quad \n",
    "A(t, T) = (\\mu - \\frac{\\sigma^2}{2\\kappa^2}) [B(t, T) - (T-t)] - \\frac{\\sigma^2}{4\\kappa} B^2(t, T).$$"
   ]
  },
  {
   "cell_type": "markdown",
   "metadata": {},
   "source": [
    "**ex- 1.**\n",
    "Find 1 - year ZCB $P(0,1)$ and its corresponding Libor rate $L(0,1)$ with the following parameters for Vasicek model"
   ]
  },
  {
   "cell_type": "code",
   "execution_count": 127,
   "metadata": {},
   "outputs": [],
   "source": [
    "theta = [.1, .05, .003, .03]\n",
    "kappa, mu, sigma, r0 = theta"
   ]
  },
  {
   "cell_type": "code",
   "execution_count": 128,
   "metadata": {},
   "outputs": [],
   "source": [
    "#function for Bond price P(0, T)\n",
    "#theta = (kappa, \\mu, \\sigma, r0)\n",
    "def ZCB(T, theta):\n",
    "    kappa, mu, sigma, r0 = theta\n",
    "    B = (1 - np.exp(- kappa * T))/kappa \n",
    "    A = (mu - (sigma**2)/2./(kappa**2)) * (B - T) - (sigma**2)/(4.*kappa)*(B**2)\n",
    "    return np.exp(A - B*r0)"
   ]
  },
  {
   "cell_type": "code",
   "execution_count": 129,
   "metadata": {},
   "outputs": [
    {
     "name": "stdout",
     "output_type": "stream",
     "text": [
      "ZCB is0.969508447543\n",
      "Libor is3.14505278781\n"
     ]
    }
   ],
   "source": [
    "T = 1.\n",
    "P = ZCB(T, theta)\n",
    "print('ZCB is' + str(P))\n",
    "L = 100./T*(1./P -1)\n",
    "print('Libor is' + str(L))"
   ]
  },
  {
   "cell_type": "markdown",
   "metadata": {},
   "source": [
    "**ex - 2**\n",
    "Continued **ex-1**, find 10 term swap rates with term length 1 year."
   ]
  },
  {
   "cell_type": "code",
   "execution_count": 130,
   "metadata": {},
   "outputs": [],
   "source": [
    "# function for swap rate s(0,T) with N terms and ZCB P(0, T_j)\n",
    "# s(T, N, P): swap rate of s(0, T)\n",
    "# T: tenor\n",
    "# N: number of terms\n",
    "# P: list of length N, with P[j-1] = P(0, T_j) for j = 1, 2, ... N\n",
    "s = lambda T, N, P: 100 * (1 - P[N-1])/(T/N*np.sum(P))"
   ]
  },
  {
   "cell_type": "code",
   "execution_count": 131,
   "metadata": {},
   "outputs": [
    {
     "name": "stdout",
     "output_type": "stream",
     "text": [
      "Swap rate is 3.75950054359\n"
     ]
    }
   ],
   "source": [
    "N = 10\n",
    "term = 1.\n",
    "P = np.zeros(N)\n",
    "for j in range(N):\n",
    "    P[j] = ZCB(term*(j+1), theta)\n",
    "    \n",
    "print('Swap rate is ' + str(s(term*N, N, P)))"
   ]
  },
  {
   "cell_type": "markdown",
   "metadata": {},
   "source": [
    "**ex.** Callibrate Vasicek model to the following data by SSRE."
   ]
  },
  {
   "cell_type": "code",
   "execution_count": 132,
   "metadata": {},
   "outputs": [],
   "source": [
    "dfLiborRate = pd.DataFrame({'maturity (months)': [1, 2, 3, 6, 12],\n",
    "                            '20081029 rate(%)': [3.1175, 3.2738, 3.4200, 3.4275, 3.4213],\n",
    "                            '20110214 rate(%)': [0.2647, 0.2890, 0.3140, 0.4657, 0.7975]\n",
    "                          })"
   ]
  },
  {
   "cell_type": "code",
   "execution_count": 133,
   "metadata": {},
   "outputs": [
    {
     "data": {
      "text/html": [
       "<div>\n",
       "<style scoped>\n",
       "    .dataframe tbody tr th:only-of-type {\n",
       "        vertical-align: middle;\n",
       "    }\n",
       "\n",
       "    .dataframe tbody tr th {\n",
       "        vertical-align: top;\n",
       "    }\n",
       "\n",
       "    .dataframe thead th {\n",
       "        text-align: right;\n",
       "    }\n",
       "</style>\n",
       "<table border=\"1\" class=\"dataframe\">\n",
       "  <thead>\n",
       "    <tr style=\"text-align: right;\">\n",
       "      <th></th>\n",
       "      <th>maturity (months)</th>\n",
       "      <th>20081029 rate(%)</th>\n",
       "      <th>20110214 rate(%)</th>\n",
       "    </tr>\n",
       "  </thead>\n",
       "  <tbody>\n",
       "    <tr>\n",
       "      <th>0</th>\n",
       "      <td>1</td>\n",
       "      <td>3.1175</td>\n",
       "      <td>0.2647</td>\n",
       "    </tr>\n",
       "    <tr>\n",
       "      <th>1</th>\n",
       "      <td>2</td>\n",
       "      <td>3.2738</td>\n",
       "      <td>0.2890</td>\n",
       "    </tr>\n",
       "    <tr>\n",
       "      <th>2</th>\n",
       "      <td>3</td>\n",
       "      <td>3.4200</td>\n",
       "      <td>0.3140</td>\n",
       "    </tr>\n",
       "    <tr>\n",
       "      <th>3</th>\n",
       "      <td>6</td>\n",
       "      <td>3.4275</td>\n",
       "      <td>0.4657</td>\n",
       "    </tr>\n",
       "    <tr>\n",
       "      <th>4</th>\n",
       "      <td>12</td>\n",
       "      <td>3.4213</td>\n",
       "      <td>0.7975</td>\n",
       "    </tr>\n",
       "  </tbody>\n",
       "</table>\n",
       "</div>"
      ]
     },
     "execution_count": 133,
     "metadata": {},
     "output_type": "execute_result"
    }
   ],
   "source": [
    "dfLiborRate"
   ]
  },
  {
   "cell_type": "code",
   "execution_count": 134,
   "metadata": {},
   "outputs": [],
   "source": [
    "dfSwapRate = pd.DataFrame({'term (year)': [2, 3, 5, 7, 10, 15, 30],\n",
    "                            '20081029 rate(%)': [2.6967, 3.1557, 3.8111, 4.1497, 4.3638, 4.3753, 4.2772],\n",
    "                            '20110214 rate(%)': [1.0481, 1.5577, 2.5569, 3.1850, 3.7225, 4.1683, 4.4407]\n",
    "                          })"
   ]
  },
  {
   "cell_type": "code",
   "execution_count": 135,
   "metadata": {},
   "outputs": [
    {
     "data": {
      "text/html": [
       "<div>\n",
       "<style scoped>\n",
       "    .dataframe tbody tr th:only-of-type {\n",
       "        vertical-align: middle;\n",
       "    }\n",
       "\n",
       "    .dataframe tbody tr th {\n",
       "        vertical-align: top;\n",
       "    }\n",
       "\n",
       "    .dataframe thead th {\n",
       "        text-align: right;\n",
       "    }\n",
       "</style>\n",
       "<table border=\"1\" class=\"dataframe\">\n",
       "  <thead>\n",
       "    <tr style=\"text-align: right;\">\n",
       "      <th></th>\n",
       "      <th>term (year)</th>\n",
       "      <th>20081029 rate(%)</th>\n",
       "      <th>20110214 rate(%)</th>\n",
       "    </tr>\n",
       "  </thead>\n",
       "  <tbody>\n",
       "    <tr>\n",
       "      <th>0</th>\n",
       "      <td>2</td>\n",
       "      <td>2.6967</td>\n",
       "      <td>1.0481</td>\n",
       "    </tr>\n",
       "    <tr>\n",
       "      <th>1</th>\n",
       "      <td>3</td>\n",
       "      <td>3.1557</td>\n",
       "      <td>1.5577</td>\n",
       "    </tr>\n",
       "    <tr>\n",
       "      <th>2</th>\n",
       "      <td>5</td>\n",
       "      <td>3.8111</td>\n",
       "      <td>2.5569</td>\n",
       "    </tr>\n",
       "    <tr>\n",
       "      <th>3</th>\n",
       "      <td>7</td>\n",
       "      <td>4.1497</td>\n",
       "      <td>3.1850</td>\n",
       "    </tr>\n",
       "    <tr>\n",
       "      <th>4</th>\n",
       "      <td>10</td>\n",
       "      <td>4.3638</td>\n",
       "      <td>3.7225</td>\n",
       "    </tr>\n",
       "    <tr>\n",
       "      <th>5</th>\n",
       "      <td>15</td>\n",
       "      <td>4.3753</td>\n",
       "      <td>4.1683</td>\n",
       "    </tr>\n",
       "    <tr>\n",
       "      <th>6</th>\n",
       "      <td>30</td>\n",
       "      <td>4.2772</td>\n",
       "      <td>4.4407</td>\n",
       "    </tr>\n",
       "  </tbody>\n",
       "</table>\n",
       "</div>"
      ]
     },
     "execution_count": 135,
     "metadata": {},
     "output_type": "execute_result"
    }
   ],
   "source": [
    "dfSwapRate"
   ]
  },
  {
   "cell_type": "code",
   "execution_count": 136,
   "metadata": {},
   "outputs": [
    {
     "data": {
      "text/plain": [
       "array([ 3.01208315,  3.02416615,  3.03624929,  3.07250257,  3.14505279])"
      ]
     },
     "execution_count": 136,
     "metadata": {},
     "output_type": "execute_result"
    }
   ],
   "source": [
    "#function for LiborRates with given parameter set thea and maturities (np.array) T_array in years\n",
    "def LiborRate(T_array, theta):\n",
    "    L = np.zeros(T_array.size)\n",
    "    for i in range(T_array.size):\n",
    "        T = T_array[i]\n",
    "        P = ZCB(T, theta)\n",
    "        L[i] = 100./T*(1./P -1)\n",
    "    return L    \n",
    "        \n",
    "#Test    \n",
    "npLibor = dfLiborRate.values\n",
    "LiborRate(npLibor[:, 0]/12, theta)"
   ]
  },
  {
   "cell_type": "code",
   "execution_count": 140,
   "metadata": {},
   "outputs": [
    {
     "data": {
      "text/plain": [
       "array([ 3.23662824,  3.32126082,  3.4717823 ,  3.60043917,  3.75950054,\n",
       "        3.95545268,  4.25184044])"
      ]
     },
     "execution_count": 140,
     "metadata": {},
     "output_type": "execute_result"
    }
   ],
   "source": [
    "#function for generating swap rates\n",
    "def SwapRate(term, TermNumArray, theta):\n",
    "    max_N_term = int(np.max(TermNumArray)) \n",
    "    P = np.zeros(max_N_term)\n",
    "    for i in range(max_N_term):\n",
    "        P[i] = ZCB((i+1)*term, theta) \n",
    "    \n",
    "    #initialize swap rates    \n",
    "    SR = np.zeros(TermNumArray.size)\n",
    "    for i in range(SR.size):\n",
    "        N_term = int(npSwap[i,0])\n",
    "        P_term = P[0:N_term]\n",
    "        SR[i] = s(term*N_term, N_term, P_term)\n",
    "    return SR\n",
    "\n",
    "\n",
    "#Test         \n",
    "npSwap = dfSwapRate.values #data from panda dataframe to np.array\n",
    "term = 1. #the length of each term\n",
    "TermNumArray = npSwap[:,0] #Number of terms stored in an array\n",
    "SwapRate(term, TermNumArray, theta)"
   ]
  },
  {
   "cell_type": "code",
   "execution_count": 148,
   "metadata": {},
   "outputs": [
    {
     "data": {
      "text/plain": [
       "2.9039155013857396"
      ]
     },
     "execution_count": 148,
     "metadata": {},
     "output_type": "execute_result"
    }
   ],
   "source": [
    "#function for SSRE\n",
    "#x and y shall be np.array with the same length\n",
    "def SSRE(x, y):\n",
    "    return np.sum(np.power(x - y, 2)/np.power(y,2))\n",
    "\n",
    "#test\n",
    "x = np.arange(5)\n",
    "y = np.arange(5,10)\n",
    "SSRE(x,y)"
   ]
  },
  {
   "cell_type": "code",
   "execution_count": 188,
   "metadata": {},
   "outputs": [
    {
     "name": "stdout",
     "output_type": "stream",
     "text": [
      "Optimization terminated successfully.\n",
      "         Current function value: 0.111939\n",
      "         Iterations: 56\n",
      "         Function evaluations: 103\n",
      "For Oct 29, 2008 rate is[  1.58729145e-01   4.88967228e-02  -6.26676906e-06   3.06584955e-02]\n"
     ]
    }
   ],
   "source": [
    "#For Oct 29, 2008 rate \n",
    "\n",
    "npLibor = dfLiborRate.values\n",
    "T_array = npLibor[:, 0]/12\n",
    "\n",
    "\n",
    "npSwap = dfSwapRate.values #data from panda dataframe to np.array\n",
    "term = 1. #the length of each term\n",
    "TermNumArray = npSwap[:,0] #Number of terms stored in an array\n",
    "\n",
    "y1 = npLibor[:, 1]\n",
    "y2 = npSwap[:,1]\n",
    "y = np.append(y1, y2) #target\n",
    "\n",
    "def iOut(theta):\n",
    "    x1 = LiborRate(T_array, theta)\n",
    "    x2 = SwapRate(term, TermNumArray, theta)\n",
    "    x = np.append(x1,x2)\n",
    "    return SSRE(x, y)\n",
    "    \n",
    "theta0 = [.1, .1, .00001, .01]    #initial start\n",
    "min_theta = so.fmin(iOut, theta0, ftol = .0001, maxiter = 1000)\n",
    "print('For Oct 29, 2008 rate is' + str(min_theta))\n",
    "    "
   ]
  },
  {
   "cell_type": "code",
   "execution_count": 187,
   "metadata": {},
   "outputs": [
    {
     "name": "stdout",
     "output_type": "stream",
     "text": [
      "Optimization terminated successfully.\n",
      "         Current function value: 0.072443\n",
      "         Iterations: 105\n",
      "         Function evaluations: 186\n",
      "For Feb 14, 2011 rate is[  1.74999684e-01   6.56794140e-02   1.42362212e-05   1.99525491e-03]\n"
     ]
    }
   ],
   "source": [
    "#For Feb 14, 2011 rate \n",
    "\n",
    "npLibor = dfLiborRate.values\n",
    "T_array = npLibor[:, 0]/12\n",
    "\n",
    "\n",
    "npSwap = dfSwapRate.values #data from panda dataframe to np.array\n",
    "term = 1. #the length of each term\n",
    "TermNumArray = npSwap[:,0] #Number of terms stored in an array\n",
    "\n",
    "y1 = npLibor[:, 2]\n",
    "y2 = npSwap[:,2]\n",
    "y = np.append(y1, y2) #target\n",
    "\n",
    "def iOut(theta):\n",
    "    x1 = LiborRate(T_array, theta)\n",
    "    x2 = SwapRate(term, TermNumArray, theta)\n",
    "    x = np.append(x1,x2)\n",
    "    return SSRE(x, y)\n",
    "    \n",
    "theta0 = [.1, .1, .00001, .01]    #initial start\n",
    "min_theta = so.fmin(iOut, theta0, ftol = .0001, maxiter = 1000)\n",
    "print('For Feb 14, 2011 rate is' + str(min_theta))\n",
    "    "
   ]
  },
  {
   "cell_type": "markdown",
   "metadata": {},
   "source": [
    "**Remark**\n",
    "Above example is from Section 7.3.1.1 of [Hir13]. However, although the result from above calibration has three parameters matching the book, it is different for the volatility $\\sigma$. I do not know why."
   ]
  },
  {
   "cell_type": "code",
   "execution_count": 0,
   "metadata": {},
   "outputs": [],
   "source": []
  }
 ],
 "metadata": {
  "kernelspec": {
   "display_name": "Python 3",
   "language": "python",
   "name": "python3"
  },
  "language_info": {
   "codemirror_mode": {
    "name": "ipython",
    "version": 3
   },
   "file_extension": ".py",
   "mimetype": "text/x-python",
   "name": "python",
   "nbconvert_exporter": "python",
   "pygments_lexer": "ipython3",
   "version": "3.6.4"
  }
 },
 "nbformat": 4,
 "nbformat_minor": 1
}
