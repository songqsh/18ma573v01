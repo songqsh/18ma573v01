{
 "cells": [
  {
   "cell_type": "markdown",
   "metadata": {},
   "source": [
    "# Volatility smile"
   ]
  },
  {
   "cell_type": "markdown",
   "metadata": {},
   "source": [
    "## Recall BSM formula"
   ]
  },
  {
   "cell_type": "code",
   "execution_count": 1,
   "metadata": {},
   "outputs": [],
   "source": [
    "import matplotlib.pyplot as plt\n",
    "import numpy as np\n",
    "import scipy.stats as ss\n",
    "import scipy.optimize as so"
   ]
  },
  {
   "cell_type": "code",
   "execution_count": 2,
   "metadata": {},
   "outputs": [],
   "source": [
    "'''============\n",
    "Gbm class inherited from sde_1d\n",
    "Usage:\n",
    "    gbm1 = Gbm(init_state = 100., drift_ratio=.05, vol_ratio=.2)\n",
    "============='''\n",
    "\n",
    "class Gbm:\n",
    "    def __init__(self,\n",
    "                 init_state = 100.,\n",
    "                 drift_ratio = .0475,\n",
    "                 vol_ratio = .2\n",
    "                ):\n",
    "        self.init_state = init_state\n",
    "        self.drift_ratio = drift_ratio\n",
    "        self.vol_ratio = vol_ratio\n",
    "        \n",
    "        "
   ]
  },
  {
   "cell_type": "code",
   "execution_count": 3,
   "metadata": {},
   "outputs": [],
   "source": [
    "'''=========\n",
    "option class init\n",
    "Usage:\n",
    "    option1 = EuropeanOption(otype = 1, strike = 100., maturity = 1/12)\n",
    "=========='''\n",
    "class EuropeanOption:\n",
    "    def __init__(self,\n",
    "                otype = 1, # 1: 'call'\n",
    "                        # -1: 'put'\n",
    "                strike = 110.,\n",
    "                maturity = 1.\n",
    "                ):\n",
    "        self.otype = otype\n",
    "        self.strike = strike\n",
    "        self.maturity = maturity\n",
    "        \n",
    "    def payoff(self, s): #s: excercise price\n",
    "        otype = self.otype\n",
    "        k = self.strike\n",
    "        maturity = self.maturity\n",
    "        return np.max([0, (s - k)*otype])\n",
    "        "
   ]
  },
  {
   "cell_type": "code",
   "execution_count": 4,
   "metadata": {},
   "outputs": [],
   "source": [
    "'''========\n",
    "Black-Scholes-Merton formula. \n",
    "=========='''\n",
    "\n",
    "def bsm_price(self, european_option):\n",
    "    s0 = self.init_state\n",
    "    sigma = self.vol_ratio\n",
    "    r = self.drift_ratio\n",
    "    \n",
    "    otype = european_option.otype\n",
    "    k = european_option.strike\n",
    "    maturity = european_option.maturity\n",
    "    \n",
    "    d1 = (np.log(s0 / k) + (r + 0.5 * sigma ** 2) \n",
    "          * maturity) / (sigma * np.sqrt(maturity))\n",
    "    d2 = d1 - sigma * np.sqrt(maturity)\n",
    "    \n",
    "    return otype * s0 * ss.norm.cdf(otype * d1) - otype * np.exp(-r * maturity) * k * ss.norm.cdf(otype * d2)\n",
    "\n",
    "Gbm.bsm_price = bsm_price"
   ]
  },
  {
   "cell_type": "code",
   "execution_count": 5,
   "metadata": {},
   "outputs": [
    {
     "name": "stdout",
     "output_type": "stream",
     "text": [
      ">>>>>>>call value is 5.943273183452838\n",
      ">>>>>>>>put value is 10.84042522804176\n"
     ]
    }
   ],
   "source": [
    "'''===============\n",
    "Test bsm_price\n",
    "================='''\n",
    "gbm1 = Gbm()\n",
    "option1 = EuropeanOption()\n",
    "print('>>>>>>>call value is ' + str(gbm1.bsm_price(option1)))\n",
    "option2 = EuropeanOption(otype=-1)\n",
    "print('>>>>>>>>put value is ' + str(gbm1.bsm_price(option2)))\n"
   ]
  },
  {
   "cell_type": "markdown",
   "metadata": {},
   "source": [
    "## Calibration"
   ]
  },
  {
   "cell_type": "code",
   "execution_count": 8,
   "metadata": {},
   "outputs": [
    {
     "name": "stdout",
     "output_type": "stream",
     "text": [
      ">>>>>>otype, maturity, strike, option_price\n",
      "[[  1.           0.16666667  97.           5.32705461]\n",
      " [  1.           0.16666667  99.           3.86224255]\n",
      " [  1.           0.16666667 101.           2.7204371 ]\n",
      " [  1.           0.16666667 103.           2.1202793 ]\n",
      " [  1.           0.41666667  97.           7.23756307]\n",
      " [  1.           0.41666667  99.           5.95053461]\n",
      " [  1.           0.41666667 101.           5.2640122 ]\n",
      " [  1.           0.41666667 103.           4.97493422]]\n"
     ]
    }
   ],
   "source": [
    "'''======\n",
    "Read data\n",
    "========='''\n",
    "#Read four-column data\n",
    "#columns are otype, maturity, strike, option_price\n",
    "np_option_data1 = np.loadtxt('optiondata2.dat', comments='#', delimiter=',')\n",
    "\n",
    "print('>>>>>>otype, maturity, strike, option_price')\n",
    "print(np_option_data1)"
   ]
  },
  {
   "cell_type": "code",
   "execution_count": 22,
   "metadata": {},
   "outputs": [],
   "source": [
    "def bsm_calibration(spot_price, interest_rate, option_array):\n",
    "    init_vol = .1 #initial guess\n",
    "    gbm1 = Gbm(spot_price, interest_rate, init_vol)\n",
    "    \n",
    "    def error_function(vol):\n",
    "        gbm1.vol_ratio = vol\n",
    "        error_sum = 0.\n",
    "        for i in range(option_array.shape[0]):\n",
    "            option1 = EuropeanOption(otype = option_array[i,0],\n",
    "                                     maturity = option_array[i,1],\n",
    "                                     strike = option_array[i,2]\n",
    "                                    )           \n",
    "            error_sum = error_sum + (option_array[i, 3] - gbm1.bsm_price(option1))**2\n",
    "            \n",
    "        return error_sum\n",
    "    return so.fmin(error_function, 0.1, disp = False)[0]"
   ]
  },
  {
   "cell_type": "code",
   "execution_count": 24,
   "metadata": {},
   "outputs": [
    {
     "data": {
      "text/plain": [
       "0.18109375000000028"
      ]
     },
     "execution_count": 24,
     "metadata": {},
     "output_type": "execute_result"
    }
   ],
   "source": [
    "filter1 = np_option_data2[np_option_data2[:,1] == 2/12]\n",
    "bsm_calibration(100, .05, filter1)"
   ]
  },
  {
   "cell_type": "code",
   "execution_count": 26,
   "metadata": {},
   "outputs": [
    {
     "data": {
      "text/plain": [
       "0.1839843750000003"
      ]
     },
     "execution_count": 26,
     "metadata": {},
     "output_type": "execute_result"
    }
   ],
   "source": [
    "filter2 = np_option_data2[np_option_data2[:,1] == 5/12]\n",
    "bsm_calibration(100, .05, filter2)"
   ]
  }
 ],
 "metadata": {
  "kernelspec": {
   "display_name": "Python 3",
   "language": "python",
   "name": "python3"
  },
  "language_info": {
   "codemirror_mode": {
    "name": "ipython",
    "version": 3
   },
   "file_extension": ".py",
   "mimetype": "text/x-python",
   "name": "python",
   "nbconvert_exporter": "python",
   "pygments_lexer": "ipython3",
   "version": "3.6.4"
  }
 },
 "nbformat": 4,
 "nbformat_minor": 1
}
