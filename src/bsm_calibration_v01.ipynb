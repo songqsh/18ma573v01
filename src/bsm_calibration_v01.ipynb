{
  "nbformat": 4,
  "nbformat_minor": 0,
  "metadata": {
    "colab": {
      "name": "bsm_calibration_v01.ipynb",
      "version": "0.3.2",
      "provenance": [],
      "include_colab_link": true
    },
    "kernelspec": {
      "name": "python3",
      "display_name": "Python 3"
    }
  },
  "cells": [
    {
      "cell_type": "markdown",
      "metadata": {
        "id": "view-in-github",
        "colab_type": "text"
      },
      "source": [
        "<a href=\"https://colab.research.google.com/github/songqsh/18ma573v01/blob/master/src/bsm_calibration_v01.ipynb\" target=\"_parent\"><img src=\"https://colab.research.google.com/assets/colab-badge.svg\" alt=\"Open In Colab\"/></a>"
      ]
    },
    {
      "metadata": {
        "id": "VBlkqbgUvQ6k",
        "colab_type": "text"
      },
      "cell_type": "markdown",
      "source": [
        "# Volatility calibration to BSM"
      ]
    },
    {
      "metadata": {
        "id": "gxxtEM40t092",
        "colab_type": "text"
      },
      "cell_type": "markdown",
      "source": [
        "## Abstract\n",
        "\n",
        "- Goal\n",
        "    - Calibrate BSM model for makert price of options\n"
      ]
    },
    {
      "metadata": {
        "id": "Y0jFTVYPt1Ot",
        "colab_type": "text"
      },
      "cell_type": "markdown",
      "source": [
        "## Problem\n",
        "\n",
        "All of pricing models require a set of model parameters in order to fully define the dynamics of each model. The process of adjusting model parameters such that the model prices are compatible with market prices is called **Calibration**. \n",
        "\n",
        "Input:\n",
        "\n",
        "- market prices of several options with different strikes and maturities\n",
        "- spot price\n",
        "- interest rates\n",
        "\n",
        "Output:\n",
        "\n",
        "- Find volatility of BSM model"
      ]
    },
    {
      "metadata": {
        "id": "imn9O8Qcu1iW",
        "colab_type": "text"
      },
      "cell_type": "markdown",
      "source": [
        "## Anal\n",
        "\n",
        "\n",
        "Suppose\n",
        "- Model prameter $\\theta = (\\theta_1, ... \\theta_m)$ is a vector\n",
        "- Prices of $n$ instruments are aviable in the market with its market price of $i$th instrument quoted by $C_i$. \n",
        "Let's denote $C = (C_1, ..., C_n)$ as a market price vector.\n",
        "- In theory, $C_i^\\theta$ is the model price of the $i$th instrument, and they are denoted as a vector $C^\\theta = (C_1^\\theta, ...,  C^\\theta_n)$. \n",
        "\n",
        "Given a distance function $H: \\mathbb R^n \\times \\mathbb R^n \\mapsto \\mathbb R^+$, calibration is to find the parameter $\\theta^*$  which minimize the objective function $H(C^\\theta, C)$, i.e.\n",
        "$$ \\theta^* = \\arg\\min_\\theta H(C^\\theta, C).$$\n",
        "\n",
        "Commonly used distance functions for $H$ are \n",
        "- $H(x, y) = (\\sum_{i=1}^n w_i |x_i - y_i|^p)^{1/p}.$\n",
        "- $H(x, y) = (\\sum_{i=1}^n w_i | \\frac{x_i - y_i}{y_i}|^p)^{1/p}.$ If $p = 2$, $w_i =1$, then $H^2$ is called as SSRE (sum of squred relative errors)\n",
        "- $H(x, y) = (\\sum_{i=1}^n w_i |\\ln x - \\ln y|^p)^{1/p}.$\n",
        "\n",
        "In this below, we are goint to use, the first case of $H$ with $p = 2$ and $w_i = 1$ for all i's."
      ]
    },
    {
      "metadata": {
        "id": "eVZsLxD8uEwA",
        "colab_type": "text"
      },
      "cell_type": "markdown",
      "source": [
        "## Code"
      ]
    },
    {
      "metadata": {
        "id": "bACDA4LKT-Z-",
        "colab_type": "text"
      },
      "cell_type": "markdown",
      "source": [
        "- git clone repo to colab"
      ]
    },
    {
      "metadata": {
        "id": "6yGc4NRDMb6H",
        "colab_type": "code",
        "outputId": "9c7f620a-b0f6-43de-c2ec-e340880ee9a9",
        "colab": {
          "base_uri": "https://localhost:8080/",
          "height": 136
        }
      },
      "cell_type": "code",
      "source": [
        "'''======\n",
        "run once, then comment it off, and run again\n",
        "========'''\n",
        "!git clone https://github.com/songqsh/18ma573pub.git \n",
        "pass"
      ],
      "execution_count": 0,
      "outputs": [
        {
          "output_type": "stream",
          "text": [
            "Cloning into '18ma573pub'...\n",
            "remote: Enumerating objects: 125, done.\u001b[K\n",
            "remote: Counting objects: 100% (125/125), done.\u001b[K\n",
            "remote: Compressing objects: 100% (125/125), done.\u001b[K\n",
            "remote: Total 419 (delta 78), reused 1 (delta 0), pack-reused 294\u001b[K\n",
            "Receiving objects: 100% (419/419), 667.62 KiB | 15.90 MiB/s, done.\n",
            "Resolving deltas: 100% (233/233), done.\n"
          ],
          "name": "stdout"
        }
      ]
    },
    {
      "metadata": {
        "id": "W37aPu0-UE5t",
        "colab_type": "text"
      },
      "cell_type": "markdown",
      "source": [
        "- Change working dir to \"reponame/src\", also needs run once, and comment it out from the second run."
      ]
    },
    {
      "metadata": {
        "id": "qnPdZ7q7TrDC",
        "colab_type": "code",
        "outputId": "113a9b3e-81c0-4660-bc2a-0818822e2c24",
        "colab": {
          "base_uri": "https://localhost:8080/",
          "height": 34
        }
      },
      "cell_type": "code",
      "source": [
        "cd 18ma573pub/src/"
      ],
      "execution_count": 0,
      "outputs": [
        {
          "output_type": "stream",
          "text": [
            "/content/18ma573pub/src\n"
          ],
          "name": "stdout"
        }
      ]
    },
    {
      "metadata": {
        "id": "3KZKEJdCUJa_",
        "colab_type": "text"
      },
      "cell_type": "markdown",
      "source": [
        "- here we import our own python modules and common modules"
      ]
    },
    {
      "metadata": {
        "id": "xJiFQheVT0SO",
        "colab_type": "code",
        "colab": {}
      },
      "cell_type": "code",
      "source": [
        "from european_options_class import VanillaOption\n",
        "from sde_class import Gbm\n",
        "import numpy as np\n",
        "import matplotlib.pyplot as plt\n",
        "import scipy.optimize as so"
      ],
      "execution_count": 0,
      "outputs": []
    },
    {
      "metadata": {
        "id": "1s1eIpODUW_A",
        "colab_type": "text"
      },
      "cell_type": "markdown",
      "source": [
        "- Read data from .dat file. It has call option prices of\n",
        "  - maturities 2 months and 5 months;\n",
        "  - strikes of 97, 99, 101, 103"
      ]
    },
    {
      "metadata": {
        "id": "55dseLN6URf0",
        "colab_type": "code",
        "outputId": "10754f47-49b8-4b2f-9872-ad6bed9a8f98",
        "colab": {
          "base_uri": "https://localhost:8080/",
          "height": 170
        }
      },
      "cell_type": "code",
      "source": [
        "'''======\n",
        "Read data\n",
        "========='''\n",
        "#Read four-column data\n",
        "#columns are otype, maturity, strike, option_price\n",
        "np_option_data1 = np.loadtxt('optiondata2.dat', comments='#', delimiter=',')\n",
        "\n",
        "print('>>>>>>otype, maturity, strike, option_price')\n",
        "print(np_option_data1)"
      ],
      "execution_count": 0,
      "outputs": [
        {
          "output_type": "stream",
          "text": [
            ">>>>>>otype, maturity, strike, option_price\n",
            "[[  1.           0.16666667  97.           5.32705461]\n",
            " [  1.           0.16666667  99.           3.86224255]\n",
            " [  1.           0.16666667 101.           2.7204371 ]\n",
            " [  1.           0.16666667 103.           2.1202793 ]\n",
            " [  1.           0.41666667  97.           7.23756307]\n",
            " [  1.           0.41666667  99.           5.95053461]\n",
            " [  1.           0.41666667 101.           5.2640122 ]\n",
            " [  1.           0.41666667 103.           4.97493422]]\n"
          ],
          "name": "stdout"
        }
      ]
    },
    {
      "metadata": {
        "id": "rLJ7Qm2nWehV",
        "colab_type": "text"
      },
      "cell_type": "markdown",
      "source": [
        "- We also need to give spot price and interest rate before the computation."
      ]
    },
    {
      "metadata": {
        "id": "-5Oe6-JIWd1m",
        "colab_type": "code",
        "colab": {}
      },
      "cell_type": "code",
      "source": [
        "'''==============\n",
        "below are from the market data for underlying process\n",
        "================='''\n",
        "gbm1 = Gbm(\n",
        "    init_state = 100, #market data\n",
        "    drift_ratio = .05, #market data\n",
        "    vol_ratio = .1 #initial guess\n",
        ")"
      ],
      "execution_count": 0,
      "outputs": []
    },
    {
      "metadata": {
        "id": "jtzdzPDRXkSO",
        "colab_type": "text"
      },
      "cell_type": "markdown",
      "source": [
        "- creat option_list from the data"
      ]
    },
    {
      "metadata": {
        "id": "GErLpqgQXtDS",
        "colab_type": "code",
        "colab": {}
      },
      "cell_type": "code",
      "source": [
        "num_row = np_option_data1.shape[0]\n",
        "option_list1 = []\n",
        "\n",
        "for i in range(num_row):\n",
        "  option1 = VanillaOption(\n",
        "      otype = np_option_data1[i,0],\n",
        "      strike = np_option_data1[i,2],\n",
        "      maturity = np_option_data1[i,1],\n",
        "      market_price = np_option_data1[i,3]\n",
        "  )\n",
        "      \n",
        "  option_list1.append(option1) \n",
        "  "
      ],
      "execution_count": 0,
      "outputs": []
    },
    {
      "metadata": {
        "id": "x0F0-26vXsYp",
        "colab_type": "text"
      },
      "cell_type": "markdown",
      "source": [
        "- Define calibration method"
      ]
    },
    {
      "metadata": {
        "id": "8HbNeNkVnEtT",
        "colab_type": "code",
        "colab": {}
      },
      "cell_type": "code",
      "source": [
        "'''==========\n",
        "define a method for error function\n",
        "============'''\n",
        "\n",
        "def error_function(vol, gbm, option_list):\n",
        "  gbm.vol_ratio = vol\n",
        "  err1 = 0\n",
        "  for i in np.arange(len(option_list)):\n",
        "    err1 = err1 + ((option_list[i]).market_price - gbm.bsm_price(option_list[i]))**2    \n",
        "  return err1"
      ],
      "execution_count": 0,
      "outputs": []
    },
    {
      "metadata": {
        "id": "bVnh5RUk5d6q",
        "colab_type": "code",
        "colab": {}
      },
      "cell_type": "code",
      "source": [
        "'''==========\n",
        "define a method to seek for a calibrated volatility\n",
        "============'''\n",
        "\n",
        "def bsm_calibration(gbm, option_list):\n",
        "  init_vol = .1 #initial guess\n",
        "  return so.fmin(error_function, init_vol, args = (gbm, option_list), disp = 0)[0]"
      ],
      "execution_count": 0,
      "outputs": []
    },
    {
      "metadata": {
        "id": "g-m2t4ASEFj8",
        "colab_type": "text"
      },
      "cell_type": "markdown",
      "source": [
        "- filtering out options of 2-mon maturity"
      ]
    },
    {
      "metadata": {
        "id": "difSQvSK8t9A",
        "colab_type": "code",
        "outputId": "d9c440b7-a11a-4c64-8936-ad72dcdea710",
        "colab": {
          "base_uri": "https://localhost:8080/",
          "height": 34
        }
      },
      "cell_type": "code",
      "source": [
        "# Take options of 2-mon maturity\n",
        "filter1 = list(filter(lambda x: x.maturity == 2/12, option_list1))\n",
        "calibrated_volatility1 = bsm_calibration(gbm1, filter1)\n",
        "print('>>>>>>>> calibrated_volatility is ' + str(calibrated_volatility1))"
      ],
      "execution_count": 0,
      "outputs": [
        {
          "output_type": "stream",
          "text": [
            ">>>>>>>> calibrated_volatility is 0.18109375000000028\n"
          ],
          "name": "stdout"
        }
      ]
    },
    {
      "metadata": {
        "id": "oqHGpYx36QyF",
        "colab_type": "code",
        "outputId": "e93c4505-0c02-4a10-a8a6-460a82782b20",
        "colab": {
          "base_uri": "https://localhost:8080/",
          "height": 51
        }
      },
      "cell_type": "code",
      "source": [
        "gbm1.vol_ratio = calibrated_volatility1\n",
        "\n",
        "#find calibrated option price\n",
        "filter1_calibrated_price = [gbm1.bsm_price(filter1[i]) for i in range(len(filter1))]\n",
        "print('>>>>>>>>> this is option price calculated from calibrated vol')\n",
        "filter1_calibrated_price"
      ],
      "execution_count": 0,
      "outputs": [
        {
          "output_type": "stream",
          "text": [
            ">>>>>>>>> this is option price calculated from calibrated vol\n"
          ],
          "name": "stdout"
        },
        {
          "output_type": "execute_result",
          "data": {
            "text/plain": [
              "[5.184221823763238, 3.9225121216534404, 2.8709333662230563, 2.0297005112870465]"
            ]
          },
          "metadata": {
            "tags": []
          },
          "execution_count": 10
        }
      ]
    },
    {
      "metadata": {
        "id": "iqohN8KJCgn3",
        "colab_type": "code",
        "outputId": "ade36416-2b62-41f5-f5be-397cd7d828eb",
        "colab": {
          "base_uri": "https://localhost:8080/",
          "height": 361
        }
      },
      "cell_type": "code",
      "source": [
        "x_co = [filter1[i].strike for i in range(len(filter1))]\n",
        "y_co = [filter1[i].market_price for i in range(len(filter1))]\n",
        "plt.plot(x_co, y_co, 'o', label='market price')\n",
        "\n",
        "y_co = filter1_calibrated_price\n",
        "plt.plot(x_co, y_co, label = 'calib price')\n",
        "\n",
        "plt.ylabel('option price')\n",
        "plt.xlabel('strike with fixed 2-mon maturity')\n",
        "plt.legend();\n"
      ],
      "execution_count": 0,
      "outputs": [
        {
          "output_type": "display_data",
          "data": {
            "image/png": "[encoded data removed]",
            "text/plain": [
              "<matplotlib.figure.Figure at 0x7f0eb905af60>"
            ]
          },
          "metadata": {
            "tags": []
          }
        }
      ]
    },
    {
      "metadata": {
        "id": "cN50FH0HEKvF",
        "colab_type": "text"
      },
      "cell_type": "markdown",
      "source": [
        "- filtering out options of 5-mon maturity"
      ]
    },
    {
      "metadata": {
        "id": "c9-K7xuUENQk",
        "colab_type": "code",
        "outputId": "b7a82cfb-881e-4f83-d01a-617a8900bb73",
        "colab": {
          "base_uri": "https://localhost:8080/",
          "height": 34
        }
      },
      "cell_type": "code",
      "source": [
        "# Take options of 2-mon maturity\n",
        "filter2 = list(filter(lambda x: x.maturity == 5/12, option_list1))\n",
        "calibrated_volatility2 = bsm_calibration(gbm1, filter2)\n",
        "print('>>>>>>>> calibrated_volatility is ' + str(calibrated_volatility2))"
      ],
      "execution_count": 0,
      "outputs": [
        {
          "output_type": "stream",
          "text": [
            ">>>>>>>> calibrated_volatility is 0.1839843750000003\n"
          ],
          "name": "stdout"
        }
      ]
    },
    {
      "metadata": {
        "id": "u-OottXfESIR",
        "colab_type": "code",
        "outputId": "33d65bca-df2d-456f-df5f-bdd65d42957c",
        "colab": {
          "base_uri": "https://localhost:8080/",
          "height": 51
        }
      },
      "cell_type": "code",
      "source": [
        "gbm1.vol_ratio = calibrated_volatility2\n",
        "\n",
        "#find calibrated option price\n",
        "filter2_calibrated_price = [gbm1.bsm_price(filter2[i]) for i in range(len(filter2))]\n",
        "print('>>>>>>>>> this is option price calculated from calibrated vol')\n",
        "filter2_calibrated_price"
      ],
      "execution_count": 0,
      "outputs": [
        {
          "output_type": "stream",
          "text": [
            ">>>>>>>>> this is option price calculated from calibrated vol\n"
          ],
          "name": "stdout"
        },
        {
          "output_type": "execute_result",
          "data": {
            "text/plain": [
              "[7.540104147003916, 6.340281448569769, 5.270421573192927, 4.330492653848275]"
            ]
          },
          "metadata": {
            "tags": []
          },
          "execution_count": 13
        }
      ]
    },
    {
      "metadata": {
        "id": "U6CadXi3EfVW",
        "colab_type": "code",
        "outputId": "4664b179-25e1-4649-f56b-431e1c460b1e",
        "colab": {
          "base_uri": "https://localhost:8080/",
          "height": 361
        }
      },
      "cell_type": "code",
      "source": [
        "x_co = [filter2[i].strike for i in range(len(filter2))]\n",
        "y_co = [filter2[i].market_price for i in range(len(filter2))]\n",
        "plt.plot(x_co, y_co, 'o', label='market price')\n",
        "\n",
        "y_co = filter2_calibrated_price\n",
        "plt.plot(x_co, y_co, label = 'calib price')\n",
        "\n",
        "plt.ylabel('option price')\n",
        "plt.xlabel('strike with fixed 5-mon maturity')\n",
        "plt.legend();\n"
      ],
      "execution_count": 0,
      "outputs": [
        {
          "output_type": "display_data",
          "data": {
            "image/png": "[encoded data removed]",
            "text/plain": [
              "<matplotlib.figure.Figure at 0x7f0eb8a04828>"
            ]
          },
          "metadata": {
            "tags": []
          }
        }
      ]
    },
    {
      "metadata": {
        "id": "UOVUqxlEEqIG",
        "colab_type": "code",
        "colab": {}
      },
      "cell_type": "code",
      "source": [
        ""
      ],
      "execution_count": 0,
      "outputs": []
    }
  ]
}