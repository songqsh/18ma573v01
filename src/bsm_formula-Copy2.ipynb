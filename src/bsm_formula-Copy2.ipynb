{
 "cells": [
  {
   "cell_type": "markdown",
   "metadata": {},
   "source": [
    "# Black and Scholes formula\n",
    "\n",
    "BS model assumes the distribution of stock as lognormal. In particular, it writes \n",
    "$$\\ln \\frac{S(T)}{S(0)} \\sim \\mathcal N((r  - \\frac 1 2 \\sigma^2) T, \\sigma^2 T)$$\n",
    "with respect to risk neutral measure. In the above, the parameters stand for\n",
    "\n",
    "* $S(0)$: The initial stock price\n",
    "* $S(T)$: The stock price at $T$\n",
    "* $r$: interest rate\n",
    "* $\\sigma$: volatility\n",
    "\n"
   ]
  },
  {
   "cell_type": "markdown",
   "metadata": {},
   "source": [
    "\n",
    "The call and put price with maturity $T$ and $K$ will be known as $C_0$ and $P_0$ given as below:\n",
    "$$C_0 = \\mathbb E [e^{-rT} (S(T) - K)^+] = S_0  \\Phi(d_1) - K e^{-rT} \\Phi(d_2),$$\n",
    "and \n",
    "$$P_0 = \\mathbb E [e^{-rT} (S(T) - K)^-] = K e^{-rT} \\Phi(- d_2) - S_0  \\Phi(- d_1),$$\n",
    "where $d_i$ are given as\n",
    "$$d_1 = \\frac{(r + \\frac 1 2 \\sigma^2) T - \\ln \\frac{K}{S_0}}{\\sigma \\sqrt T},$$\n",
    "and\n",
    "$$d_2 = \\frac{(r - \\frac 1 2 \\sigma^2) T - \\ln \\frac{K}{S_0}}{\\sigma \\sqrt T} = d_1 - \\sigma \\sqrt T$$\n",
    "\n",
    "Put-call parity will be useful:\n",
    "    $$C_0 - P_0 =  S(0) - e^{-rT} K.$$"
   ]
  },
  {
   "cell_type": "code",
   "execution_count": 1,
   "metadata": {},
   "outputs": [],
   "source": [
    "import numpy as np\n",
    "import scipy.stats as ss"
   ]
  },
  {
   "cell_type": "code",
   "execution_count": 23,
   "metadata": {},
   "outputs": [],
   "source": [
    "'''===============\n",
    "Black-Scholes-Merton Class Init\n",
    "==============='''\n",
    "\n",
    "class Bsm:\n",
    "    def __init__(self,\n",
    "                spot_price = 100.,\n",
    "                vol = 0.2,\n",
    "                interest_rate = .0475,\n",
    "                \n",
    "                otype = 1, # 1: call, \n",
    "                             #-1: put\n",
    "                strike = 110.,\n",
    "                maturity = 1.):\n",
    "        self.spot_price = spot_price\n",
    "        self.vol = vol\n",
    "        self.interest_rate = interest_rate\n",
    "        self.otype = otype\n",
    "        self.strike = strike\n",
    "        self.maturity = maturity\n",
    "    "
   ]
  },
  {
   "cell_type": "code",
   "execution_count": 25,
   "metadata": {},
   "outputs": [],
   "source": [
    "'''========\n",
    "Black-Scholes-Merton formula. \n",
    "=========='''\n",
    "\n",
    "def price(self):\n",
    "    s0 = self.spot_price\n",
    "    sigma = self.vol\n",
    "    r = self.interest_rate\n",
    "    \n",
    "    otype = self.otype\n",
    "    k = self.strike\n",
    "    maturity = self.maturity\n",
    "    \n",
    "    d1 = (np.log(s0 / k) + (r + 0.5 * sigma ** 2) \n",
    "          * maturity) / (sigma * np.sqrt(maturity))\n",
    "    d2 = d1 - sigma * np.sqrt(maturity)\n",
    "    \n",
    "    return otype * s0 * ss.norm.cdf(otype * d1) - otype * np.exp(-r * maturity) * k * ss.norm.cdf(otype * d2)\n",
    "\n",
    "Bsm.price = price"
   ]
  },
  {
   "cell_type": "markdown",
   "metadata": {},
   "source": [
    "**Ex.**\n",
    "Find BSM price for the given parameters above"
   ]
  },
  {
   "cell_type": "code",
   "execution_count": 27,
   "metadata": {},
   "outputs": [
    {
     "name": "stdout",
     "output_type": "stream",
     "text": [
      "call value is 5.943273183452838\n"
     ]
    }
   ],
   "source": [
    "bsm1 = Bsm()\n",
    "print('call value is ' + str(bsm1.price()))"
   ]
  },
  {
   "cell_type": "code",
   "execution_count": 29,
   "metadata": {},
   "outputs": [
    {
     "name": "stdout",
     "output_type": "stream",
     "text": [
      "put value is 10.84042522804176\n"
     ]
    }
   ],
   "source": [
    "bsm1.otype = -1\n",
    "print('put value is ' + str(bsm1.price()))"
   ]
  },
  {
   "cell_type": "code",
   "execution_count": null,
   "metadata": {},
   "outputs": [],
   "source": []
  }
 ],
 "metadata": {
  "kernelspec": {
   "display_name": "Python 3",
   "language": "python",
   "name": "python3"
  },
  "language_info": {
   "codemirror_mode": {
    "name": "ipython",
    "version": 3
   },
   "file_extension": ".py",
   "mimetype": "text/x-python",
   "name": "python",
   "nbconvert_exporter": "python",
   "pygments_lexer": "ipython3",
   "version": "3.6.4"
  }
 },
 "nbformat": 4,
 "nbformat_minor": 1
}
