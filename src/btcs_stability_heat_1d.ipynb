{
 "cells": [
  {
   "cell_type": "markdown",
   "metadata": {},
   "source": [
    "Our goal is to apply backward in time, centered in space (BTCS) to heat equation, and fix stability."
   ]
  },
  {
   "cell_type": "markdown",
   "metadata": {},
   "source": [
    "__Problem__\n",
    "\n",
    "- Heat equation:\n",
    "$$u_t = \\alpha u_{xx}, \\quad a\\le x \\le b, t\\ge 0$$\n",
    "- Boundary condition:\n",
    "$$u(a, t) = g(t); \\quad u(b, t) = h(t).$$\n",
    "- Initial condition:\n",
    "$$u(x, 0) = f(x).$$"
   ]
  },
  {
   "cell_type": "markdown",
   "metadata": {},
   "source": [
    "__Anal__\n",
    "\n",
    "Grid with $\\Delta x$ and $\\Delta t$ will be\n",
    "$$x_i = a + i \\Delta x; \\ \\Delta x = \\frac{b-a}{N}, \\ i = 0, 1, \\ldots, N$$\n",
    "and\n",
    "$$t_k = k \\Delta t; \\ \\Delta t = T/M, \\ k = 0, 1, \\ldots, M.$$\n",
    "\n",
    "Use backward difference in time, central difference in space, one obtains iterative scheme inside the domain:\n",
    "$$\n",
    "-\\rho u_{i-1, k} + (1 + 2\\rho) u_{i,k} - \\rho u_{i+1,k} = u_{i,k-1}\n",
    "\\quad \n",
    "1\\le i \\le N-1, 1\\le k \\le M\n",
    "$$\n",
    "where\n",
    "$$\\rho = \\frac{\\alpha \\Delta t}{(\\Delta x)^2}.$$\n",
    "It can be shown unconditionally stable."
   ]
  },
  {
   "cell_type": "markdown",
   "metadata": {},
   "source": [
    "__Para__\n",
    "\n",
    "- $\\alpha = 1$, $a = 0$, $b = 1$;\n",
    "- $f(x) = \\sin(\\pi x)$\n",
    "- $g(t) = h(t) = 0$.\n",
    "- Exact solution:\n",
    "$$u(x, t) = e^{- \\pi^2 t} \\sin(\\pi x).$$\n",
    "\n",
    "We use $\\rho =1$ in this below."
   ]
  },
  {
   "cell_type": "code",
   "execution_count": 3,
   "metadata": {},
   "outputs": [],
   "source": [
    "# other parameters\n",
    "al = 1\n",
    "dx = .2 #space mesh size\n",
    "rho = 1. #conditinal number, to be less than .5 for the stability\n",
    "dt = rho*(dx**2)/al #time step size\n"
   ]
  },
  {
   "cell_type": "markdown",
   "metadata": {},
   "source": [
    "- (todo) use ftcs solve heat equation and find supnorm of error function\n",
    "- (todo) use btcs solve heat equation and find supnorm of error function\n",
    "- (todo) for btcs, plot three error curves with $t = 1.94, 1.96, 1.98$."
   ]
  },
  {
   "cell_type": "code",
   "execution_count": null,
   "metadata": {},
   "outputs": [],
   "source": []
  }
 ],
 "metadata": {
  "kernelspec": {
   "display_name": "Python 3",
   "language": "python",
   "name": "python3"
  },
  "language_info": {
   "codemirror_mode": {
    "name": "ipython",
    "version": 3
   },
   "file_extension": ".py",
   "mimetype": "text/x-python",
   "name": "python",
   "nbconvert_exporter": "python",
   "pygments_lexer": "ipython3",
   "version": "3.6.4"
  }
 },
 "nbformat": 4,
 "nbformat_minor": 2
}
