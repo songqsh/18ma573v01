{
 "cells": [
  {
   "cell_type": "markdown",
   "metadata": {},
   "source": [
    "__Abstract__\n",
    "\n",
    "- Goal\n",
    "    - Calibrate Vasicek model for makert Libor and swap rates\n",
    "- Ref\n",
    "    - The example is from Section 7.3.1.1 of [Hir13]. \n",
    "    - Explicit vasicek pricing is given [here](explicit_vasicek_zcb.ipynb)"
   ]
  },
  {
   "cell_type": "markdown",
   "metadata": {},
   "source": [
    "__Problem__\n",
    "\n",
    "All of pricing models require a set of model parameters in order to fully define the dynamics of each model. The process of adjusting model parameters such that the model prices are compatible with market prices is called **Calibration**. \n",
    "\n",
    "Input:\n",
    "\n",
    "- several market LIBOR rates\n",
    "- several market swap rates\n",
    "\n",
    "Output:\n",
    "\n",
    "- Find $\\theta = (\\alpha, \\mu, \\sigma, r_t)$ to fit the Vasicek model."
   ]
  },
  {
   "cell_type": "markdown",
   "metadata": {},
   "source": [
    "__Anal__\n",
    "\n",
    "\n",
    "Suppose\n",
    "- Model prameter $\\theta = (\\theta_1, ... \\theta_m)$ is a vector\n",
    "- Prices of $n$ instruments are aviable in the market with its market price of $i$th instrument quoted by $C_i$. \n",
    "Let's denote $C = (C_1, ..., C_n)$ as a market price vector.\n",
    "- In theory, $C_i^\\theta$ is the model price of the $i$th instrument, and they are denoted as a vector $C^\\theta = (C_1^\\theta, ...,  C^\\theta_n)$. \n",
    "\n",
    "Given a distance function $H: \\mathbb R^n \\times \\mathbb R^n \\mapsto \\mathbb R^+$, calibration is to find the parameter $\\theta^*$  which minimize the objective function $H(C^\\theta, C)$, i.e.\n",
    "$$ \\theta^* = \\arg\\min_\\theta H(C^\\theta, C).$$\n",
    "\n",
    "Commonly used distance functions for $H$ are \n",
    "- $H(x, y) = (\\sum_{i=1}^n w_i |x_i - y_i|^p)^{1/p}.$\n",
    "- $H(x, y) = (\\sum_{i=1}^n w_i | \\frac{x_i - y_i}{y_i}|^p)^{1/p}.$ If $p = 2$, $w_i =1$, then $H^2$ is called as SSRE (sum of squred relative errors)\n",
    "- $H(x, y) = (\\sum_{i=1}^n w_i |\\ln x - \\ln y|^p)^{1/p}.$"
   ]
  },
  {
   "cell_type": "markdown",
   "metadata": {},
   "source": [
    "__Parameters__\n"
   ]
  },
  {
   "cell_type": "code",
   "execution_count": 1,
   "metadata": {},
   "outputs": [],
   "source": [
    "import numpy as np\n",
    "import pandas as pd\n",
    "import matplotlib.pyplot as plt\n",
    "import scipy.optimize as so"
   ]
  },
  {
   "cell_type": "code",
   "execution_count": 2,
   "metadata": {},
   "outputs": [
    {
     "data": {
      "text/html": [
       "<div>\n",
       "<style scoped>\n",
       "    .dataframe tbody tr th:only-of-type {\n",
       "        vertical-align: middle;\n",
       "    }\n",
       "\n",
       "    .dataframe tbody tr th {\n",
       "        vertical-align: top;\n",
       "    }\n",
       "\n",
       "    .dataframe thead th {\n",
       "        text-align: right;\n",
       "    }\n",
       "</style>\n",
       "<table border=\"1\" class=\"dataframe\">\n",
       "  <thead>\n",
       "    <tr style=\"text-align: right;\">\n",
       "      <th></th>\n",
       "      <th>20081029 rate(%)</th>\n",
       "      <th>20110214 rate(%)</th>\n",
       "      <th>maturity (months)</th>\n",
       "    </tr>\n",
       "  </thead>\n",
       "  <tbody>\n",
       "    <tr>\n",
       "      <th>0</th>\n",
       "      <td>3.1175</td>\n",
       "      <td>0.2647</td>\n",
       "      <td>1</td>\n",
       "    </tr>\n",
       "    <tr>\n",
       "      <th>1</th>\n",
       "      <td>3.2738</td>\n",
       "      <td>0.2890</td>\n",
       "      <td>2</td>\n",
       "    </tr>\n",
       "    <tr>\n",
       "      <th>2</th>\n",
       "      <td>3.4200</td>\n",
       "      <td>0.3140</td>\n",
       "      <td>3</td>\n",
       "    </tr>\n",
       "    <tr>\n",
       "      <th>3</th>\n",
       "      <td>3.4275</td>\n",
       "      <td>0.4657</td>\n",
       "      <td>6</td>\n",
       "    </tr>\n",
       "    <tr>\n",
       "      <th>4</th>\n",
       "      <td>3.4213</td>\n",
       "      <td>0.7975</td>\n",
       "      <td>12</td>\n",
       "    </tr>\n",
       "  </tbody>\n",
       "</table>\n",
       "</div>"
      ],
      "text/plain": [
       "   20081029 rate(%)  20110214 rate(%)  maturity (months)\n",
       "0            3.1175            0.2647                  1\n",
       "1            3.2738            0.2890                  2\n",
       "2            3.4200            0.3140                  3\n",
       "3            3.4275            0.4657                  6\n",
       "4            3.4213            0.7975                 12"
      ]
     },
     "execution_count": 2,
     "metadata": {},
     "output_type": "execute_result"
    }
   ],
   "source": [
    "\n",
    "dfLiborRate = pd.DataFrame({'maturity (months)': [1, 2, 3, 6, 12],\n",
    "                            '20081029 rate(%)': [3.1175, 3.2738, 3.4200, 3.4275, 3.4213],\n",
    "                            '20110214 rate(%)': [0.2647, 0.2890, 0.3140, 0.4657, 0.7975]\n",
    "                          })\n",
    "dfLiborRate"
   ]
  },
  {
   "cell_type": "code",
   "execution_count": 3,
   "metadata": {},
   "outputs": [
    {
     "data": {
      "text/html": [
       "<div>\n",
       "<style scoped>\n",
       "    .dataframe tbody tr th:only-of-type {\n",
       "        vertical-align: middle;\n",
       "    }\n",
       "\n",
       "    .dataframe tbody tr th {\n",
       "        vertical-align: top;\n",
       "    }\n",
       "\n",
       "    .dataframe thead th {\n",
       "        text-align: right;\n",
       "    }\n",
       "</style>\n",
       "<table border=\"1\" class=\"dataframe\">\n",
       "  <thead>\n",
       "    <tr style=\"text-align: right;\">\n",
       "      <th></th>\n",
       "      <th>20081029 rate(%)</th>\n",
       "      <th>20110214 rate(%)</th>\n",
       "      <th>term (year)</th>\n",
       "    </tr>\n",
       "  </thead>\n",
       "  <tbody>\n",
       "    <tr>\n",
       "      <th>0</th>\n",
       "      <td>2.6967</td>\n",
       "      <td>1.0481</td>\n",
       "      <td>2</td>\n",
       "    </tr>\n",
       "    <tr>\n",
       "      <th>1</th>\n",
       "      <td>3.1557</td>\n",
       "      <td>1.5577</td>\n",
       "      <td>3</td>\n",
       "    </tr>\n",
       "    <tr>\n",
       "      <th>2</th>\n",
       "      <td>3.8111</td>\n",
       "      <td>2.5569</td>\n",
       "      <td>5</td>\n",
       "    </tr>\n",
       "    <tr>\n",
       "      <th>3</th>\n",
       "      <td>4.1497</td>\n",
       "      <td>3.1850</td>\n",
       "      <td>7</td>\n",
       "    </tr>\n",
       "    <tr>\n",
       "      <th>4</th>\n",
       "      <td>4.3638</td>\n",
       "      <td>3.7225</td>\n",
       "      <td>10</td>\n",
       "    </tr>\n",
       "    <tr>\n",
       "      <th>5</th>\n",
       "      <td>4.3753</td>\n",
       "      <td>4.1683</td>\n",
       "      <td>15</td>\n",
       "    </tr>\n",
       "    <tr>\n",
       "      <th>6</th>\n",
       "      <td>4.2772</td>\n",
       "      <td>4.4407</td>\n",
       "      <td>30</td>\n",
       "    </tr>\n",
       "  </tbody>\n",
       "</table>\n",
       "</div>"
      ],
      "text/plain": [
       "   20081029 rate(%)  20110214 rate(%)  term (year)\n",
       "0            2.6967            1.0481            2\n",
       "1            3.1557            1.5577            3\n",
       "2            3.8111            2.5569            5\n",
       "3            4.1497            3.1850            7\n",
       "4            4.3638            3.7225           10\n",
       "5            4.3753            4.1683           15\n",
       "6            4.2772            4.4407           30"
      ]
     },
     "execution_count": 3,
     "metadata": {},
     "output_type": "execute_result"
    }
   ],
   "source": [
    "dfSwapRate = pd.DataFrame({'term (year)': [2, 3, 5, 7, 10, 15, 30],\n",
    "                            '20081029 rate(%)': [2.6967, 3.1557, 3.8111, 4.1497, 4.3638, 4.3753, 4.2772],\n",
    "                            '20110214 rate(%)': [1.0481, 1.5577, 2.5569, 3.1850, 3.7225, 4.1683, 4.4407]\n",
    "                          })\n",
    "dfSwapRate #swap rate s(0, N, 2N), where N is given in the last column; semi-annual payment"
   ]
  },
  {
   "cell_type": "markdown",
   "metadata": {},
   "source": [
    "__Algo__. \n"
   ]
  },
  {
   "cell_type": "code",
   "execution_count": 4,
   "metadata": {},
   "outputs": [],
   "source": [
    "#For Oct 29, 2008 rate \n",
    "npLibor = dfLiborRate.values #convert dataframe to ndarray\n",
    "TT = npLibor[:, -1]/12 #Tenor in year\n",
    "market_libor = npLibor[:,0]\n",
    "\n",
    "npSwap = dfSwapRate.values #data from panda dataframe to np.array\n",
    "NN = npSwap[:,-1] #Number of terms stored in an array\n",
    "market_swap = npSwap[:, 0]\n",
    "\n",
    "market_data = np.append(market_libor, market_swap)"
   ]
  },
  {
   "cell_type": "code",
   "execution_count": 5,
   "metadata": {},
   "outputs": [],
   "source": [
    "from explicit_option_price import *"
   ]
  },
  {
   "cell_type": "code",
   "execution_count": 6,
   "metadata": {},
   "outputs": [],
   "source": [
    "def model_value(th):\n",
    "    al, mu, sigma, r0 = th\n",
    "    LL = [vasicek_libor_rate(T, al, mu, sigma, r0) for T in TT] #calculate Libor\n",
    "    SS = [vasicek_swap_rate(N, 2*int(N), al, mu, sigma, r0) for N in NN] #calculate swap rate\n",
    "    return np.append(LL, SS)"
   ]
  },
  {
   "cell_type": "code",
   "execution_count": 7,
   "metadata": {},
   "outputs": [],
   "source": [
    "#function for SSRE\n",
    "#x and y shall be np.array with the same length\n",
    "def SSRE(th):\n",
    "    x = model_value(th)\n",
    "    y = market_data\n",
    "    return np.sum(np.power(x - y, 2)/np.power(y,2))\n"
   ]
  },
  {
   "cell_type": "code",
   "execution_count": 8,
   "metadata": {},
   "outputs": [
    {
     "name": "stdout",
     "output_type": "stream",
     "text": [
      "Optimization terminated successfully.\n",
      "         Current function value: 0.106657\n",
      "         Iterations: 117\n",
      "         Function evaluations: 198\n"
     ]
    }
   ],
   "source": [
    "th0 = [.1, .1, .001, .01]    #initial start\n",
    "th = so.fmin(SSRE, th0, ftol = .0001, maxiter = 1000)"
   ]
  },
  {
   "cell_type": "code",
   "execution_count": 13,
   "metadata": {},
   "outputs": [
    {
     "name": "stdout",
     "output_type": "stream",
     "text": [
      "---->>>>>For Oct 29, 2008, calibration: [0.17164324 0.06705246 0.00144671 0.0019926 ]\n"
     ]
    }
   ],
   "source": [
    "print('---->>>>>For Oct 29, 2008, calibration: ' + str(th))"
   ]
  },
  {
   "cell_type": "code",
   "execution_count": 10,
   "metadata": {},
   "outputs": [
    {
     "data": {
      "text/plain": [
       "<matplotlib.legend.Legend at 0x11136e128>"
      ]
     },
     "execution_count": 10,
     "metadata": {},
     "output_type": "execute_result"
    },
    {
     "data": {
      "image/png": "[encoded data removed]",
      "text/plain": [
       "<matplotlib.figure.Figure at 0x10e15d9b0>"
      ]
     },
     "metadata": {},
     "output_type": "display_data"
    }
   ],
   "source": [
    "al, mu, sigma, r0 = th\n",
    "x_co = np.append(TT,NN)\n",
    "y_co = [vasicek_zcb_value(T, al, mu, sigma, r0) for T in x_co]\n",
    "\n",
    "plt.subplot(2,1,1)\n",
    "plt.plot(x_co, y_co, label = 'vasicek')\n",
    "plt.xlabel('time to maturity')\n",
    "plt.ylabel('zcb price')\n",
    "plt.legend()"
   ]
  },
  {
   "cell_type": "code",
   "execution_count": 11,
   "metadata": {},
   "outputs": [
    {
     "data": {
      "text/plain": [
       "Text(0.5,0,'time to maturity')"
      ]
     },
     "execution_count": 11,
     "metadata": {},
     "output_type": "execute_result"
    },
    {
     "data": {
      "image/png": "[encoded data removed]",
      "text/plain": [
       "<matplotlib.figure.Figure at 0x11139b320>"
      ]
     },
     "metadata": {},
     "output_type": "display_data"
    }
   ],
   "source": [
    "x_co = TT\n",
    "y_co_1 = [vasicek_libor_rate(T, al, mu, sigma, r0) for T in x_co]\n",
    "y_co_2 = market_libor\n",
    "\n",
    "plt.subplot(2,1,1)\n",
    "plt.plot(x_co, y_co_1, 'o', label = 'vasicek')\n",
    "plt.plot(x_co, y_co_2, '-', label = 'market libor')\n",
    "plt.legend()\n",
    "plt.ylabel('Libor rates')\n",
    "plt.xlabel('time to maturity')\n",
    "\n",
    "x_co = NN\n",
    "y_co_1 = [vasicek_swap_rate(N, 2*int(N), al, mu, sigma, r0) for N in NN]\n",
    "y_co_2 = market_swap\n",
    "\n",
    "plt.subplot(2,1,2)\n",
    "plt.plot(x_co, y_co_1, 'o', label = 'vasicek')\n",
    "plt.plot(x_co, y_co_2, '-', label = 'market swap')\n",
    "plt.legend()\n",
    "plt.ylabel('Swap rates')\n",
    "plt.xlabel('time to maturity')\n"
   ]
  },
  {
   "cell_type": "markdown",
   "metadata": {},
   "source": [
    "__Remark__\n",
    "\n",
    "- The above calibrations are pretty identical to the reference [Hir13], but not volatility $\\sigma$.\n",
    "- From the curve, calibration does not fit the market data well. This is likely because a single factor model cannot capture the odd shape of market rates prevalent on that date."
   ]
  },
  {
   "cell_type": "code",
   "execution_count": 12,
   "metadata": {},
   "outputs": [
    {
     "name": "stdout",
     "output_type": "stream",
     "text": [
      "Optimization terminated successfully.\n",
      "         Current function value: 0.072271\n",
      "         Iterations: 104\n",
      "         Function evaluations: 183\n",
      "For Feb 14, 2011, calibration: [0.17164324 0.06705246 0.00144671 0.0019926 ]\n"
     ]
    }
   ],
   "source": [
    "\n",
    "#For Feb 14, 2011 rate \n",
    "npLibor = dfLiborRate.values #convert dataframe to ndarray\n",
    "TT = npLibor[:, -1]/12 #Tenor in year\n",
    "market_libor = npLibor[:,1]\n",
    "\n",
    "npSwap = dfSwapRate.values #data from panda dataframe to np.array\n",
    "NN = npSwap[:,-1] #Number of terms stored in an array\n",
    "market_swap = npSwap[:, 1]\n",
    "\n",
    "market_data = np.append(market_libor, market_swap)\n",
    "\n",
    "th0 = [.1, .1, .001, .01]    #initial start\n",
    "\n",
    "th = so.fmin(SSRE, th0, ftol = .0001, maxiter = 1000)\n",
    "print('For Feb 14, 2011, calibration: ' + str(th))\n"
   ]
  },
  {
   "cell_type": "code",
   "execution_count": null,
   "metadata": {},
   "outputs": [],
   "source": []
  }
 ],
 "metadata": {
  "kernelspec": {
   "display_name": "Python 3",
   "language": "python",
   "name": "python3"
  },
  "language_info": {
   "codemirror_mode": {
    "name": "ipython",
    "version": 3
   },
   "file_extension": ".py",
   "mimetype": "text/x-python",
   "name": "python",
   "nbconvert_exporter": "python",
   "pygments_lexer": "ipython3",
   "version": "3.6.4"
  }
 },
 "nbformat": 4,
 "nbformat_minor": 2
}
