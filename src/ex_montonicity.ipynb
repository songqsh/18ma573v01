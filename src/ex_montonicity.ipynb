{
 "cells": [
  {
   "cell_type": "markdown",
   "metadata": {},
   "source": [
    "__Ex.__ Suppose\n",
    "- $f$ is convex\n",
    "- $X$ is submartingale\n",
    "\n",
    "then $g(t) = \\mathbb E[f(X_t)]$ is increasing."
   ]
  },
  {
   "cell_type": "markdown",
   "metadata": {},
   "source": [
    "__Ex.__\n",
    "Let\n",
    "$t \\mapsto e^{-rt}S_t$ be a martingale, \n",
    "then $$C(t) = \\mathbb E[e^{-rt}(S_t - K)^+]$$ is increasing."
   ]
  },
  {
   "cell_type": "markdown",
   "metadata": {},
   "source": [
    "__Ex.__\n",
    "Suppose\n",
    "- $r = 0$ and \n",
    "- $S$ is martingale\n",
    "\n",
    "then $P(t) = \\mathbb E [(S_t - K)^-]$ is increasing."
   ]
  },
  {
   "cell_type": "code",
   "execution_count": null,
   "metadata": {},
   "outputs": [],
   "source": []
  }
 ],
 "metadata": {
  "kernelspec": {
   "display_name": "Python 3",
   "language": "python",
   "name": "python3"
  },
  "language_info": {
   "codemirror_mode": {
    "name": "ipython",
    "version": 3
   },
   "file_extension": ".py",
   "mimetype": "text/x-python",
   "name": "python",
   "nbconvert_exporter": "python",
   "pygments_lexer": "ipython3",
   "version": "3.6.4"
  }
 },
 "nbformat": 4,
 "nbformat_minor": 2
}
