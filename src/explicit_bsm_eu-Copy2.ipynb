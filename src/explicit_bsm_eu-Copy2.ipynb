{
 "cells": [
  {
   "cell_type": "markdown",
   "metadata": {},
   "source": [
    "__Abstract__\n",
    "\n",
    "- Goal\n",
    "    - Run exact BSM call and put price\n",
    "- Ref"
   ]
  },
  {
   "cell_type": "markdown",
   "metadata": {},
   "source": [
    "__Problem__\n",
    "\n",
    "BS model assumes the distribution of stock as lognormal. In particular, with the parameters denoted by\n",
    "\n",
    "* $S(0)$: The initial stock price\n",
    "* $S(T)$: The stock price at $T$\n",
    "* $r$: interest rate\n",
    "* $\\sigma$: volatility\n",
    "\n",
    "\n",
    "Our goal is to find the exact value of call and put price with maturity $T$ and $K$, denoted by $C_0$ and $P_0$."
   ]
  },
  {
   "cell_type": "markdown",
   "metadata": {},
   "source": [
    "__Anal__. Use BSM formulae:\n",
    "$$C_0 = \\mathbb E [e^{-rT} (S(T) - K)^+] = S_0  \\Phi(d_1) - K e^{-rT} \\Phi(d_2),$$\n",
    "and \n",
    "$$P_0 = \\mathbb E [e^{-rT} (S(T) - K)^-] = K e^{-rT} \\Phi(- d_2) - S_0  \\Phi(- d_1),$$\n",
    "where $d_i$ are given as\n",
    "$$d_1 = \\frac{(r + \\frac 1 2 \\sigma^2) T - \\ln \\frac{K}{S_0}}{\\sigma \\sqrt T}, \n",
    "\\quad d_2 = \\frac{(r - \\frac 1 2 \\sigma^2) T - \\ln \\frac{K}{S_0}}{\\sigma \\sqrt T}.$$"
   ]
  },
  {
   "cell_type": "markdown",
   "metadata": {},
   "source": [
    "__Parameters__\n",
    "\n",
    "$$S(0) = 100, K = 110, r = 4.75\\%, \\sigma = 20\\%, T = 1.$$"
   ]
  },
  {
   "cell_type": "markdown",
   "metadata": {},
   "source": [
    "__Algo__. \n"
   ]
  },
  {
   "cell_type": "code",
   "execution_count": 2,
   "metadata": {},
   "outputs": [
    {
     "name": "stdout",
     "output_type": "stream",
     "text": [
      "call is 5.943273183452838 and put is 5.943273183452838\n"
     ]
    }
   ],
   "source": [
    "%reset -f\n",
    "from explicit_option_price import *\n",
    "S0 = 100.0\n",
    "K = 110.0\n",
    "r=0.0475\n",
    "sigma = 0.20\n",
    "T = 1.\n",
    "icall = bsm_call_value(S0, K, T, r, sigma)\n",
    "\n",
    "print('call is ' + repr(icall) + ' and put is ' + repr(icall))"
   ]
  },
  {
   "cell_type": "code",
   "execution_count": 3,
   "metadata": {},
   "outputs": [
    {
     "name": "stdout",
     "output_type": "stream",
     "text": [
      "#\r\n",
      "# Black-Scholes-Merton (1973) European Call & Put Valuation\r\n",
      "# 05_com/BSM_option_valuation.py\r\n",
      "#\r\n",
      "# (c) Dr. Yves J. Hilpisch\r\n",
      "# Derivatives Analytics with Python\r\n",
      "#\r\n",
      "import math\r\n",
      "import numpy as np\r\n",
      "#import matplotlib.pyplot as plt\r\n",
      "import scipy.stats as ss\r\n",
      "\r\n",
      "\r\n",
      "\r\n",
      "def d1f(S0, K, T, r, sigma):\r\n",
      "    ''' Black-Scholes-Merton d1 function.\r\n",
      "        Parameters see e.g. BSM_call_value function. '''\r\n",
      "    d1 = (math.log(S0 / K) + (r + 0.5 * sigma ** 2)\r\n",
      "          * T) / (sigma * math.sqrt(T))\r\n",
      "    return d1\r\n",
      "\r\n",
      "\r\n",
      "#\r\n",
      "# Valuation Functions\r\n",
      "#\r\n",
      "\r\n",
      "def bsm_call_value(S0, K, T, r, sigma):\r\n",
      "    ''' Calculates Black-Scholes-Merton European call option value.\r\n",
      "\r\n",
      "    Parameters\r\n",
      "    ==========\r\n",
      "    St : float\r\n",
      "        stock/index level at time t\r\n",
      "    K : float\r\n",
      "        strike price\r\n",
      "    T : float\r\n",
      "        date of maturity/time-to-maturity if t = 0; T > t\r\n",
      "    r : float\r\n",
      "        constant, risk-less short rate\r\n",
      "    sigma : float\r\n",
      "        volatility\r\n",
      "\r\n",
      "    Returns\r\n",
      "    =======\r\n",
      "    call_value : float\r\n",
      "        European call present value at t\r\n",
      "    '''\r\n",
      "    d1 = d1f(S0, K, T, r, sigma)\r\n",
      "    d2 = d1 - sigma * math.sqrt(T)\r\n",
      "    call_value = S0 * ss.norm.cdf(d1) - math.exp(-r * T) * K * ss.norm.cdf(d2)\r\n",
      "    return call_value\r\n",
      "\r\n",
      "\r\n",
      "def bsm_put_value(S0, K, T, r, sigma):\r\n",
      "    ''' Calculates Black-Scholes-Merton European put option value.\r\n",
      "\r\n",
      "    Parameters\r\n",
      "    ==========\r\n",
      "    St : float\r\n",
      "        stock/index level at time t\r\n",
      "    K : float\r\n",
      "        strike price\r\n",
      "    T : float\r\n",
      "        date of maturity/time-to-maturity if t = 0; T > t\r\n",
      "    r : float\r\n",
      "        constant, risk-less short rate\r\n",
      "    sigma : float\r\n",
      "        volatility\r\n",
      "\r\n",
      "    Returns\r\n",
      "    =======\r\n",
      "    put_value : float\r\n",
      "        European put present value at t\r\n",
      "    '''\r\n",
      "    put_value = bsm_call_value(S0, K, T, r, sigma) \\\r\n",
      "        - S0 + math.exp(-r * T) * K\r\n",
      "    return put_value\r\n",
      "\r\n",
      "\r\n",
      "def vasicek_zcb_value(T, al, mu, sigma, r0):\r\n",
      "    \r\n",
      "    '''\r\n",
      "    Calculates zcb $P(0, T)$ given vasicek mdoel with\r\n",
      "    model parameters\r\n",
      "        al, mu, sigma, r0\r\n",
      "    '''\r\n",
      "    \r\n",
      "    B = (1 - np.exp(-al*T))/al\r\n",
      "    A = (B - T)*(mu - sigma**2/2/al**2) - sigma**2/4/al*B**2\r\n",
      "    \r\n",
      "    P = np.exp(A - B*r0)\r\n",
      "    return P\r\n",
      "\r\n",
      "def vasicek_libor_rate(T, al, mu, sigma, r0):\r\n",
      "    '''\r\n",
      "    Calculates Libor rate $L(0, T)$ given vasicek mdoel with\r\n",
      "    model parameters\r\n",
      "        al, mu, sigma, r0\r\n",
      "    '''\r\n",
      "    P = vasicek_zcb_value(T, al, mu, sigma, r0)\r\n",
      "    L = 100/T*(1/P - 1)\r\n",
      "    return L\r\n",
      "\r\n",
      "    \r\n",
      "def vasicek_swap_rate(T, N, al, mu, sigma, r0):\r\n",
      "    delta = T/N\r\n",
      "    PP = np.zeros(N) #store zcb prices\r\n",
      "    for i in range(N):\r\n",
      "        PP[i] = vasicek_zcb_value((i+1)*delta, al, mu, sigma, r0)\r\n",
      "\r\n",
      "    S = 100*(1 - PP[-1])/delta/np.sum(PP)\r\n",
      "    return S    \r\n",
      "    \r\n",
      "    \r\n",
      "\r\n",
      "if __name__ == \"__main__\":\r\n",
      "    \r\n",
      "    #vasicek model parameter\r\n",
      "    th = [.1, .05, .003, .03]\r\n",
      "    al, mu, sigma, r0 = th\r\n",
      "    \r\n",
      "    print('vasicek model is given as ' + str(th))\r\n",
      "    \r\n",
      "    print('zcb P(0,1) is ' + str(vasicek_zcb_value(1, al, mu, sigma, r0)))\r\n",
      "    \r\n",
      "    print('Libor L(0,1) is ' + str(vasicek_libor_rate(1, al, mu, sigma, r0)))\r\n",
      "    \r\n",
      "    \r\n",
      "    \r\n",
      "    "
     ]
    }
   ],
   "source": [
    "%cat explicit_option_price.py"
   ]
  },
  {
   "cell_type": "code",
   "execution_count": null,
   "metadata": {},
   "outputs": [],
   "source": []
  }
 ],
 "metadata": {
  "kernelspec": {
   "display_name": "Python 3",
   "language": "python",
   "name": "python3"
  },
  "language_info": {
   "codemirror_mode": {
    "name": "ipython",
    "version": 3
   },
   "file_extension": ".py",
   "mimetype": "text/x-python",
   "name": "python",
   "nbconvert_exporter": "python",
   "pygments_lexer": "ipython3",
   "version": "3.6.4"
  }
 },
 "nbformat": 4,
 "nbformat_minor": 2
}
