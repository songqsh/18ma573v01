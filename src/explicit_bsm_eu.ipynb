{
 "cells": [
  {
   "cell_type": "markdown",
   "metadata": {},
   "source": [
    "__Abstract__\n",
    "\n",
    "- Goal\n",
    "    - Run exact BSM call and put price\n",
    "- Ref"
   ]
  },
  {
   "cell_type": "markdown",
   "metadata": {},
   "source": [
    "__Problem__\n",
    "\n",
    "BS model assumes the distribution of stock as lognormal. In particular, with the parameters denoted by\n",
    "\n",
    "* $S(0)$: The initial stock price\n",
    "* $S(T)$: The stock price at $T$\n",
    "* $r$: interest rate\n",
    "* $\\sigma$: volatility\n",
    "\n",
    "\n",
    "Our goal is to find the exact value of call and put price with maturity $T$ and $K$, denoted by $C_0$ and $P_0$."
   ]
  },
  {
   "cell_type": "markdown",
   "metadata": {},
   "source": [
    "__Anal__. Use BSM formulae:\n",
    "$$C_0 = \\mathbb E [e^{-rT} (S(T) - K)^+] = S_0  \\Phi(d_1) - K e^{-rT} \\Phi(d_2),$$\n",
    "and \n",
    "$$P_0 = \\mathbb E [e^{-rT} (S(T) - K)^-] = K e^{-rT} \\Phi(- d_2) - S_0  \\Phi(- d_1),$$\n",
    "where $d_i$ are given as\n",
    "$$d_1 = \\frac{(r + \\frac 1 2 \\sigma^2) T - \\ln \\frac{K}{S_0}}{\\sigma \\sqrt T}, \n",
    "\\quad \n",
    "d_2 = \\frac{(r - \\frac 1 2 \\sigma^2) T - \\ln \\frac{K}{S_0}}{\\sigma \\sqrt T} = d_1 - \\sigma \\sqrt T.$$"
   ]
  },
  {
   "cell_type": "markdown",
   "metadata": {},
   "source": [
    "__Parameters__\n",
    "\n",
    "$$S(0) = 100, K = 110, r = 4.75\\%, \\sigma = 20\\%, T = 1.$$"
   ]
  },
  {
   "cell_type": "markdown",
   "metadata": {},
   "source": [
    "__Algo__. \n"
   ]
  },
  {
   "cell_type": "code",
   "execution_count": 1,
   "metadata": {},
   "outputs": [],
   "source": [
    "import numpy as np\n",
    "import pandas as pd\n",
    "import matplotlib.pyplot as plt\n",
    "import scipy.stats as ss"
   ]
  },
  {
   "cell_type": "code",
   "execution_count": 2,
   "metadata": {},
   "outputs": [],
   "source": [
    "#Setting parameters\n",
    "S0 = 100.0\n",
    "K = 110.0\n",
    "r=0.0475\n",
    "sigma = 0.20\n",
    "T = 1."
   ]
  },
  {
   "cell_type": "code",
   "execution_count": 8,
   "metadata": {},
   "outputs": [],
   "source": [
    "def bsm_call_value(S0, K, T, r, sigma):\n",
    "    ''' Calculates Black-Scholes-Merton European call option value.\n",
    "    '''\n",
    "    d1 = (np.log(S0 / K) + (r + 0.5 * sigma ** 2)\n",
    "          * T) / (sigma * np.sqrt(T))\n",
    "    \n",
    "    d2 = d1 - sigma * np.sqrt(T)\n",
    "    call_value = S0 * ss.norm.cdf(d1) - np.exp(-r * T) * K * ss.norm.cdf(d2)\n",
    "    return call_value"
   ]
  },
  {
   "cell_type": "code",
   "execution_count": 4,
   "metadata": {},
   "outputs": [],
   "source": [
    "def bsm_put_value(S0, K, T, r, sigma):\n",
    "    ''' Calculates Black-Scholes-Merton European put option value.\n",
    "    '''\n",
    "    put_value = bsm_call_value(S0, K, T, r, sigma) \\\n",
    "        - S0 + np.exp(-r * T) * K\n",
    "    return put_value"
   ]
  },
  {
   "cell_type": "code",
   "execution_count": 5,
   "metadata": {},
   "outputs": [
    {
     "name": "stdout",
     "output_type": "stream",
     "text": [
      "call is 5.943273183452838 and put is 10.840425228041752\n"
     ]
    }
   ],
   "source": [
    "icall = bsm_call_value(S0, K, T, r, sigma)\n",
    "iput = bsm_put_value(S0, K, T, r, sigma)\n",
    "\n",
    "print('call is ' + repr(icall) + ' and put is ' + repr(iput))"
   ]
  },
  {
   "cell_type": "code",
   "execution_count": null,
   "metadata": {},
   "outputs": [],
   "source": []
  }
 ],
 "metadata": {
  "kernelspec": {
   "display_name": "Python 3",
   "language": "python",
   "name": "python3"
  },
  "language_info": {
   "codemirror_mode": {
    "name": "ipython",
    "version": 3
   },
   "file_extension": ".py",
   "mimetype": "text/x-python",
   "name": "python",
   "nbconvert_exporter": "python",
   "pygments_lexer": "ipython3",
   "version": "3.6.4"
  }
 },
 "nbformat": 4,
 "nbformat_minor": 2
}
