{
 "cells": [
  {
   "cell_type": "markdown",
   "metadata": {},
   "source": [
    "__Abstract__\n",
    "\n",
    "- Goal\n",
    "    - Given Vasicek short rate model, run exact formula for zcb, Libor, swap\n",
    "- Ref"
   ]
  },
  {
   "cell_type": "markdown",
   "metadata": {},
   "source": [
    "__Problem__\n",
    "\n",
    "Vasicek model for the short rates with parameter $\\theta = (\\alpha, \\mu, \\sigma, r_t)$ is given by\n",
    "$$d r_s = \\alpha (\\mu - r_s) ds + dW_s, \\ s\\ge t.$$\n",
    "Our goal is to compute\n",
    "\n",
    "- $P(t, T)$: zero coupon bond price\n",
    "- $L(t, T)$: LIBOR rate\n",
    "- $s(t, T, N)$: swap rate with $N$ terms on $[t, T]$\n"
   ]
  },
  {
   "cell_type": "markdown",
   "metadata": {},
   "source": [
    "__Anal__\n",
    "\n",
    "- ZCB Pricing formula is given by\n",
    "$$P(t, T) = \\exp\\{A(t, T) - B(t, T) r_t\\},$$\n",
    "where\n",
    "$$B(t, T) = \\frac{1 - e^{-\\alpha(T-t)}}{\\alpha}$$\n",
    "and \n",
    "$$\n",
    "A(t, T) = (\\mu - \\frac{\\sigma^2}{2\\alpha^2}) [B(t, T) - (T-t)] - \\frac{\\sigma^2}{4\\alpha} B^2(t, T).\n",
    "$$\n",
    "\n",
    "- Libor rate and swap rate are given as below. Note that, these formulas are determined by ZCB price only. In ohter words, it applies to any underlying short rate model.\n",
    "$$L(t, T) = \\frac{100}{T-t} ( \\frac{1}{P(t, T)} - 1)$$\n",
    "and \n",
    "$$ s(t, T, N) = 100 \\frac{1 - P(t, T)}{ \\Delta \\sum_{j=1}^N P(t, t + j \\Delta)}, \\hbox{ where } \\Delta = \\frac{T - t}{N}. $$"
   ]
  },
  {
   "cell_type": "markdown",
   "metadata": {},
   "source": [
    "__Parameters__\n",
    "\n",
    "We shall find $P(0,1)$, $L(0,1)$, and $s(0,10,10) with the following Vasicek model:\n"
   ]
  },
  {
   "cell_type": "code",
   "execution_count": 1,
   "metadata": {},
   "outputs": [],
   "source": [
    "#model parameter\n",
    "th = [.1, .05, .003, .03]\n",
    "al, mu, sigma, r0 = th\n",
    "\n",
    "T = 1. #maturity of zcb\n",
    "N = 10 #number of swap terms"
   ]
  },
  {
   "cell_type": "markdown",
   "metadata": {},
   "source": [
    "__Algo__. \n"
   ]
  },
  {
   "cell_type": "code",
   "execution_count": 2,
   "metadata": {},
   "outputs": [
    {
     "name": "stdout",
     "output_type": "stream",
     "text": [
      "zcb P(0,1) is 0.9695084475425054\n"
     ]
    }
   ],
   "source": [
    "from explicit_option_price import *\n",
    "\n",
    "P = vasicek_zcb_value(T, al, mu, sigma, r0)\n",
    "print('zcb P(0,1) is ' + str(P))"
   ]
  },
  {
   "cell_type": "code",
   "execution_count": 3,
   "metadata": {},
   "outputs": [
    {
     "name": "stdout",
     "output_type": "stream",
     "text": [
      "Libor L(0,1) is 3.145052787810565\n"
     ]
    }
   ],
   "source": [
    "L = 100/T*(1/P - 1)\n",
    "print('Libor L(0,1) is ' + str(L))"
   ]
  },
  {
   "cell_type": "code",
   "execution_count": 4,
   "metadata": {},
   "outputs": [
    {
     "name": "stdout",
     "output_type": "stream",
     "text": [
      "swap rate s(0,10,10) is\n"
     ]
    },
    {
     "data": {
      "text/plain": [
       "3.7595005435913667"
      ]
     },
     "execution_count": 4,
     "metadata": {},
     "output_type": "execute_result"
    }
   ],
   "source": [
    "T_swap = 10.\n",
    "print('swap rate s(0,10,10) is')\n",
    "vasicek_swap_rate(T_swap, N, al, mu, sigma, r0)"
   ]
  },
  {
   "cell_type": "code",
   "execution_count": null,
   "metadata": {},
   "outputs": [],
   "source": []
  }
 ],
 "metadata": {
  "kernelspec": {
   "display_name": "Python 3",
   "language": "python",
   "name": "python3"
  },
  "language_info": {
   "codemirror_mode": {
    "name": "ipython",
    "version": 3
   },
   "file_extension": ".py",
   "mimetype": "text/x-python",
   "name": "python",
   "nbconvert_exporter": "python",
   "pygments_lexer": "ipython3",
   "version": "3.6.4"
  }
 },
 "nbformat": 4,
 "nbformat_minor": 2
}
