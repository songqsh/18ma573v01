{
 "cells": [
  {
   "cell_type": "code",
   "execution_count": 1,
   "metadata": {},
   "outputs": [],
   "source": [
    "import numpy as np\n",
    "from scipy.integrate import quad\n",
    "\n",
    "from contract_v01 import VanillaOption\n",
    "from sde_1d_v01 import Gbm_1d"
   ]
  },
  {
   "cell_type": "code",
   "execution_count": 2,
   "metadata": {},
   "outputs": [
    {
     "name": "stdout",
     "output_type": "stream",
     "text": [
      ">>>>>>>>>>call value is 5.943273183452838\n"
     ]
    }
   ],
   "source": [
    "'''===============\n",
    "Test bsm_price\n",
    "================='''\n",
    "\n",
    "gbm1 = Gbm_1d(init_state=100., drift_ratio=.0475, vol_ratio=.2)\n",
    "option1 = VanillaOption(otype = 1, strike = 110., maturity= 1., market_price=15.) \n",
    "\n",
    "print('>>>>>>>>>>call value is ' + str(gbm1.bsm_price(option1)))\n"
   ]
  },
  {
   "cell_type": "code",
   "execution_count": 3,
   "metadata": {},
   "outputs": [],
   "source": [
    "'''========\n",
    "paras\n",
    "============'''\n",
    "s0 = 100\n",
    "r = .0475\n",
    "sigma = .2\n",
    "otype = 1\n",
    "K = 110.\n",
    "T = 1.\n"
   ]
  },
  {
   "cell_type": "code",
   "execution_count": 4,
   "metadata": {},
   "outputs": [],
   "source": [
    "log_s0 = np.log(s0)\n",
    "log_k = np.log(K)\n",
    "mu = r - .5*sigma**2\n",
    "\n",
    "alpha = 1"
   ]
  },
  {
   "cell_type": "code",
   "execution_count": 5,
   "metadata": {},
   "outputs": [],
   "source": [
    "char_fun = lambda u: np.exp(1j*u*(log_s0+mu*T) - .5*(sigma**2)*T*(u**2))\n",
    "psi = lambda nu: (np.exp(-r*T)*char_fun(nu-(alpha+1)*1j))/(alpha**2+alpha-nu**2+1j*(2*alpha+1)*nu)\n",
    "integrand = lambda nu: (np.exp(-1j*nu*log_k)*psi(nu)).real"
   ]
  },
  {
   "cell_type": "code",
   "execution_count": 6,
   "metadata": {},
   "outputs": [],
   "source": [
    "call = quad(integrand, 0, np.inf)[0]*np.exp(-alpha*log_k)/np.pi"
   ]
  },
  {
   "cell_type": "code",
   "execution_count": 7,
   "metadata": {},
   "outputs": [
    {
     "data": {
      "text/plain": [
       "5.943273183452849"
      ]
     },
     "execution_count": 7,
     "metadata": {},
     "output_type": "execute_result"
    }
   ],
   "source": [
    "call"
   ]
  },
  {
   "cell_type": "code",
   "execution_count": null,
   "metadata": {},
   "outputs": [],
   "source": []
  }
 ],
 "metadata": {
  "kernelspec": {
   "display_name": "Python 3",
   "language": "python",
   "name": "python3"
  },
  "language_info": {
   "codemirror_mode": {
    "name": "ipython",
    "version": 3
   },
   "file_extension": ".py",
   "mimetype": "text/x-python",
   "name": "python",
   "nbconvert_exporter": "python",
   "pygments_lexer": "ipython3",
   "version": "3.6.4"
  }
 },
 "nbformat": 4,
 "nbformat_minor": 2
}
