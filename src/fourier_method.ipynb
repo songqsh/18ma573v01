{
 "cells": [
  {
   "cell_type": "markdown",
   "metadata": {},
   "source": [
    "# Fourier transform in european option pricing"
   ]
  },
  {
   "cell_type": "markdown",
   "metadata": {},
   "source": [
    "## Abstract\n",
    "\n",
    "Our goal is\n",
    "\n",
    "- Use Fourier transform method for european call pricing whenever characteristic function is available for its log price"
   ]
  },
  {
   "cell_type": "markdown",
   "metadata": {},
   "source": [
    "## Problem"
   ]
  },
  {
   "cell_type": "markdown",
   "metadata": {},
   "source": [
    "In the __Heston__ model, the dynamic involves two processes $(S_{t}, \\nu_{t})$.\n",
    "More precisely, the asset price $S$ follows generalized geometric Brownian motion with random volatility process $\\sqrt{\\nu_{t}}$, i.e.  \n",
    "$$d S_{t} = r S_{t} dt + \\sqrt{\\nu_{t}} S_{t} dW_{1,t},$$\n",
    "while squared of volatility process $\\nu$ follows CIR process\n",
    "$$ d \\nu_{t} = \\kappa (\\theta - \\nu_{t}) dt + \\xi \\sqrt{\\nu_{t}} (\\rho dW_{1,t} + \n",
    "\\bar \\rho d W_{2,t})$$\n",
    "with $\\rho^{2} + \\bar \\rho^{2} = 1.$ Feller condition for its existence of the solution is\n",
    "$$2\\kappa \\theta > \\xi^{2}.$$"
   ]
  },
  {
   "cell_type": "markdown",
   "metadata": {},
   "source": [
    "Our goal is to use Fourier transform to evaluate Call$(T =1, K = 100)$\n",
    "underlying Heston model with the following parameters:\n",
    "$$ S_{0} = 100, \\nu(0) = .04, r = .05, \\kappa = 1.2, \n",
    "\\theta = .04, \\xi = .3, \\rho = .5.$$\n",
    "\n",
    "There is no explicit formula for both call price and pdf of $S_T$. However, the explicit formula for the __characteristic function__ of $\\log S_T$ is available. Therefore, it is perfectly suitable for Fourier transform method."
   ]
  },
  {
   "cell_type": "markdown",
   "metadata": {},
   "source": [
    "## Analysis"
   ]
  },
  {
   "cell_type": "markdown",
   "metadata": {},
   "source": [
    "### Main result\n",
    "\n",
    "We assume the characteristic function of a random variable $X$ is defined by\n",
    "$$\\phi(u) = \\mathbb E \\exp(iu X).$$"
   ]
  },
  {
   "cell_type": "markdown",
   "metadata": {},
   "source": [
    "__ex__ Prove that, if $X\\sim \\mathcal N(\\mu, \\sigma^2)$, then its characteristic function is\n",
    "$$\\log \\phi(u) = i u \\mu - \\frac{1}{2} u^2 \\sigma^2.$$"
   ]
  },
  {
   "cell_type": "markdown",
   "metadata": {},
   "source": [
    "__Propostion__\n",
    "\n",
    "Let interest rate be $r$ and the characteristic function of $\\ln(S_T)$ be $\\phi$. The price of Call(T, K) is\n",
    "$$ C = S_0 I_1 - K e^{-rT} I_2,$$\n",
    "where\n",
    "$$I_1(\\phi, \\ln K) = \\frac 1 2 + \\frac 1 \\pi \\int_0^\\infty Re \\Big( \\frac{e^{-iu \\ln(K)} \\phi(u - i)}{iu \\phi(-i)} \\Big) du$$\n",
    "and \n",
    "$$I_2(\\phi, \\ln K) = \\frac 1 2 + \\frac 1 \\pi \\int_0^\\infty Re \\Big( \\frac{e^{-iu \\ln(K)} \\phi(u)}{iu} \\Big) du.$$"
   ]
  },
  {
   "cell_type": "markdown",
   "metadata": {},
   "source": [
    "The above presentation actually gives straightforward evaluation for python as long as the characteristic function is available. One may use scipy.integrate.quad for two integrations in the formula."
   ]
  },
  {
   "cell_type": "markdown",
   "metadata": {},
   "source": [
    "### Proof"
   ]
  },
  {
   "cell_type": "markdown",
   "metadata": {},
   "source": [
    "We recall that the characteristic function of a random variable $X$ is defined by\n",
    "$$\\phi(u) = \\mathbb E \\exp(iu X).$$"
   ]
  },
  {
   "cell_type": "markdown",
   "metadata": {},
   "source": [
    "- (hw) Prove \n",
    "$$\\int_0^\\infty \\frac{\\sin t}{t} dt = \\pi/2.$$"
   ]
  },
  {
   "cell_type": "markdown",
   "metadata": {},
   "source": [
    "__Lemma__\n",
    "\n",
    "$$I(X>H) = \\frac 1 2 + \\frac 1 \\pi \\int_0^\\infty \\frac{\\sin (u(X-H))}{u} du.$$"
   ]
  },
  {
   "cell_type": "markdown",
   "metadata": {},
   "source": [
    "__Lemma__ \n",
    "\n",
    "For $\\phi = \\phi_X$, we have\n",
    "$$\\mathbb P(X>H) = I_2(\\phi, H).$$"
   ]
  },
  {
   "cell_type": "markdown",
   "metadata": {},
   "source": [
    "__Lemma__\n",
    "\n",
    "For $\\phi = \\phi_X$, we have\n",
    "$$\\frac{\\mathbb E[e^X I(X>H)]}{\\mathbb E[ e^X]} = I_1(\\phi, H)$$"
   ]
  },
  {
   "cell_type": "markdown",
   "metadata": {},
   "source": [
    "__Proof of proposition__\n",
    "\n",
    "$$C = \\mathbb E [ e^{-rT} S_T I(\\ln S_T > \\ln K)] - K e^{-rT} \\mathbb E [ I(\\ln S_T > \\ln K)].$$\n",
    "Note that \n",
    "$$ \\mathbb E[e^{-rT} S_T] = S_0.$$\n",
    "Therefore, we have\n",
    "$$C = S_0 \n",
    "\\frac{\\mathbb E [ S_T I(\\ln S_T > \\ln K)]}{\\mathbb E[S_T]} - K e^{-rT} \\mathbb E [ I(\\ln S_T > \\ln K)].$$\n",
    "Now, we conclude the result by utilizing the above lemmas with $X = \\ln S_T$."
   ]
  },
  {
   "cell_type": "code",
   "execution_count": null,
   "metadata": {},
   "outputs": [],
   "source": []
  }
 ],
 "metadata": {
  "kernelspec": {
   "display_name": "Python 3",
   "language": "python",
   "name": "python3"
  },
  "language_info": {
   "codemirror_mode": {
    "name": "ipython",
    "version": 3
   },
   "file_extension": ".py",
   "mimetype": "text/x-python",
   "name": "python",
   "nbconvert_exporter": "python",
   "pygments_lexer": "ipython3",
   "version": "3.7.7"
  }
 },
 "nbformat": 4,
 "nbformat_minor": 2
}
