{
 "cells": [
  {
   "cell_type": "markdown",
   "metadata": {},
   "source": [
    "# Heston data cook"
   ]
  },
  {
   "cell_type": "code",
   "execution_count": 1,
   "metadata": {},
   "outputs": [],
   "source": [
    "import numpy as np\n",
    "import matplotlib.pyplot as plt"
   ]
  },
  {
   "cell_type": "markdown",
   "metadata": {},
   "source": [
    "## General 2d SDE"
   ]
  },
  {
   "cell_type": "code",
   "execution_count": 2,
   "metadata": {},
   "outputs": [],
   "source": [
    "'''=========\n",
    "sde_2d class init\n",
    "=========='''\n",
    "\n",
    "class SDE_2d:\n",
    "    def __init__(self,\n",
    "                init_state = [100., .04],\n",
    "                drift = lambda x: [0.01, 0.03], #x: 2-d array\n",
    "                vol = lambda x: [[0.1, 0], [0,0.1]], #x: 2-d array, vol: 2 by 2 array\n",
    "                ):\n",
    "        self.init_state = init_state\n",
    "        self.drift = drift\n",
    "        self.vol = vol\n",
    "        "
   ]
  },
  {
   "cell_type": "code",
   "execution_count": 3,
   "metadata": {},
   "outputs": [],
   "source": [
    "'''================\n",
    "euler_2d_difference \n",
    "input:\n",
    "    xh_i: 2_d current state\n",
    "    dt: 1_d time diff\n",
    "    dw: 2_d bm increase\n",
    "output:\n",
    "    xh_i_diff: 2_d increase for euler solution\n",
    "=================='''\n",
    "\n",
    "def euler_2d_diff(self, xh_i, dt, dw):\n",
    "    #set SDE param\n",
    "    mu = self.drift\n",
    "    sigma = self.vol\n",
    "    \n",
    "    return np.array(mu(xh_i))*dt + np.matmul(sigma(xh_i), dw)\n",
    "\n",
    "SDE_2d.euler_diff = euler_2d_diff"
   ]
  },
  {
   "cell_type": "code",
   "execution_count": 4,
   "metadata": {},
   "outputs": [],
   "source": [
    "'''==========\n",
    "euler method as a method of SDE_2d\n",
    "input:\n",
    "    time grid: np.array (t_i: i = 0, 1, ..., n)\n",
    "output: \n",
    "    euler solution: np.array (Xh_i: i = 0, 1, ..., n)\n",
    "==========='''\n",
    "\n",
    "def euler_2d(self, grid):\n",
    "    #step_size dt\n",
    "    dt = np.diff(grid)\n",
    "    \n",
    "    #generate 2d bm icrement\n",
    "    dw = np.array([np.random.normal(0, np.sqrt(dt)) for i in range(2)])\n",
    "\n",
    "    #initialize euler solution\n",
    "    x0 = self.init_state #2_d array\n",
    "    xh = np.array([x0[i] + np.zeros(grid.shape) for i in range(2)])\n",
    " \n",
    "    \n",
    "    #run euler\n",
    "    for i in range(dt.size):\n",
    "        xh[:,i+1] = xh[:,i] + self.euler_diff(xh[:,i], dt[i], dw[:,i]) #euler iteration        \n",
    "    return xh\n",
    "\n",
    "SDE_2d.euler = euler_2d"
   ]
  },
  {
   "cell_type": "markdown",
   "metadata": {},
   "source": [
    "## Heston subclass "
   ]
  },
  {
   "cell_type": "code",
   "execution_count": 5,
   "metadata": {},
   "outputs": [],
   "source": [
    "'''============\n",
    "Heston class inherited from sde_2d\n",
    "============='''\n",
    "\n",
    "class Heston(SDE_2d):\n",
    "    def __init__(self,\n",
    "                 init_state = [100., .04],\n",
    "                 r = .05,\n",
    "                 kappa = 1.2,\n",
    "                 theta = .04,\n",
    "                 xi = .3,\n",
    "                 rho = .5,\n",
    "                ):\n",
    "        self.init_state = init_state\n",
    "        rho_bar = np.sqrt(1 - rho**2)\n",
    "        self.drift = lambda x: [r*x[0], kappa*(theta -x[1])]\n",
    "        self.vol = lambda x: [\n",
    "            [np.sqrt(x[1])*x[0], 0], \n",
    "            [xi*np.sqrt(x[1])*rho, xi*np.sqrt(x[1])*rho_bar]\n",
    "        ]\n",
    "                              "
   ]
  },
  {
   "cell_type": "code",
   "execution_count": 6,
   "metadata": {},
   "outputs": [],
   "source": [
    "'''================\n",
    "euler_2d_difference for Heston class to overide SDE_2d class member\n",
    "\n",
    "input:\n",
    "    xh_i: 2_d current state\n",
    "    dt: 1_d time diff\n",
    "    dw: 2_d bm increase\n",
    "output:\n",
    "    xh_i_diff: 2_d increase for euler solution\n",
    "=================='''\n",
    "\n",
    "def euler_heston_diff(self, xh_i, dt, dw):\n",
    "    #set SDE param\n",
    "    mu = self.drift\n",
    "    sigma = self.vol\n",
    "    xh_i[1] = np.max([0, xh_i[1]]) #new line to override\n",
    "    \n",
    "    return np.array(mu(xh_i))*dt + np.matmul(sigma(xh_i), dw)\n",
    "\n",
    "Heston.euler_diff = euler_heston_diff #override"
   ]
  },
  {
   "cell_type": "markdown",
   "metadata": {},
   "source": [
    "## European options"
   ]
  },
  {
   "cell_type": "markdown",
   "metadata": {},
   "source": [
    "Test Euler method: \n",
    "We implement ordinary MC to find BSM call price, compare with exact price, see [pdf](../doc/euler_sde_2d.pdf)"
   ]
  },
  {
   "cell_type": "code",
   "execution_count": 7,
   "metadata": {},
   "outputs": [],
   "source": [
    "'''=========\n",
    "European option class init\n",
    "=========='''\n",
    "class EuropeanOption:\n",
    "    def __init__(self,\n",
    "                otype = 1, # 1: 'call'\n",
    "                        # -1: 'put'\n",
    "                strike = 110.,\n",
    "                maturity = 1.\n",
    "                ):\n",
    "        self.otype = otype\n",
    "        self.strike = strike\n",
    "        self.maturity = maturity\n",
    "        \n",
    "    def payoff(self, s): #s: excercise price\n",
    "        otype = self.otype\n",
    "        k = self.strike\n",
    "        maturity = self.maturity\n",
    "        return np.max([0, (s - k)*otype])\n",
    "        \n",
    "\n"
   ]
  },
  {
   "cell_type": "code",
   "execution_count": 8,
   "metadata": {},
   "outputs": [],
   "source": [
    "'''===================\n",
    "add \n",
    "euler price engine method for european option \n",
    "to\n",
    "Heston class\n",
    "===================='''\n",
    "\n",
    "def euler_price(self, euro_option, num_timestep=10, num_path=1000):\n",
    "    r = self.drift([1,1])[0] #interest rate\n",
    "    time_grid = np.linspace(0, euro_option.maturity, num_timestep)\n",
    "    terminal_price = [self.euler(time_grid)[0, -1] for i in range(num_path)]\n",
    "    payoff = [euro_option.payoff(s) for s in terminal_price]\n",
    "    return np.exp(-r*euro_option.maturity)*np.average(payoff)\n",
    "    \n",
    "Heston.euler_price = euler_price    "
   ]
  },
  {
   "cell_type": "code",
   "execution_count": 9,
   "metadata": {},
   "outputs": [
    {
     "name": "stdout",
     "output_type": "stream",
     "text": [
      "call price is 10.286980263787122\n"
     ]
    }
   ],
   "source": [
    "#Test call price\n",
    "\n",
    "heston1 = Heston()\n",
    "option1 = EuropeanOption(otype = 1, strike = 100., maturity = 1.)\n",
    "print('call price is ' + str(heston1.euler_price(option1)))"
   ]
  },
  {
   "cell_type": "code",
   "execution_count": 10,
   "metadata": {},
   "outputs": [
    {
     "name": "stdout",
     "output_type": "stream",
     "text": [
      "put price is 5.557643923860924\n"
     ]
    }
   ],
   "source": [
    "#Test put price\n",
    "\n",
    "heston2 = Heston()\n",
    "option2 = EuropeanOption(otype = -1, strike = 100., maturity = 1.)\n",
    "print('put price is ' + str(heston1.euler_price(option2)))"
   ]
  },
  {
   "cell_type": "markdown",
   "metadata": {},
   "source": [
    "## Cook data for European options"
   ]
  },
  {
   "cell_type": "code",
   "execution_count": 11,
   "metadata": {},
   "outputs": [],
   "source": [
    "'''=================\n",
    "Heston class to be used\n",
    "===================='''\n",
    "init_state = [100., .04]\n",
    "r = .03\n",
    "kappa = 1.2\n",
    "theta = .04\n",
    "xi = .3\n",
    "rho = .5\n",
    "heston3 = Heston(init_state,\n",
    "                 r,\n",
    "                 kappa,\n",
    "                 theta,\n",
    "                 xi,\n",
    "                 rho\n",
    "                )\n"
   ]
  },
  {
   "cell_type": "code",
   "execution_count": 12,
   "metadata": {},
   "outputs": [],
   "source": [
    "'''=============\n",
    "Write option prices into a file\n",
    "================'''\n",
    "\n",
    "header1 = (\n",
    "    '# Heston (init_state = ' \n",
    "    + str(init_state)\n",
    "    + ', r = '\n",
    "    + str(r)\n",
    "    + ', kappa = '\n",
    "    + str(kappa)\n",
    "    + ', theta = '\n",
    "    + str(theta)\n",
    "    + ', xi = '\n",
    "    + str(xi)\n",
    "    + ', rho = '\n",
    "    + str(rho)\n",
    "    + ')'\n",
    "    +'\\n'\n",
    "          )\n",
    "header2 = '#otype, maturity, strike, price \\n'\n",
    "with open('optiondata1.dat','w') as file_handle:\n",
    "    file_handle.write(header1)\n",
    "    file_handle.write(header2)\n",
    "    for otype in [-1,1]:\n",
    "        for maturity in np.array([1, 2, 3, 5, 6, 12])/12:\n",
    "            for strike in heston3.init_state[0]+np.arange(-4, 5):\n",
    "                option3 = EuropeanOption(otype, strike, maturity)\n",
    "                file_handle.write(str(otype) + ',' \n",
    "                                  +str(maturity) + ',' + str(strike) + ',' \n",
    "                                  + str(heston3.euler_price(option3, num_timestep = 10 + np.int(+maturity*12*5))) +'\\n')\n",
    "file_handle.close()               "
   ]
  },
  {
   "cell_type": "code",
   "execution_count": 13,
   "metadata": {},
   "outputs": [
    {
     "name": "stdout",
     "output_type": "stream",
     "text": [
      "[[-1.00000000e+00  8.33333333e-02  9.60000000e+01  6.85769726e-01]\n",
      " [-1.00000000e+00  8.33333333e-02  9.70000000e+01  1.02374103e+00]\n",
      " [-1.00000000e+00  8.33333333e-02  9.80000000e+01  1.24578209e+00]\n",
      " [-1.00000000e+00  8.33333333e-02  9.90000000e+01  1.69887134e+00]\n",
      " [-1.00000000e+00  8.33333333e-02  1.00000000e+02  2.24362754e+00]]\n"
     ]
    }
   ],
   "source": [
    "#Read data\n",
    "np_option_data1 = np.loadtxt('optiondata1.dat', comments='#', delimiter=',')\n",
    "print(np_option_data1[0:5, :])"
   ]
  },
  {
   "cell_type": "code",
   "execution_count": 14,
   "metadata": {},
   "outputs": [],
   "source": [
    "np_option_data2 = np.loadtxt('optiondata1.dat', comments='#', delimiter=',')\n",
    "\n",
    "filter1 = np_option_data2[np_option_data2[:,1] == 2/12]\n",
    "filter2 = filter1[filter1[:,0] == 1.]\n",
    "filter3 = filter2[filter2[:,2].astype(int)%2 == 1]"
   ]
  },
  {
   "cell_type": "code",
   "execution_count": 15,
   "metadata": {},
   "outputs": [],
   "source": [
    "filter4 = np_option_data2[np_option_data2[:,1] == 5/12]\n",
    "filter5 = filter4[filter4[:,0] == 1.]\n",
    "filter6 = filter5[filter5[:,2].astype(int)%2 == 1]"
   ]
  },
  {
   "cell_type": "code",
   "execution_count": 16,
   "metadata": {},
   "outputs": [],
   "source": [
    "filter7 = np.append(filter3, filter6, axis = 0)"
   ]
  },
  {
   "cell_type": "code",
   "execution_count": 17,
   "metadata": {},
   "outputs": [],
   "source": [
    "np.savetxt('optiondata2.dat', filter7, delimiter = ',', header = header2, footer = header1)"
   ]
  },
  {
   "cell_type": "code",
   "execution_count": 18,
   "metadata": {},
   "outputs": [
    {
     "data": {
      "text/plain": [
       "array([[  1.        ,   0.16666667,  97.        ,   5.32705461],\n",
       "       [  1.        ,   0.16666667,  99.        ,   3.86224255],\n",
       "       [  1.        ,   0.16666667, 101.        ,   2.7204371 ],\n",
       "       [  1.        ,   0.16666667, 103.        ,   2.1202793 ],\n",
       "       [  1.        ,   0.41666667,  97.        ,   7.23756307],\n",
       "       [  1.        ,   0.41666667,  99.        ,   5.95053461],\n",
       "       [  1.        ,   0.41666667, 101.        ,   5.2640122 ],\n",
       "       [  1.        ,   0.41666667, 103.        ,   4.97493422]])"
      ]
     },
     "execution_count": 18,
     "metadata": {},
     "output_type": "execute_result"
    }
   ],
   "source": [
    "np.loadtxt('optiondata2.dat', comments='#', delimiter=',')"
   ]
  },
  {
   "cell_type": "code",
   "execution_count": null,
   "metadata": {},
   "outputs": [],
   "source": []
  }
 ],
 "metadata": {
  "kernelspec": {
   "display_name": "Python 3",
   "language": "python",
   "name": "python3"
  },
  "language_info": {
   "codemirror_mode": {
    "name": "ipython",
    "version": 3
   },
   "file_extension": ".py",
   "mimetype": "text/x-python",
   "name": "python",
   "nbconvert_exporter": "python",
   "pygments_lexer": "ipython3",
   "version": "3.6.4"
  }
 },
 "nbformat": 4,
 "nbformat_minor": 2
}
