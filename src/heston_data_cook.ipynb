{
 "cells": [
  {
   "cell_type": "markdown",
   "metadata": {},
   "source": [
    "# Heston data cook"
   ]
  },
  {
   "cell_type": "code",
   "execution_count": 1,
   "metadata": {},
   "outputs": [],
   "source": [
    "import numpy as np\n",
    "import matplotlib.pyplot as plt"
   ]
  },
  {
   "cell_type": "markdown",
   "metadata": {},
   "source": [
    "## General 2d SDE"
   ]
  },
  {
   "cell_type": "code",
   "execution_count": 2,
   "metadata": {},
   "outputs": [],
   "source": [
    "'''=========\n",
    "sde_2d class init\n",
    "=========='''\n",
    "\n",
    "class SDE_2d:\n",
    "    def __init__(self,\n",
    "                init_state = [100., .04],\n",
    "                drift = lambda x: [0.01, 0.03], #x: 2-d array\n",
    "                vol = lambda x: [[0.1, 0], [0,0.1]], #x: 2-d array, vol: 2 by 2 array\n",
    "                ):\n",
    "        self.init_state = init_state\n",
    "        self.drift = drift\n",
    "        self.vol = vol\n",
    "        "
   ]
  },
  {
   "cell_type": "code",
   "execution_count": 3,
   "metadata": {},
   "outputs": [],
   "source": [
    "'''================\n",
    "euler_2d_difference \n",
    "input:\n",
    "    xh_i: 2_d current state\n",
    "    dt: 1_d time diff\n",
    "    dw: 2_d bm increase\n",
    "output:\n",
    "    xh_i_diff: 2_d increase for euler solution\n",
    "=================='''\n",
    "\n",
    "def euler_2d_diff(self, xh_i, dt, dw):\n",
    "    #set SDE param\n",
    "    mu = self.drift\n",
    "    sigma = self.vol\n",
    "    \n",
    "    return np.array(mu(xh_i))*dt + np.matmul(sigma(xh_i), dw)\n",
    "\n",
    "SDE_2d.euler_diff = euler_2d_diff"
   ]
  },
  {
   "cell_type": "code",
   "execution_count": 4,
   "metadata": {},
   "outputs": [],
   "source": [
    "'''==========\n",
    "euler method as a method of SDE_2d\n",
    "input:\n",
    "    time grid: np.array (t_i: i = 0, 1, ..., n)\n",
    "output: \n",
    "    euler solution: np.array (Xh_i: i = 0, 1, ..., n)\n",
    "==========='''\n",
    "\n",
    "def euler_2d(self, grid):\n",
    "    #step_size dt\n",
    "    dt = np.diff(grid)\n",
    "    \n",
    "    #generate 2d bm icrement\n",
    "    dw = np.array([np.random.normal(0, np.sqrt(dt)) for i in range(2)])\n",
    "\n",
    "    #initialize euler solution\n",
    "    x0 = self.init_state #2_d array\n",
    "    xh = np.array([x0[i] + np.zeros(grid.shape) for i in range(2)])\n",
    " \n",
    "    \n",
    "    #run euler\n",
    "    for i in range(dt.size):\n",
    "        xh[:,i+1] = xh[:,i] + self.euler_diff(xh[:,i], dt[i], dw[:,i]) #euler iteration        \n",
    "    return xh\n",
    "\n",
    "SDE_2d.euler = euler_2d"
   ]
  },
  {
   "cell_type": "markdown",
   "metadata": {},
   "source": [
    "## Heston subclass "
   ]
  },
  {
   "cell_type": "code",
   "execution_count": 5,
   "metadata": {},
   "outputs": [],
   "source": [
    "'''============\n",
    "Heston class inherited from sde_2d\n",
    "============='''\n",
    "\n",
    "class Heston(SDE_2d):\n",
    "    def __init__(self,\n",
    "                 init_state = [100., .04],\n",
    "                 r = .05,\n",
    "                 kappa = 1.2,\n",
    "                 theta = .04,\n",
    "                 xi = .3,\n",
    "                 rho = .5,\n",
    "                ):\n",
    "        self.init_state = init_state\n",
    "        rho_bar = np.sqrt(1 - rho**2)\n",
    "        self.drift = lambda x: [r*x[0], kappa*(theta -x[1])]\n",
    "        self.vol = lambda x: [\n",
    "            [np.sqrt(x[1])*x[0], 0], \n",
    "            [xi*np.sqrt(x[1])*rho, xi*np.sqrt(x[1])*rho_bar]\n",
    "        ]\n",
    "                              "
   ]
  },
  {
   "cell_type": "code",
   "execution_count": 6,
   "metadata": {},
   "outputs": [],
   "source": [
    "'''================\n",
    "euler_2d_difference for Heston class to overide SDE_2d class member\n",
    "\n",
    "input:\n",
    "    xh_i: 2_d current state\n",
    "    dt: 1_d time diff\n",
    "    dw: 2_d bm increase\n",
    "output:\n",
    "    xh_i_diff: 2_d increase for euler solution\n",
    "=================='''\n",
    "\n",
    "def euler_heston_diff(self, xh_i, dt, dw):\n",
    "    #set SDE param\n",
    "    mu = self.drift\n",
    "    sigma = self.vol\n",
    "    xh_i[1] = np.max([0, xh_i[1]]) #new line to override\n",
    "    \n",
    "    return np.array(mu(xh_i))*dt + np.matmul(sigma(xh_i), dw)\n",
    "\n",
    "Heston.euler_diff = euler_heston_diff #override"
   ]
  },
  {
   "cell_type": "markdown",
   "metadata": {},
   "source": [
    "## European options"
   ]
  },
  {
   "cell_type": "markdown",
   "metadata": {},
   "source": [
    "Test Euler method: \n",
    "We implement ordinary MC to find BSM call price, compare with exact price, see [pdf](../doc/euler_sde_2d.pdf)"
   ]
  },
  {
   "cell_type": "code",
   "execution_count": 7,
   "metadata": {},
   "outputs": [],
   "source": [
    "'''=========\n",
    "European option class init\n",
    "=========='''\n",
    "class EuropeanOption:\n",
    "    def __init__(self,\n",
    "                otype = 1, # 1: 'call'\n",
    "                        # -1: 'put'\n",
    "                strike = 110.,\n",
    "                maturity = 1.\n",
    "                ):\n",
    "        self.otype = otype\n",
    "        self.strike = strike\n",
    "        self.maturity = maturity\n",
    "        \n",
    "    def payoff(self, s): #s: excercise price\n",
    "        otype = self.otype\n",
    "        k = self.strike\n",
    "        maturity = self.maturity\n",
    "        return np.max([0, (s - k)*otype])\n",
    "        \n",
    "\n"
   ]
  },
  {
   "cell_type": "code",
   "execution_count": 8,
   "metadata": {},
   "outputs": [],
   "source": [
    "'''===================\n",
    "add \n",
    "euler price engine method for european option \n",
    "to\n",
    "Heston class\n",
    "===================='''\n",
    "\n",
    "def euler_price(self, euro_option, num_timestep=10, num_path=1000):\n",
    "    r = self.drift([1,1])[0] #interest rate\n",
    "    time_grid = np.linspace(0, euro_option.maturity, num_timestep)\n",
    "    terminal_price = [self.euler(time_grid)[0, -1] for i in range(num_path)]\n",
    "    payoff = [euro_option.payoff(s) for s in terminal_price]\n",
    "    return np.exp(-r*euro_option.maturity)*np.average(payoff)\n",
    "    \n",
    "Heston.euler_price = euler_price    "
   ]
  },
  {
   "cell_type": "code",
   "execution_count": 9,
   "metadata": {},
   "outputs": [
    {
     "name": "stdout",
     "output_type": "stream",
     "text": [
      "call price is 10.402828385614777\n"
     ]
    }
   ],
   "source": [
    "#Test call price\n",
    "\n",
    "heston1 = Heston()\n",
    "option1 = EuropeanOption(otype = 1, strike = 100., maturity = 1.)\n",
    "print('call price is ' + str(heston1.euler_price(option1)))"
   ]
  },
  {
   "cell_type": "code",
   "execution_count": 10,
   "metadata": {},
   "outputs": [
    {
     "name": "stdout",
     "output_type": "stream",
     "text": [
      "put price is 5.460941964991763\n"
     ]
    }
   ],
   "source": [
    "#Test put price\n",
    "\n",
    "heston2 = Heston()\n",
    "option2 = EuropeanOption(otype = -1, strike = 100., maturity = 1.)\n",
    "print('put price is ' + str(heston1.euler_price(option2)))"
   ]
  },
  {
   "cell_type": "markdown",
   "metadata": {},
   "source": [
    "## Cook data for European options"
   ]
  },
  {
   "cell_type": "code",
   "execution_count": 11,
   "metadata": {},
   "outputs": [],
   "source": [
    "'''=================\n",
    "Heston class to be used\n",
    "===================='''\n",
    "heston3 = Heston(init_state = [100., .04],\n",
    "                 r = .05,\n",
    "                 kappa = 1.2,\n",
    "                 theta = .04,\n",
    "                 xi = .3,\n",
    "                 rho = .5\n",
    "                )\n"
   ]
  },
  {
   "cell_type": "code",
   "execution_count": 12,
   "metadata": {},
   "outputs": [],
   "source": [
    "'''=============\n",
    "Write option prices into a file\n",
    "================'''\n",
    "\n",
    "with open('optiondata1.dat','w') as file_handle:\n",
    "    file_handle.write('# spot_price = 100, interest_rate = .05')\n",
    "    file_handle.write('#otype, maturity, strike, price \\n')\n",
    "    for otype in [-1,1]:\n",
    "        for maturity in np.array([1, 2, 3, 5, 6, 12])/12:\n",
    "            for strike in heston3.init_state[0]+np.arange(-4, 5):\n",
    "                option3 = EuropeanOption(otype, strike, maturity)\n",
    "                file_handle.write(str(otype) + ',' \n",
    "                                  +str(maturity) + ',' + str(strike) + ',' \n",
    "                                  + str(heston3.euler_price(option3, num_timestep = np.int(maturity*12*5)))+'\\n')\n",
    "file_handle.close()               "
   ]
  },
  {
   "cell_type": "code",
   "execution_count": 13,
   "metadata": {},
   "outputs": [
    {
     "name": "stdout",
     "output_type": "stream",
     "text": [
      "[[-1.00000000e+00  8.33333333e-02  9.60000000e+01  6.97778188e-01]\n",
      " [-1.00000000e+00  8.33333333e-02  9.70000000e+01  9.99395332e-01]\n",
      " [-1.00000000e+00  8.33333333e-02  9.80000000e+01  1.18362576e+00]\n",
      " [-1.00000000e+00  8.33333333e-02  9.90000000e+01  1.53762709e+00]\n",
      " [-1.00000000e+00  8.33333333e-02  1.00000000e+02  2.14495963e+00]]\n"
     ]
    }
   ],
   "source": [
    "#Read data\n",
    "np_option_data = np.loadtxt('optiondata1.dat', comments='#', delimiter=',')\n",
    "print(np_option_data[0:5, :])"
   ]
  },
  {
   "cell_type": "code",
   "execution_count": null,
   "metadata": {},
   "outputs": [],
   "source": []
  }
 ],
 "metadata": {
  "kernelspec": {
   "display_name": "Python 3",
   "language": "python",
   "name": "python3"
  },
  "language_info": {
   "codemirror_mode": {
    "name": "ipython",
    "version": 3
   },
   "file_extension": ".py",
   "mimetype": "text/x-python",
   "name": "python",
   "nbconvert_exporter": "python",
   "pygments_lexer": "ipython3",
   "version": "3.6.4"
  }
 },
 "nbformat": 4,
 "nbformat_minor": 2
}
