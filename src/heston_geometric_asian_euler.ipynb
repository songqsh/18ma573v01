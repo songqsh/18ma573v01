{
 "cells": [
  {
   "cell_type": "code",
   "execution_count": 1,
   "metadata": {},
   "outputs": [],
   "source": [
    "from sde_2d_v01 import Sde_2d, Heston\n",
    "import numpy as np"
   ]
  },
  {
   "cell_type": "code",
   "execution_count": 2,
   "metadata": {},
   "outputs": [],
   "source": [
    "'''=========\n",
    "geometric asian option class\n",
    "=============='''\n",
    "class geometric_asian_option:\n",
    "    def __init__(self,\n",
    "                 otype = 1,\n",
    "                 maturity = 2/12,\n",
    "                 strike = 101,\n",
    "                 num_time_step = 8\n",
    "                ):\n",
    "        self.otype = otype\n",
    "        self.maturity = maturity\n",
    "        self.strike = strike\n",
    "        self.num_time_step = num_time_step\n",
    "        \n",
    "    def time_step(self):\n",
    "        return np.linspace(0, maturity, num_time_step+1)\n",
    "    \n",
    "    #Input:\n",
    "        #state_array is 1-d array with length num_time_step+1\n",
    "        #all elements must be non-negative as price\n",
    "    def payoff(self, price_array): \n",
    "        if len(price_array)!= self.num_time_step+1:\n",
    "            print('error: price list length does not match!')\n",
    "        else:\n",
    "            geometric_average = np.power(np.prod(price_array), 1/(self.num_time_step+1))    \n",
    "            return np.max([self.otype*(geometric_average-self.strike), 0])"
   ]
  },
  {
   "cell_type": "code",
   "execution_count": 3,
   "metadata": {},
   "outputs": [],
   "source": [
    "'''============\n",
    "initiate option class list\n",
    "=============='''\n",
    "strike_list = [97,99,101,103]\n",
    "maturity = 2/12\n",
    "option_list = []\n",
    "\n",
    "for k in strike_list:\n",
    "    option1 = geometric_asian_option(maturity=maturity, strike=k, num_time_step=8)\n",
    "    option_list.append(option1)"
   ]
  },
  {
   "cell_type": "code",
   "execution_count": 4,
   "metadata": {},
   "outputs": [],
   "source": [
    "'''================\n",
    "initiate heston instance\n",
    "================='''\n",
    "heston1 = Heston(init_state=[100., .04], r=.05, \n",
    "                 kappa=1.2, theta=.04, xi=.3, rho=.5)"
   ]
  },
  {
   "cell_type": "code",
   "execution_count": 5,
   "metadata": {},
   "outputs": [],
   "source": [
    "'''=================\n",
    "- generate multiple euler paths\n",
    "    - $num_path$: number of paths \n",
    "    - $num_path_time_step$: number of time steps for each path, which satifies\n",
    "        - $num_path_time_step = geometric_asian_option.num_time_step* m$ for some constant $m$\n",
    "- for each path, extract monitored prices, \n",
    "=================='''\n",
    "num_monitored_price = option_list[0].num_time_step\n",
    "m = 10 #time step refinement constant\n",
    "num_path_time_step = num_monitored_price*m\n",
    "num_path = 100\n",
    "path_time_step = np.linspace(0, maturity, num_path_time_step+1)\n",
    "\n",
    "path_list = [heston1.euler(path_time_step)[0] for i in range(num_path)]\n",
    "indice = m*np.arange(0, num_monitored_price+1)\n",
    "monitored_price_list = [path_list[i][indice] for i in range(num_path)]\n",
    "\n",
    "#option_list[0].payoff(monitored_price_list[0])"
   ]
  },
  {
   "cell_type": "code",
   "execution_count": 6,
   "metadata": {},
   "outputs": [],
   "source": [
    "'''=============\n",
    "compute option price by monte carlo\n",
    "==================='''\n",
    "\n",
    "discount_factor = np.exp(-heston1.r*option_list[0].maturity)\n",
    "price_list = []\n",
    "for option1 in option_list:\n",
    "    payoff_list = [option1.payoff(monitored_price) for monitored_price in monitored_price_list]\n",
    "    price1 = discount_factor*np.mean(payoff_list)\n",
    "    price_list.append(price1)\n",
    "    \n",
    "    "
   ]
  },
  {
   "cell_type": "code",
   "execution_count": 7,
   "metadata": {},
   "outputs": [
    {
     "data": {
      "text/plain": [
       "[3.7925736094875964,\n",
       " 2.5429985313737244,\n",
       " 1.6026613800895042,\n",
       " 0.9366198675047346]"
      ]
     },
     "execution_count": 7,
     "metadata": {},
     "output_type": "execute_result"
    }
   ],
   "source": [
    "price_list"
   ]
  },
  {
   "cell_type": "code",
   "execution_count": null,
   "metadata": {},
   "outputs": [],
   "source": []
  }
 ],
 "metadata": {
  "kernelspec": {
   "display_name": "Python 3",
   "language": "python",
   "name": "python3"
  },
  "language_info": {
   "codemirror_mode": {
    "name": "ipython",
    "version": 3
   },
   "file_extension": ".py",
   "mimetype": "text/x-python",
   "name": "python",
   "nbconvert_exporter": "python",
   "pygments_lexer": "ipython3",
   "version": "3.6.4"
  }
 },
 "nbformat": 4,
 "nbformat_minor": 2
}
