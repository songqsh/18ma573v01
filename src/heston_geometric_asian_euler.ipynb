{
 "cells": [
  {
   "cell_type": "code",
   "execution_count": 3,
   "metadata": {},
   "outputs": [],
   "source": [
    "from sde_2d_v01 import Sde_2d, Heston\n",
    "from contract_v01 import VanillaOption"
   ]
  },
  {
   "cell_type": "code",
   "execution_count": 4,
   "metadata": {},
   "outputs": [],
   "source": [
    "#initiate option and heston instances\n",
    "heston1 = Heston(init_state=[100., .04], r=.05, \n",
    "                 kappa=1.2, theta=.04, xi=.3, rho=.5)"
   ]
  },
  {
   "cell_type": "code",
   "execution_count": 9,
   "metadata": {},
   "outputs": [],
   "source": [
    "'''=========\n",
    "geometric asian option class\n",
    "=============='''\n",
    "class geometric_asian_option:\n",
    "    def __init__(self,\n",
    "                maturity = 2/12,\n",
    "                strike = 101,\n",
    "                num_time_step = 8\n",
    "                ):\n",
    "        self.maturity = maturity\n",
    "        self.strike = strike\n",
    "        self.num_time_step = num_time_step\n",
    "        "
   ]
  },
  {
   "cell_type": "code",
   "execution_count": 12,
   "metadata": {},
   "outputs": [],
   "source": [
    "'''============\n",
    "initiate option class list\n",
    "=============='''\n",
    "strike_list = [97,99,101,103]\n",
    "maturity_list = [2/12, 5/12]\n",
    "option_list = []\n",
    "for t in maturity_list:\n",
    "    for k in strike_list:\n",
    "        option1 = geometric_asian_option(maturity=t, strike=k, num_time_step=8)\n",
    "        option_list.append(option1)"
   ]
  },
  {
   "cell_type": "code",
   "execution_count": null,
   "metadata": {},
   "outputs": [],
   "source": []
  }
 ],
 "metadata": {
  "kernelspec": {
   "display_name": "Python 3",
   "language": "python",
   "name": "python3"
  },
  "language_info": {
   "codemirror_mode": {
    "name": "ipython",
    "version": 3
   },
   "file_extension": ".py",
   "mimetype": "text/x-python",
   "name": "python",
   "nbconvert_exporter": "python",
   "pygments_lexer": "ipython3",
   "version": "3.6.4"
  }
 },
 "nbformat": 4,
 "nbformat_minor": 2
}
