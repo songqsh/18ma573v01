{
 "cells": [
  {
   "cell_type": "markdown",
   "metadata": {},
   "source": [
    "- Make sure 'Gbm_1d' class is already in the module 'src/sde_1d_v01.py'.\n",
    "- Create a method 'bsm_geometric_asian_price' in the class 'Gbm_1d', then test the following code"
   ]
  },
  {
   "cell_type": "code",
   "execution_count": 1,
   "metadata": {},
   "outputs": [],
   "source": [
    "import numpy as np\n",
    "from contract_v01 import VanillaOption\n",
    "from sde_1d_v01 import Sde_1d, Gbm_1d"
   ]
  },
  {
   "cell_type": "code",
   "execution_count": 2,
   "metadata": {},
   "outputs": [],
   "source": [
    "'''==============\n",
    "Test BSM geometric asian option price\n",
    "==============='''\n",
    "gbm1 = Gbm_1d(init_state=100., drift_ratio=0.0475, vol_ratio=.2)\n",
    "gao1 = gbm1.bsm_geometric_asian_price(\n",
    "                          otype = 1,\n",
    "                          strike = 110.,\n",
    "                          maturity = 1, \n",
    "                          num_step = 4\n",
    "                          )\n",
    "#print('>>>>>> geometric call option value is ' + str(gao1))"
   ]
  },
  {
   "cell_type": "markdown",
   "metadata": {},
   "source": [
    "- In the previous section, we have pretty good result on BSM model calibration on the call price of 2-month maturity, see [here](https://nbviewer.jupyter.org/github/songqsh/18ma573pub/blob/master/src/bsm_calibration.ipynb). We say it is pretty good calibration because the calibrated volatility reproduce 2-mon call price close to corresponding market data. A further step to verify its performance is to use the same calibrated volatility to reproduce other option prices available in the market. In this below, we are going to reproduce geometric asian options given below and justify the calibrated model performance by comparing with the market data."
   ]
  },
  {
   "cell_type": "code",
   "execution_count": 3,
   "metadata": {},
   "outputs": [],
   "source": [
    "'''===============\n",
    "market available data\n",
    "=================='''\n",
    "#paras for stock price\n",
    "spot = 100\n",
    "rate = .05\n",
    "\n",
    "#paras for geometric asian options\n",
    "otype = 1\n",
    "maturity = 2/12\n",
    "num_step = 8\n",
    "strike_list = [97, 99, 101, 103]\n",
    "market_price_list = [\n",
    "    3.7925736094875964,\n",
    "    2.5429985313737244,\n",
    "    1.6026613800895042,\n",
    "    0.9366198675047346]"
   ]
  },
  {
   "cell_type": "code",
   "execution_count": 4,
   "metadata": {},
   "outputs": [],
   "source": [
    "'''================\n",
    "calibrated volatility based on vanilla options\n",
    "=================='''\n",
    "calibarated_vol = 0.18109375000000028"
   ]
  },
  {
   "cell_type": "code",
   "execution_count": 5,
   "metadata": {},
   "outputs": [],
   "source": [
    "'''========\n",
    "your code is in this below\n",
    "============'''\n",
    "pass"
   ]
  },
  {
   "cell_type": "code",
   "execution_count": null,
   "metadata": {},
   "outputs": [],
   "source": []
  }
 ],
 "metadata": {
  "kernelspec": {
   "display_name": "Python 3",
   "language": "python",
   "name": "python3"
  },
  "language_info": {
   "codemirror_mode": {
    "name": "ipython",
    "version": 3
   },
   "file_extension": ".py",
   "mimetype": "text/x-python",
   "name": "python",
   "nbconvert_exporter": "python",
   "pygments_lexer": "ipython3",
   "version": "3.6.4"
  }
 },
 "nbformat": 4,
 "nbformat_minor": 2
}
