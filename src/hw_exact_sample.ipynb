{
 "cells": [
  {
   "cell_type": "markdown",
   "metadata": {},
   "source": [
    "We consider an arithmetic asian call price for the following parameters:"
   ]
  },
  {
   "cell_type": "code",
   "execution_count": 1,
   "metadata": {},
   "outputs": [],
   "source": [
    "'''=================\n",
    "paras are given here\n",
    "================='''\n",
    "\n",
    "import numpy as np\n",
    "\n",
    "S0 = 100.0\n",
    "sigma = 0.20\n",
    "r=0.0475\n",
    "\n",
    "\n",
    "K = 110.0\n",
    "T = 1.\n",
    "otype = 1 #call for 1, put for -1\n",
    "num_step = 5"
   ]
  },
  {
   "cell_type": "code",
   "execution_count": 2,
   "metadata": {},
   "outputs": [],
   "source": [
    "from sde_1d_v01 import *"
   ]
  },
  {
   "cell_type": "markdown",
   "metadata": {},
   "source": [
    "- Add BSM arithmetic asian price engine to Gbm_1d class followed by the following pseudocode.\n",
    "\n",
    "    __Pseudocode__ bsm_arithmetic_asian_exact_sample(otype, strike, maturity, num_step, num_path):\n",
    "\n",
    "    - generate (num_path) many GBM paths by exact sampling;\n",
    "    - compute discounted payoff for each path;\n",
    "    - Take the average for the option price."
   ]
  },
  {
   "cell_type": "markdown",
   "metadata": {},
   "source": [
    "- compute arithmetic asian option price given by above price engine\n",
    "- With the same paras, compute corresponding geometric asian option and european option price\n",
    "- Compare all those three prices. Could you have some kind of inequality of three quantities?"
   ]
  },
  {
   "cell_type": "code",
   "execution_count": null,
   "metadata": {},
   "outputs": [],
   "source": []
  }
 ],
 "metadata": {
  "kernelspec": {
   "display_name": "Python 3",
   "language": "python",
   "name": "python3"
  },
  "language_info": {
   "codemirror_mode": {
    "name": "ipython",
    "version": 3
   },
   "file_extension": ".py",
   "mimetype": "text/x-python",
   "name": "python",
   "nbconvert_exporter": "python",
   "pygments_lexer": "ipython3",
   "version": "3.7.4"
  }
 },
 "nbformat": 4,
 "nbformat_minor": 1
}
