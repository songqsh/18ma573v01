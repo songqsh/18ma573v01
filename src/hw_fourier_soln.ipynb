{
 "cells": [
  {
   "cell_type": "code",
   "execution_count": 1,
   "metadata": {},
   "outputs": [],
   "source": [
    "import numpy as np\n",
    "from scipy.integrate import quad\n",
    "\n",
    "from contract_v01 import VanillaOption\n",
    "from sde_1d_v01 import Gbm_1d"
   ]
  },
  {
   "cell_type": "markdown",
   "metadata": {},
   "source": [
    "__todo__\n",
    "\n",
    "Use the explicit formula to find BSM call price with the following paras."
   ]
  },
  {
   "cell_type": "code",
   "execution_count": 21,
   "metadata": {},
   "outputs": [],
   "source": [
    "'''========\n",
    "paras\n",
    "============'''\n",
    "s0 = 100\n",
    "r = .0475\n",
    "sigma = .2\n",
    "otype = 1\n",
    "K = 110.\n",
    "T = 1.\n"
   ]
  },
  {
   "cell_type": "code",
   "execution_count": 22,
   "metadata": {},
   "outputs": [
    {
     "name": "stdout",
     "output_type": "stream",
     "text": [
      ">>>>>>>>>>call value is 5.943273183452838\n"
     ]
    }
   ],
   "source": [
    "'''===============\n",
    "Test bsm_price\n",
    "================='''\n",
    "\n",
    "gbm1 = Gbm_1d(init_state=100., drift_ratio=.0475, vol_ratio=.2)\n",
    "option1 = VanillaOption(otype = 1, strike = 110., maturity= 1., market_price=15.) \n",
    "\n",
    "print('>>>>>>>>>>call value is ' + str(gbm1.bsm_price(option1)))\n"
   ]
  },
  {
   "cell_type": "markdown",
   "metadata": {},
   "source": [
    "__todo__\n",
    "\n",
    "Use the fourier transform method to find out the same BSM call price."
   ]
  },
  {
   "cell_type": "code",
   "execution_count": 23,
   "metadata": {},
   "outputs": [],
   "source": [
    "log_s0 = np.log(s0)\n",
    "log_k = np.log(K)\n",
    "mu = r - .5*sigma**2"
   ]
  },
  {
   "cell_type": "code",
   "execution_count": 24,
   "metadata": {},
   "outputs": [],
   "source": [
    "char_fun = lambda u: np.exp(1j*u*(log_s0+mu*T) - .5*(sigma**2)*T*(u**2))"
   ]
  },
  {
   "cell_type": "code",
   "execution_count": 25,
   "metadata": {},
   "outputs": [],
   "source": [
    "integrand1 = lambda u: (np.exp(-1j*u*log_k)*char_fun(u-1j)\n",
    "                       / (1j*u*char_fun(-1j))).real\n",
    "pi_1 = .5+ 1/np.pi*quad(integrand1, 0, np.inf)[0]"
   ]
  },
  {
   "cell_type": "code",
   "execution_count": 26,
   "metadata": {},
   "outputs": [],
   "source": [
    "integrand2 = lambda u: (np.exp(-1j*u*log_k)*char_fun(u)\n",
    "                       / (1j*u)).real\n",
    "pi_2 = .5+ 1/np.pi*quad(integrand2, 0, np.inf)[0]"
   ]
  },
  {
   "cell_type": "code",
   "execution_count": 27,
   "metadata": {},
   "outputs": [],
   "source": [
    "call = s0*pi_1 - K*np.exp(-r*T)*pi_2"
   ]
  },
  {
   "cell_type": "code",
   "execution_count": 28,
   "metadata": {},
   "outputs": [
    {
     "data": {
      "text/plain": [
       "5.943273183452845"
      ]
     },
     "execution_count": 28,
     "metadata": {},
     "output_type": "execute_result"
    }
   ],
   "source": [
    "call"
   ]
  },
  {
   "cell_type": "code",
   "execution_count": null,
   "metadata": {},
   "outputs": [],
   "source": []
  },
  {
   "cell_type": "code",
   "execution_count": null,
   "metadata": {},
   "outputs": [],
   "source": []
  }
 ],
 "metadata": {
  "kernelspec": {
   "display_name": "Python 3",
   "language": "python",
   "name": "python3"
  },
  "language_info": {
   "codemirror_mode": {
    "name": "ipython",
    "version": 3
   },
   "file_extension": ".py",
   "mimetype": "text/x-python",
   "name": "python",
   "nbconvert_exporter": "python",
   "pygments_lexer": "ipython3",
   "version": "3.6.4"
  }
 },
 "nbformat": 4,
 "nbformat_minor": 2
}
