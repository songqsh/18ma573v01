{
 "cells": [
  {
   "cell_type": "markdown",
   "metadata": {},
   "source": [
    "Our heat equation is \n",
    "$$u_t = u_{xx}, \\quad t\\ge 0; x\\in \\mathbb R\n",
    "$$\n",
    "with initial condition\n",
    "$$u(x,0) = \\phi(x), \\quad x\\in \\mathbb R.$$\n",
    "In the above, $\\phi$ is a given function and $u$ is unknown function we seek for. \n",
    "For instance, let's say $\\phi$ is a continuous function given by\n",
    "$$\\phi(x) = \\cos(\\pi x) I_{(- 1/2, + 1/2)}(x).\n",
    "$$"
   ]
  },
  {
   "cell_type": "markdown",
   "metadata": {},
   "source": [
    "__todo__ \n",
    "\n",
    "- plot the function $\\phi$\n",
    "- perform FTCS with grid $(\\Delta x = .5, \\Delta t = .25)$ for $n = 0, 1, ,2, 3$.\n",
    "- prove FTCS is instable, i.e. show that\n",
    "    $$\\max_{j} |u_j^n| \\to \\infty, \\hbox{ as } n\\to \\infty.$$\n",
    "- show that if $\\Delta t < 1/8$, then FTCS is stable, i.e.\n",
    "    $$\\max_{j,n} |u_j^n| < \\infty.$$"
   ]
  },
  {
   "cell_type": "code",
   "execution_count": null,
   "metadata": {},
   "outputs": [],
   "source": []
  }
 ],
 "metadata": {
  "kernelspec": {
   "display_name": "Python 3",
   "language": "python",
   "name": "python3"
  },
  "language_info": {
   "codemirror_mode": {
    "name": "ipython",
    "version": 3
   },
   "file_extension": ".py",
   "mimetype": "text/x-python",
   "name": "python",
   "nbconvert_exporter": "python",
   "pygments_lexer": "ipython3",
   "version": "3.6.4"
  }
 },
 "nbformat": 4,
 "nbformat_minor": 2
}
