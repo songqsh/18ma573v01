{
 "cells": [
  {
   "cell_type": "markdown",
   "metadata": {
    "colab_type": "text",
    "id": "view-in-github"
   },
   "source": [
    "<a href=\"https://colab.research.google.com/github/songqsh/18ma573pub/blob/master/src/hw_mc_01.ipynb\" target=\"_parent\"><img src=\"https://colab.research.google.com/assets/colab-badge.svg\" alt=\"Open In Colab\"/></a>"
   ]
  },
  {
   "cell_type": "markdown",
   "metadata": {
    "colab_type": "text",
    "id": "E2kxGLrB4zIC"
   },
   "source": [
    "Given i.i.d $\\{\\alpha_i: i\\in 1, 2, \\ldots, N\\}$, we use \n",
    "$$\\bar \\alpha_N = \\frac 1 N \\sum_{i=1}^N \\alpha_i$$\n",
    "as its estimator of the mean $\\mathbb E[\\alpha_1]$ \n",
    "and \n",
    "$$\\beta_N = \\frac 1 N \\sum_{i=1}^N (\\alpha_i -\\bar \\alpha_N)^2$$\n",
    "as the estimator of $Var(\\alpha_1)$.\n",
    "\n",
    "\n",
    "Suppose $\\alpha_1\\in L^4$, then \n",
    "\n",
    "- Prove $\\beta_N$ is biased.\n",
    "\n",
    "- Prove that $\\beta_N$ is consistent in $L^2$.\n",
    "\n",
    "- Can you propose an unbiased estimator?\n"
   ]
  },
  {
   "cell_type": "code",
   "execution_count": 0,
   "metadata": {
    "colab": {},
    "colab_type": "code",
    "id": "dUi4qPni5eHL"
   },
   "outputs": [],
   "source": []
  }
 ],
 "metadata": {
  "colab": {
   "include_colab_link": true,
   "name": "hw_mc_01.ipynb",
   "provenance": [],
   "version": "0.3.2"
  },
  "kernelspec": {
   "display_name": "Python 3",
   "language": "python",
   "name": "python3"
  },
  "language_info": {
   "codemirror_mode": {
    "name": "ipython",
    "version": 3
   },
   "file_extension": ".py",
   "mimetype": "text/x-python",
   "name": "python",
   "nbconvert_exporter": "python",
   "pygments_lexer": "ipython3",
   "version": "3.6.4"
  }
 },
 "nbformat": 4,
 "nbformat_minor": 1
}
