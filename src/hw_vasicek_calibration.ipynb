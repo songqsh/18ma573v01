{
 "cells": [
  {
   "cell_type": "markdown",
   "metadata": {},
   "source": [
    "#  Vasicek model calibration\n",
    "**Ref** Chapter 7 of [Hir13]\n",
    "\n",
    "Our goal is to design pricing engine and calirate vasicek model from data"
   ]
  },
  {
   "cell_type": "markdown",
   "metadata": {},
   "source": [
    "## Pricing formula for Vasicek model\n",
    "\n",
    "Notations: \n",
    "- $P(t, T)$: zero coupon bond price\n",
    "- $L(t, T)$: LIBOR rate\n",
    "- $s(t, T, N)$: swap rate with $N$ terms on $[t, T]$\n",
    "\n",
    "The relation to the pricing formulas are \n",
    "$$L(t, T) = \\frac{100}{T-t} ( \\frac{1}{P(t, T)} - 1)$$\n",
    "and \n",
    "$$ s(t, T, N) = 100 \\frac{1 - P(t, T)}{ \\Delta \\sum_{j=1}^N P(t, t + j \\Delta)}, \\hbox{ where } \\Delta = \\frac{T - t}{N}. $$"
   ]
  },
  {
   "cell_type": "markdown",
   "metadata": {},
   "source": [
    "If we further assume Vasicek model for the short rates with parameter $\\theta = (\\kappa, \\mu, \\sigma, r_0)$, i.e.\n",
    "$$d r_t = \\kappa (\\mu - r_t) dt + \\sigma dW_t, \\hbox{ with } r_0,$$\n",
    "the rate has its explicit form given by\n",
    "    $$r_t = r_0 e^{-\\kappa t} + \\mu ( 1 - e^{-\\kappa t}) + \\sigma e^{-\\kappa t} \\int_0^t e^{-\\kappa s} dW_s.$$"
   ]
  },
  {
   "cell_type": "markdown",
   "metadata": {},
   "source": [
    "__Todo__\n",
    "\n",
    "Verify the above explicit form $r_t$ as the solution to the original vasicek model."
   ]
  },
  {
   "cell_type": "markdown",
   "metadata": {},
   "source": [
    "__Todo__\n",
    "\n",
    "Design pricing engine of ZCB $P(0, T)$ using the above explicit formula.\n",
    "\n",
    "(Hint) ZCB value is determined by\n",
    "$$P(0, T) = \\mathbb E[e^{- \\int_0^T r_t dt}] = e^{A(0, T) - B(0, T) r_0}$$\n",
    "with \n",
    "$$B(t, T) = \\frac{1 - e^{-\\kappa(T-t)}}{\\kappa}, \\quad \n",
    "A(t, T) = (\\mu - \\frac{\\sigma^2}{2\\kappa^2}) [B(t, T) - (T-t)] - \\frac{\\sigma^2}{4\\kappa} B^2(t, T).$$"
   ]
  },
  {
   "cell_type": "markdown",
   "metadata": {},
   "source": [
    "__Todo__\n",
    "\n",
    "Design alternative pricing engine of ZCB $P(0,T)$ using exact sampling.\n",
    "\n",
    "(hint) $R(T) = \\int_0^T r_t dt$ follows a normal distribution with\n",
    "$$\\mathbb E R_T = \\mu T + (r_0 - \\mu) \\frac{1 - e^{-\\kappa T}}{\\kappa}$$ \n",
    "and \n",
    "$$Var(R_T) = \\frac{\\sigma^2}{2 \\kappa^3} (2 \\kappa T - 3 + 4 e^{-\\kappa T} - e^{-2\\kappa T}).$$"
   ]
  },
  {
   "cell_type": "markdown",
   "metadata": {},
   "source": [
    "__Todo__\n",
    "\n",
    "Compute ZCB $P(0,1)$ Libor $L(0,1)$ with the following parameters using above two different pricing engines."
   ]
  },
  {
   "cell_type": "code",
   "execution_count": 1,
   "metadata": {},
   "outputs": [],
   "source": [
    "'''======paras======='''\n",
    "theta = [.1, .05, .003, .03]\n",
    "kappa, mu, sigma, r0 = theta"
   ]
  },
  {
   "cell_type": "markdown",
   "metadata": {},
   "source": [
    "__Todo__\n",
    "\n",
    "find 10 term swap rates with term length 1/2 year, i.e $s(t=0, T =5, N =10)$."
   ]
  },
  {
   "cell_type": "markdown",
   "metadata": {},
   "source": [
    "**Todo** \n",
    "\n",
    "Pick a date, and using Libor market data of that data, callibrate Vasicek model. \n",
    "    - Then compare market rate and calibrated rate in a plot.\n",
    "    - You may use  SSRE\n",
    "    - You may do calibration twice using two pricing engines, and see which one is better.\n",
    "    - You may use the following provided market data too."
   ]
  },
  {
   "cell_type": "code",
   "execution_count": 3,
   "metadata": {},
   "outputs": [],
   "source": [
    "import pandas as pd\n",
    "dfLiborRate = pd.DataFrame({'maturity (months)': [1, 2, 3, 6, 12],\n",
    "                            '20081029 rate(%)': [3.1175, 3.2738, 3.4200, 3.4275, 3.4213],\n",
    "                            '20110214 rate(%)': [0.2647, 0.2890, 0.3140, 0.4657, 0.7975]\n",
    "                          })"
   ]
  },
  {
   "cell_type": "code",
   "execution_count": 4,
   "metadata": {},
   "outputs": [
    {
     "data": {
      "text/html": [
       "<div>\n",
       "<style scoped>\n",
       "    .dataframe tbody tr th:only-of-type {\n",
       "        vertical-align: middle;\n",
       "    }\n",
       "\n",
       "    .dataframe tbody tr th {\n",
       "        vertical-align: top;\n",
       "    }\n",
       "\n",
       "    .dataframe thead th {\n",
       "        text-align: right;\n",
       "    }\n",
       "</style>\n",
       "<table border=\"1\" class=\"dataframe\">\n",
       "  <thead>\n",
       "    <tr style=\"text-align: right;\">\n",
       "      <th></th>\n",
       "      <th>20081029 rate(%)</th>\n",
       "      <th>20110214 rate(%)</th>\n",
       "      <th>maturity (months)</th>\n",
       "    </tr>\n",
       "  </thead>\n",
       "  <tbody>\n",
       "    <tr>\n",
       "      <th>0</th>\n",
       "      <td>3.1175</td>\n",
       "      <td>0.2647</td>\n",
       "      <td>1</td>\n",
       "    </tr>\n",
       "    <tr>\n",
       "      <th>1</th>\n",
       "      <td>3.2738</td>\n",
       "      <td>0.2890</td>\n",
       "      <td>2</td>\n",
       "    </tr>\n",
       "    <tr>\n",
       "      <th>2</th>\n",
       "      <td>3.4200</td>\n",
       "      <td>0.3140</td>\n",
       "      <td>3</td>\n",
       "    </tr>\n",
       "    <tr>\n",
       "      <th>3</th>\n",
       "      <td>3.4275</td>\n",
       "      <td>0.4657</td>\n",
       "      <td>6</td>\n",
       "    </tr>\n",
       "    <tr>\n",
       "      <th>4</th>\n",
       "      <td>3.4213</td>\n",
       "      <td>0.7975</td>\n",
       "      <td>12</td>\n",
       "    </tr>\n",
       "  </tbody>\n",
       "</table>\n",
       "</div>"
      ],
      "text/plain": [
       "   20081029 rate(%)  20110214 rate(%)  maturity (months)\n",
       "0            3.1175            0.2647                  1\n",
       "1            3.2738            0.2890                  2\n",
       "2            3.4200            0.3140                  3\n",
       "3            3.4275            0.4657                  6\n",
       "4            3.4213            0.7975                 12"
      ]
     },
     "execution_count": 4,
     "metadata": {},
     "output_type": "execute_result"
    }
   ],
   "source": [
    "dfLiborRate"
   ]
  },
  {
   "cell_type": "markdown",
   "metadata": {},
   "source": [
    "**Todo** \n",
    "\n",
    "Pick a date, and using swap market data of that data, callibrate Vasicek model. \n",
    "    - Then compare market rate and calibrated rate in a plot.\n",
    "    - You may use  SSRE\n",
    "    - You may do calibration twice using two pricing engines, and see which one is better.\n",
    "    - You may use the following provided market data too."
   ]
  },
  {
   "cell_type": "code",
   "execution_count": 5,
   "metadata": {},
   "outputs": [],
   "source": [
    "dfSwapRate = pd.DataFrame({'term (year)': [2, 3, 5, 7, 10, 15, 30],\n",
    "                            '20081029 rate(%)': [2.6967, 3.1557, 3.8111, 4.1497, 4.3638, 4.3753, 4.2772],\n",
    "                            '20110214 rate(%)': [1.0481, 1.5577, 2.5569, 3.1850, 3.7225, 4.1683, 4.4407]\n",
    "                          })"
   ]
  },
  {
   "cell_type": "code",
   "execution_count": 6,
   "metadata": {},
   "outputs": [
    {
     "data": {
      "text/html": [
       "<div>\n",
       "<style scoped>\n",
       "    .dataframe tbody tr th:only-of-type {\n",
       "        vertical-align: middle;\n",
       "    }\n",
       "\n",
       "    .dataframe tbody tr th {\n",
       "        vertical-align: top;\n",
       "    }\n",
       "\n",
       "    .dataframe thead th {\n",
       "        text-align: right;\n",
       "    }\n",
       "</style>\n",
       "<table border=\"1\" class=\"dataframe\">\n",
       "  <thead>\n",
       "    <tr style=\"text-align: right;\">\n",
       "      <th></th>\n",
       "      <th>20081029 rate(%)</th>\n",
       "      <th>20110214 rate(%)</th>\n",
       "      <th>term (year)</th>\n",
       "    </tr>\n",
       "  </thead>\n",
       "  <tbody>\n",
       "    <tr>\n",
       "      <th>0</th>\n",
       "      <td>2.6967</td>\n",
       "      <td>1.0481</td>\n",
       "      <td>2</td>\n",
       "    </tr>\n",
       "    <tr>\n",
       "      <th>1</th>\n",
       "      <td>3.1557</td>\n",
       "      <td>1.5577</td>\n",
       "      <td>3</td>\n",
       "    </tr>\n",
       "    <tr>\n",
       "      <th>2</th>\n",
       "      <td>3.8111</td>\n",
       "      <td>2.5569</td>\n",
       "      <td>5</td>\n",
       "    </tr>\n",
       "    <tr>\n",
       "      <th>3</th>\n",
       "      <td>4.1497</td>\n",
       "      <td>3.1850</td>\n",
       "      <td>7</td>\n",
       "    </tr>\n",
       "    <tr>\n",
       "      <th>4</th>\n",
       "      <td>4.3638</td>\n",
       "      <td>3.7225</td>\n",
       "      <td>10</td>\n",
       "    </tr>\n",
       "    <tr>\n",
       "      <th>5</th>\n",
       "      <td>4.3753</td>\n",
       "      <td>4.1683</td>\n",
       "      <td>15</td>\n",
       "    </tr>\n",
       "    <tr>\n",
       "      <th>6</th>\n",
       "      <td>4.2772</td>\n",
       "      <td>4.4407</td>\n",
       "      <td>30</td>\n",
       "    </tr>\n",
       "  </tbody>\n",
       "</table>\n",
       "</div>"
      ],
      "text/plain": [
       "   20081029 rate(%)  20110214 rate(%)  term (year)\n",
       "0            2.6967            1.0481            2\n",
       "1            3.1557            1.5577            3\n",
       "2            3.8111            2.5569            5\n",
       "3            4.1497            3.1850            7\n",
       "4            4.3638            3.7225           10\n",
       "5            4.3753            4.1683           15\n",
       "6            4.2772            4.4407           30"
      ]
     },
     "execution_count": 6,
     "metadata": {},
     "output_type": "execute_result"
    }
   ],
   "source": [
    "dfSwapRate"
   ]
  },
  {
   "cell_type": "code",
   "execution_count": null,
   "metadata": {},
   "outputs": [],
   "source": []
  }
 ],
 "metadata": {
  "kernelspec": {
   "display_name": "Python 3",
   "language": "python",
   "name": "python3"
  },
  "language_info": {
   "codemirror_mode": {
    "name": "ipython",
    "version": 3
   },
   "file_extension": ".py",
   "mimetype": "text/x-python",
   "name": "python",
   "nbconvert_exporter": "python",
   "pygments_lexer": "ipython3",
   "version": "3.6.4"
  }
 },
 "nbformat": 4,
 "nbformat_minor": 1
}
