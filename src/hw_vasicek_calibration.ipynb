{
 "cells": [
  {
   "cell_type": "markdown",
   "metadata": {},
   "source": [
    "#  Vasicek model calibration\n",
    "**Ref** Chapter 7 of [Hir13]\n",
    "\n",
    "Our goal is to design pricing engine and calirate vasicek model from data"
   ]
  },
  {
   "cell_type": "markdown",
   "metadata": {},
   "source": [
    "## Pricing formula for Vasicek model\n",
    "\n",
    "Notations: \n",
    "- $P(t, T)$: zero coupon bond price\n",
    "- $L(t, T)$: LIBOR rate\n",
    "- $s(t, T, N)$: swap rate with $N$ terms on $[t, T]$\n",
    "\n",
    "Pricing formulas are \n",
    "$$L(t, T) = \\frac{100}{T-t} ( \\frac{1}{P(t, T)} - 1)$$\n",
    "and \n",
    "$$ s(t, T, N) = 100 \\frac{1 - P(t, T)}{ \\Delta \\sum_{j=1}^N P(t, t + j \\Delta)}, \\hbox{ where } \\Delta = \\frac{T - t}{N}. $$\n",
    "\n",
    "If we further assume Vasicek model for the short rates with parameter $\\theta = (\\kappa, \\mu, \\sigma, r_0)$, i.e.\n",
    "$$d r_t = \\kappa (\\mu - r_t) dt + dW_t, \\hbox{ with } r_0,$$\n",
    "then ZCB is determined by\n",
    "$$P(t, T) = \\mathbb E[e^{- \\int_0^T r_t dt}] = e^{A(t, T) - B(t, T) r_t}$$\n",
    "with \n",
    "$$B(t, T) = \\frac{1 - e^{-\\kappa(T-t)}}{\\kappa}, \\quad \n",
    "A(t, T) = (\\mu - \\frac{\\sigma^2}{2\\kappa^2}) [B(t, T) - (T-t)] - \\frac{\\sigma^2}{4\\kappa} B^2(t, T).$$"
   ]
  },
  {
   "cell_type": "markdown",
   "metadata": {},
   "source": [
    "__Todo 1__\n",
    "\n",
    "Design pricing engine-1 of ZCB $P(0, T)$ using the above explicit formula.\n",
    "\n",
    "__Todo 2__\n",
    "\n",
    "Compute ZCB $P(0,1)$, Libor $L(0,1)$ with the following parameters:"
   ]
  },
  {
   "cell_type": "code",
   "execution_count": 16,
   "metadata": {},
   "outputs": [],
   "source": [
    "theta = [.1, .05, .003, .03]\n",
    "kappa, mu, sigma, r0 = theta"
   ]
  },
  {
   "cell_type": "markdown",
   "metadata": {},
   "source": [
    "__Todo 3__\n",
    "find 10 term swap rates with term length 1 year."
   ]
  },
  {
   "cell_type": "code",
   "execution_count": 18,
   "metadata": {},
   "outputs": [],
   "source": [
    "# function for swap rate s(0,T) with N terms and ZCB P(0, T_j)\n",
    "# s(T, N, P): swap rate of s(0, T)\n",
    "# T: tenor\n",
    "# N: number of terms\n",
    "# P: list of length N, with P[j-1] = P(0, T_j) for j = 1, 2, ... N\n",
    "s = lambda T, N, P: 100 * (1 - P[N-1])/(T/N*np.sum(P))"
   ]
  },
  {
   "cell_type": "code",
   "execution_count": 19,
   "metadata": {},
   "outputs": [
    {
     "name": "stdout",
     "output_type": "stream",
     "text": [
      "Swap rate is 3.7595005435913667\n"
     ]
    }
   ],
   "source": [
    "N = 10\n",
    "term = 1.\n",
    "P = np.zeros(N)\n",
    "for j in range(N):\n",
    "    P[j] = ZCB(term*(j+1), theta)\n",
    "    \n",
    "print('Swap rate is ' + str(s(term*N, N, P)))"
   ]
  },
  {
   "cell_type": "markdown",
   "metadata": {},
   "source": [
    "**ex.** Callibrate Vasicek model to the following data by SSRE."
   ]
  },
  {
   "cell_type": "code",
   "execution_count": 20,
   "metadata": {},
   "outputs": [],
   "source": [
    "dfLiborRate = pd.DataFrame({'maturity (months)': [1, 2, 3, 6, 12],\n",
    "                            '20081029 rate(%)': [3.1175, 3.2738, 3.4200, 3.4275, 3.4213],\n",
    "                            '20110214 rate(%)': [0.2647, 0.2890, 0.3140, 0.4657, 0.7975]\n",
    "                          })"
   ]
  },
  {
   "cell_type": "code",
   "execution_count": 21,
   "metadata": {},
   "outputs": [
    {
     "data": {
      "text/html": [
       "<div>\n",
       "<style scoped>\n",
       "    .dataframe tbody tr th:only-of-type {\n",
       "        vertical-align: middle;\n",
       "    }\n",
       "\n",
       "    .dataframe tbody tr th {\n",
       "        vertical-align: top;\n",
       "    }\n",
       "\n",
       "    .dataframe thead th {\n",
       "        text-align: right;\n",
       "    }\n",
       "</style>\n",
       "<table border=\"1\" class=\"dataframe\">\n",
       "  <thead>\n",
       "    <tr style=\"text-align: right;\">\n",
       "      <th></th>\n",
       "      <th>20081029 rate(%)</th>\n",
       "      <th>20110214 rate(%)</th>\n",
       "      <th>maturity (months)</th>\n",
       "    </tr>\n",
       "  </thead>\n",
       "  <tbody>\n",
       "    <tr>\n",
       "      <th>0</th>\n",
       "      <td>3.1175</td>\n",
       "      <td>0.2647</td>\n",
       "      <td>1</td>\n",
       "    </tr>\n",
       "    <tr>\n",
       "      <th>1</th>\n",
       "      <td>3.2738</td>\n",
       "      <td>0.2890</td>\n",
       "      <td>2</td>\n",
       "    </tr>\n",
       "    <tr>\n",
       "      <th>2</th>\n",
       "      <td>3.4200</td>\n",
       "      <td>0.3140</td>\n",
       "      <td>3</td>\n",
       "    </tr>\n",
       "    <tr>\n",
       "      <th>3</th>\n",
       "      <td>3.4275</td>\n",
       "      <td>0.4657</td>\n",
       "      <td>6</td>\n",
       "    </tr>\n",
       "    <tr>\n",
       "      <th>4</th>\n",
       "      <td>3.4213</td>\n",
       "      <td>0.7975</td>\n",
       "      <td>12</td>\n",
       "    </tr>\n",
       "  </tbody>\n",
       "</table>\n",
       "</div>"
      ],
      "text/plain": [
       "   20081029 rate(%)  20110214 rate(%)  maturity (months)\n",
       "0            3.1175            0.2647                  1\n",
       "1            3.2738            0.2890                  2\n",
       "2            3.4200            0.3140                  3\n",
       "3            3.4275            0.4657                  6\n",
       "4            3.4213            0.7975                 12"
      ]
     },
     "execution_count": 21,
     "metadata": {},
     "output_type": "execute_result"
    }
   ],
   "source": [
    "dfLiborRate"
   ]
  },
  {
   "cell_type": "code",
   "execution_count": 22,
   "metadata": {},
   "outputs": [],
   "source": [
    "dfSwapRate = pd.DataFrame({'term (year)': [2, 3, 5, 7, 10, 15, 30],\n",
    "                            '20081029 rate(%)': [2.6967, 3.1557, 3.8111, 4.1497, 4.3638, 4.3753, 4.2772],\n",
    "                            '20110214 rate(%)': [1.0481, 1.5577, 2.5569, 3.1850, 3.7225, 4.1683, 4.4407]\n",
    "                          })"
   ]
  },
  {
   "cell_type": "code",
   "execution_count": 23,
   "metadata": {},
   "outputs": [
    {
     "data": {
      "text/html": [
       "<div>\n",
       "<style scoped>\n",
       "    .dataframe tbody tr th:only-of-type {\n",
       "        vertical-align: middle;\n",
       "    }\n",
       "\n",
       "    .dataframe tbody tr th {\n",
       "        vertical-align: top;\n",
       "    }\n",
       "\n",
       "    .dataframe thead th {\n",
       "        text-align: right;\n",
       "    }\n",
       "</style>\n",
       "<table border=\"1\" class=\"dataframe\">\n",
       "  <thead>\n",
       "    <tr style=\"text-align: right;\">\n",
       "      <th></th>\n",
       "      <th>20081029 rate(%)</th>\n",
       "      <th>20110214 rate(%)</th>\n",
       "      <th>term (year)</th>\n",
       "    </tr>\n",
       "  </thead>\n",
       "  <tbody>\n",
       "    <tr>\n",
       "      <th>0</th>\n",
       "      <td>2.6967</td>\n",
       "      <td>1.0481</td>\n",
       "      <td>2</td>\n",
       "    </tr>\n",
       "    <tr>\n",
       "      <th>1</th>\n",
       "      <td>3.1557</td>\n",
       "      <td>1.5577</td>\n",
       "      <td>3</td>\n",
       "    </tr>\n",
       "    <tr>\n",
       "      <th>2</th>\n",
       "      <td>3.8111</td>\n",
       "      <td>2.5569</td>\n",
       "      <td>5</td>\n",
       "    </tr>\n",
       "    <tr>\n",
       "      <th>3</th>\n",
       "      <td>4.1497</td>\n",
       "      <td>3.1850</td>\n",
       "      <td>7</td>\n",
       "    </tr>\n",
       "    <tr>\n",
       "      <th>4</th>\n",
       "      <td>4.3638</td>\n",
       "      <td>3.7225</td>\n",
       "      <td>10</td>\n",
       "    </tr>\n",
       "    <tr>\n",
       "      <th>5</th>\n",
       "      <td>4.3753</td>\n",
       "      <td>4.1683</td>\n",
       "      <td>15</td>\n",
       "    </tr>\n",
       "    <tr>\n",
       "      <th>6</th>\n",
       "      <td>4.2772</td>\n",
       "      <td>4.4407</td>\n",
       "      <td>30</td>\n",
       "    </tr>\n",
       "  </tbody>\n",
       "</table>\n",
       "</div>"
      ],
      "text/plain": [
       "   20081029 rate(%)  20110214 rate(%)  term (year)\n",
       "0            2.6967            1.0481            2\n",
       "1            3.1557            1.5577            3\n",
       "2            3.8111            2.5569            5\n",
       "3            4.1497            3.1850            7\n",
       "4            4.3638            3.7225           10\n",
       "5            4.3753            4.1683           15\n",
       "6            4.2772            4.4407           30"
      ]
     },
     "execution_count": 23,
     "metadata": {},
     "output_type": "execute_result"
    }
   ],
   "source": [
    "dfSwapRate"
   ]
  },
  {
   "cell_type": "code",
   "execution_count": 24,
   "metadata": {},
   "outputs": [
    {
     "data": {
      "text/plain": [
       "array([3.03766908, 3.03955772, 3.04132432, 3.04141495, 3.04134003])"
      ]
     },
     "execution_count": 24,
     "metadata": {},
     "output_type": "execute_result"
    }
   ],
   "source": [
    "#function for LiborRates with given parameter set thea and maturities (np.array) T_array in years\n",
    "def LiborRate(T_array, theta):\n",
    "    L = np.zeros(T_array.size)\n",
    "    for i in range(T_array.size):\n",
    "        T = T_array[i]\n",
    "        P = ZCB(T, theta)\n",
    "        L[i] = 100./T*(1./P -1)\n",
    "    return L    \n",
    "        \n",
    "#Test    \n",
    "npLibor = dfLiborRate.values\n",
    "LiborRate(npLibor[:, 0]/12, theta)"
   ]
  },
  {
   "cell_type": "code",
   "execution_count": 25,
   "metadata": {},
   "outputs": [
    {
     "data": {
      "text/plain": [
       "array([3.23662824, 3.32126082, 3.32126082, 3.39948061, 3.39948061,\n",
       "       3.39948061, 3.39948061])"
      ]
     },
     "execution_count": 25,
     "metadata": {},
     "output_type": "execute_result"
    }
   ],
   "source": [
    "#function for generating swap rates\n",
    "def SwapRate(term, TermNumArray, theta):\n",
    "    max_N_term = int(np.max(TermNumArray)) \n",
    "    P = np.zeros(max_N_term)\n",
    "    for i in range(max_N_term):\n",
    "        P[i] = ZCB((i+1)*term, theta) \n",
    "    \n",
    "    #initialize swap rates    \n",
    "    SR = np.zeros(TermNumArray.size)\n",
    "    for i in range(SR.size):\n",
    "        N_term = int(npSwap[i,0])\n",
    "        P_term = P[0:N_term]\n",
    "        SR[i] = s(term*N_term, N_term, P_term)\n",
    "    return SR\n",
    "\n",
    "\n",
    "#Test         \n",
    "npSwap = dfSwapRate.values #data from panda dataframe to np.array\n",
    "term = 1. #the length of each term\n",
    "TermNumArray = npSwap[:,0] #Number of terms stored in an array\n",
    "SwapRate(term, TermNumArray, theta)"
   ]
  },
  {
   "cell_type": "code",
   "execution_count": 26,
   "metadata": {},
   "outputs": [
    {
     "data": {
      "text/plain": [
       "2.9039155013857396"
      ]
     },
     "execution_count": 26,
     "metadata": {},
     "output_type": "execute_result"
    }
   ],
   "source": [
    "#function for SSRE\n",
    "#x and y shall be np.array with the same length\n",
    "def SSRE(x, y):\n",
    "    return np.sum(np.power(x - y, 2)/np.power(y,2))\n",
    "\n",
    "#test\n",
    "x = np.arange(5)\n",
    "y = np.arange(5,10)\n",
    "SSRE(x,y)"
   ]
  },
  {
   "cell_type": "code",
   "execution_count": 27,
   "metadata": {},
   "outputs": [
    {
     "name": "stdout",
     "output_type": "stream",
     "text": [
      "Warning: Maximum number of iterations has been exceeded.\n",
      "For Oct 29, 2008 rate is[ 6.92457301e-04  1.88692079e+01 -1.10453901e-03  1.40296645e-03]\n"
     ]
    }
   ],
   "source": [
    "#For Oct 29, 2008 rate \n",
    "\n",
    "npLibor = dfLiborRate.values\n",
    "T_array = npLibor[:, 0]/12\n",
    "\n",
    "\n",
    "npSwap = dfSwapRate.values #data from panda dataframe to np.array\n",
    "term = 1. #the length of each term\n",
    "TermNumArray = npSwap[:,0] #Number of terms stored in an array\n",
    "\n",
    "y1 = npLibor[:, 1]\n",
    "y2 = npSwap[:,1]\n",
    "y = np.append(y1, y2) #target\n",
    "\n",
    "def iOut(theta):\n",
    "    x1 = LiborRate(T_array, theta)\n",
    "    x2 = SwapRate(term, TermNumArray, theta)\n",
    "    x = np.append(x1,x2)\n",
    "    return SSRE(x, y)\n",
    "    \n",
    "theta0 = [.1, .1, .00001, .01]    #initial start\n",
    "min_theta = so.fmin(iOut, theta0, ftol = .0001, maxiter = 1000)\n",
    "print('For Oct 29, 2008 rate is' + str(min_theta))\n",
    "    "
   ]
  },
  {
   "cell_type": "code",
   "execution_count": 28,
   "metadata": {},
   "outputs": [
    {
     "name": "stdout",
     "output_type": "stream",
     "text": [
      "Warning: Maximum number of iterations has been exceeded.\n",
      "For Feb 14, 2011 rate is[ 2.44600837e-04  7.63561265e+01 -2.55279651e-04  1.12926219e-02]\n"
     ]
    }
   ],
   "source": [
    "#For Feb 14, 2011 rate \n",
    "\n",
    "npLibor = dfLiborRate.values\n",
    "T_array = npLibor[:, 0]/12\n",
    "\n",
    "\n",
    "npSwap = dfSwapRate.values #data from panda dataframe to np.array\n",
    "term = 1. #the length of each term\n",
    "TermNumArray = npSwap[:,0] #Number of terms stored in an array\n",
    "\n",
    "y1 = npLibor[:, 2]\n",
    "y2 = npSwap[:,2]\n",
    "y = np.append(y1, y2) #target\n",
    "\n",
    "def iOut(theta):\n",
    "    x1 = LiborRate(T_array, theta)\n",
    "    x2 = SwapRate(term, TermNumArray, theta)\n",
    "    x = np.append(x1,x2)\n",
    "    return SSRE(x, y)\n",
    "    \n",
    "theta0 = [.1, .1, .00001, .01]    #initial start\n",
    "min_theta = so.fmin(iOut, theta0, ftol = .0001, maxiter = 1000)\n",
    "print('For Feb 14, 2011 rate is' + str(min_theta))\n",
    "    "
   ]
  },
  {
   "cell_type": "markdown",
   "metadata": {},
   "source": [
    "**Remark**\n",
    "Above example is from Section 7.3.1.1 of [Hir13]. However, although the result from above calibration has three parameters matching the book, it is different for the volatility $\\sigma$. I do not know why."
   ]
  },
  {
   "cell_type": "code",
   "execution_count": null,
   "metadata": {},
   "outputs": [],
   "source": []
  }
 ],
 "metadata": {
  "kernelspec": {
   "display_name": "Python 3",
   "language": "python",
   "name": "python3"
  },
  "language_info": {
   "codemirror_mode": {
    "name": "ipython",
    "version": 3
   },
   "file_extension": ".py",
   "mimetype": "text/x-python",
   "name": "python",
   "nbconvert_exporter": "python",
   "pygments_lexer": "ipython3",
   "version": "3.6.4"
  }
 },
 "nbformat": 4,
 "nbformat_minor": 1
}
