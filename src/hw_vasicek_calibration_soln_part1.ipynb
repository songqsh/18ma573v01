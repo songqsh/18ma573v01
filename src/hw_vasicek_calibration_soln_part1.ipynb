{
 "cells": [
  {
   "cell_type": "markdown",
   "metadata": {},
   "source": [
    "# Calibration: Vasicek model\n",
    "**Ref** Chapter 7 of [Hir13]"
   ]
  },
  {
   "cell_type": "code",
   "execution_count": 1,
   "metadata": {},
   "outputs": [],
   "source": [
    "import numpy as np\n",
    "import pandas as pd\n",
    "import matplotlib.pyplot as plt\n",
    "import scipy.optimize as so"
   ]
  },
  {
   "cell_type": "markdown",
   "metadata": {},
   "source": [
    "**ex- 1.**\n",
    "Find 1 - year ZCB $P(0,1)$ and its corresponding Libor rate $L(0,1)$ with the following parameters for Vasicek model"
   ]
  },
  {
   "cell_type": "code",
   "execution_count": 2,
   "metadata": {},
   "outputs": [],
   "source": [
    "theta = [.1, .05, .003, .03]\n",
    "kappa, mu, sigma, r0 = theta"
   ]
  },
  {
   "cell_type": "code",
   "execution_count": 3,
   "metadata": {},
   "outputs": [],
   "source": [
    "#function for Bond price P(0, T)\n",
    "#theta = (kappa, \\mu, \\sigma, r0)\n",
    "def ZCB(T, theta):\n",
    "    kappa, mu, sigma, r0 = theta\n",
    "    B = (1 - np.exp(- kappa * T))/kappa \n",
    "    A = (mu - (sigma**2)/2./(kappa**2)) * (B - T) - (sigma**2)/(4.*kappa)*(B**2)\n",
    "    return np.exp(A - B*r0)"
   ]
  },
  {
   "cell_type": "code",
   "execution_count": 4,
   "metadata": {},
   "outputs": [
    {
     "name": "stdout",
     "output_type": "stream",
     "text": [
      "ZCB is0.9695084475425054\n",
      "Libor is3.145052787810565\n"
     ]
    }
   ],
   "source": [
    "T = 1.\n",
    "P = ZCB(T, theta)\n",
    "print('ZCB is' + str(P))\n",
    "L = 100./T*(1./P -1)\n",
    "print('Libor is' + str(L))"
   ]
  },
  {
   "cell_type": "markdown",
   "metadata": {},
   "source": [
    "**ex - 2**\n",
    "Continued **ex-1**, find 10 term swap rates with term length 1/2 year."
   ]
  },
  {
   "cell_type": "code",
   "execution_count": 5,
   "metadata": {},
   "outputs": [],
   "source": [
    "# function for swap rate s(0,T) with N terms and ZCB P(0, T_j)\n",
    "# s(T, N, P): swap rate of s(0, T)\n",
    "# T: tenor\n",
    "# N: number of terms\n",
    "# P: list of length N, with P[j-1] = P(0, T_j) for j = 1, 2, ... N\n",
    "s = lambda T, N, P: 100 * (1 - P[N-1])/(T/N*np.sum(P))"
   ]
  },
  {
   "cell_type": "code",
   "execution_count": 6,
   "metadata": {},
   "outputs": [
    {
     "name": "stdout",
     "output_type": "stream",
     "text": [
      "Swap rate is 3.441821396389877\n"
     ]
    }
   ],
   "source": [
    "N = 10\n",
    "term = 1/2.\n",
    "P = np.zeros(N)\n",
    "for j in range(N):\n",
    "    P[j] = ZCB(term*(j+1), theta)\n",
    "    \n",
    "print('Swap rate is ' + str(s(term*N, N, P)))"
   ]
  },
  {
   "cell_type": "code",
   "execution_count": null,
   "metadata": {},
   "outputs": [],
   "source": []
  }
 ],
 "metadata": {
  "kernelspec": {
   "display_name": "Python 3",
   "language": "python",
   "name": "python3"
  },
  "language_info": {
   "codemirror_mode": {
    "name": "ipython",
    "version": 3
   },
   "file_extension": ".py",
   "mimetype": "text/x-python",
   "name": "python",
   "nbconvert_exporter": "python",
   "pygments_lexer": "ipython3",
   "version": "3.6.4"
  }
 },
 "nbformat": 4,
 "nbformat_minor": 1
}
