{
 "cells": [
  {
   "cell_type": "markdown",
   "metadata": {},
   "source": [
    "# Volatility smile"
   ]
  },
  {
   "cell_type": "markdown",
   "metadata": {},
   "source": [
    "## Recall BSM formula"
   ]
  },
  {
   "cell_type": "code",
   "execution_count": 1,
   "metadata": {},
   "outputs": [],
   "source": [
    "import numpy as np\n",
    "import scipy.stats as ss\n",
    "import scipy.optimize as so"
   ]
  },
  {
   "cell_type": "code",
   "execution_count": 2,
   "metadata": {},
   "outputs": [],
   "source": [
    "'''============\n",
    "Gbm class inherited from sde_1d\n",
    "============='''\n",
    "\n",
    "class Gbm:\n",
    "    def __init__(self,\n",
    "                 init_state = 100.,\n",
    "                 drift_ratio = .0475,\n",
    "                 vol_ratio = .2\n",
    "                ):\n",
    "        self.init_state = init_state\n",
    "        self.drift_ratio = drift_ratio\n",
    "        self.vol_ratio = vol_ratio"
   ]
  },
  {
   "cell_type": "code",
   "execution_count": 3,
   "metadata": {},
   "outputs": [],
   "source": [
    "'''=========\n",
    "option class init\n",
    "=========='''\n",
    "class EuropeanOption:\n",
    "    def __init__(self,\n",
    "                otype = 1, # 1: 'call'\n",
    "                        # -1: 'put'\n",
    "                strike = 110.,\n",
    "                maturity = 1.\n",
    "                ):\n",
    "        self.otype = otype\n",
    "        self.strike = strike\n",
    "        self.maturity = 1.\n",
    "        \n",
    "    def payoff(self, s): #s: excercise price\n",
    "        otype = self.otype\n",
    "        k = self.strike\n",
    "        maturity = self.maturity\n",
    "        return np.max([0, (s - k)*otype])\n",
    "        "
   ]
  },
  {
   "cell_type": "code",
   "execution_count": 4,
   "metadata": {},
   "outputs": [],
   "source": [
    "'''========\n",
    "Black-Scholes-Merton formula. \n",
    "=========='''\n",
    "\n",
    "def bsm_price(self, european_option):\n",
    "    s0 = self.init_state\n",
    "    sigma = self.vol_ratio\n",
    "    r = self.drift_ratio\n",
    "    \n",
    "    otype = european_option.otype\n",
    "    k = european_option.strike\n",
    "    maturity = european_option.maturity\n",
    "    \n",
    "    d1 = (np.log(s0 / k) + (r + 0.5 * sigma ** 2) \n",
    "          * maturity) / (sigma * np.sqrt(maturity))\n",
    "    d2 = d1 - sigma * np.sqrt(maturity)\n",
    "    \n",
    "    return otype * s0 * ss.norm.cdf(otype * d1) - otype * np.exp(-r * maturity) * k * ss.norm.cdf(otype * d2)\n",
    "\n",
    "Gbm.bsm_price = bsm_price"
   ]
  },
  {
   "cell_type": "code",
   "execution_count": 5,
   "metadata": {},
   "outputs": [
    {
     "name": "stdout",
     "output_type": "stream",
     "text": [
      "--->>call value is 5.943273183452838\n",
      "--->>put value is 10.84042522804176\n"
     ]
    }
   ],
   "source": [
    "'''===============\n",
    "Test bsm_price\n",
    "================='''\n",
    "gbm1 = Gbm()\n",
    "option1 = EuropeanOption()\n",
    "print('--->>call value is ' + str(gbm1.bsm_price(option1)))\n",
    "option2 = EuropeanOption(otype=-1)\n",
    "print('--->>put value is ' + str(gbm1.bsm_price(option2)))\n"
   ]
  },
  {
   "cell_type": "markdown",
   "metadata": {},
   "source": [
    "## Implied volatility"
   ]
  },
  {
   "cell_type": "markdown",
   "metadata": {},
   "source": [
    "In the market, usually volatility (vol = 0.2 in the above) is not available, but market price (call = 5.94) for the option is available. One wants find a volatility such that associated BSM formula is equal to (fit) the market price. "
   ]
  },
  {
   "cell_type": "code",
   "execution_count": 34,
   "metadata": {},
   "outputs": [],
   "source": [
    "def implied_volatility(spot_price, otype, maturity, strike, interest_rate, market_option_price):\n",
    "    option = EuropeanOption(otype, strike, maturity)\n",
    "    init_vol = .1 #initial guess\n",
    "    gbm = Gbm(spot_price, interest_rate, init_vol)\n",
    "    \n",
    "    def error_function(vol):\n",
    "        gbm.vol_ratio = vol\n",
    "        return np.abs(market_option_price - gbm.bsm_price(option))\n",
    "    \n",
    "    return so.fmin(error_function, 0.1, disp = False)[0]"
   ]
  },
  {
   "cell_type": "code",
   "execution_count": 36,
   "metadata": {},
   "outputs": [
    {
     "name": "stdout",
     "output_type": "stream",
     "text": [
      "---->>>>implied volatility is\n"
     ]
    },
    {
     "data": {
      "text/plain": [
       "0.19992187500000036"
      ]
     },
     "execution_count": 36,
     "metadata": {},
     "output_type": "execute_result"
    }
   ],
   "source": [
    "print('---->>>>implied volatility is')\n",
    "implied_volatility(spot_price=100, otype=1, maturity=1, strike=110, interest_rate=.0475, market_option_price=5.94)"
   ]
  },
  {
   "cell_type": "code",
   "execution_count": 6,
   "metadata": {},
   "outputs": [
    {
     "name": "stdout",
     "output_type": "stream",
     "text": [
      "--->>call value with init_vol is 2.094566693700095\n",
      "--->>error is 3.8454333062999053\n"
     ]
    }
   ],
   "source": [
    "'''=============\n",
    "random selection of volatility\n",
    "=============='''\n",
    "market_price = 5.94 #this is given\n",
    "init_vol = .1 #randomly guess a volume\n",
    "option3 = EuropeanOption()\n",
    "gbm2 = Gbm(vol_ratio=init_vol)\n",
    "call_value = gbm2.bsm_price(option3)\n",
    "print('--->>call value with init_vol is ' + str(call_value))\n",
    "print('--->>error is '+str(abs(call_value - market_price)))"
   ]
  },
  {
   "cell_type": "code",
   "execution_count": null,
   "metadata": {},
   "outputs": [],
   "source": []
  },
  {
   "cell_type": "code",
   "execution_count": 21,
   "metadata": {},
   "outputs": [],
   "source": [
    "'''=============\n",
    "define a method of implied volatility through an example\n",
    "================'''\n",
    "#from the market, following data will be available\n",
    "spot_price = 100. #stock price\n",
    "otype = 1\n",
    "maturity = 1\n",
    "strike = 99.\n",
    "market_option_price = 11.44 #market option price\n",
    "interest_rate = 0.0475"
   ]
  },
  {
   "cell_type": "code",
   "execution_count": 23,
   "metadata": {},
   "outputs": [
    {
     "data": {
      "text/plain": [
       "4.143433214907505"
      ]
     },
     "execution_count": 23,
     "metadata": {},
     "output_type": "execute_result"
    }
   ],
   "source": [
    "option = EuropeanOption(otype, strike, maturity)\n",
    "init_vol = .1 #initial guess\n",
    "gbm = Gbm(spot_price, interest_rate, init_vol)\n",
    "def error_function(option, gbm, market_option_price):\n",
    "    return np.abs(market_option_price - gbm.bsm_price(option))\n",
    "error_function(option, gbm, market_option_price)\n"
   ]
  },
  {
   "cell_type": "code",
   "execution_count": 14,
   "metadata": {},
   "outputs": [],
   "source": [
    "'''==============\n",
    "define a error function, which would be minimized\n",
    "============'''\n",
    "option3 = EuropeanOption()\n",
    "def error_function(vol):\n",
    "    gbm3 = Gbm(vol_ratio=vol)\n",
    "    call_value = gbm3.bsm_price(option3)\n",
    "    return abs(call_value - market_price)\n",
    "    "
   ]
  },
  {
   "cell_type": "code",
   "execution_count": 8,
   "metadata": {},
   "outputs": [
    {
     "name": "stdout",
     "output_type": "stream",
     "text": [
      "Optimization terminated successfully.\n",
      "         Current function value: 0.000186\n",
      "         Iterations: 17\n",
      "         Function evaluations: 34\n",
      "---->>implied volatility is 0.19992187500000036\n"
     ]
    }
   ],
   "source": [
    "implied_vol= so.fmin(error_function, 0.1)[0]\n",
    "print('---->>implied volatility is ' + str(implied_vol))"
   ]
  },
  {
   "cell_type": "markdown",
   "metadata": {},
   "source": [
    "## Volatility smile"
   ]
  },
  {
   "cell_type": "code",
   "execution_count": 9,
   "metadata": {},
   "outputs": [],
   "source": [
    "'''======\n",
    "Read data and filtering\n",
    "========='''\n",
    "#Read data\n",
    "np_option_data = np.loadtxt('optiondata1.dat', comments='#', delimiter=',')\n",
    "\n",
    "data1 = []\n",
    "for i in range(np_option_data.shape[0]):\n",
    "    if (np_option_data[i, 1] == 1.) and (np_option_data[i,0] == 1.) :\n",
    "        data1 = np.append(data1, np_option_data[i,:])"
   ]
  },
  {
   "cell_type": "code",
   "execution_count": 10,
   "metadata": {},
   "outputs": [
    {
     "data": {
      "text/plain": [
       "array([  1.        ,   1.        ,  96.        ,  12.44473601,\n",
       "         1.        ,   1.        ,  97.        ,  12.18629889,\n",
       "         1.        ,   1.        ,  98.        ,  10.83809264,\n",
       "         1.        ,   1.        ,  99.        ,  11.44017659,\n",
       "         1.        ,   1.        , 100.        ,   9.49078643,\n",
       "         1.        ,   1.        , 101.        ,   9.43726275,\n",
       "         1.        ,   1.        , 102.        ,   9.07181663,\n",
       "         1.        ,   1.        , 103.        ,   8.42478928,\n",
       "         1.        ,   1.        , 104.        ,   7.79155922])"
      ]
     },
     "execution_count": 10,
     "metadata": {},
     "output_type": "execute_result"
    }
   ],
   "source": [
    "data1"
   ]
  },
  {
   "cell_type": "code",
   "execution_count": 11,
   "metadata": {},
   "outputs": [
    {
     "data": {
      "text/plain": [
       "False"
      ]
     },
     "execution_count": 11,
     "metadata": {},
     "output_type": "execute_result"
    }
   ],
   "source": [
    "np_option_data[100,0] == -1."
   ]
  },
  {
   "cell_type": "code",
   "execution_count": 12,
   "metadata": {},
   "outputs": [
    {
     "data": {
      "text/plain": [
       "True"
      ]
     },
     "execution_count": 12,
     "metadata": {},
     "output_type": "execute_result"
    }
   ],
   "source": [
    " 1 is 1"
   ]
  },
  {
   "cell_type": "code",
   "execution_count": 27,
   "metadata": {},
   "outputs": [
    {
     "name": "stdout",
     "output_type": "stream",
     "text": [
      "Optimization terminated successfully.\n",
      "         Current function value: 1.000000\n",
      "         Iterations: 20\n",
      "         Function evaluations: 40\n"
     ]
    },
    {
     "data": {
      "text/plain": [
       "1.0"
      ]
     },
     "execution_count": 27,
     "metadata": {},
     "output_type": "execute_result"
    }
   ],
   "source": [
    "def f(x, y):\n",
    "    return x**2 + (y-1)**2\n",
    "so.fmin(lambda y: f(1,y), 10)[0]"
   ]
  },
  {
   "cell_type": "code",
   "execution_count": null,
   "metadata": {},
   "outputs": [],
   "source": []
  }
 ],
 "metadata": {
  "kernelspec": {
   "display_name": "Python 3",
   "language": "python",
   "name": "python3"
  },
  "language_info": {
   "codemirror_mode": {
    "name": "ipython",
    "version": 3
   },
   "file_extension": ".py",
   "mimetype": "text/x-python",
   "name": "python",
   "nbconvert_exporter": "python",
   "pygments_lexer": "ipython3",
   "version": "3.6.4"
  }
 },
 "nbformat": 4,
 "nbformat_minor": 1
}
