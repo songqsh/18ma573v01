{
 "cells": [
  {
   "cell_type": "markdown",
   "metadata": {},
   "source": [
    "# Volatility smile"
   ]
  },
  {
   "cell_type": "markdown",
   "metadata": {},
   "source": [
    "## Recall BSM formula"
   ]
  },
  {
   "cell_type": "code",
   "execution_count": 1,
   "metadata": {},
   "outputs": [],
   "source": [
    "import matplotlib.pyplot as plt\n",
    "import numpy as np\n",
    "import scipy.stats as ss\n",
    "import scipy.optimize as so"
   ]
  },
  {
   "cell_type": "code",
   "execution_count": 2,
   "metadata": {},
   "outputs": [],
   "source": [
    "'''============\n",
    "Gbm class inherited from sde_1d\n",
    "Usage:\n",
    "    gbm1 = Gbm(init_state = 100., drift_ratio=.05, vol_ratio=.2)\n",
    "============='''\n",
    "\n",
    "class Gbm:\n",
    "    def __init__(self,\n",
    "                 init_state = 100.,\n",
    "                 drift_ratio = .0475,\n",
    "                 vol_ratio = .2\n",
    "                ):\n",
    "        self.init_state = init_state\n",
    "        self.drift_ratio = drift_ratio\n",
    "        self.vol_ratio = vol_ratio\n",
    "        \n",
    "        "
   ]
  },
  {
   "cell_type": "code",
   "execution_count": 3,
   "metadata": {},
   "outputs": [],
   "source": [
    "'''=========\n",
    "option class init\n",
    "Usage:\n",
    "    option1 = EuropeanOption(otype = 1, strike = 100., maturity = 1/12)\n",
    "=========='''\n",
    "class EuropeanOption:\n",
    "    def __init__(self,\n",
    "                otype = 1, # 1: 'call'\n",
    "                        # -1: 'put'\n",
    "                strike = 110.,\n",
    "                maturity = 1.\n",
    "                ):\n",
    "        self.otype = otype\n",
    "        self.strike = strike\n",
    "        self.maturity = maturity\n",
    "        \n",
    "    def payoff(self, s): #s: excercise price\n",
    "        otype = self.otype\n",
    "        k = self.strike\n",
    "        maturity = self.maturity\n",
    "        return np.max([0, (s - k)*otype])\n",
    "        "
   ]
  },
  {
   "cell_type": "code",
   "execution_count": 4,
   "metadata": {},
   "outputs": [],
   "source": [
    "'''========\n",
    "Black-Scholes-Merton formula. \n",
    "=========='''\n",
    "\n",
    "def bsm_price(self, european_option):\n",
    "    s0 = self.init_state\n",
    "    sigma = self.vol_ratio\n",
    "    r = self.drift_ratio\n",
    "    \n",
    "    otype = european_option.otype\n",
    "    k = european_option.strike\n",
    "    maturity = european_option.maturity\n",
    "    \n",
    "    d1 = (np.log(s0 / k) + (r + 0.5 * sigma ** 2) \n",
    "          * maturity) / (sigma * np.sqrt(maturity))\n",
    "    d2 = d1 - sigma * np.sqrt(maturity)\n",
    "    \n",
    "    return otype * s0 * ss.norm.cdf(otype * d1) - otype * np.exp(-r * maturity) * k * ss.norm.cdf(otype * d2)\n",
    "\n",
    "Gbm.bsm_price = bsm_price"
   ]
  },
  {
   "cell_type": "code",
   "execution_count": 5,
   "metadata": {},
   "outputs": [
    {
     "name": "stdout",
     "output_type": "stream",
     "text": [
      ">>>>>>>call value is 5.943273183452838\n",
      ">>>>>>>>put value is 10.84042522804176\n"
     ]
    }
   ],
   "source": [
    "'''===============\n",
    "Test bsm_price\n",
    "================='''\n",
    "gbm1 = Gbm()\n",
    "option1 = EuropeanOption()\n",
    "print('>>>>>>>call value is ' + str(gbm1.bsm_price(option1)))\n",
    "option2 = EuropeanOption(otype=-1)\n",
    "print('>>>>>>>>put value is ' + str(gbm1.bsm_price(option2)))\n"
   ]
  },
  {
   "cell_type": "markdown",
   "metadata": {},
   "source": [
    "## Implied volatility"
   ]
  },
  {
   "cell_type": "markdown",
   "metadata": {},
   "source": [
    "In the market, usually volatility (vol = 0.2 in the above) is not available, but market price (call = 5.94) for the option is available. One wants find a volatility such that associated BSM formula is equal to (fit) the market price. "
   ]
  },
  {
   "cell_type": "code",
   "execution_count": 6,
   "metadata": {},
   "outputs": [],
   "source": [
    "'''==========\n",
    "define a method to seek for an implied volatility\n",
    "============'''\n",
    "\n",
    "def implied_volatility(spot_price, otype, maturity, strike, interest_rate, market_option_price):\n",
    "    option = EuropeanOption(otype, strike, maturity)\n",
    "    init_vol = .1 #initial guess\n",
    "    gbm = Gbm(spot_price, interest_rate, init_vol)\n",
    "    \n",
    "    def error_function(vol):\n",
    "        gbm.vol_ratio = vol\n",
    "        return np.abs(market_option_price - gbm.bsm_price(option))\n",
    "    \n",
    "    return so.fmin(error_function, 0.1, disp = False)[0]"
   ]
  },
  {
   "cell_type": "code",
   "execution_count": 7,
   "metadata": {},
   "outputs": [
    {
     "name": "stdout",
     "output_type": "stream",
     "text": [
      ">>>>>>>>implied volatility is\n"
     ]
    },
    {
     "data": {
      "text/plain": [
       "0.19992187500000036"
      ]
     },
     "execution_count": 7,
     "metadata": {},
     "output_type": "execute_result"
    }
   ],
   "source": [
    "'''============\n",
    "test the implied_vol by reversing bsm_formula example in the above\n",
    "=============='''\n",
    "print('>>>>>>>>implied volatility is')\n",
    "implied_volatility(spot_price=100, otype=1, maturity=1, strike=110, interest_rate=.0475, market_option_price=5.94)"
   ]
  },
  {
   "cell_type": "markdown",
   "metadata": {},
   "source": [
    "## Volatility smile\n",
    "\n",
    "Next, we shall compute volatility smiles to multiple market option prices. For instance, we can fix the maturity, and compute volatilities for different strikes. If we plot a strike versus vol figure , it usually gives volatility smile."
   ]
  },
  {
   "cell_type": "code",
   "execution_count": 29,
   "metadata": {},
   "outputs": [
    {
     "name": "stdout",
     "output_type": "stream",
     "text": [
      ">>>>>>otype, maturity, strike, option_price\n",
      "[[  1.           0.16666667  97.           5.32705461]\n",
      " [  1.           0.16666667  99.           3.86224255]\n",
      " [  1.           0.16666667 101.           2.7204371 ]\n",
      " [  1.           0.16666667 103.           2.1202793 ]\n",
      " [  1.           0.41666667  97.           7.23756307]\n",
      " [  1.           0.41666667  99.           5.95053461]\n",
      " [  1.           0.41666667 101.           5.2640122 ]\n",
      " [  1.           0.41666667 103.           4.97493422]]\n"
     ]
    }
   ],
   "source": [
    "'''======\n",
    "Read data\n",
    "========='''\n",
    "#Read four-column data\n",
    "#columns are otype, maturity, strike, option_price\n",
    "np_option_data1 = np.loadtxt('optiondata2.dat', comments='#', delimiter=',')\n",
    "\n",
    "print('>>>>>>otype, maturity, strike, option_price')\n",
    "print(np_option_data1)"
   ]
  },
  {
   "cell_type": "code",
   "execution_count": 15,
   "metadata": {},
   "outputs": [],
   "source": [
    "#below are market data \n",
    "spot_price = 100\n",
    "interest_rate = .05\n",
    "\n",
    "#expand one column for vol\n",
    "num_row = np_option_data1.shape[0]\n",
    "np_option_data2 = np.append(np_option_data1, np.zeros([num_row,1]), axis = 1)"
   ]
  },
  {
   "cell_type": "code",
   "execution_count": 30,
   "metadata": {},
   "outputs": [
    {
     "name": "stdout",
     "output_type": "stream",
     "text": [
      ">>>>>>otype, maturity, strike, option_price, implied vol\n",
      "[[  1.           0.16666667  97.           5.44237971   0.19125   ]\n",
      " [  1.           0.16666667  99.           3.77163898   0.17724609]\n",
      " [  1.           0.16666667 101.           3.15002236   0.17183594]\n",
      " [  1.           0.16666667 103.           2.36850195   0.18681641]\n",
      " [  1.           0.41666667  97.           7.72507731   0.170625  ]\n",
      " [  1.           0.41666667  99.           5.84588003   0.16804688]\n",
      " [  1.           0.41666667 101.           5.55533383   0.18373047]\n",
      " [  1.           0.41666667 103.           4.4444931    0.20901367]]\n"
     ]
    }
   ],
   "source": [
    "#compute implied vol\n",
    "for i in range(num_row):\n",
    "    otype = np_option_data1[i, 0]\n",
    "    maturity = np_option_data1[i,1]\n",
    "    strike = np_option_data1[i,2]\n",
    "    market_option_price = np_option_data1[i,3]\n",
    "    \n",
    "    np_option_data2[i, 4] = implied_volatility(spot_price, otype, maturity, strike, interest_rate, market_option_price)\n",
    "    \n",
    "print('>>>>>>otype, maturity, strike, option_price, implied vol')\n",
    "print(np_option_data2)"
   ]
  },
  {
   "cell_type": "code",
   "execution_count": 28,
   "metadata": {},
   "outputs": [
    {
     "data": {
      "image/png": "[encoded data removed]",
      "text/plain": [
       "<matplotlib.figure.Figure at 0x11a6a6550>"
      ]
     },
     "metadata": {},
     "output_type": "display_data"
    }
   ],
   "source": [
    "filter1 = np_option_data2[np_option_data2[:,1] == 2/12]\n",
    "plt.plot(filter1[:,2], filter1[:,4], label = '2 mon maturity')\n",
    "filter2 = np_option_data2[np_option_data2[:,1] == 5/12]\n",
    "plt.plot(filter2[:,2], filter2[:,4], label = '5 mon maturity')\n",
    "plt.ylabel('implied vol')\n",
    "plt.xlabel('strike')\n",
    "plt.legend()\n",
    "plt.show()"
   ]
  },
  {
   "cell_type": "code",
   "execution_count": null,
   "metadata": {},
   "outputs": [],
   "source": []
  }
 ],
 "metadata": {
  "kernelspec": {
   "display_name": "Python 3",
   "language": "python",
   "name": "python3"
  },
  "language_info": {
   "codemirror_mode": {
    "name": "ipython",
    "version": 3
   },
   "file_extension": ".py",
   "mimetype": "text/x-python",
   "name": "python",
   "nbconvert_exporter": "python",
   "pygments_lexer": "ipython3",
   "version": "3.6.4"
  }
 },
 "nbformat": 4,
 "nbformat_minor": 1
}
