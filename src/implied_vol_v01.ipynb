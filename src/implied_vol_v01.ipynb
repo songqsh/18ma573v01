{
 "cells": [
  {
   "cell_type": "markdown",
   "metadata": {
    "colab_type": "text",
    "id": "view-in-github"
   },
   "source": [
    "<a href=\"https://colab.research.google.com/github/songqsh/18ma573pub/blob/master/src/implied_vol_v01.ipynb\" target=\"_parent\"><img src=\"https://colab.research.google.com/assets/colab-badge.svg\" alt=\"Open In Colab\"/></a>"
   ]
  },
  {
   "cell_type": "markdown",
   "metadata": {
    "colab_type": "text",
    "id": "9wAnvUp_XoFq"
   },
   "source": [
    "# Implied volatility\n",
    "\n",
    "## Abstract \n",
    "\n",
    "\n",
    "- We will introduce implied volatility and its computations"
   ]
  },
  {
   "cell_type": "markdown",
   "metadata": {
    "colab_type": "text",
    "id": "F9tYcXcNcbil"
   },
   "source": [
    "## Problem\n",
    "\n",
    "We have seen that BS call price is 5.94 with the following parameters:"
   ]
  },
  {
   "cell_type": "code",
   "execution_count": 1,
   "metadata": {
    "colab": {},
    "colab_type": "code",
    "id": "bYOOPXNNdfNB"
   },
   "outputs": [],
   "source": [
    "vol_ratio = .2; spot_price = 100.; drift_ratio = .0475; strike = 110.; maturity = 1."
   ]
  },
  {
   "cell_type": "markdown",
   "metadata": {
    "colab_type": "text",
    "id": "dAbOAKUgdrFE"
   },
   "source": [
    "\n",
    "\n",
    "In the market, usually volatility (vol = 0.2 in the above) is not available, but market price (call = 5.94) for the option is available. One wants to find a volatility such that associated BSM formula is equal to (fit) the market price. This is called implied volatility. \n",
    "\n",
    "Next, we are goint to find implied volatility given the following parameters:"
   ]
  },
  {
   "cell_type": "markdown",
   "metadata": {
    "colab_type": "text",
    "id": "DE2UqN3GeDPt"
   },
   "source": [
    "spot_price = 100.; drift_ratio = .0475; strike = 110.; maturity = 1.; market_call_price = 5.94"
   ]
  },
  {
   "cell_type": "markdown",
   "metadata": {
    "colab_type": "text",
    "id": "SSW1z2w6eUZq"
   },
   "source": [
    "## Anal\n",
    "\n",
    "the implied volatility of an option contract is that value of the volatility of the underlying instrument which, when input in an option pricing model (such as Black–Scholes) will return a theoretical value equal to the current market price of the option. \n",
    "\n",
    "Consider a derivative or a call option particularly, we know parameter sets of \n",
    "- spot price.; drift_ratio (interest rate); strike.; maturity\n",
    "\n",
    "For a BSM theoretical price, the only missing parameter is the volatility $\\sigma$. Let's denote a function $f$ be\n",
    "$$f: \\sigma \\mapsto BSM(\\sigma, others).$$\n",
    "Suppose we denote by $p$ for the market price of the call option, then the implied volatility is\n",
    "$\\hat \\sigma$ satisfying\n",
    "$$f(\\hat \\sigma) = p$$\n",
    "or \n",
    "$$\\hat \\sigma = f^{-1}(p),$$\n",
    "if the inverse of $f$ is well defined at $p$."
   ]
  },
  {
   "cell_type": "markdown",
   "metadata": {
    "colab_type": "text",
    "id": "iHMqWczsik6_"
   },
   "source": [
    "The next lemma tells us, we can search for the minimizer of the error function\n",
    "$$\\sigma \\mapsto |f(\\sigma) - p|,$$\n",
    "which is available by \"scipy.optimize.fmin\". \n",
    "\n",
    "__Lemma__\n",
    "\n",
    "Supose $f$ is a function satisfying\n",
    "- $f: [0, \\infty) \\mapsto (f_{min}, f_{max})$\n",
    "- $f$ is continuous\n",
    "- $f$ is strictly increasing\n",
    "\n",
    "then, for any $p\\in  (f_{min}, f_{max})$, \n",
    "- there exists unique $\\hat \\sigma$, s.t. $f(\\hat \\sigma) = p$;\n",
    "- Moreover, \n",
    "$$\\hat \\sigma = \\arg\\min_{\\sigma\\in (0,\\infty)} | f(\\sigma) - p|.$$"
   ]
  },
  {
   "cell_type": "markdown",
   "metadata": {
    "colab_type": "text",
    "id": "52JzYn6dYS1v"
   },
   "source": [
    "## Code"
   ]
  },
  {
   "cell_type": "markdown",
   "metadata": {
    "colab_type": "text",
    "id": "dTOvSQH8XwF_"
   },
   "source": [
    "git clone repos"
   ]
  },
  {
   "cell_type": "code",
   "execution_count": 3,
   "metadata": {
    "colab": {
     "base_uri": "https://localhost:8080/",
     "height": 136
    },
    "colab_type": "code",
    "id": "cXMmUpsLYR7_",
    "outputId": "e1f4ebe1-dc53-42fb-e3ea-52b398d74f4e"
   },
   "outputs": [],
   "source": [
    "'''======\n",
    "run once, then comment it off, and run again\n",
    "========'''\n",
    "#!git clone https://github.com/songqsh/18ma573pub.git \n",
    "pass"
   ]
  },
  {
   "cell_type": "markdown",
   "metadata": {
    "colab_type": "text",
    "id": "GdMvygnhYruL"
   },
   "source": [
    "Change working directory"
   ]
  },
  {
   "cell_type": "code",
   "execution_count": 4,
   "metadata": {
    "colab": {
     "base_uri": "https://localhost:8080/",
     "height": 34
    },
    "colab_type": "code",
    "id": "urPGEwOtXjeI",
    "outputId": "33eec76e-42be-469b-eb7b-3094863d3bd4"
   },
   "outputs": [],
   "source": [
    "#cd ./18ma573pub/src/\n",
    "pass"
   ]
  },
  {
   "cell_type": "code",
   "execution_count": 5,
   "metadata": {
    "colab": {},
    "colab_type": "code",
    "id": "brz5q9uDYjID"
   },
   "outputs": [],
   "source": [
    "'''==========\n",
    "here we import our own python modules\n",
    "==================='''\n",
    "import european_options_class as eoc\n",
    "import sde_class as sde"
   ]
  },
  {
   "cell_type": "code",
   "execution_count": 6,
   "metadata": {
    "colab": {},
    "colab_type": "code",
    "id": "ZZiffae1a3vi"
   },
   "outputs": [],
   "source": [
    "import matplotlib.pyplot as plt\n",
    "import numpy as np\n",
    "import scipy.optimize as so"
   ]
  },
  {
   "cell_type": "code",
   "execution_count": 7,
   "metadata": {
    "colab": {
     "base_uri": "https://localhost:8080/",
     "height": 34
    },
    "colab_type": "code",
    "id": "Gsr0FIxjZDoc",
    "outputId": "1c35840e-7727-4c35-a4df-e065164d3b43"
   },
   "outputs": [
    {
     "ename": "AttributeError",
     "evalue": "module 'european_options_class' has no attribute 'VanillaOption'",
     "output_type": "error",
     "traceback": [
      "\u001b[0;31m---------------------------------------------------------------------------\u001b[0m",
      "\u001b[0;31mAttributeError\u001b[0m                            Traceback (most recent call last)",
      "\u001b[0;32m<ipython-input-7-c8c0487fee61>\u001b[0m in \u001b[0;36m<module>\u001b[0;34m()\u001b[0m\n\u001b[1;32m      5\u001b[0m                  \u001b[0mdrift_ratio\u001b[0m \u001b[0;34m=\u001b[0m \u001b[0;36m.0475\u001b[0m\u001b[0;34m,\u001b[0m\u001b[0;34m\u001b[0m\u001b[0m\n\u001b[1;32m      6\u001b[0m                  vol_ratio = .2)\n\u001b[0;32m----> 7\u001b[0;31m option1 = eoc.VanillaOption(\n\u001b[0m\u001b[1;32m      8\u001b[0m     \u001b[0motype\u001b[0m \u001b[0;34m=\u001b[0m \u001b[0;36m1\u001b[0m\u001b[0;34m,\u001b[0m \u001b[0;31m# 1: 'call'\u001b[0m\u001b[0;34m\u001b[0m\u001b[0m\n\u001b[1;32m      9\u001b[0m               \u001b[0;31m# -1: 'put'\u001b[0m\u001b[0;34m\u001b[0m\u001b[0;34m\u001b[0m\u001b[0m\n",
      "\u001b[0;31mAttributeError\u001b[0m: module 'european_options_class' has no attribute 'VanillaOption'"
     ]
    }
   ],
   "source": [
    "'''===============\n",
    "Test bsm_price\n",
    "================='''\n",
    "gbm1 = sde.Gbm(init_state = 100.,\n",
    "                 drift_ratio = .0475,\n",
    "                 vol_ratio = .2)\n",
    "option1 = eoc.VanillaOption(\n",
    "    otype = 1, # 1: 'call'\n",
    "              # -1: 'put'\n",
    "    strike = 110.,                \n",
    "    maturity = 1.\n",
    ")\n",
    "print('>>>>>>>call value is ' + str(gbm1.bsm_price(option1)))\n"
   ]
  },
  {
   "cell_type": "markdown",
   "metadata": {
    "colab_type": "text",
    "id": "B9lm4Ai9ZjgE"
   },
   "source": [
    "In the market, usually volatility (vol = 0.2 in the above) is not available, but market price (call = 5.94) for the option is available. One wants find a volatility such that associated BSM formula is equal to (fit) the market price. "
   ]
  },
  {
   "cell_type": "code",
   "execution_count": 0,
   "metadata": {
    "colab": {},
    "colab_type": "code",
    "id": "9fyC1yH-aLyw"
   },
   "outputs": [],
   "source": [
    "'''================\n",
    "define an error function\n",
    "===================='''\n",
    "def error_function(vol, gbm, option):\n",
    "  gbm.vol_ratio = vol\n",
    "  return np.abs(option.market_price - gbm.bsm_price(option))"
   ]
  },
  {
   "cell_type": "code",
   "execution_count": 0,
   "metadata": {
    "colab": {},
    "colab_type": "code",
    "id": "iOn05OXQbQnr"
   },
   "outputs": [],
   "source": [
    "'''==========\n",
    "define a method to seek for an implied volatility\n",
    "============'''\n",
    "\n",
    "def implied_volatility(gbm, option):\n",
    "  init_vol = .1 #initial guess\n",
    "  return so.fmin(error_function, init_vol, \n",
    "                 args = (gbm, option), disp = 0)[0]"
   ]
  },
  {
   "cell_type": "code",
   "execution_count": 9,
   "metadata": {
    "colab": {
     "base_uri": "https://localhost:8080/",
     "height": 34
    },
    "colab_type": "code",
    "id": "CMcocDWvc_wf",
    "outputId": "c88e2ef1-6974-492c-f8f4-04ed195be255"
   },
   "outputs": [
    {
     "name": "stdout",
     "output_type": "stream",
     "text": [
      ">>>>>>>>implied volatility is 0.19992187500000036\n"
     ]
    }
   ],
   "source": [
    "'''============\n",
    "test the implied_vol by reversing bsm_formula example in the above\n",
    "=============='''\n",
    "\n",
    "option1.market_price = 5.94\n",
    "\n",
    "print('>>>>>>>>implied volatility is ' + \n",
    "     str(implied_volatility(gbm1, option1)))\n"
   ]
  },
  {
   "cell_type": "code",
   "execution_count": 0,
   "metadata": {
    "colab": {},
    "colab_type": "code",
    "id": "bCxueCrEx9q7"
   },
   "outputs": [],
   "source": []
  }
 ],
 "metadata": {
  "colab": {
   "include_colab_link": true,
   "name": "implied_vol_v01.ipynb",
   "provenance": [],
   "toc_visible": true,
   "version": "0.3.2"
  },
  "kernelspec": {
   "display_name": "Python 3",
   "language": "python",
   "name": "python3"
  },
  "language_info": {
   "codemirror_mode": {
    "name": "ipython",
    "version": 3
   },
   "file_extension": ".py",
   "mimetype": "text/x-python",
   "name": "python",
   "nbconvert_exporter": "python",
   "pygments_lexer": "ipython3",
   "version": "3.6.4"
  }
 },
 "nbformat": 4,
 "nbformat_minor": 1
}
