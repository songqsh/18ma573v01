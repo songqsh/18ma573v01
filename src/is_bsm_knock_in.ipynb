{
 "cells": [
  {
   "cell_type": "markdown",
   "metadata": {},
   "source": [
    "__Abstract__\n",
    " - Goal \n",
    "     - Apply importance sampling (IS) to Knock-In option.\n",
    " - Ref\n",
    "     - Ex4.6.4 of [Gla03]"
   ]
  },
  {
   "cell_type": "markdown",
   "metadata": {},
   "source": [
    "__Problem__\n",
    "\n",
    "- Asset follows $GBM(S_0, r, \\sigma^2)$;\n",
    "- Knock-in payoff is given as\n",
    "$$F(S) = I(S_T > K) \\cdot I\\Big(\\min_{1\\le k \\le m} S(t_k) < H\\Big).$$\n",
    "- Find price $$e^{-rT}\\mathbb E [F(S)]$$"
   ]
  },
  {
   "cell_type": "markdown",
   "metadata": {},
   "source": [
    "__Anal__"
   ]
  },
  {
   "cell_type": "markdown",
   "metadata": {},
   "source": [
    "__Parameters__\n",
    "\n",
    "- $r = 5\\%, \\sigma = 15\\%, S(0) = 95$\n",
    "- $T = 0.25, m = 50, H = 85, K = 96.$\n",
    "- $k = 100$ many MC computation; \n",
    "- $n = 1000$ paths in each MC;\n",
    "- $m = 50$ time steps for each path"
   ]
  },
  {
   "cell_type": "markdown",
   "metadata": {},
   "source": [
    "__Algo__ "
   ]
  },
  {
   "cell_type": "code",
   "execution_count": 1,
   "metadata": {},
   "outputs": [
    {
     "name": "stdout",
     "output_type": "stream",
     "text": [
      "MC computation value: \n",
      "\n",
      "Mean is 0.5534271442189959\n",
      "MSE is 0.001559407163387847\n"
     ]
    }
   ],
   "source": [
    "%run is_bsm_knock_in.py"
   ]
  },
  {
   "cell_type": "code",
   "execution_count": 2,
   "metadata": {},
   "outputs": [
    {
     "name": "stdout",
     "output_type": "stream",
     "text": [
      "#!/usr/bin/env python3\r\n",
      "# -*- coding: utf-8 -*-\r\n",
      "\"\"\"\r\n",
      "Created on Thu Nov 22 17:00:26 2018\r\n",
      "\r\n",
      "@author: songqsh\r\n",
      "\"\"\"\r\n",
      "\r\n",
      "import numpy as np\r\n",
      "from exact_simulation_v01 import bm_1d\r\n",
      "\r\n",
      "r = .05; sigma = 0.15; s0 = 95\r\n",
      "T = 0.25; H = 85; K = 96\r\n",
      "#k = 1000; n = 1000; m = 50\r\n",
      "k = 100; n = 1000; m = 50; dt = T/m\r\n",
      "\r\n",
      "b = - np.log(H/s0); c = np.log(K/s0)\r\n",
      "slope = (c+2*b)/T\r\n",
      "r1 = .5*sigma**2 - slope\r\n",
      "r2 = .5*sigma**2 + slope\r\n",
      "th1 = (r1 - r)/sigma\r\n",
      "th2 = (r2 -r)/sigma\r\n",
      "\r\n",
      "val = np.zeros(k)\r\n",
      "for ii in range(k):\r\n",
      "    L = np.zeros(m)\r\n",
      "    adj_payoff = np.zeros(n)\r\n",
      "    \r\n",
      "    for i in range(n):\r\n",
      "        w_hat = bm_1d(T,m)\r\n",
      "        flag = 0\r\n",
      "        tau = T + 1\r\n",
      "        w_hat_tau = 0\r\n",
      "        \r\n",
      "        #generate a path for L\r\n",
      "        for j in range(m):\r\n",
      "            if flag == 0:\r\n",
      "                L[j] = sigma*w_hat[j] - slope*(j+1)*dt\r\n",
      "                if L[j] < - b:\r\n",
      "                    tau = (j+1)*dt\r\n",
      "                    w_hat_tau = w_hat[j]\r\n",
      "                    flag = 1\r\n",
      "            else:\r\n",
      "                L[j] = sigma*w_hat[j] -slope*tau + slope*((j+1)*dt - tau)\r\n",
      "                \r\n",
      "        i_payoff = 1000*float(L[-1]>c)*float(tau<T)\r\n",
      "        likelyhood_ratio = 1./np.exp(th1*w_hat_tau + \\\r\n",
      "            th2*(w_hat[-1] - w_hat_tau) + \\\r\n",
      "            .5*th1**2*tau + .5*th2**2*(T-tau))\r\n",
      "        adj_payoff[i] =np.exp(-r*T)*i_payoff*likelyhood_ratio\r\n",
      "        \r\n",
      "    val[ii] = adj_payoff.mean()\r\n",
      "\r\n",
      "\r\n",
      "print('MC computation value: \\n')\r\n",
      "print('Mean is ' + str(val.mean()))    \r\n",
      "print('MSE is ' + str(val.var()))"
     ]
    }
   ],
   "source": [
    "%cat is_bsm_knock_in.py"
   ]
  },
  {
   "cell_type": "code",
   "execution_count": null,
   "metadata": {},
   "outputs": [],
   "source": []
  }
 ],
 "metadata": {
  "kernelspec": {
   "display_name": "Python 3",
   "language": "python",
   "name": "python3"
  },
  "language_info": {
   "codemirror_mode": {
    "name": "ipython",
    "version": 3
   },
   "file_extension": ".py",
   "mimetype": "text/x-python",
   "name": "python",
   "nbconvert_exporter": "python",
   "pygments_lexer": "ipython3",
   "version": "3.6.4"
  }
 },
 "nbformat": 4,
 "nbformat_minor": 2
}
