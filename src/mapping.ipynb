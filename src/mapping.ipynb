{
 "cells": [
  {
   "cell_type": "markdown",
   "metadata": {},
   "source": [
    "# Mapping"
   ]
  },
  {
   "cell_type": "markdown",
   "metadata": {},
   "source": [
    "## Model\n",
    "\n",
    "- Sde_1d, Gbm_1d, Abm_1d, Vasicek_1d, Cir_1d, Nig_1d, Cev_1d, Vg_1d\n",
    "- Sde_2d, Gbm_2d, Vasicek_2d, Heston_2d, Sabr_2d"
   ]
  },
  {
   "cell_type": "markdown",
   "metadata": {},
   "source": [
    "## Contract\n",
    "\n",
    "- Vanilla, Digital, American, Geometric_asian, Arithmetic_asian, Barrier_option, Zero_bond"
   ]
  },
  {
   "cell_type": "markdown",
   "metadata": {},
   "source": [
    "## Method\n",
    "\n",
    "- explicit, exact_sampling, euler, fourier, fourier_cm, milstein, finite_difference"
   ]
  },
  {
   "cell_type": "markdown",
   "metadata": {},
   "source": [
    "## Price engine\n",
    "\n",
    "- price engine shall be a function of model + contract + method"
   ]
  },
  {
   "cell_type": "markdown",
   "metadata": {},
   "source": [
    "## Calibration procedure\n",
    "\n",
    "- pick model+vanilla+method to create a price engine.\n",
    "- cook data of option prices for $(T, K)$-2d-array\n",
    "- draw Gbm volatility smile\n",
    "- calibrate model using the above simulated data\n",
    "- justify performance"
   ]
  },
  {
   "cell_type": "code",
   "execution_count": null,
   "metadata": {},
   "outputs": [],
   "source": []
  }
 ],
 "metadata": {
  "kernelspec": {
   "display_name": "Python 3",
   "language": "python",
   "name": "python3"
  },
  "language_info": {
   "codemirror_mode": {
    "name": "ipython",
    "version": 3
   },
   "file_extension": ".py",
   "mimetype": "text/x-python",
   "name": "python",
   "nbconvert_exporter": "python",
   "pygments_lexer": "ipython3",
   "version": "3.6.4"
  }
 },
 "nbformat": 4,
 "nbformat_minor": 2
}
