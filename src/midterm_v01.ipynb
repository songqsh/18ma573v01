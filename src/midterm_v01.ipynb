{
 "cells": [
  {
   "cell_type": "markdown",
   "metadata": {},
   "source": [
    "# Problem - 1"
   ]
  },
  {
   "cell_type": "markdown",
   "metadata": {},
   "source": [
    "Let $f:\\mathbb R\\mapsto \\mathbb R$ be a smooth even function \n",
    "satisfying $f(0) = 0$. \n",
    "Our objective is to approximate  the second order derivative $f''(0)$. \n",
    "- Prove that $f'(0) = 0.$\n",
    "- Chenyu proposes the following estimator for $f''(0)$: for a step size $h$\n",
    " $$a_{h} = \\frac{2f(h)}{h^{2}}.$$\n",
    " Please justify that Chenyu's estimation has its convergence $O(h^{2})$.\n",
    "- Is there anyway to improve the above \n",
    " convergence to $O(h^{4})$ in the form of \n",
    " $$b_{h} = \\frac{c_{1} f(h) + c_{2}f(2h)}{h^{2}}$$\n",
    " for some constants $c_{1}$ and $c_{2}$?\n",
    "- If the above function $f$ is odd and other properties remain the same, how do you want to find the $f''(0)$ efficiently?\n"
   ]
  },
  {
   "cell_type": "markdown",
   "metadata": {},
   "source": [
    "# Problem - 2"
   ]
  },
  {
   "cell_type": "code",
   "execution_count": null,
   "metadata": {},
   "outputs": [],
   "source": []
  }
 ],
 "metadata": {
  "kernelspec": {
   "display_name": "Python 3",
   "language": "python",
   "name": "python3"
  },
  "language_info": {
   "codemirror_mode": {
    "name": "ipython",
    "version": 3
   },
   "file_extension": ".py",
   "mimetype": "text/x-python",
   "name": "python",
   "nbconvert_exporter": "python",
   "pygments_lexer": "ipython3",
   "version": "3.6.4"
  }
 },
 "nbformat": 4,
 "nbformat_minor": 2
}
