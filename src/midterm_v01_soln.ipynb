{
 "cells": [
  {
   "cell_type": "markdown",
   "metadata": {},
   "source": [
    "__Name__\n",
    "\n",
    "__Rules__ Any kind of communications are strictly prohibited. But you can use book, note, or internet."
   ]
  },
  {
   "cell_type": "code",
   "execution_count": 54,
   "metadata": {},
   "outputs": [],
   "source": [
    "import numpy as np\n",
    "import matplotlib.pyplot as plt\n",
    "from scipy.stats import norm\n",
    "from scipy.integrate import quad\n",
    "from scipy.optimize import fmin"
   ]
  },
  {
   "cell_type": "markdown",
   "metadata": {},
   "source": [
    "__Problem__"
   ]
  },
  {
   "cell_type": "markdown",
   "metadata": {},
   "source": [
    "We consider BSM model with the following parameters:"
   ]
  },
  {
   "cell_type": "code",
   "execution_count": 83,
   "metadata": {},
   "outputs": [],
   "source": [
    "'''======parameters============='''\n",
    "s0, r, sigma, T, K, otype = [30., .02, 0.3, 1., 31.0, 1] # spot, rate, vol, maturity, strike, option type"
   ]
  },
  {
   "cell_type": "markdown",
   "metadata": {},
   "source": [
    "- (Q) Write for the european call the explicit pricing formula, then find call price."
   ]
  },
  {
   "cell_type": "markdown",
   "metadata": {},
   "source": [
    "(your latex here)"
   ]
  },
  {
   "cell_type": "code",
   "execution_count": 84,
   "metadata": {},
   "outputs": [
    {
     "name": "stdout",
     "output_type": "stream",
     "text": [
      ">>>> call price is 3.4102506629837706\n"
     ]
    }
   ],
   "source": [
    "'''========\n",
    "Black-Scholes-Merton formula. \n",
    "=========='''\n",
    "\n",
    "def bsm(s0, r, sigma, T, K, otype):\n",
    "    d1 = (np.log(s0 / K) + (r + 0.5 * sigma ** 2) \n",
    "          * T) / (sigma * np.sqrt(T))\n",
    "    d2 = d1 - sigma * np.sqrt(T)\n",
    "    \n",
    "    return (otype * s0 * norm.cdf(otype * d1) #line break needs parenthesis\n",
    "            - otype * np.exp(-r * T) * K * norm.cdf(otype * d2))\n",
    "\n",
    "print('>>>> call price is ' + str(bsm(s0, r, sigma, T, K, otype)))      "
   ]
  },
  {
   "cell_type": "markdown",
   "metadata": {},
   "source": [
    "- (Q) \n",
    "    - Fourier transform $\\phi$ of $\\ln S_T$;\n",
    "    - write down call in terms of $\\phi$;\n",
    "    - then find call price using the above formula."
   ]
  },
  {
   "cell_type": "markdown",
   "metadata": {},
   "source": [
    "(your latex here)"
   ]
  },
  {
   "cell_type": "code",
   "execution_count": 85,
   "metadata": {},
   "outputs": [
    {
     "name": "stdout",
     "output_type": "stream",
     "text": [
      ">>> call price by fourier trnasform is 3.410250662983744\n"
     ]
    }
   ],
   "source": [
    "'''========\n",
    "Black-Scholes-Merton price by Fourier transform. \n",
    "=========='''\n",
    "\n",
    "def bsm_fourier(s0, r, sigma, T, K, otype):\n",
    "    log_s0 = np.log(s0)\n",
    "    log_k = np.log(K)\n",
    "    mu = r - .5*sigma**2\n",
    "    \n",
    "    char_fun = lambda u: np.exp(1j*u*(log_s0+mu*T) - .5*(sigma**2)*T*(u**2))\n",
    "    integrand1 = lambda u: (np.exp(-1j*u*log_k)*char_fun(u-1j)\n",
    "                           / (1j*u*char_fun(-1j))).real\n",
    "    pi_1 = .5+ 1/np.pi*quad(integrand1, 0, np.inf)[0]\n",
    "\n",
    "    integrand2 = lambda u: (np.exp(-1j*u*log_k)*char_fun(u)\n",
    "                           / (1j*u)).real\n",
    "    pi_2 = .5+ 1/np.pi*quad(integrand2, 0, np.inf)[0]\n",
    "\n",
    "    price = s0*pi_1 - K*np.exp(-r*T)*pi_2 #this is call price\n",
    "    if otype == -1:\n",
    "        price = price - s0 + K*np.exp(-r*T)\n",
    "    return price\n",
    "\n",
    "print('>>> call price by fourier trnasform is ' + str(bsm_fourier(s0, r, sigma, T, K, otype)))"
   ]
  },
  {
   "cell_type": "markdown",
   "metadata": {},
   "source": [
    "- Prove that call price is increasing with respect to its maturity, and demonstrate your result numerically."
   ]
  },
  {
   "cell_type": "markdown",
   "metadata": {},
   "source": [
    "(your latex here)"
   ]
  },
  {
   "cell_type": "code",
   "execution_count": 86,
   "metadata": {},
   "outputs": [
    {
     "data": {
      "text/plain": [
       "[<matplotlib.lines.Line2D at 0x1163eb5f8>]"
      ]
     },
     "execution_count": 86,
     "metadata": {},
     "output_type": "execute_result"
    },
    {
     "data": {
      "image/png": "[encoded data removed]",
      "text/plain": [
       "<matplotlib.figure.Figure at 0x115b9a438>"
      ]
     },
     "metadata": {},
     "output_type": "display_data"
    }
   ],
   "source": [
    "'''====your code here==='''\n",
    "x_co = np.linspace(0,3,10)+.2\n",
    "y_co = [bsm(s0, r, sigma, T_arr, K, otype) for T_arr in x_co] \n",
    "plt.plot(x_co, y_co)"
   ]
  },
  {
   "cell_type": "markdown",
   "metadata": {},
   "source": [
    "- Do you think that call price is also increasing with respect to its maturity for Heston model? Please justify your answer."
   ]
  },
  {
   "cell_type": "markdown",
   "metadata": {},
   "source": [
    "(your latex here)"
   ]
  },
  {
   "cell_type": "markdown",
   "metadata": {},
   "source": [
    "__Problem__"
   ]
  },
  {
   "cell_type": "markdown",
   "metadata": {},
   "source": [
    "We consider the call price underlying XYZ stock with spot price $\\$30$ and interest rate $2\\%$. Below is the current market call prices corresponding to its maturity $T=1$ and different strikes:"
   ]
  },
  {
   "cell_type": "code",
   "execution_count": 87,
   "metadata": {},
   "outputs": [],
   "source": [
    "s0, r, T, otype = [30., .02, 1., 1] # spot, rate, maturity, option type\n",
    "strike_arr = [28.0, 28.5, 29.0, 29.5, 30.0, 30.5, 31.0, 31.5, 32.0]\n",
    "market_call_arr = [5.7, 5.0, 4.5, 4.1, 3.8, 3.6, 3.6, 3.7, 3.9]"
   ]
  },
  {
   "cell_type": "markdown",
   "metadata": {},
   "source": [
    "- (Q) Find their implied volatilities and draw its volatility smile"
   ]
  },
  {
   "cell_type": "code",
   "execution_count": 88,
   "metadata": {},
   "outputs": [
    {
     "data": {
      "text/plain": [
       "[<matplotlib.lines.Line2D at 0x115f142b0>]"
      ]
     },
     "execution_count": 88,
     "metadata": {},
     "output_type": "execute_result"
    },
    {
     "data": {
      "image/png": "[encoded data removed]",
      "text/plain": [
       "<matplotlib.figure.Figure at 0x115b9a7b8>"
      ]
     },
     "metadata": {},
     "output_type": "display_data"
    }
   ],
   "source": [
    "def bsm_implied_volatility(s0, r, T, K, otype, market_call):\n",
    "    error_function = lambda sigma: np.abs(market_call - bsm(s0, r, sigma, T, K, otype))\n",
    "    init_sigma = .2\n",
    "    return fmin(error_function, init_sigma, disp = 0)[0]\n",
    "\n",
    "vol_arr = []\n",
    "for i in range(len(strike_arr)):\n",
    "    vol_arr.append(bsm_implied_volatility(s0, r, T, strike_arr[i], otype, market_call_arr[i]))\n",
    "\n",
    "plt.plot(strike_arr, vol_arr)"
   ]
  },
  {
   "cell_type": "markdown",
   "metadata": {},
   "source": [
    "- (Q.) Find bsm calibrated volatility to the above data by minimizing $L^2$ norm in the error."
   ]
  },
  {
   "cell_type": "code",
   "execution_count": 96,
   "metadata": {},
   "outputs": [
    {
     "name": "stdout",
     "output_type": "stream",
     "text": [
      ">>>>>\n",
      "calibrated volatility is 0.3299218750000005\n"
     ]
    }
   ],
   "source": [
    "def bsm_calibrated_volatility(s0, r, T, K_arr, otype, market_call_arr):\n",
    "    def error_function(sigma):\n",
    "        bsm_arr = np.array([bsm(s0, r, sigma, T, k, otype) for k in K_arr])\n",
    "        err_arr = market_call_arr - bsm_arr\n",
    "        return np.sum(err_arr**2)\n",
    "    init_sigma = .2\n",
    "    return fmin(error_function, init_sigma, disp = 0)[0]\n",
    "print('>>>>>')\n",
    "print('calibrated volatility is ' + str(bsm_calibrated_volatility(s0, r, T, strike_arr, otype, market_call_arr)))"
   ]
  },
  {
   "cell_type": "markdown",
   "metadata": {},
   "source": [
    "__Problem__"
   ]
  },
  {
   "cell_type": "markdown",
   "metadata": {},
   "source": [
    "Let $f:\\mathbb R\\mapsto \\mathbb R$ be a smooth even function \n",
    "satisfying $f(0) = 0$. \n",
    "Our objective is to approximate  the second order derivative $f''(0)$. \n",
    "- Prove that $f'(0) = 0.$\n",
    "- Ziyue proposes the following estimator for $f''(0)$: for a step size $h$\n",
    " $$a_{h} = \\frac{2f(h)}{h^{2}}.$$\n",
    " Please justify that Chenyu's estimation has its convergence $O(h^{2})$.\n",
    "- Is there anyway to improve the above \n",
    " convergence to $O(h^{4})$ in the form of \n",
    " $$b_{h} = \\frac{c_{1} f(h) + c_{2}f(2h)}{h^{2}}$$\n",
    " for some constants $c_{1}$ and $c_{2}$?\n",
    "- If the above function $f$ is odd and other properties remain the same, how do you want to find the $f''(0)$ efficiently?\n"
   ]
  },
  {
   "cell_type": "markdown",
   "metadata": {},
   "source": [
    "__Soln__ (your latex input here)\n",
    "\n",
    "- it can be directly shown from the definition of $f'$.\n",
    "- $f^{n}(0) = 0$ for all odd number $n$. Therefore, \n",
    " taylor expansion gives \n",
    " $$f(h) = \\frac 1 2 h^{2} f''(0) + \\frac 1 {24} h^{4}f^{(4)}(0) + O(h^{6}),$$\n",
    " and the result follows.\n",
    "- we can combine the above taylor expansion with\n",
    " $$f(2h) = 2h^{2} f''(0) + \\frac 2 3 h^{4} f^{(4)}(0) + O(h^{6}).$$\n",
    " It yields that, with $c_{1} = 8/3$ and $c_{2} = - 1/6$, \n",
    " $$c_{1} f(h) + c_{2}f(2h) = h^{2}f''(0) + O(h^{6}).$$\n",
    "- If $f$ is odd, then $f''(0) = 0$ and no estimate is needed any more."
   ]
  },
  {
   "cell_type": "markdown",
   "metadata": {},
   "source": [
    "__Problem__"
   ]
  },
  {
   "cell_type": "markdown",
   "metadata": {},
   "source": [
    "Thomas proposed the following estimator for the value $\\pi$.\n",
    "$$\\hat \\pi = c \\cdot I(X_1^2 + X_2^2< 1/2)$$\n",
    "where $X_1$ and $X_2$ are two independent uniform random variable on $(-1,1)$.\n",
    "\n",
    "- (Q) find the constant $c$ so that $\\hat \\pi$ is unbiased estimator to $\\pi$;\n",
    "- (Q) for $c$ in the above question, what is its MSE?"
   ]
  },
  {
   "cell_type": "markdown",
   "metadata": {},
   "source": [
    "__Soln__(your latex here)\n",
    "\n",
    "\n",
    "- $c = 8$, since\n",
    "$$\\mathbb E \\hat \\pi = c \\mathbb P(X_1^2 + X_2^2 <1/2) = c \\cdot \\pi/8 = \\pi$$\n",
    "- $MSE = 8\\pi - \\pi^2$, since\n",
    "$$MSE = Var = \\mathbb E[\\hat \\pi^2] - (\\mathbb E[\\hat \\pi])^2\n",
    "= 64 \\cdot \\pi/8 - \\pi^2.$$\n",
    "\n",
    "\n",
    "\n"
   ]
  },
  {
   "cell_type": "markdown",
   "metadata": {},
   "source": [
    "- (Q) can you propose a better mc estimator with smaller MSE?"
   ]
  },
  {
   "cell_type": "markdown",
   "metadata": {},
   "source": [
    "__Soln__ (your latex here)"
   ]
  },
  {
   "cell_type": "markdown",
   "metadata": {},
   "source": [
    "- (Q) using log-log chart, please demonstrate the theoretical MSE obtained in your algorithm above?"
   ]
  },
  {
   "cell_type": "code",
   "execution_count": 112,
   "metadata": {},
   "outputs": [],
   "source": [
    "'''====== your code here ======='''\n",
    "pass"
   ]
  },
  {
   "cell_type": "markdown",
   "metadata": {},
   "source": [
    "__Problem__"
   ]
  },
  {
   "cell_type": "markdown",
   "metadata": {},
   "source": [
    "- (Q) Given a random variable $Z$ uniformly distributed on $B_1$, find the probability of $Z$ in $B_{1/2}$."
   ]
  },
  {
   "cell_type": "markdown",
   "metadata": {},
   "source": [
    "__Soln__(your latex here)\n",
    "\n",
    "It's the ratio of area of $B_{1/2}$ and area of $B_1$, i.e. $1/4$."
   ]
  },
  {
   "cell_type": "markdown",
   "metadata": {},
   "source": [
    "- (Q) Demonstrate your answer numerically by doing so:\n",
    "    - Generate 1000 smaplings uniformly from $B_1$;\n",
    "    - counte points in $B_{1/2}$. "
   ]
  },
  {
   "cell_type": "code",
   "execution_count": 110,
   "metadata": {},
   "outputs": [
    {
     "name": "stdout",
     "output_type": "stream",
     "text": [
      "0.247\n"
     ]
    }
   ],
   "source": [
    "'''===== your code here======'''\n",
    "num_sample = 1000\n",
    "sample_arr = np.zeros([2,num_sample])\n",
    "i = 0\n",
    "while i<num_sample:\n",
    "    x = np.random.uniform(-1,1)\n",
    "    y = np.random.uniform(-1,1)\n",
    "    if x**2+y**2<1:\n",
    "        sample_arr[0,i] = x\n",
    "        sample_arr[1,i] = y\n",
    "        i = i+1\n",
    "\n",
    "tot = 0\n",
    "for i in range(num_sample):\n",
    "    if sample_arr[0,i]**2+sample_arr[1,i]**2<.25:\n",
    "        tot = tot+1\n",
    "print(tot/num_sample)"
   ]
  },
  {
   "cell_type": "markdown",
   "metadata": {},
   "source": [
    "- (Q) Justify your random sampling in the above"
   ]
  },
  {
   "cell_type": "markdown",
   "metadata": {},
   "source": [
    "__soln__ (your latex here)\n",
    "\n",
    "For any $A\\subset B_1$, we have \n",
    "$$\\mathbb P(Z\\in A|Z\\in B_1) = \\frac 1 \\pi \\int_A 1\\cdot dx.$$"
   ]
  },
  {
   "cell_type": "code",
   "execution_count": null,
   "metadata": {},
   "outputs": [],
   "source": []
  }
 ],
 "metadata": {
  "kernelspec": {
   "display_name": "Python 3",
   "language": "python",
   "name": "python3"
  },
  "language_info": {
   "codemirror_mode": {
    "name": "ipython",
    "version": 3
   },
   "file_extension": ".py",
   "mimetype": "text/x-python",
   "name": "python",
   "nbconvert_exporter": "python",
   "pygments_lexer": "ipython3",
   "version": "3.6.4"
  }
 },
 "nbformat": 4,
 "nbformat_minor": 2
}
