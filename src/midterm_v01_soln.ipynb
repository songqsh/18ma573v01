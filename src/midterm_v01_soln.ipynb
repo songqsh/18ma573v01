{
  "nbformat": 4,
  "nbformat_minor": 0,
  "metadata": {
    "colab": {
      "name": "midterm_v01_soln.ipynb",
      "version": "0.3.2",
      "provenance": []
    },
    "kernelspec": {
      "display_name": "Python 3",
      "language": "python",
      "name": "python3"
    }
  },
  "cells": [
    {
      "metadata": {
        "id": "zDAey6cS_1lk",
        "colab_type": "text"
      },
      "cell_type": "markdown",
      "source": [
        "__Name__\n",
        "\n",
        "__Rules__ Any kind of communications are strictly prohibited. But you can use book, note, or internet."
      ]
    },
    {
      "metadata": {
        "id": "EKKfv4FD_1ll",
        "colab_type": "code",
        "colab": {}
      },
      "cell_type": "code",
      "source": [
        "import numpy as np\n",
        "import matplotlib.pyplot as plt\n",
        "from scipy.stats import norm\n",
        "from scipy.integrate import quad\n",
        "from scipy.optimize import fmin"
      ],
      "execution_count": 0,
      "outputs": []
    },
    {
      "metadata": {
        "id": "nbg8Ay--_1ln",
        "colab_type": "text"
      },
      "cell_type": "markdown",
      "source": [
        "__Problem__"
      ]
    },
    {
      "metadata": {
        "id": "Mc069pNn_1lo",
        "colab_type": "text"
      },
      "cell_type": "markdown",
      "source": [
        "We consider BSM model with the following parameters:"
      ]
    },
    {
      "metadata": {
        "id": "9-vB96sr_1lo",
        "colab_type": "code",
        "colab": {}
      },
      "cell_type": "code",
      "source": [
        "'''======parameters============='''\n",
        "s0, r, sigma, T, K, otype = [30., .02, 0.3, 1., 31.0, 1] # spot, rate, vol, maturity, strike, option type"
      ],
      "execution_count": 0,
      "outputs": []
    },
    {
      "metadata": {
        "id": "u5EkAJBb_1lq",
        "colab_type": "text"
      },
      "cell_type": "markdown",
      "source": [
        "- (Q) Write for the european call the explicit pricing formula, then find call price."
      ]
    },
    {
      "metadata": {
        "id": "LPQ5IZYp_1lr",
        "colab_type": "text"
      },
      "cell_type": "markdown",
      "source": [
        "(your latex here)\n",
        "\n",
        "The call and put price with maturity $T$ and $K$ will be known as $C_0$ and $P_0$ given as below:\n",
        "$$C_0 = \\mathbb E [e^{-rT} (S(T) - K)^+] = S_0  \\Phi(d_1) - K e^{-rT} \\Phi(d_2),$$\n",
        "and \n",
        "$$P_0 = \\mathbb E [e^{-rT} (S(T) - K)^-] = K e^{-rT} \\Phi(- d_2) - S_0  \\Phi(- d_1),$$\n",
        "where $d_i$ are given as\n",
        "$$d_1 = \\frac{(r + \\frac 1 2 \\sigma^2) T - \\ln \\frac{K}{S_0}}{\\sigma \\sqrt T},$$\n",
        "and\n",
        "$$d_2 = \\frac{(r - \\frac 1 2 \\sigma^2) T - \\ln \\frac{K}{S_0}}{\\sigma \\sqrt T} = d_1 - \\sigma \\sqrt T$$\n",
        "\n",
        "Put-call parity will be useful:\n",
        "    $$C_0 - P_0 =  S(0) - e^{-rT} K.$$"
      ]
    },
    {
      "metadata": {
        "id": "-qI5ld1e_1ls",
        "colab_type": "code",
        "colab": {
          "base_uri": "https://localhost:8080/",
          "height": 34
        },
        "outputId": "ac072146-0b46-4e52-b45c-d7f53e4bacd3"
      },
      "cell_type": "code",
      "source": [
        "'''========\n",
        "Black-Scholes-Merton formula. \n",
        "=========='''\n",
        "\n",
        "def bsm(s0, r, sigma, T, K, otype):\n",
        "    d1 = (np.log(s0 / K) + (r + 0.5 * sigma ** 2) \n",
        "          * T) / (sigma * np.sqrt(T))\n",
        "    d2 = d1 - sigma * np.sqrt(T)\n",
        "    \n",
        "    return (otype * s0 * norm.cdf(otype * d1) #line break needs parenthesis\n",
        "            - otype * np.exp(-r * T) * K * norm.cdf(otype * d2))\n",
        "\n",
        "print('>>>> call price is ' + str(bsm(s0, r, sigma, T, K, otype)))      "
      ],
      "execution_count": 3,
      "outputs": [
        {
          "output_type": "stream",
          "text": [
            ">>>> call price is 3.4102506629837706\n"
          ],
          "name": "stdout"
        }
      ]
    },
    {
      "metadata": {
        "id": "ZpKaxprW_1lu",
        "colab_type": "text"
      },
      "cell_type": "markdown",
      "source": [
        "- (Q) \n",
        "    - Fourier transform $\\phi$ of $\\ln S_T$;\n",
        "    - write down call in terms of $\\phi$;\n",
        "    - then find call price using the above formula."
      ]
    },
    {
      "metadata": {
        "id": "LsImQMUX_1lv",
        "colab_type": "text"
      },
      "cell_type": "markdown",
      "source": [
        "(contributed by ziyue)\n",
        "\n",
        "**1.Fourier transform $\\phi$ of $\\ln S_T$**\n",
        "<br>\n",
        "Since $$S_T=S_0*e^{(r-0.5\\sigma^2)t+\\sigma W_t}$$,\n",
        "$$\\ln S_T=\\ln S_0+(r-0.5\\sigma^2)t+\\sigma W_t$$\n",
        "and since $W_T$ is a standard Brownian Motion, so we have $W_t\\sim \\mathcal N(0,t)$ , then\n",
        "\n",
        "$$\\phi(\\ln S_T)=i\\mu u-\\frac{\\sigma^2 u^2}{2}$$\n",
        "<br>\n",
        "**2.the call price in terms of $\\phi$;**\n",
        "$$\n",
        "C = S_{0}I_{1} - Ke^{-rT}I_{2}\n",
        "$$\n",
        "where\n",
        "$$\n",
        "I_{1}=\\frac{1}{2} + \\frac{1}{\\pi}\\int_{0}^{\\infty}Re(\\frac{e^{-iu\\log(K/S_0)}\\phi(u-i)}{iu\\phi(-i)})du=\\frac{1}{2} + \\frac{1}{\\pi} \\int_{0}^{\\infty} \\frac{\\sin(d_{1}t)}{t}e^{-\\frac{t^{2}}{2}}dt\n",
        "$$\n",
        "\n",
        "$$\n",
        "I_{2}=\\frac{1}{2} + \\frac{1}{\\pi}\\int_{0}^{\\infty}Re(\\frac{e^{-iu\\log(K/S_0)}\\phi(u)}{iu})du=\\frac{1}{2} + \\frac{1}{\\pi} \\int_{0}^{\\infty}\\frac{\\sin (d_{2}t)}{t}e^{-\\frac{t^{2}}{2}}dt\n",
        "$$\n",
        "and\n",
        "$$d_{1} = \\frac{\\log(\\frac{S_{0}}{K}) + (r + \\frac{\\sigma^{2}}{2})T}{\\sigma\\sqrt{T}}$$\n",
        "\n",
        "$$d_{2} = \\frac{\\log(\\frac{S_0}{K})+(r-\\frac{\\sigma^{2}}{2})T}{\\sigma \\sqrt{T}}$$"
      ]
    },
    {
      "metadata": {
        "id": "pIOQ4SqX_1lv",
        "colab_type": "code",
        "colab": {
          "base_uri": "https://localhost:8080/",
          "height": 34
        },
        "outputId": "1d179ae8-6c31-4ecc-b3af-211ad6061269"
      },
      "cell_type": "code",
      "source": [
        "'''========\n",
        "Black-Scholes-Merton price by Fourier transform. \n",
        "=========='''\n",
        "\n",
        "def bsm_fourier(s0, r, sigma, T, K, otype):\n",
        "    log_s0 = np.log(s0)\n",
        "    log_k = np.log(K)\n",
        "    mu = r - .5*sigma**2\n",
        "    \n",
        "    char_fun = lambda u: np.exp(1j*u*(log_s0+mu*T) - .5*(sigma**2)*T*(u**2))\n",
        "    integrand1 = lambda u: (np.exp(-1j*u*log_k)*char_fun(u-1j)\n",
        "                           / (1j*u*char_fun(-1j))).real\n",
        "    pi_1 = .5+ 1/np.pi*quad(integrand1, 0, np.inf)[0]\n",
        "\n",
        "    integrand2 = lambda u: (np.exp(-1j*u*log_k)*char_fun(u)\n",
        "                           / (1j*u)).real\n",
        "    pi_2 = .5+ 1/np.pi*quad(integrand2, 0, np.inf)[0]\n",
        "\n",
        "    price = s0*pi_1 - K*np.exp(-r*T)*pi_2 #this is call price\n",
        "    if otype == -1:\n",
        "        price = price - s0 + K*np.exp(-r*T)\n",
        "    return price\n",
        "\n",
        "print('>>> call price by fourier trnasform is ' + str(bsm_fourier(s0, r, sigma, T, K, otype)))"
      ],
      "execution_count": 4,
      "outputs": [
        {
          "output_type": "stream",
          "text": [
            ">>> call price by fourier trnasform is 3.410250662983744\n"
          ],
          "name": "stdout"
        }
      ]
    },
    {
      "metadata": {
        "id": "Rf96f7wn_1ly",
        "colab_type": "text"
      },
      "cell_type": "markdown",
      "source": [
        "- Prove that call price is increasing with respect to its maturity, and demonstrate your result numerically."
      ]
    },
    {
      "metadata": {
        "id": "Lx_jTvnz_1ly",
        "colab_type": "text"
      },
      "cell_type": "markdown",
      "source": [
        "(your latex here)"
      ]
    },
    {
      "metadata": {
        "id": "4DVlJSNV_1lz",
        "colab_type": "code",
        "colab": {
          "base_uri": "https://localhost:8080/",
          "height": 368
        },
        "outputId": "b3a46bb0-97e5-43aa-addc-f9fe340fdb34"
      },
      "cell_type": "code",
      "source": [
        "'''====your code here==='''\n",
        "x_co = np.linspace(0,3,10)+.2\n",
        "y_co = [bsm(s0, r, sigma, T_arr, K, otype) for T_arr in x_co] \n",
        "plt.plot(x_co, y_co)"
      ],
      "execution_count": 5,
      "outputs": [
        {
          "output_type": "execute_result",
          "data": {
            "text/plain": [
              "[<matplotlib.lines.Line2D at 0x7fb708dd36a0>]"
            ]
          },
          "metadata": {
            "tags": []
          },
          "execution_count": 5
        },
        {
          "output_type": "display_data",
          "data": {
            "image/png": "[encoded data removed]",
            "text/plain": [
              "<Figure size 576x396 with 1 Axes>"
            ]
          },
          "metadata": {
            "tags": []
          }
        }
      ]
    },
    {
      "metadata": {
        "id": "8ZFQLLwY_1l2",
        "colab_type": "text"
      },
      "cell_type": "markdown",
      "source": [
        "- Do you think that call price is also increasing with respect to its maturity for Heston model? Please justify your answer."
      ]
    },
    {
      "metadata": {
        "id": "T92dnNn1_1l2",
        "colab_type": "text"
      },
      "cell_type": "markdown",
      "source": [
        "(your latex here)\n",
        "\n",
        "Yes"
      ]
    },
    {
      "metadata": {
        "id": "4DojYvRXCn6C",
        "colab_type": "text"
      },
      "cell_type": "markdown",
      "source": [
        "- (Q) With the same parameters for GBM above, price the arithmetic asian option with $T = 1$, $K= 31$, and two periods (i.e. average prices of three time instants)"
      ]
    },
    {
      "metadata": {
        "id": "KvBE2TyGCrnQ",
        "colab_type": "code",
        "colab": {
          "base_uri": "https://localhost:8080/",
          "height": 34
        },
        "outputId": "d1ea2c5b-cb08-4592-b09b-262d15662ee8"
      },
      "cell_type": "code",
      "source": [
        "#(cotributed by wenhao)\n",
        "T=1;K=31;num_step=2;num_path=100000;\n",
        "def BM_gen(T1,T2,n):\n",
        "  t=np.linspace(T1,T2,num=n+1)\n",
        "  W=np.zeros(n+1)\n",
        "  for i in range(n):\n",
        "    W[i+1]=W[i]+1./np.sqrt(n)*np.random.normal()\n",
        "  return t,W\n",
        "def bsm_arithmetic_exact_sample(otype,strike,maturity,num_step,num_path):\n",
        "    MC_A=[]\n",
        "    for i in range(num_path):\n",
        "        t,W=BM_gen(0.,maturity,num_step)\n",
        "        A=np.mean(s0*np.exp((r-(1/2)*sigma**2)*t+sigma*W))\n",
        "        MC_A.append(np.exp(-r*maturity)*np.max([0, (A- strike)*otype]))\n",
        "        A=0\n",
        "    Asion_price=np.mean(MC_A)\n",
        "    return Asion_price\n",
        "arithmetic= bsm_arithmetic_exact_sample(otype,K,T,num_step,num_path)\n",
        "print(arithmetic)"
      ],
      "execution_count": 12,
      "outputs": [
        {
          "output_type": "stream",
          "text": [
            "1.5925820990955448\n"
          ],
          "name": "stdout"
        }
      ]
    },
    {
      "metadata": {
        "id": "g_vo8sBU_1l3",
        "colab_type": "text"
      },
      "cell_type": "markdown",
      "source": [
        "__Problem__"
      ]
    },
    {
      "metadata": {
        "id": "Z26ioai9_1l3",
        "colab_type": "text"
      },
      "cell_type": "markdown",
      "source": [
        "We consider the call price underlying XYZ stock with spot price $\\$30$ and interest rate $2\\%$. Below is the current market call prices corresponding to its maturity $T=1$ and different strikes:"
      ]
    },
    {
      "metadata": {
        "id": "OcooJntk_1l4",
        "colab_type": "code",
        "colab": {}
      },
      "cell_type": "code",
      "source": [
        "s0, r, T, otype = [30., .02, 1., 1] # spot, rate, maturity, option type\n",
        "strike_arr = [28.0, 28.5, 29.0, 29.5, 30.0, 30.5, 31.0, 31.5, 32.0]\n",
        "market_call_arr = [5.7, 5.0, 4.5, 4.1, 3.8, 3.6, 3.6, 3.7, 3.9]"
      ],
      "execution_count": 0,
      "outputs": []
    },
    {
      "metadata": {
        "id": "-y9SMNJG_1l7",
        "colab_type": "text"
      },
      "cell_type": "markdown",
      "source": [
        "- (Q) Find their implied volatilities and draw its volatility smile"
      ]
    },
    {
      "metadata": {
        "id": "s1e6KSC-_1l8",
        "colab_type": "code",
        "colab": {
          "base_uri": "https://localhost:8080/",
          "height": 364
        },
        "outputId": "239e1592-601b-4ea2-a937-25e55be12266"
      },
      "cell_type": "code",
      "source": [
        "def bsm_implied_volatility(s0, r, T, K, otype, market_call):\n",
        "    error_function = lambda sigma: np.abs(market_call - bsm(s0, r, sigma, T, K, otype))\n",
        "    init_sigma = .2\n",
        "    return fmin(error_function, init_sigma, disp = 0)[0]\n",
        "\n",
        "vol_arr = []\n",
        "for i in range(len(strike_arr)):\n",
        "    vol_arr.append(bsm_implied_volatility(s0, r, T, strike_arr[i], otype, market_call_arr[i]))\n",
        "\n",
        "plt.plot(strike_arr, vol_arr)"
      ],
      "execution_count": 7,
      "outputs": [
        {
          "output_type": "execute_result",
          "data": {
            "text/plain": [
              "[<matplotlib.lines.Line2D at 0x7fb706d67ba8>]"
            ]
          },
          "metadata": {
            "tags": []
          },
          "execution_count": 7
        },
        {
          "output_type": "display_data",
          "data": {
            "image/png": "[encoded data removed]",
            "text/plain": [
              "<Figure size 576x396 with 1 Axes>"
            ]
          },
          "metadata": {
            "tags": []
          }
        }
      ]
    },
    {
      "metadata": {
        "id": "qHue3HRn_1l-",
        "colab_type": "text"
      },
      "cell_type": "markdown",
      "source": [
        "- (Q.) Find bsm calibrated volatility to the above data by minimizing $L^2$ norm in the error."
      ]
    },
    {
      "metadata": {
        "id": "si5wV0O8_1l_",
        "colab_type": "code",
        "colab": {
          "base_uri": "https://localhost:8080/",
          "height": 51
        },
        "outputId": "76969abf-cbec-4636-9284-be741639d728"
      },
      "cell_type": "code",
      "source": [
        "def bsm_calibrated_volatility(s0, r, T, K_arr, otype, market_call_arr):\n",
        "    def error_function(sigma):\n",
        "        bsm_arr = np.array([bsm(s0, r, sigma, T, k, otype) for k in K_arr])\n",
        "        err_arr = market_call_arr - bsm_arr\n",
        "        return np.sum(err_arr**2)\n",
        "    init_sigma = .2\n",
        "    return fmin(error_function, init_sigma, disp = 0)[0]\n",
        "print('>>>>>')\n",
        "print('calibrated volatility is ' + str(bsm_calibrated_volatility(s0, r, T, strike_arr, otype, market_call_arr)))"
      ],
      "execution_count": 8,
      "outputs": [
        {
          "output_type": "stream",
          "text": [
            ">>>>>\n",
            "calibrated volatility is 0.3299218750000005\n"
          ],
          "name": "stdout"
        }
      ]
    },
    {
      "metadata": {
        "id": "895xVLlh_1mB",
        "colab_type": "text"
      },
      "cell_type": "markdown",
      "source": [
        "__Problem__"
      ]
    },
    {
      "metadata": {
        "id": "GBy93Vtg_1mC",
        "colab_type": "text"
      },
      "cell_type": "markdown",
      "source": [
        "Let $f:\\mathbb R\\mapsto \\mathbb R$ be a smooth even function \n",
        "satisfying $f(0) = 0$. \n",
        "Our objective is to approximate  the second order derivative $f''(0)$. \n",
        "- Prove that $f'(0) = 0.$\n",
        "- Ziyue proposes the following estimator for $f''(0)$: for a step size $h$\n",
        " $$a_{h} = \\frac{2f(h)}{h^{2}}.$$\n",
        " Please justify that Chenyu's estimation has its convergence $O(h^{2})$.\n",
        "- Is there anyway to improve the above \n",
        " convergence to $O(h^{4})$ in the form of \n",
        " $$b_{h} = \\frac{c_{1} f(h) + c_{2}f(2h)}{h^{2}}$$\n",
        " for some constants $c_{1}$ and $c_{2}$?\n",
        "- If the above function $f$ is odd and other properties remain the same, how do you want to find the $f''(0)$ efficiently?\n"
      ]
    },
    {
      "metadata": {
        "id": "EoQvnaxC_1mC",
        "colab_type": "text"
      },
      "cell_type": "markdown",
      "source": [
        "__Soln__ (your latex input here)\n",
        "\n",
        "- it can be directly shown from the definition of $f'$.\n",
        "- $f^{n}(0) = 0$ for all odd number $n$. Therefore, \n",
        " taylor expansion gives \n",
        " $$f(h) = \\frac 1 2 h^{2} f''(0) + \\frac 1 {24} h^{4}f^{(4)}(0) + O(h^{6}),$$\n",
        " and the result follows.\n",
        "- we can combine the above taylor expansion with\n",
        " $$f(2h) = 2h^{2} f''(0) + \\frac 2 3 h^{4} f^{(4)}(0) + O(h^{6}).$$\n",
        " It yields that, with $c_{1} = 8/3$ and $c_{2} = - 1/6$, \n",
        " $$c_{1} f(h) + c_{2}f(2h) = h^{2}f''(0) + O(h^{6}).$$\n",
        "- If $f$ is odd, then $f''(0) = 0$ and no estimate is needed any more."
      ]
    },
    {
      "metadata": {
        "id": "VcjxSSmc_1mD",
        "colab_type": "text"
      },
      "cell_type": "markdown",
      "source": [
        "__Problem__"
      ]
    },
    {
      "metadata": {
        "id": "QM7TXWKs_1mD",
        "colab_type": "text"
      },
      "cell_type": "markdown",
      "source": [
        "Thomas proposed the following estimator for the value $\\pi$.\n",
        "$$\\hat \\pi = c \\cdot I(X_1^2 + X_2^2< 1/2)$$\n",
        "where $X_1$ and $X_2$ are two independent uniform random variable on $(-1,1)$.\n",
        "\n",
        "- (Q) find the constant $c$ so that $\\hat \\pi$ is unbiased estimator to $\\pi$;\n",
        "- (Q) for $c$ in the above question, what is its MSE?"
      ]
    },
    {
      "metadata": {
        "id": "amYcUR2p_1mE",
        "colab_type": "text"
      },
      "cell_type": "markdown",
      "source": [
        "__Soln__(your latex here)\n",
        "\n",
        "\n",
        "- $c = 8$, since\n",
        "$$\\mathbb E \\hat \\pi = c \\mathbb P(X_1^2 + X_2^2 <1/2) = c \\cdot \\pi/8 = \\pi$$\n",
        "- $MSE = 8\\pi - \\pi^2$, since\n",
        "$$MSE = Var = \\mathbb E[\\hat \\pi^2] - (\\mathbb E[\\hat \\pi])^2\n",
        "= 64 \\cdot \\pi/8 - \\pi^2.$$\n",
        "\n",
        "\n",
        "\n"
      ]
    },
    {
      "metadata": {
        "id": "JdqSxYfY_1mF",
        "colab_type": "text"
      },
      "cell_type": "markdown",
      "source": [
        "- (Q) can you propose a better mc estimator with smaller MSE?"
      ]
    },
    {
      "metadata": {
        "id": "u3jaUXdM_1mG",
        "colab_type": "text"
      },
      "cell_type": "markdown",
      "source": [
        "__Soln__ (your latex here)"
      ]
    },
    {
      "metadata": {
        "id": "QdWQUW4V_1mG",
        "colab_type": "text"
      },
      "cell_type": "markdown",
      "source": [
        "- (Q) using log-log chart, please demonstrate the theoretical MSE obtained in your algorithm above?"
      ]
    },
    {
      "metadata": {
        "id": "xioV7kzT_1mH",
        "colab_type": "code",
        "colab": {}
      },
      "cell_type": "code",
      "source": [
        "'''====== your code here ======='''\n",
        "pass"
      ],
      "execution_count": 0,
      "outputs": []
    },
    {
      "metadata": {
        "id": "6lECo1L5_1mL",
        "colab_type": "text"
      },
      "cell_type": "markdown",
      "source": [
        "__Problem__"
      ]
    },
    {
      "metadata": {
        "id": "q9zpgyJ3_1mM",
        "colab_type": "text"
      },
      "cell_type": "markdown",
      "source": [
        "- (Q) Given a random variable $Z$ uniformly distributed on $B_1$, find the probability of $Z$ in $B_{1/2}$."
      ]
    },
    {
      "metadata": {
        "id": "E836uK2B_1mN",
        "colab_type": "text"
      },
      "cell_type": "markdown",
      "source": [
        "__Soln__(your latex here)\n",
        "\n",
        "It's the ratio of area of $B_{1/2}$ and area of $B_1$, i.e. $1/4$."
      ]
    },
    {
      "metadata": {
        "id": "-AuY-3DY_1mN",
        "colab_type": "text"
      },
      "cell_type": "markdown",
      "source": [
        "- (Q) Demonstrate your answer numerically by doing so:\n",
        "    - Generate 1000 smaplings uniformly from $B_1$;\n",
        "    - counte points in $B_{1/2}$. "
      ]
    },
    {
      "metadata": {
        "id": "s8y_YIN6_1mO",
        "colab_type": "code",
        "colab": {
          "base_uri": "https://localhost:8080/",
          "height": 34
        },
        "outputId": "fd7f049d-c5a5-4453-947a-14abe735eafb"
      },
      "cell_type": "code",
      "source": [
        "'''===== your code here======'''\n",
        "num_sample = 1000\n",
        "sample_arr = np.zeros([2,num_sample])\n",
        "i = 0\n",
        "while i<num_sample:\n",
        "    x = np.random.uniform(-1,1)\n",
        "    y = np.random.uniform(-1,1)\n",
        "    if x**2+y**2<1:\n",
        "        sample_arr[0,i] = x\n",
        "        sample_arr[1,i] = y\n",
        "        i = i+1\n",
        "\n",
        "tot = 0\n",
        "for i in range(num_sample):\n",
        "    if sample_arr[0,i]**2+sample_arr[1,i]**2<.25:\n",
        "        tot = tot+1\n",
        "print(tot/num_sample)"
      ],
      "execution_count": 10,
      "outputs": [
        {
          "output_type": "stream",
          "text": [
            "0.243\n"
          ],
          "name": "stdout"
        }
      ]
    },
    {
      "metadata": {
        "id": "5LAYe47T_1mQ",
        "colab_type": "text"
      },
      "cell_type": "markdown",
      "source": [
        "- (Q) Justify your random sampling in the above"
      ]
    },
    {
      "metadata": {
        "id": "SvuDykK4_1mQ",
        "colab_type": "text"
      },
      "cell_type": "markdown",
      "source": [
        "__soln__ (your latex here)\n",
        "\n",
        "For any $A\\subset B_1$, we have \n",
        "$$\\mathbb P(Z\\in A|Z\\in B_1) = \\frac 1 \\pi \\int_A 1\\cdot dx.$$"
      ]
    },
    {
      "metadata": {
        "id": "CfMDB4A5_1mR",
        "colab_type": "code",
        "colab": {}
      },
      "cell_type": "code",
      "source": [
        ""
      ],
      "execution_count": 0,
      "outputs": []
    }
  ]
}