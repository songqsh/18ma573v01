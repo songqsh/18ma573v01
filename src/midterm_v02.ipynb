{
  "nbformat": 4,
  "nbformat_minor": 0,
  "metadata": {
    "colab": {
      "name": "midterm_v02.ipynb",
      "version": "0.3.2",
      "provenance": []
    },
    "kernelspec": {
      "display_name": "Python 3",
      "language": "python",
      "name": "python3"
    }
  },
  "cells": [
    {
      "metadata": {
        "id": "HPR31Lno0hZX",
        "colab_type": "text"
      },
      "cell_type": "markdown",
      "source": [
        "__Name__\n",
        "\n",
        "__Rules__ \n",
        "\n",
        "- After finish, you should email to me PDF version with file name \"firstname_lastname_midterm.pdf\"\n",
        "- Any kind of communications are strictly prohibited. But you can use book, note, or internet.\n",
        "- All your answers shall be rigourously justified.\n",
        "- No python modules shall be imported except those given below"
      ]
    },
    {
      "metadata": {
        "id": "0z8b6x2X0hZZ",
        "colab_type": "code",
        "colab": {}
      },
      "cell_type": "code",
      "source": [
        "import numpy as np\n",
        "import matplotlib.pyplot as plt\n",
        "from scipy.stats import norm\n",
        "from scipy.integrate import quad\n",
        "from scipy.optimize import fmin"
      ],
      "execution_count": 0,
      "outputs": []
    },
    {
      "metadata": {
        "id": "mvneTrXd0hZb",
        "colab_type": "text"
      },
      "cell_type": "markdown",
      "source": [
        "__Problem__"
      ]
    },
    {
      "metadata": {
        "id": "17apD8eB0hZb",
        "colab_type": "text"
      },
      "cell_type": "markdown",
      "source": [
        "We consider BSM model with the following parameters:"
      ]
    },
    {
      "metadata": {
        "id": "yudwpsgF0hZc",
        "colab_type": "code",
        "colab": {}
      },
      "cell_type": "code",
      "source": [
        "'''======parameters============='''\n",
        "s0, r, sigma, T, K, otype = [30., .02, 0.3, 1., 31.0, 1] # spot, rate, vol, maturity, strike, option type"
      ],
      "execution_count": 0,
      "outputs": []
    },
    {
      "metadata": {
        "id": "MadBoMbd0hZe",
        "colab_type": "text"
      },
      "cell_type": "markdown",
      "source": [
        "- (Q) Write for the european call the explicit pricing formula, then find call price."
      ]
    },
    {
      "metadata": {
        "id": "DXnw6zYo0hZf",
        "colab_type": "text"
      },
      "cell_type": "markdown",
      "source": [
        "(your latex here)\n"
      ]
    },
    {
      "metadata": {
        "id": "-fRvNeKf0hZf",
        "colab_type": "code",
        "outputId": "b4455d8c-436a-497a-8fd1-e71317d0d4d3",
        "colab": {
          "base_uri": "https://localhost:8080/",
          "height": 34
        }
      },
      "cell_type": "code",
      "source": [
        "'''========\n",
        "Black-Scholes-Merton formula. \n",
        "=========='''\n",
        "\n",
        "def bsm(s0, r, sigma, T, K, otype):\n",
        "    pass\n",
        "\n",
        "print('>>>> your answer below: ')"
      ],
      "execution_count": 0,
      "outputs": [
        {
          "output_type": "stream",
          "text": [
            ">>>> your answer below: \n"
          ],
          "name": "stdout"
        }
      ]
    },
    {
      "metadata": {
        "id": "yWKZmQ5a0hZi",
        "colab_type": "text"
      },
      "cell_type": "markdown",
      "source": [
        "- (Q) \n",
        "    - write Fourier transform $\\phi$ of $\\ln S_T$;\n",
        "    - write down the call price in terms of $\\phi$;\n",
        "    - then find call price using the above formula."
      ]
    },
    {
      "metadata": {
        "id": "L3r4ARIJ0hZj",
        "colab_type": "text"
      },
      "cell_type": "markdown",
      "source": [
        "(your latex here)"
      ]
    },
    {
      "metadata": {
        "id": "wiqzMffQ0hZj",
        "colab_type": "code",
        "outputId": "8c4b1201-0f34-41fc-a6b7-86bb5b63590d",
        "colab": {
          "base_uri": "https://localhost:8080/",
          "height": 34
        }
      },
      "cell_type": "code",
      "source": [
        "'''========\n",
        "Black-Scholes-Merton price by Fourier transform. \n",
        "=========='''\n",
        "\n",
        "def bsm_fourier(s0, r, sigma, T, K, otype):\n",
        "    pass\n",
        "\n",
        "print('>>> your answer below ')"
      ],
      "execution_count": 0,
      "outputs": [
        {
          "output_type": "stream",
          "text": [
            ">>> your answer below \n"
          ],
          "name": "stdout"
        }
      ]
    },
    {
      "metadata": {
        "id": "lSIMPaQu0hZm",
        "colab_type": "text"
      },
      "cell_type": "markdown",
      "source": [
        "- (Q) Prove that call price is increasing with respect to its maturity, and demonstrate your result numerically."
      ]
    },
    {
      "metadata": {
        "id": "IYWQI7rR0hZn",
        "colab_type": "text"
      },
      "cell_type": "markdown",
      "source": [
        "(your latex here)"
      ]
    },
    {
      "metadata": {
        "id": "jii_8txV0hZn",
        "colab_type": "code",
        "colab": {}
      },
      "cell_type": "code",
      "source": [
        "'''====your code here==='''\n",
        "\n",
        "pass"
      ],
      "execution_count": 0,
      "outputs": []
    },
    {
      "metadata": {
        "id": "f13CCiPl0hZp",
        "colab_type": "text"
      },
      "cell_type": "markdown",
      "source": [
        "- (Q) \n",
        "Do you think that call price is also increasing with respect to its maturity for Heston model? Please justify your answer."
      ]
    },
    {
      "metadata": {
        "id": "tGiDM06U0hZq",
        "colab_type": "text"
      },
      "cell_type": "markdown",
      "source": [
        "(your latex here)"
      ]
    },
    {
      "metadata": {
        "id": "4o9v5KUcCHE0",
        "colab_type": "text"
      },
      "cell_type": "markdown",
      "source": [
        "- (Q) With the same parameters for GBM above, price the arithmetic asian option with $T = 1$, $K= 31$, and two periods (i.e. average prices of three time instants)"
      ]
    },
    {
      "metadata": {
        "id": "6LMG6rl1CElX",
        "colab_type": "code",
        "colab": {}
      },
      "cell_type": "code",
      "source": [
        "'''====your code here==='''\n",
        "\n",
        "pass"
      ],
      "execution_count": 0,
      "outputs": []
    },
    {
      "metadata": {
        "id": "oTnxe2Rv0hZq",
        "colab_type": "text"
      },
      "cell_type": "markdown",
      "source": [
        "__Problem__"
      ]
    },
    {
      "metadata": {
        "id": "jK2JEGW10hZr",
        "colab_type": "text"
      },
      "cell_type": "markdown",
      "source": [
        "We consider the call price underlying XYZ stock with spot price $\\$30$ and interest rate $2\\%$. Below is the current market call prices corresponding to its maturity $T=1$ and different strikes:"
      ]
    },
    {
      "metadata": {
        "id": "OP-CCtjI0hZr",
        "colab_type": "code",
        "colab": {}
      },
      "cell_type": "code",
      "source": [
        "s0, r, T, otype = [30., .02, 1., 1] # spot, rate, maturity, option type\n",
        "strike_arr = [28.0, 28.5, 29.0, 29.5, 30.0, 30.5, 31.0, 31.5, 32.0] # strike array\n",
        "market_call_arr = [5.7, 5.0, 4.5, 4.1, 3.8, 3.6, 3.6, 3.7, 3.9] # corresponding market price"
      ],
      "execution_count": 0,
      "outputs": []
    },
    {
      "metadata": {
        "id": "c0OEBMDw0hZu",
        "colab_type": "text"
      },
      "cell_type": "markdown",
      "source": [
        "- (Q) Find their implied volatilities and draw its volatility smile"
      ]
    },
    {
      "metadata": {
        "id": "dxzkngLK0hZw",
        "colab_type": "code",
        "colab": {}
      },
      "cell_type": "code",
      "source": [
        "'''====your code here===='''\n",
        "\n",
        "pass"
      ],
      "execution_count": 0,
      "outputs": []
    },
    {
      "metadata": {
        "id": "VLgIIt0n0hZz",
        "colab_type": "text"
      },
      "cell_type": "markdown",
      "source": [
        "- (Q.) Find bsm calibrated volatility to the above data by minimizing $L^2$ norm in the error."
      ]
    },
    {
      "metadata": {
        "id": "lxg3gfNm0hZz",
        "colab_type": "code",
        "colab": {}
      },
      "cell_type": "code",
      "source": [
        "'''====your code here===='''\n",
        "\n",
        "pass"
      ],
      "execution_count": 0,
      "outputs": []
    },
    {
      "metadata": {
        "id": "dGQ3G7me0hZ2",
        "colab_type": "text"
      },
      "cell_type": "markdown",
      "source": [
        "__Problem__"
      ]
    },
    {
      "metadata": {
        "id": "Rn4lfH8C0hZ3",
        "colab_type": "text"
      },
      "cell_type": "markdown",
      "source": [
        "Let $f:\\mathbb R\\mapsto \\mathbb R$ be a smooth even function \n",
        "satisfying $f(0) = 0$. \n",
        "Our objective is to approximate  the second order derivative $f''(0)$. \n",
        "- (Q.) Prove that $f'(0) = 0.$\n",
        "- (Q.) Ziyue proposes the following estimator for $f''(0)$: for a step size $h$\n",
        " $$a_{h} = \\frac{2f(h)}{h^{2}}.$$\n",
        " Please justify that Ziyue's estimation has its convergence $O(h^{2})$.\n",
        "- (Q.) Is there anyway to improve the above \n",
        " convergence to $O(h^{4})$ in the form of \n",
        " $$b_{h} = \\frac{c_{1} f(h) + c_{2}f(2h)}{h^{2}}$$\n",
        " for some constants $c_{1}$ and $c_{2}$?\n",
        "- (Q.) If the above function $f$ is odd and other properties remain the same, how do you want to find the $f''(0)$ efficiently?\n"
      ]
    },
    {
      "metadata": {
        "id": "rufEfsZ-0hZ4",
        "colab_type": "text"
      },
      "cell_type": "markdown",
      "source": [
        "__Soln__ (your latex input here)\n"
      ]
    },
    {
      "metadata": {
        "id": "U17K-ZlN0hZ4",
        "colab_type": "text"
      },
      "cell_type": "markdown",
      "source": [
        "__Problem__"
      ]
    },
    {
      "metadata": {
        "id": "FTO_xT9q0hZ5",
        "colab_type": "text"
      },
      "cell_type": "markdown",
      "source": [
        "Thomas proposed the following estimator for the value $\\pi$.\n",
        "$$\\hat \\pi = c \\cdot I(X_1^2 + X_2^2< 1/2)$$\n",
        "where $X_1$ and $X_2$ are two independent uniform random variables on $(-1,1)$.\n",
        "\n",
        "- (Q) find the constant $c$ so that $\\hat \\pi$ is unbiased estimator to $\\pi$;\n",
        "- (Q) for $c?$ in your above answer, what is its MSE?"
      ]
    },
    {
      "metadata": {
        "id": "OWFxTPEu0hZ5",
        "colab_type": "text"
      },
      "cell_type": "markdown",
      "source": [
        "(your latex here)\n"
      ]
    },
    {
      "metadata": {
        "id": "ehS7XCnf0hZ6",
        "colab_type": "text"
      },
      "cell_type": "markdown",
      "source": [
        "- (Q) can you propose a better mc estimator with smaller MSE?"
      ]
    },
    {
      "metadata": {
        "id": "efC18iTL0hZ7",
        "colab_type": "text"
      },
      "cell_type": "markdown",
      "source": [
        "__Soln__ (your latex here)"
      ]
    },
    {
      "metadata": {
        "id": "SxOWkLjd0hZ8",
        "colab_type": "text"
      },
      "cell_type": "markdown",
      "source": [
        "- (Q) can you demonstrate the theoretical MSE obtained in your algorithm above numerically via python code?"
      ]
    },
    {
      "metadata": {
        "id": "WRNGdWZH0hZ8",
        "colab_type": "code",
        "colab": {}
      },
      "cell_type": "code",
      "source": [
        "'''====== your code here ======='''\n",
        "pass"
      ],
      "execution_count": 0,
      "outputs": []
    },
    {
      "metadata": {
        "id": "LE0rBPfv0hZ_",
        "colab_type": "text"
      },
      "cell_type": "markdown",
      "source": [
        "__Problem__"
      ]
    },
    {
      "metadata": {
        "id": "jmWachdl0hZ_",
        "colab_type": "text"
      },
      "cell_type": "markdown",
      "source": [
        "- (Q) find the conditional probability of a random varialbe $Z$ in $B_{1/2}$,  given that $Z$ is uniformly distributed on $B_1$."
      ]
    },
    {
      "metadata": {
        "id": "PSZVBUcG0haA",
        "colab_type": "text"
      },
      "cell_type": "markdown",
      "source": [
        "__Soln__(your latex here)\n"
      ]
    },
    {
      "metadata": {
        "id": "e_-VbsEA0haB",
        "colab_type": "text"
      },
      "cell_type": "markdown",
      "source": [
        "- (Q) Demonstrate your answer numerically by doing so:\n",
        "    - Generate 1000 samplings uniformly from $B_1$;\n",
        "    - count the points in $B_{1/2}$. \n",
        "    - find the ratio of number of points in the small ball and the big ball."
      ]
    },
    {
      "metadata": {
        "id": "AlKL4V4K0haB",
        "colab_type": "code",
        "colab": {}
      },
      "cell_type": "code",
      "source": [
        "'''===== your code here======'''\n",
        "num_sample = 1000\n",
        "sample_arr = np.zeros([2,num_sample])\n",
        "\n",
        "pass"
      ],
      "execution_count": 0,
      "outputs": []
    },
    {
      "metadata": {
        "id": "JmJKz6330haD",
        "colab_type": "text"
      },
      "cell_type": "markdown",
      "source": [
        "- (Q) Justify your random sampling in the previous question"
      ]
    },
    {
      "metadata": {
        "id": "lI5mhWqN0haD",
        "colab_type": "text"
      },
      "cell_type": "markdown",
      "source": [
        "__soln__ (your latex here)\n",
        "\n"
      ]
    },
    {
      "metadata": {
        "id": "RAcsBZBB0haE",
        "colab_type": "code",
        "colab": {}
      },
      "cell_type": "code",
      "source": [
        ""
      ],
      "execution_count": 0,
      "outputs": []
    }
  ]
}