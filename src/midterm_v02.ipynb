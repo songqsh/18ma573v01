{
 "cells": [
  {
   "cell_type": "markdown",
   "metadata": {
    "colab_type": "text",
    "id": "HPR31Lno0hZX"
   },
   "source": [
    "__Name__\n",
    "\n",
    "__Rules__ \n",
    "\n",
    "- After finish, you should email to me PDF version with file name \"firstname_lastname_midterm.pdf\"\n",
    "- Any kind of communications are strictly prohibited. But you can use book, note, or internet.\n",
    "- All your answers shall be rigourously justified.\n",
    "- No python modules shall be imported except those given below"
   ]
  },
  {
   "cell_type": "code",
   "execution_count": 1,
   "metadata": {
    "colab": {},
    "colab_type": "code",
    "id": "0z8b6x2X0hZZ"
   },
   "outputs": [],
   "source": [
    "import numpy as np\n",
    "import matplotlib.pyplot as plt\n",
    "from scipy.stats import norm\n",
    "from scipy.integrate import quad\n",
    "from scipy.optimize import fmin"
   ]
  },
  {
   "cell_type": "markdown",
   "metadata": {
    "colab_type": "text",
    "id": "mvneTrXd0hZb"
   },
   "source": [
    "__Problem__"
   ]
  },
  {
   "cell_type": "markdown",
   "metadata": {
    "colab_type": "text",
    "id": "17apD8eB0hZb"
   },
   "source": [
    "We consider BSM model with the following parameters:"
   ]
  },
  {
   "cell_type": "code",
   "execution_count": 2,
   "metadata": {
    "colab": {},
    "colab_type": "code",
    "id": "yudwpsgF0hZc"
   },
   "outputs": [],
   "source": [
    "'''======parameters============='''\n",
    "s0, r, sigma, T, K, otype = [30., .02, 0.3, 1., 31.0, 1] # spot, rate, vol, maturity, strike, option type"
   ]
  },
  {
   "cell_type": "markdown",
   "metadata": {
    "colab_type": "text",
    "id": "MadBoMbd0hZe"
   },
   "source": [
    "- (Q) Write for the european call the explicit pricing formula, then find call price."
   ]
  },
  {
   "cell_type": "markdown",
   "metadata": {
    "colab_type": "text",
    "id": "DXnw6zYo0hZf"
   },
   "source": [
    "(your latex here)\n"
   ]
  },
  {
   "cell_type": "code",
   "execution_count": 3,
   "metadata": {
    "colab": {
     "base_uri": "https://localhost:8080/",
     "height": 34
    },
    "colab_type": "code",
    "id": "-fRvNeKf0hZf",
    "outputId": "b4455d8c-436a-497a-8fd1-e71317d0d4d3"
   },
   "outputs": [
    {
     "name": "stdout",
     "output_type": "stream",
     "text": [
      ">>>> your answer below: \n"
     ]
    }
   ],
   "source": [
    "'''========\n",
    "Black-Scholes-Merton formula. \n",
    "=========='''\n",
    "\n",
    "def bsm(s0, r, sigma, T, K, otype):\n",
    "    pass\n",
    "\n",
    "print('>>>> your answer below: ')"
   ]
  },
  {
   "cell_type": "markdown",
   "metadata": {
    "colab_type": "text",
    "id": "yWKZmQ5a0hZi"
   },
   "source": [
    "- (Q) \n",
    "    - write Fourier transform $\\phi$ of $\\ln S_T$;\n",
    "    - write down the call price in terms of $\\phi$;\n",
    "    - then find call price using the above formula."
   ]
  },
  {
   "cell_type": "markdown",
   "metadata": {
    "colab_type": "text",
    "id": "L3r4ARIJ0hZj"
   },
   "source": [
    "(your latex here)"
   ]
  },
  {
   "cell_type": "code",
   "execution_count": 4,
   "metadata": {
    "colab": {
     "base_uri": "https://localhost:8080/",
     "height": 34
    },
    "colab_type": "code",
    "id": "wiqzMffQ0hZj",
    "outputId": "8c4b1201-0f34-41fc-a6b7-86bb5b63590d"
   },
   "outputs": [
    {
     "name": "stdout",
     "output_type": "stream",
     "text": [
      ">>> your answer below \n"
     ]
    }
   ],
   "source": [
    "'''========\n",
    "Black-Scholes-Merton price by Fourier transform. \n",
    "=========='''\n",
    "\n",
    "def bsm_fourier(s0, r, sigma, T, K, otype):\n",
    "    pass\n",
    "\n",
    "print('>>> your answer below ')"
   ]
  },
  {
   "cell_type": "markdown",
   "metadata": {
    "colab_type": "text",
    "id": "lSIMPaQu0hZm"
   },
   "source": [
    "- (Q) Prove that call price is increasing with respect to its maturity, and demonstrate your result numerically."
   ]
  },
  {
   "cell_type": "markdown",
   "metadata": {
    "colab_type": "text",
    "id": "IYWQI7rR0hZn"
   },
   "source": [
    "(your latex here)"
   ]
  },
  {
   "cell_type": "code",
   "execution_count": 5,
   "metadata": {
    "colab": {},
    "colab_type": "code",
    "id": "jii_8txV0hZn"
   },
   "outputs": [],
   "source": [
    "'''====your code here==='''\n",
    "\n",
    "pass"
   ]
  },
  {
   "cell_type": "markdown",
   "metadata": {
    "colab_type": "text",
    "id": "f13CCiPl0hZp"
   },
   "source": [
    "- (Q) \n",
    "Do you think that call price is also increasing with respect to its maturity for Heston model? Please justify your answer."
   ]
  },
  {
   "cell_type": "markdown",
   "metadata": {
    "colab_type": "text",
    "id": "tGiDM06U0hZq"
   },
   "source": [
    "(your latex here)"
   ]
  },
  {
   "cell_type": "markdown",
   "metadata": {
    "colab_type": "text",
    "id": "4o9v5KUcCHE0"
   },
   "source": [
    "- (Q) With the same parameters for GBM above, price the arithmetic asian option with $T = 1$, $K= 31$, and two periods (i.e. average prices of three time instants)"
   ]
  },
  {
   "cell_type": "code",
   "execution_count": 6,
   "metadata": {
    "colab": {},
    "colab_type": "code",
    "id": "6LMG6rl1CElX"
   },
   "outputs": [],
   "source": [
    "'''====your code here==='''\n",
    "\n",
    "pass"
   ]
  },
  {
   "cell_type": "markdown",
   "metadata": {
    "colab_type": "text",
    "id": "oTnxe2Rv0hZq"
   },
   "source": [
    "__Problem__"
   ]
  },
  {
   "cell_type": "markdown",
   "metadata": {
    "colab_type": "text",
    "id": "jK2JEGW10hZr"
   },
   "source": [
    "We consider the call price underlying XYZ stock with spot price $\\$30$ and interest rate $2\\%$. Below is the current market call prices corresponding to its maturity $T=1$ and different strikes:"
   ]
  },
  {
   "cell_type": "code",
   "execution_count": 7,
   "metadata": {
    "colab": {},
    "colab_type": "code",
    "id": "OP-CCtjI0hZr"
   },
   "outputs": [],
   "source": [
    "s0, r, T, otype = [30., .02, 1., 1] # spot, rate, maturity, option type\n",
    "strike_arr = [28.0, 28.5, 29.0, 29.5, 30.0, 30.5, 31.0, 31.5, 32.0] # strike array\n",
    "market_call_arr = [5.7, 5.0, 4.5, 4.1, 3.8, 3.6, 3.6, 3.7, 3.9] # corresponding market price"
   ]
  },
  {
   "cell_type": "markdown",
   "metadata": {
    "colab_type": "text",
    "id": "c0OEBMDw0hZu"
   },
   "source": [
    "- (Q) Find their implied volatilities and draw its volatility smile"
   ]
  },
  {
   "cell_type": "code",
   "execution_count": 8,
   "metadata": {
    "colab": {},
    "colab_type": "code",
    "id": "dxzkngLK0hZw"
   },
   "outputs": [],
   "source": [
    "'''====your code here===='''\n",
    "\n",
    "pass"
   ]
  },
  {
   "cell_type": "markdown",
   "metadata": {
    "colab_type": "text",
    "id": "VLgIIt0n0hZz"
   },
   "source": [
    "- (Q.) Find bsm calibrated volatility to the above data by minimizing $L^2$ norm in the error."
   ]
  },
  {
   "cell_type": "code",
   "execution_count": 9,
   "metadata": {
    "colab": {},
    "colab_type": "code",
    "id": "lxg3gfNm0hZz"
   },
   "outputs": [],
   "source": [
    "'''====your code here===='''\n",
    "\n",
    "pass"
   ]
  },
  {
   "cell_type": "markdown",
   "metadata": {
    "colab_type": "text",
    "id": "dGQ3G7me0hZ2"
   },
   "source": [
    "__Problem__"
   ]
  },
  {
   "cell_type": "markdown",
   "metadata": {
    "colab_type": "text",
    "id": "Rn4lfH8C0hZ3"
   },
   "source": [
    "Let $f:\\mathbb R\\mapsto \\mathbb R$ be a smooth even function \n",
    "satisfying $f(0) = 0$. \n",
    "Our objective is to approximate  the second order derivative $f''(0)$. \n",
    "- (Q.) Prove that $f'(0) = 0.$\n",
    "- (Q.) Ziyue proposes the following estimator for $f''(0)$: for a step size $h$\n",
    " $$a_{h} = \\frac{2f(h)}{h^{2}}.$$\n",
    " Please justify that Ziyue's estimation has its convergence $O(h^{2})$.\n",
    "- (Q.) Is there anyway to improve the above \n",
    " convergence to $O(h^{4})$ in the form of \n",
    " $$b_{h} = \\frac{c_{1} f(h) + c_{2}f(2h)}{h^{2}}$$\n",
    " for some constants $c_{1}$ and $c_{2}$?\n",
    "- (Q.) If the above function $f$ is odd and other properties remain the same, how do you want to find the $f''(0)$ efficiently?\n"
   ]
  },
  {
   "cell_type": "markdown",
   "metadata": {
    "colab_type": "text",
    "id": "rufEfsZ-0hZ4"
   },
   "source": [
    "__Soln__ (your latex input here)\n"
   ]
  },
  {
   "cell_type": "markdown",
   "metadata": {
    "colab_type": "text",
    "id": "U17K-ZlN0hZ4"
   },
   "source": [
    "__Problem__"
   ]
  },
  {
   "cell_type": "markdown",
   "metadata": {
    "colab_type": "text",
    "id": "FTO_xT9q0hZ5"
   },
   "source": [
    "Thomas proposed the following estimator for the value $\\pi$.\n",
    "$$\\hat \\pi = c \\cdot I(X_1^2 + X_2^2< 1/2)$$\n",
    "where $X_1$ and $X_2$ are two independent uniform random variables on $(-1,1)$.\n",
    "\n",
    "- (Q) find the constant $c$ so that $\\hat \\pi$ is unbiased estimator to $\\pi$;\n",
    "- (Q) for $c?$ in your above answer, what is its MSE?"
   ]
  },
  {
   "cell_type": "markdown",
   "metadata": {
    "colab_type": "text",
    "id": "OWFxTPEu0hZ5"
   },
   "source": [
    "(your latex here)\n"
   ]
  },
  {
   "cell_type": "markdown",
   "metadata": {
    "colab_type": "text",
    "id": "ehS7XCnf0hZ6"
   },
   "source": [
    "- (Q) can you propose a better mc estimator with smaller MSE?"
   ]
  },
  {
   "cell_type": "markdown",
   "metadata": {
    "colab_type": "text",
    "id": "efC18iTL0hZ7"
   },
   "source": [
    "__Soln__ (your latex here)"
   ]
  },
  {
   "cell_type": "markdown",
   "metadata": {
    "colab_type": "text",
    "id": "SxOWkLjd0hZ8"
   },
   "source": [
    "- (Q) can you demonstrate the theoretical MSE obtained in your algorithm above numerically via python code?"
   ]
  },
  {
   "cell_type": "code",
   "execution_count": 10,
   "metadata": {
    "colab": {},
    "colab_type": "code",
    "id": "WRNGdWZH0hZ8"
   },
   "outputs": [],
   "source": [
    "'''====== your code here ======='''\n",
    "pass"
   ]
  },
  {
   "cell_type": "markdown",
   "metadata": {
    "colab_type": "text",
    "id": "LE0rBPfv0hZ_"
   },
   "source": [
    "__Problem__"
   ]
  },
  {
   "cell_type": "markdown",
   "metadata": {
    "colab_type": "text",
    "id": "jmWachdl0hZ_"
   },
   "source": [
    "- (Q) find the conditional probability of a random varialbe $Z$ in $B_{1/2}$,  given that $Z$ is uniformly distributed on $B_1$."
   ]
  },
  {
   "cell_type": "markdown",
   "metadata": {
    "colab_type": "text",
    "id": "PSZVBUcG0haA"
   },
   "source": [
    "__Soln__(your latex here)\n"
   ]
  },
  {
   "cell_type": "markdown",
   "metadata": {
    "colab_type": "text",
    "id": "e_-VbsEA0haB"
   },
   "source": [
    "- (Q) Demonstrate your answer numerically by doing so:\n",
    "    - Generate 1000 samplings uniformly from $B_1$;\n",
    "    - count the points in $B_{1/2}$. \n",
    "    - find the ratio of number of points in the small ball and the big ball."
   ]
  },
  {
   "cell_type": "code",
   "execution_count": 11,
   "metadata": {
    "colab": {},
    "colab_type": "code",
    "id": "AlKL4V4K0haB"
   },
   "outputs": [],
   "source": [
    "'''===== your code here======'''\n",
    "num_sample = 1000\n",
    "sample_arr = np.zeros([2,num_sample])\n",
    "\n",
    "pass"
   ]
  },
  {
   "cell_type": "markdown",
   "metadata": {
    "colab_type": "text",
    "id": "JmJKz6330haD"
   },
   "source": [
    "- (Q) Justify your random sampling in the previous question"
   ]
  },
  {
   "cell_type": "markdown",
   "metadata": {
    "colab_type": "text",
    "id": "lI5mhWqN0haD"
   },
   "source": [
    "__soln__ (your latex here)\n",
    "\n"
   ]
  },
  {
   "cell_type": "code",
   "execution_count": null,
   "metadata": {
    "colab": {},
    "colab_type": "code",
    "id": "RAcsBZBB0haE"
   },
   "outputs": [],
   "source": []
  }
 ],
 "metadata": {
  "colab": {
   "name": "midterm_v02.ipynb",
   "provenance": [],
   "version": "0.3.2"
  },
  "kernelspec": {
   "display_name": "Python 3",
   "language": "python",
   "name": "python3"
  },
  "language_info": {
   "codemirror_mode": {
    "name": "ipython",
    "version": 3
   },
   "file_extension": ".py",
   "mimetype": "text/x-python",
   "name": "python",
   "nbconvert_exporter": "python",
   "pygments_lexer": "ipython3",
   "version": "3.6.4"
  }
 },
 "nbformat": 4,
 "nbformat_minor": 1
}
