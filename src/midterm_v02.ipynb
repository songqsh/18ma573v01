{
 "cells": [
  {
   "cell_type": "markdown",
   "metadata": {},
   "source": [
    "__Name__\n",
    "\n",
    "__Rules__ \n",
    "\n",
    "- Any kind of communications are strictly prohibited. But you can use book, note, or internet.\n",
    "- All your answers shall be rigourously justified.\n",
    "- No python modules shall be imported except those given below"
   ]
  },
  {
   "cell_type": "code",
   "execution_count": 3,
   "metadata": {},
   "outputs": [],
   "source": [
    "import numpy as np\n",
    "import matplotlib.pyplot as plt\n",
    "from scipy.stats import norm\n",
    "from scipy.integrate import quad\n",
    "from scipy.optimize import fmin"
   ]
  },
  {
   "cell_type": "markdown",
   "metadata": {},
   "source": [
    "__Problem__"
   ]
  },
  {
   "cell_type": "markdown",
   "metadata": {},
   "source": [
    "We consider BSM model with the following parameters:"
   ]
  },
  {
   "cell_type": "code",
   "execution_count": 4,
   "metadata": {},
   "outputs": [],
   "source": [
    "'''======parameters============='''\n",
    "s0, r, sigma, T, K, otype = [30., .02, 0.3, 1., 31.0, 1] # spot, rate, vol, maturity, strike, option type"
   ]
  },
  {
   "cell_type": "markdown",
   "metadata": {},
   "source": [
    "- (Q) Write for the european call the explicit pricing formula, then find call price."
   ]
  },
  {
   "cell_type": "markdown",
   "metadata": {},
   "source": [
    "(your latex here)"
   ]
  },
  {
   "cell_type": "code",
   "execution_count": 6,
   "metadata": {},
   "outputs": [
    {
     "name": "stdout",
     "output_type": "stream",
     "text": [
      ">>>> your answer below: \n"
     ]
    }
   ],
   "source": [
    "'''========\n",
    "Black-Scholes-Merton formula. \n",
    "=========='''\n",
    "\n",
    "def bsm(s0, r, sigma, T, K, otype):\n",
    "    pass\n",
    "\n",
    "print('>>>> your answer below: ')"
   ]
  },
  {
   "cell_type": "markdown",
   "metadata": {},
   "source": [
    "- (Q) \n",
    "    - Fourier transform $\\phi$ of $\\ln S_T$;\n",
    "    - write down call in terms of $\\phi$;\n",
    "    - then find call price using the above formula."
   ]
  },
  {
   "cell_type": "markdown",
   "metadata": {},
   "source": [
    "(your latex here)"
   ]
  },
  {
   "cell_type": "code",
   "execution_count": 11,
   "metadata": {},
   "outputs": [
    {
     "name": "stdout",
     "output_type": "stream",
     "text": [
      ">>> your answer below \n"
     ]
    }
   ],
   "source": [
    "'''========\n",
    "Black-Scholes-Merton price by Fourier transform. \n",
    "=========='''\n",
    "\n",
    "def bsm_fourier(s0, r, sigma, T, K, otype):\n",
    "    pass\n",
    "\n",
    "print('>>> your answer below ')"
   ]
  },
  {
   "cell_type": "markdown",
   "metadata": {},
   "source": [
    "- (Q) Prove that call price is increasing with respect to its maturity, and demonstrate your result numerically."
   ]
  },
  {
   "cell_type": "markdown",
   "metadata": {},
   "source": [
    "(your latex here)"
   ]
  },
  {
   "cell_type": "code",
   "execution_count": 8,
   "metadata": {},
   "outputs": [],
   "source": [
    "'''====your code here==='''\n",
    "\n",
    "pass"
   ]
  },
  {
   "cell_type": "markdown",
   "metadata": {},
   "source": [
    "- (Q) \n",
    "Do you think that call price is also increasing with respect to its maturity for Heston model? Please justify your answer."
   ]
  },
  {
   "cell_type": "markdown",
   "metadata": {},
   "source": [
    "(your latex here)"
   ]
  },
  {
   "cell_type": "markdown",
   "metadata": {},
   "source": [
    "__Problem__"
   ]
  },
  {
   "cell_type": "markdown",
   "metadata": {},
   "source": [
    "We consider the call price underlying XYZ stock with spot price $\\$30$ and interest rate $2\\%$. Below is the current market call prices corresponding to its maturity $T=1$ and different strikes:"
   ]
  },
  {
   "cell_type": "code",
   "execution_count": 9,
   "metadata": {},
   "outputs": [],
   "source": [
    "s0, r, T, otype = [30., .02, 1., 1] # spot, rate, maturity, option type\n",
    "strike_arr = [28.0, 28.5, 29.0, 29.5, 30.0, 30.5, 31.0, 31.5, 32.0]\n",
    "market_call_arr = [5.7, 5.0, 4.5, 4.1, 3.8, 3.6, 3.6, 3.7, 3.9]"
   ]
  },
  {
   "cell_type": "markdown",
   "metadata": {},
   "source": [
    "- (Q) Find their implied volatilities and draw its volatility smile"
   ]
  },
  {
   "cell_type": "code",
   "execution_count": 10,
   "metadata": {},
   "outputs": [],
   "source": [
    "'''====your code here===='''\n",
    "\n",
    "pass"
   ]
  },
  {
   "cell_type": "markdown",
   "metadata": {},
   "source": [
    "- (Q.) Find bsm calibrated volatility to the above data by minimizing $L^2$ norm in the error."
   ]
  },
  {
   "cell_type": "code",
   "execution_count": 12,
   "metadata": {},
   "outputs": [],
   "source": [
    "'''====your code here===='''\n",
    "\n",
    "pass"
   ]
  },
  {
   "cell_type": "markdown",
   "metadata": {},
   "source": [
    "__Problem__"
   ]
  },
  {
   "cell_type": "markdown",
   "metadata": {},
   "source": [
    "Let $f:\\mathbb R\\mapsto \\mathbb R$ be a smooth even function \n",
    "satisfying $f(0) = 0$. \n",
    "Our objective is to approximate  the second order derivative $f''(0)$. \n",
    "- Prove that $f'(0) = 0.$\n",
    "- Ziyue proposes the following estimator for $f''(0)$: for a step size $h$\n",
    " $$a_{h} = \\frac{2f(h)}{h^{2}}.$$\n",
    " Please justify that Chenyu's estimation has its convergence $O(h^{2})$.\n",
    "- Is there anyway to improve the above \n",
    " convergence to $O(h^{4})$ in the form of \n",
    " $$b_{h} = \\frac{c_{1} f(h) + c_{2}f(2h)}{h^{2}}$$\n",
    " for some constants $c_{1}$ and $c_{2}$?\n",
    "- If the above function $f$ is odd and other properties remain the same, how do you want to find the $f''(0)$ efficiently?\n"
   ]
  },
  {
   "cell_type": "markdown",
   "metadata": {},
   "source": [
    "__Soln__ (your latex input here)\n"
   ]
  },
  {
   "cell_type": "markdown",
   "metadata": {},
   "source": [
    "__Problem__"
   ]
  },
  {
   "cell_type": "markdown",
   "metadata": {},
   "source": [
    "Thomas proposed the following estimator for the value $\\pi$.\n",
    "$$\\hat \\pi = c \\cdot I(X_1^2 + X_2^2< 1/2)$$\n",
    "where $X_1$ and $X_2$ are two independent uniform random variable on $(-1,1)$.\n",
    "\n",
    "- (Q) find the constant $c$ so that $\\hat \\pi$ is unbiased estimator to $\\pi$;\n",
    "- (Q) for $c$ in the above question, what is its MSE?"
   ]
  },
  {
   "cell_type": "markdown",
   "metadata": {},
   "source": [
    "(your latex here)\n"
   ]
  },
  {
   "cell_type": "markdown",
   "metadata": {},
   "source": [
    "- (Q) can you propose a better mc estimator with smaller MSE?"
   ]
  },
  {
   "cell_type": "markdown",
   "metadata": {},
   "source": [
    "__Soln__ (your latex here)"
   ]
  },
  {
   "cell_type": "markdown",
   "metadata": {},
   "source": [
    "- (Q) using log-log chart, please demonstrate the theoretical MSE obtained in your algorithm above?"
   ]
  },
  {
   "cell_type": "code",
   "execution_count": 112,
   "metadata": {},
   "outputs": [],
   "source": [
    "'''====== your code here ======='''\n",
    "pass"
   ]
  },
  {
   "cell_type": "markdown",
   "metadata": {},
   "source": [
    "__Problem__"
   ]
  },
  {
   "cell_type": "markdown",
   "metadata": {},
   "source": [
    "- (Q) Given a random variable $Z$ uniformly distributed on $B_1$, find the probability of $Z$ in $B_{1/2}$."
   ]
  },
  {
   "cell_type": "markdown",
   "metadata": {},
   "source": [
    "__Soln__(your latex here)\n"
   ]
  },
  {
   "cell_type": "markdown",
   "metadata": {},
   "source": [
    "- (Q) Demonstrate your answer numerically by doing so:\n",
    "    - Generate 1000 smaplings uniformly from $B_1$;\n",
    "    - counte points in $B_{1/2}$. "
   ]
  },
  {
   "cell_type": "code",
   "execution_count": 13,
   "metadata": {},
   "outputs": [],
   "source": [
    "'''===== your code here======'''\n",
    "num_sample = 1000\n",
    "sample_arr = np.zeros([2,num_sample])\n",
    "\n",
    "pass"
   ]
  },
  {
   "cell_type": "markdown",
   "metadata": {},
   "source": [
    "- (Q) Justify your random sampling in the above"
   ]
  },
  {
   "cell_type": "markdown",
   "metadata": {},
   "source": [
    "__soln__ (your latex here)\n",
    "\n"
   ]
  },
  {
   "cell_type": "code",
   "execution_count": null,
   "metadata": {},
   "outputs": [],
   "source": []
  }
 ],
 "metadata": {
  "kernelspec": {
   "display_name": "Python 3",
   "language": "python",
   "name": "python3"
  },
  "language_info": {
   "codemirror_mode": {
    "name": "ipython",
    "version": 3
   },
   "file_extension": ".py",
   "mimetype": "text/x-python",
   "name": "python",
   "nbconvert_exporter": "python",
   "pygments_lexer": "ipython3",
   "version": "3.6.4"
  }
 },
 "nbformat": 4,
 "nbformat_minor": 2
}
