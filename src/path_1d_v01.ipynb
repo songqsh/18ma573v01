{
 "cells": [
  {
   "cell_type": "code",
   "execution_count": 4,
   "metadata": {},
   "outputs": [],
   "source": [
    "import numpy as np\n",
    "import matplotlib.pyplot as plt"
   ]
  },
  {
   "cell_type": "markdown",
   "metadata": {},
   "source": [
    "# Path space"
   ]
  },
  {
   "cell_type": "markdown",
   "metadata": {},
   "source": [
    "A path in $\\mathbb R$ given by $n$ points\n",
    "$$\\{(t_i, x_i): i = 0, \\ldots, n\\}$$\n",
    "is a linear interpolation $X:(-\\infty, \\infty) \\mapsto \\mathbb R$ with time-values \n",
    "$$X(t) = x_i \\cdot \\frac{t_{i+1} - t}{t_{i+1} - t_i} \n",
    "+ x_{i+1} \\cdot \\frac{t - t_{i}}{t_{i+1} - t_i}, \\ \\forall t\\in [t_i, t_{i+1})$$\n",
    "or otherwise\n",
    "$$X(t) = x_n I(t \\ge t_n) + x_0 I(t<t_0).$$"
   ]
  },
  {
   "cell_type": "code",
   "execution_count": 5,
   "metadata": {},
   "outputs": [],
   "source": [
    "'''=============\n",
    "a path with state in $n$ dim space\n",
    "Input:\n",
    "    dim: positive integer\n",
    "    time_step: np 1-d array\n",
    "================'''\n",
    "class Path_1d:\n",
    "    def __init__(self,\n",
    "                time_step=np.linspace(0,1,11)\n",
    "                ):\n",
    "        self.time_step = time_step\n",
    "        self.state = np.zeros(len(time_step))\n",
    "        "
   ]
  },
  {
   "cell_type": "code",
   "execution_count": 8,
   "metadata": {},
   "outputs": [
    {
     "data": {
      "text/plain": [
       "[<matplotlib.lines.Line2D at 0x117d73588>]"
      ]
     },
     "execution_count": 8,
     "metadata": {},
     "output_type": "execute_result"
    },
    {
     "data": {
      "image/png": "[encoded data removed]",
      "text/plain": [
       "<matplotlib.figure.Figure at 0x11234ef60>"
      ]
     },
     "metadata": {},
     "output_type": "display_data"
    }
   ],
   "source": [
    "'''============\n",
    "Test path class by BM\n",
    "=============='''\n",
    "T =1\n",
    "num_time_step = 10\n",
    "time_step = np.linspace(0, T, num_time_step+1)\n",
    "dw = np.zeros(num_time_step+1)\n",
    "dw[1:] = np.random.normal(0, 1, size=(1,num_time_step))*np.sqrt(T/num_time_step)\n",
    "w = dw.cumsum()\n",
    "path_1 = Path_1d(time_step=time_step)\n",
    "path_1.state = w\n",
    "plt.plot(path_1.time_step, path_1.state)"
   ]
  },
  {
   "cell_type": "code",
   "execution_count": 10,
   "metadata": {},
   "outputs": [],
   "source": [
    "'''============\n",
    "arethmetic average for the state values \n",
    "designed for arithmetric asian option\n",
    "=============='''\n",
    "def arithmetic_average(self):\n",
    "    return self.state.mean()       \n",
    "Path_1d.arithmetic_average = arithmetic_average"
   ]
  },
  {
   "cell_type": "code",
   "execution_count": 11,
   "metadata": {},
   "outputs": [
    {
     "data": {
      "text/plain": [
       "-0.765677626928838"
      ]
     },
     "execution_count": 11,
     "metadata": {},
     "output_type": "execute_result"
    }
   ],
   "source": [
    "#test\n",
    "path_1.arithmetic_average()"
   ]
  },
  {
   "cell_type": "code",
   "execution_count": 34,
   "metadata": {},
   "outputs": [],
   "source": [
    "'''===========\n",
    "projection\n",
    "============='''\n",
    "def projection(self, time_proj):\n",
    "    subpath = Path_1d(time_proj)\n",
    "    i = 0\n",
    "    for j in range(len(time_proj)):\n",
    "        while self.time_step[i] <= time_proj[j] and i<len(self.time_step):\n",
    "            i = i+1\n",
    "        if i>=len(self.time_step):\n",
    "            subpath.state[j] = self.state[-1]\n",
    "        elif i==0:\n",
    "            subpath.state[j] = self.state[0]\n",
    "        else:\n",
    "            lam = (self.time_step[i] - time_proj[j])/(self.time_step[i] - self.time_step[i-1])\n",
    "            subpath.state[j] = lam*self.state[i-1]+(1-lam)*self.state[i]\n",
    "    return subpath\n",
    "\n",
    "Path_1d.projection = projection"
   ]
  },
  {
   "cell_type": "code",
   "execution_count": 35,
   "metadata": {},
   "outputs": [
    {
     "data": {
      "text/plain": [
       "array([ 0.        , -0.29789578, -0.45760803, -0.67622293, -0.42782152,\n",
       "       -0.58076066, -0.59177634, -1.12982984, -1.5067827 , -1.30243147,\n",
       "       -1.45132461])"
      ]
     },
     "execution_count": 35,
     "metadata": {},
     "output_type": "execute_result"
    }
   ],
   "source": [
    "path_1.state"
   ]
  },
  {
   "cell_type": "code",
   "execution_count": 36,
   "metadata": {},
   "outputs": [
    {
     "ename": "IndexError",
     "evalue": "index 11 is out of bounds for axis 0 with size 11",
     "output_type": "error",
     "traceback": [
      "\u001b[0;31m---------------------------------------------------------------------------\u001b[0m",
      "\u001b[0;31mIndexError\u001b[0m                                Traceback (most recent call last)",
      "\u001b[0;32m<ipython-input-36-54755bde6005>\u001b[0m in \u001b[0;36m<module>\u001b[0;34m()\u001b[0m\n\u001b[0;32m----> 1\u001b[0;31m \u001b[0msubpath_1\u001b[0m \u001b[0;34m=\u001b[0m \u001b[0mpath_1\u001b[0m\u001b[0;34m.\u001b[0m\u001b[0mprojection\u001b[0m\u001b[0;34m(\u001b[0m\u001b[0mnp\u001b[0m\u001b[0;34m.\u001b[0m\u001b[0mlinspace\u001b[0m\u001b[0;34m(\u001b[0m\u001b[0;36m0\u001b[0m\u001b[0;34m,\u001b[0m\u001b[0;36m1\u001b[0m\u001b[0;34m,\u001b[0m\u001b[0;36m6\u001b[0m\u001b[0;34m)\u001b[0m\u001b[0;34m)\u001b[0m\u001b[0;34m\u001b[0m\u001b[0m\n\u001b[0m",
      "\u001b[0;32m<ipython-input-34-5b81e9f31f06>\u001b[0m in \u001b[0;36mprojection\u001b[0;34m(self, time_proj)\u001b[0m\n\u001b[1;32m      6\u001b[0m     \u001b[0mi\u001b[0m \u001b[0;34m=\u001b[0m \u001b[0;36m0\u001b[0m\u001b[0;34m\u001b[0m\u001b[0m\n\u001b[1;32m      7\u001b[0m     \u001b[0;32mfor\u001b[0m \u001b[0mj\u001b[0m \u001b[0;32min\u001b[0m \u001b[0mrange\u001b[0m\u001b[0;34m(\u001b[0m\u001b[0mlen\u001b[0m\u001b[0;34m(\u001b[0m\u001b[0mtime_proj\u001b[0m\u001b[0;34m)\u001b[0m\u001b[0;34m)\u001b[0m\u001b[0;34m:\u001b[0m\u001b[0;34m\u001b[0m\u001b[0m\n\u001b[0;32m----> 8\u001b[0;31m         \u001b[0;32mwhile\u001b[0m \u001b[0mself\u001b[0m\u001b[0;34m.\u001b[0m\u001b[0mtime_step\u001b[0m\u001b[0;34m[\u001b[0m\u001b[0mi\u001b[0m\u001b[0;34m]\u001b[0m \u001b[0;34m<=\u001b[0m \u001b[0mtime_proj\u001b[0m\u001b[0;34m[\u001b[0m\u001b[0mj\u001b[0m\u001b[0;34m]\u001b[0m \u001b[0;32mand\u001b[0m \u001b[0mi\u001b[0m\u001b[0;34m<\u001b[0m\u001b[0mlen\u001b[0m\u001b[0;34m(\u001b[0m\u001b[0mself\u001b[0m\u001b[0;34m.\u001b[0m\u001b[0mtime_step\u001b[0m\u001b[0;34m)\u001b[0m\u001b[0;34m:\u001b[0m\u001b[0;34m\u001b[0m\u001b[0m\n\u001b[0m\u001b[1;32m      9\u001b[0m             \u001b[0mi\u001b[0m \u001b[0;34m=\u001b[0m \u001b[0mi\u001b[0m\u001b[0;34m+\u001b[0m\u001b[0;36m1\u001b[0m\u001b[0;34m\u001b[0m\u001b[0m\n\u001b[1;32m     10\u001b[0m         \u001b[0;32mif\u001b[0m \u001b[0mi\u001b[0m\u001b[0;34m>=\u001b[0m\u001b[0mlen\u001b[0m\u001b[0;34m(\u001b[0m\u001b[0mself\u001b[0m\u001b[0;34m.\u001b[0m\u001b[0mtime_step\u001b[0m\u001b[0;34m)\u001b[0m\u001b[0;34m:\u001b[0m\u001b[0;34m\u001b[0m\u001b[0m\n",
      "\u001b[0;31mIndexError\u001b[0m: index 11 is out of bounds for axis 0 with size 11"
     ]
    }
   ],
   "source": [
    "subpath_1 = path_1.projection(np.linspace(0,1,6))"
   ]
  },
  {
   "cell_type": "code",
   "execution_count": null,
   "metadata": {},
   "outputs": [],
   "source": [
    "path1.geometric_average(no_initial=0)"
   ]
  }
 ],
 "metadata": {
  "kernelspec": {
   "display_name": "Python 3",
   "language": "python",
   "name": "python3"
  },
  "language_info": {
   "codemirror_mode": {
    "name": "ipython",
    "version": 3
   },
   "file_extension": ".py",
   "mimetype": "text/x-python",
   "name": "python",
   "nbconvert_exporter": "python",
   "pygments_lexer": "ipython3",
   "version": "3.6.4"
  }
 },
 "nbformat": 4,
 "nbformat_minor": 2
}
