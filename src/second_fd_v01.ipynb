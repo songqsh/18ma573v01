{
  "nbformat": 4,
  "nbformat_minor": 0,
  "metadata": {
    "colab": {
      "name": "second_fd_v01.ipynb",
      "version": "0.3.2",
      "provenance": [],
      "include_colab_link": true
    },
    "kernelspec": {
      "display_name": "Python 3",
      "language": "python",
      "name": "python3"
    }
  },
  "cells": [
    {
      "cell_type": "markdown",
      "metadata": {
        "id": "view-in-github",
        "colab_type": "text"
      },
      "source": [
        "<a href=\"https://colab.research.google.com/github/songqsh/18ma573v01/blob/master/src/second_fd_v01.ipynb\" target=\"_parent\"><img src=\"https://colab.research.google.com/assets/colab-badge.svg\" alt=\"Open In Colab\"/></a>"
      ]
    },
    {
      "metadata": {
        "id": "DtiBBaaX23Pn",
        "colab_type": "text"
      },
      "cell_type": "markdown",
      "source": [
        "# Abstract\n",
        "- Goal:\n",
        "    - Learn the second order derivative approximation: second order central finite difference\n",
        "    - Understand convergence rate\n"
      ]
    },
    {
      "metadata": {
        "id": "eaFuAupk23Pp",
        "colab_type": "text"
      },
      "cell_type": "markdown",
      "source": [
        "# Problem \n",
        "\n",
        "Let $f(x) = \\sin x$. Plot $f''$ and $\\delta_{-h} \\delta_h f$ with $h = .5$"
      ]
    },
    {
      "metadata": {
        "id": "Qn7LAsBy23Pq",
        "colab_type": "text"
      },
      "cell_type": "markdown",
      "source": [
        "# Anal\n",
        "\n",
        "\n",
        "One of the commonly used FD for $f''$ is the following:\n",
        "$$f''(x) = \\frac{d}{dx} f'(x) \\simeq \\delta_h f'(x) \\simeq \\delta_h \\delta_{-h} f(x).$$\n",
        "If we write it explicitly, then\n",
        "$$f''(x) \\simeq \\frac{f(x+h) - 2 f(x) + f(x-h)}{h^2}.$$"
      ]
    },
    {
      "metadata": {
        "id": "ks7RwCHn23Pq",
        "colab_type": "text"
      },
      "cell_type": "markdown",
      "source": [
        "__Prop__\n",
        "\n",
        "The central finite difference for the second order has convergence order $1$.\n",
        "\n",
        "__Proof__ \n",
        "\n",
        "Your input here"
      ]
    },
    {
      "metadata": {
        "id": "hYBOsvtK23Pr",
        "colab_type": "text"
      },
      "cell_type": "markdown",
      "source": [
        "# Code"
      ]
    },
    {
      "metadata": {
        "id": "tRP3QpRj23Pt",
        "colab_type": "code",
        "colab": {}
      },
      "cell_type": "code",
      "source": [
        "import numpy as np\n",
        "import pandas as pd\n",
        "import matplotlib.pyplot as plt"
      ],
      "execution_count": 0,
      "outputs": []
    },
    {
      "metadata": {
        "id": "v8yeDBun23Pw",
        "colab_type": "code",
        "colab": {}
      },
      "cell_type": "code",
      "source": [
        "def sfd(f, x, h):\n",
        "    # your input here;\n",
        "    pass\n"
      ],
      "execution_count": 0,
      "outputs": []
    },
    {
      "metadata": {
        "id": "W6xVrA0w23Px",
        "colab_type": "code",
        "colab": {}
      },
      "cell_type": "code",
      "source": [
        "'''\n",
        "Remove all #s below to plot a figure:\n",
        "    x_cod: points at which the derivative to be computed\n",
        "    y_cod: estimated derivative by finite difference\n",
        "'''\n",
        "\n",
        "\n",
        "\n",
        "h = .5 #step size\n",
        "\n",
        "# x_co = np.linspace(0, 2*np.pi, 100)\n",
        "# plt.plot(x_co, - np.sin(x_co), label = '$-sin(x)$');\n",
        "# plt.plot(x_co, sfd(np.sin, x_co, h), label = 'sfd');\n",
        "# plt.legend();"
      ],
      "execution_count": 0,
      "outputs": []
    },
    {
      "metadata": {
        "id": "FZ9dQHFi23P0",
        "colab_type": "text"
      },
      "cell_type": "markdown",
      "source": [
        "plot log-log chart for the demonstration of convergence rate, find convergence order using linear regression."
      ]
    },
    {
      "metadata": {
        "id": "oiiy4-I023P0",
        "colab_type": "code",
        "colab": {}
      },
      "cell_type": "code",
      "source": [
        "#your input here\n",
        "\n"
      ],
      "execution_count": 0,
      "outputs": []
    },
    {
      "metadata": {
        "id": "SGcLXIpJ23P3",
        "colab_type": "code",
        "colab": {}
      },
      "cell_type": "code",
      "source": [
        ""
      ],
      "execution_count": 0,
      "outputs": []
    }
  ]
}