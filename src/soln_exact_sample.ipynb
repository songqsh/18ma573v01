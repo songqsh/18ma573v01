{
 "cells": [
  {
   "cell_type": "markdown",
   "metadata": {},
   "source": [
    "We consider an arithmetic asian call price for the following parameters:"
   ]
  },
  {
   "cell_type": "code",
   "execution_count": 4,
   "metadata": {},
   "outputs": [],
   "source": [
    "'''=================\n",
    "paras are given here\n",
    "================='''\n",
    "\n",
    "import numpy as np\n",
    "\n",
    "S0 = 100.0\n",
    "sigma = 0.20\n",
    "r=0.0475\n",
    "\n",
    "\n",
    "K = 110.0\n",
    "T = 1.\n",
    "otype = 1 #call for 1, put for -1\n",
    "num_step = 5"
   ]
  },
  {
   "cell_type": "code",
   "execution_count": 5,
   "metadata": {},
   "outputs": [],
   "source": [
    "from sde_1d_v01 import *"
   ]
  },
  {
   "cell_type": "markdown",
   "metadata": {},
   "source": [
    "- Add BSM arithmetic asian price engine to Gbm_1d class followed by the following pseudocode.\n",
    "\n",
    "    __Pseudocode__ bsm_arithmetic_asian_exact_sample(otype, strike, maturity, num_step, num_path):\n",
    "\n",
    "    - generate (num_path) many GBM paths by exact sampling;\n",
    "    - compute discounted payoff for each path;\n",
    "    - Take the average for the option price."
   ]
  },
  {
   "cell_type": "markdown",
   "metadata": {},
   "source": [
    "- compute arithmetic asian option price given by above price engine\n",
    "- With the same paras, compute corresponding geometric asian option and european option price\n",
    "- Compare all those three prices. Could you "
   ]
  },
  {
   "cell_type": "code",
   "execution_count": 8,
   "metadata": {},
   "outputs": [],
   "source": [
    "#define a function of BM path generator\n",
    "def BM_gen(T1, T2, n):  #para: start time, end time, and the mesh number \n",
    "    t = np.linspace(T1, T2, num = n+1) #init mesh\n",
    "    W = np.zeros(n+1) #init BM\n",
    "    #Run (3.2)\n",
    "    for i in range(n):\n",
    "        W[i+1] = W[i] + 1./np.sqrt(n) * np.random.normal()\n",
    "        \n",
    "    return t, W"
   ]
  },
  {
   "cell_type": "code",
   "execution_count": 10,
   "metadata": {},
   "outputs": [
    {
     "name": "stdout",
     "output_type": "stream",
     "text": [
      "call price is 1.9532557018007335\n"
     ]
    }
   ],
   "source": [
    "t = np.linspace(0., T, num_step)\n",
    "#compute call price\n",
    "payoff = 0\n",
    "sim_N = 2000 #number of simulations\n",
    "for i in range(sim_N): \n",
    "    [t,W] = BM_gen(0., T, num_step-1) #BM path\n",
    "    S = S0 * np.exp((r - sigma**2/2.) * t + sigma * W)  #GBM path\n",
    "    AT = np.mean(S)\n",
    "    payoff = payoff + np.exp(-r*T)*np.max([AT-K, 0])\n",
    "    \n",
    "payoff = payoff/sim_N\n",
    "print('call price is ' + str(payoff))"
   ]
  },
  {
   "cell_type": "code",
   "execution_count": null,
   "metadata": {},
   "outputs": [],
   "source": []
  }
 ],
 "metadata": {
  "kernelspec": {
   "display_name": "Python 3",
   "language": "python",
   "name": "python3"
  },
  "language_info": {
   "codemirror_mode": {
    "name": "ipython",
    "version": 3
   },
   "file_extension": ".py",
   "mimetype": "text/x-python",
   "name": "python",
   "nbconvert_exporter": "python",
   "pygments_lexer": "ipython3",
   "version": "3.6.4"
  }
 },
 "nbformat": 4,
 "nbformat_minor": 1
}
