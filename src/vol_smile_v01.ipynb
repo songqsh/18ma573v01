{
 "cells": [
  {
   "cell_type": "markdown",
   "metadata": {
    "colab_type": "text",
    "id": "view-in-github"
   },
   "source": [
    "<a href=\"https://colab.research.google.com/github/songqsh/18ma573v01/blob/master/src/vol_smile_v01.ipynb\" target=\"_parent\"><img src=\"https://colab.research.google.com/assets/colab-badge.svg\" alt=\"Open In Colab\"/></a>"
   ]
  },
  {
   "cell_type": "markdown",
   "metadata": {
    "colab_type": "text",
    "id": "zS7Ut8Wer4no"
   },
   "source": [
    "# Volatility smile\n"
   ]
  },
  {
   "cell_type": "markdown",
   "metadata": {
    "colab_type": "text",
    "id": "Q0Giv_sQGvXV"
   },
   "source": [
    "\n",
    "Volatility smiles are implied volatility patterns that arise in pricing financial options.  It corresponds to finding one single parameter (implied volatility) that is needed to be modified for the Black-Scholes formula to fit market prices. Graphing implied volatilities against strike prices for a given expiry yields a skewed \"smile\" instead of the expected flat surface."
   ]
  },
  {
   "cell_type": "markdown",
   "metadata": {
    "colab_type": "text",
    "id": "cEdN3A_5HEhU"
   },
   "source": [
    "Next, we shall demonstrate volatility smiles by computing implied volatility to multiple market option prices. For instance, we can fix the maturity, and compute volatilities for different strikes. If we plot a strike versus vol figure , we shall see the smily face there.\n",
    "\n"
   ]
  },
  {
   "cell_type": "markdown",
   "metadata": {
    "colab_type": "text",
    "id": "UfgdzWvJIAsW"
   },
   "source": [
    "- For preparation, we first upload \"src/optiondata2.dat\" manually to GitHub. This data is cooked up from some stock model, which will be revealed later.\n"
   ]
  },
  {
   "cell_type": "markdown",
   "metadata": {
    "colab_type": "text",
    "id": "GNhuIDWPs0Yq"
   },
   "source": [
    "- Change working dir to \"reponame/src\", also needs run once, and comment it out from the second run."
   ]
  },
  {
   "cell_type": "markdown",
   "metadata": {
    "colab_type": "text",
    "id": "Mb7FKbm6Ibrm"
   },
   "source": [
    "- \n",
    "here we import our own python modules and common modules\n"
   ]
  },
  {
   "cell_type": "code",
   "execution_count": 1,
   "metadata": {
    "colab": {},
    "colab_type": "code",
    "id": "mc3zAJ2etB-f"
   },
   "outputs": [],
   "source": [
    "from contract_v01 import VanillaOption\n",
    "from sde_1d_v01 import Gbm_1d"
   ]
  },
  {
   "cell_type": "code",
   "execution_count": 2,
   "metadata": {
    "colab": {},
    "colab_type": "code",
    "id": "CkU-P4VhtVfF"
   },
   "outputs": [],
   "source": [
    "import matplotlib.pyplot as plt\n",
    "import numpy as np\n",
    "import scipy.optimize as so"
   ]
  },
  {
   "cell_type": "markdown",
   "metadata": {
    "colab_type": "text",
    "id": "oy91uE1yIqYb"
   },
   "source": [
    "- Read data from .dat file. It has call option prices of \n",
    "  - maturities 2 months and 5 months;\n",
    "  - strikes of 97, 99, 101, 103"
   ]
  },
  {
   "cell_type": "code",
   "execution_count": 3,
   "metadata": {
    "colab": {
     "base_uri": "https://localhost:8080/",
     "height": 170
    },
    "colab_type": "code",
    "id": "XGYSyQJqsvLR",
    "outputId": "ba92d688-77c9-44bf-c90b-091a90304ba9"
   },
   "outputs": [
    {
     "name": "stdout",
     "output_type": "stream",
     "text": [
      ">>>>>>otype, maturity, strike, option_price\n",
      "[[  1.           0.16666667  97.           5.32705461]\n",
      " [  1.           0.16666667  99.           3.86224255]\n",
      " [  1.           0.16666667 101.           2.7204371 ]\n",
      " [  1.           0.16666667 103.           2.1202793 ]\n",
      " [  1.           0.41666667  97.           7.23756307]\n",
      " [  1.           0.41666667  99.           5.95053461]\n",
      " [  1.           0.41666667 101.           5.2640122 ]\n",
      " [  1.           0.41666667 103.           4.97493422]]\n"
     ]
    }
   ],
   "source": [
    "'''======\n",
    "Read data\n",
    "========='''\n",
    "#Read four-column data\n",
    "#columns are otype, maturity, strike, option_price\n",
    "np_option_data1 = np.loadtxt('optiondata2.dat', comments='#', delimiter=',')\n",
    "\n",
    "print('>>>>>>otype, maturity, strike, option_price')\n",
    "print(np_option_data1)"
   ]
  },
  {
   "cell_type": "markdown",
   "metadata": {
    "colab_type": "text",
    "id": "H17WcZ1dJwZI"
   },
   "source": [
    "- We also need to give spot price and interest rate before the computation."
   ]
  },
  {
   "cell_type": "code",
   "execution_count": 5,
   "metadata": {
    "colab": {},
    "colab_type": "code",
    "id": "caLj7PPis_WI"
   },
   "outputs": [],
   "source": [
    "'''==============\n",
    "below are from the market data for underlying process\n",
    "================='''\n",
    "gbm1 = Gbm_1d(\n",
    "    init_state = 100, #market data\n",
    "    drift_ratio = .05, #market data\n",
    "    vol_ratio = .1 #initial guess\n",
    ")"
   ]
  },
  {
   "cell_type": "code",
   "execution_count": 6,
   "metadata": {
    "colab": {},
    "colab_type": "code",
    "id": "J0g4Pb8_0gtz"
   },
   "outputs": [],
   "source": [
    "'''====================\n",
    "create option_list from the data\n",
    "======================='''\n",
    "\n",
    "num_row = np_option_data1.shape[0]\n",
    "option_list = []\n",
    "\n",
    "for i in range(num_row):\n",
    "  option1 = VanillaOption(\n",
    "      otype = np_option_data1[i,0],\n",
    "      strike = np_option_data1[i,2],\n",
    "      maturity = np_option_data1[i,1],\n",
    "      market_price = np_option_data1[i,3]\n",
    "  )\n",
    "      \n",
    "  option_list.append(option1)"
   ]
  },
  {
   "cell_type": "code",
   "execution_count": 7,
   "metadata": {
    "colab": {},
    "colab_type": "code",
    "id": "b547mVxDKEkH"
   },
   "outputs": [],
   "source": [
    "#expand one column for vol\n",
    "np_option_data2 = np.append(np_option_data1, np.zeros([num_row,1]), axis = 1)"
   ]
  },
  {
   "cell_type": "code",
   "execution_count": 8,
   "metadata": {
    "colab": {},
    "colab_type": "code",
    "id": "_EPUN-MEz_BZ"
   },
   "outputs": [],
   "source": [
    "'''================\n",
    "define an error function\n",
    "===================='''\n",
    "def error_function(vol, gbm, option):\n",
    "  gbm.vol_ratio = vol\n",
    "  return np.abs(option.market_price - gbm.bsm_price(option))\n",
    "\n",
    "'''==========\n",
    "define a method to seek for an implied volatility\n",
    "============'''\n",
    "\n",
    "def implied_volatility(gbm, option):\n",
    "  init_vol = .1 #initial guess\n",
    "  return so.fmin(error_function, init_vol, args = (gbm, option), disp = 0)[0]"
   ]
  },
  {
   "cell_type": "code",
   "execution_count": 9,
   "metadata": {
    "colab": {
     "base_uri": "https://localhost:8080/",
     "height": 170
    },
    "colab_type": "code",
    "id": "JETgl49UgY8v",
    "outputId": "81094190-c190-476c-c65c-4b44e9331c37"
   },
   "outputs": [
    {
     "name": "stdout",
     "output_type": "stream",
     "text": [
      ">>>>>>otype, maturity, strike, option_price, implied vol\n",
      "[[  1.           0.16666667  97.           5.32705461   0.19125   ]\n",
      " [  1.           0.16666667  99.           3.86224255   0.17724609]\n",
      " [  1.           0.16666667 101.           2.7204371    0.17183594]\n",
      " [  1.           0.16666667 103.           2.1202793    0.18681641]\n",
      " [  1.           0.41666667  97.           7.23756307   0.170625  ]\n",
      " [  1.           0.41666667  99.           5.95053461   0.16804688]\n",
      " [  1.           0.41666667 101.           5.2640122    0.18373047]\n",
      " [  1.           0.41666667 103.           4.97493422   0.20901367]]\n"
     ]
    }
   ],
   "source": [
    "#compute implied vols and add them into the last column\n",
    "for i in range(num_row):\n",
    "  np_option_data2[i,4] = implied_volatility(gbm1, option_list[i])\n",
    "  \n",
    "print('>>>>>>otype, maturity, strike, option_price, implied vol')\n",
    "print(np_option_data2)  "
   ]
  },
  {
   "cell_type": "code",
   "execution_count": 10,
   "metadata": {
    "colab": {
     "base_uri": "https://localhost:8080/",
     "height": 361
    },
    "colab_type": "code",
    "id": "BLj4cNzitkv_",
    "outputId": "9857a5c9-f731-4b9d-c947-ca9bb04864a8"
   },
   "outputs": [
    {
     "data": {
      "image/png": "[encoded data removed]",
      "text/plain": [
       "<matplotlib.figure.Figure at 0x1134f28d0>"
      ]
     },
     "metadata": {},
     "output_type": "display_data"
    }
   ],
   "source": [
    "filter1 = np_option_data2[np_option_data2[:,1] == 2/12]\n",
    "plt.plot(filter1[:,2], filter1[:,4], label = '2 mon maturity')\n",
    "filter2 = np_option_data2[np_option_data2[:,1] == 5/12]\n",
    "plt.plot(filter2[:,2], filter2[:,4], label = '5 mon maturity')\n",
    "plt.ylabel('implied vol')\n",
    "plt.xlabel('strike')\n",
    "plt.legend();"
   ]
  },
  {
   "cell_type": "code",
   "execution_count": null,
   "metadata": {},
   "outputs": [],
   "source": []
  },
  {
   "cell_type": "code",
   "execution_count": null,
   "metadata": {},
   "outputs": [],
   "source": []
  }
 ],
 "metadata": {
  "colab": {
   "include_colab_link": true,
   "name": "Copy of vol_smile.ipynb",
   "provenance": [],
   "toc_visible": true,
   "version": "0.3.2"
  },
  "kernelspec": {
   "display_name": "Python 3",
   "language": "python",
   "name": "python3"
  },
  "language_info": {
   "codemirror_mode": {
    "name": "ipython",
    "version": 3
   },
   "file_extension": ".py",
   "mimetype": "text/x-python",
   "name": "python",
   "nbconvert_exporter": "python",
   "pygments_lexer": "ipython3",
   "version": "3.7.4"
  }
 },
 "nbformat": 4,
 "nbformat_minor": 1
}
