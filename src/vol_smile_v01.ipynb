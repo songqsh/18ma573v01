{
  "nbformat": 4,
  "nbformat_minor": 0,
  "metadata": {
    "colab": {
      "name": "Copy of vol_smile.ipynb",
      "version": "0.3.2",
      "provenance": [],
      "toc_visible": true,
      "include_colab_link": true
    },
    "kernelspec": {
      "name": "python3",
      "display_name": "Python 3"
    }
  },
  "cells": [
    {
      "cell_type": "markdown",
      "metadata": {
        "id": "view-in-github",
        "colab_type": "text"
      },
      "source": [
        "<a href=\"https://colab.research.google.com/github/songqsh/18ma573v01/blob/master/src/vol_smile_v01.ipynb\" target=\"_parent\"><img src=\"https://colab.research.google.com/assets/colab-badge.svg\" alt=\"Open In Colab\"/></a>"
      ]
    },
    {
      "metadata": {
        "id": "zS7Ut8Wer4no",
        "colab_type": "text"
      },
      "cell_type": "markdown",
      "source": [
        "# Volatility smile\n"
      ]
    },
    {
      "metadata": {
        "id": "Q0Giv_sQGvXV",
        "colab_type": "text"
      },
      "cell_type": "markdown",
      "source": [
        "\n",
        "Volatility smiles are implied volatility patterns that arise in pricing financial options.  It corresponds to finding one single parameter (implied volatility) that is needed to be modified for the Black-Scholes formula to fit market prices. Graphing implied volatilities against strike prices for a given expiry yields a skewed \"smile\" instead of the expected flat surface."
      ]
    },
    {
      "metadata": {
        "id": "cEdN3A_5HEhU",
        "colab_type": "text"
      },
      "cell_type": "markdown",
      "source": [
        "Next, we shall demonstrate volatility smiles by computing implied volatility to multiple market option prices. For instance, we can fix the maturity, and compute volatilities for different strikes. If we plot a strike versus vol figure , we shall see the smily face there.\n",
        "\n"
      ]
    },
    {
      "metadata": {
        "id": "UfgdzWvJIAsW",
        "colab_type": "text"
      },
      "cell_type": "markdown",
      "source": [
        "- For preparation, we first upload \"src/optiondata2.dat\" manually to GitHub. This data is cooked up from some stock model, which will be revealed later.\n",
        "\n",
        "- git clone repo to colab"
      ]
    },
    {
      "metadata": {
        "id": "CJN7qYPPsA9O",
        "colab_type": "code",
        "outputId": "64720502-0774-4e00-bfc0-e7ab0b48669b",
        "colab": {
          "base_uri": "https://localhost:8080/",
          "height": 136
        }
      },
      "cell_type": "code",
      "source": [
        "'''======\n",
        "run once, then comment it off, and run again\n",
        "========'''\n",
        "!git clone https://github.com/songqsh/18ma573pub.git \n",
        "pass"
      ],
      "execution_count": 0,
      "outputs": [
        {
          "output_type": "stream",
          "text": [
            "Cloning into '18ma573pub'...\n",
            "remote: Enumerating objects: 113, done.\u001b[K\n",
            "remote: Counting objects: 100% (113/113), done.\u001b[K\n",
            "remote: Compressing objects: 100% (113/113), done.\u001b[K\n",
            "remote: Total 407 (delta 71), reused 1 (delta 0), pack-reused 294\u001b[K\n",
            "Receiving objects: 100% (407/407), 624.45 KiB | 16.43 MiB/s, done.\n",
            "Resolving deltas: 100% (226/226), done.\n"
          ],
          "name": "stdout"
        }
      ]
    },
    {
      "metadata": {
        "id": "GNhuIDWPs0Yq",
        "colab_type": "text"
      },
      "cell_type": "markdown",
      "source": [
        "- Change working dir to \"reponame/src\", also needs run once, and comment it out from the second run."
      ]
    },
    {
      "metadata": {
        "id": "ruDjuiaNskbO",
        "colab_type": "code",
        "outputId": "34f6dddc-cb3c-40fb-a52c-632d1467f5e4",
        "colab": {
          "base_uri": "https://localhost:8080/",
          "height": 34
        }
      },
      "cell_type": "code",
      "source": [
        "cd 18ma573pub/src/"
      ],
      "execution_count": 0,
      "outputs": [
        {
          "output_type": "stream",
          "text": [
            "/content/18ma573pub/src\n"
          ],
          "name": "stdout"
        }
      ]
    },
    {
      "metadata": {
        "id": "Mb7FKbm6Ibrm",
        "colab_type": "text"
      },
      "cell_type": "markdown",
      "source": [
        "- \n",
        "here we import our own python modules and common modules\n"
      ]
    },
    {
      "metadata": {
        "id": "mc3zAJ2etB-f",
        "colab_type": "code",
        "colab": {}
      },
      "cell_type": "code",
      "source": [
        "from european_options_class import VanillaOption\n",
        "from sde_class import Gbm"
      ],
      "execution_count": 0,
      "outputs": []
    },
    {
      "metadata": {
        "id": "CkU-P4VhtVfF",
        "colab_type": "code",
        "colab": {}
      },
      "cell_type": "code",
      "source": [
        "import matplotlib.pyplot as plt\n",
        "import numpy as np\n",
        "import scipy.optimize as so"
      ],
      "execution_count": 0,
      "outputs": []
    },
    {
      "metadata": {
        "id": "oy91uE1yIqYb",
        "colab_type": "text"
      },
      "cell_type": "markdown",
      "source": [
        "- Read data from .dat file. It has call option prices of \n",
        "  - maturities 2 months and 5 months;\n",
        "  - strikes of 97, 99, 101, 103"
      ]
    },
    {
      "metadata": {
        "id": "XGYSyQJqsvLR",
        "colab_type": "code",
        "outputId": "ba92d688-77c9-44bf-c90b-091a90304ba9",
        "colab": {
          "base_uri": "https://localhost:8080/",
          "height": 170
        }
      },
      "cell_type": "code",
      "source": [
        "'''======\n",
        "Read data\n",
        "========='''\n",
        "#Read four-column data\n",
        "#columns are otype, maturity, strike, option_price\n",
        "np_option_data1 = np.loadtxt('optiondata2.dat', comments='#', delimiter=',')\n",
        "\n",
        "print('>>>>>>otype, maturity, strike, option_price')\n",
        "print(np_option_data1)"
      ],
      "execution_count": 0,
      "outputs": [
        {
          "output_type": "stream",
          "text": [
            ">>>>>>otype, maturity, strike, option_price\n",
            "[[  1.           0.16666667  97.           5.32705461]\n",
            " [  1.           0.16666667  99.           3.86224255]\n",
            " [  1.           0.16666667 101.           2.7204371 ]\n",
            " [  1.           0.16666667 103.           2.1202793 ]\n",
            " [  1.           0.41666667  97.           7.23756307]\n",
            " [  1.           0.41666667  99.           5.95053461]\n",
            " [  1.           0.41666667 101.           5.2640122 ]\n",
            " [  1.           0.41666667 103.           4.97493422]]\n"
          ],
          "name": "stdout"
        }
      ]
    },
    {
      "metadata": {
        "id": "H17WcZ1dJwZI",
        "colab_type": "text"
      },
      "cell_type": "markdown",
      "source": [
        "- We also need to give spot price and interest rate before the computation."
      ]
    },
    {
      "metadata": {
        "id": "caLj7PPis_WI",
        "colab_type": "code",
        "colab": {}
      },
      "cell_type": "code",
      "source": [
        "'''==============\n",
        "below are from the market data for underlying process\n",
        "================='''\n",
        "gbm1 = Gbm(\n",
        "    init_state = 100, #market data\n",
        "    drift_ratio = .05, #market data\n",
        "    vol_ratio = .1 #initial guess\n",
        ")"
      ],
      "execution_count": 0,
      "outputs": []
    },
    {
      "metadata": {
        "id": "J0g4Pb8_0gtz",
        "colab_type": "code",
        "colab": {}
      },
      "cell_type": "code",
      "source": [
        "'''====================\n",
        "creat option_list from the data\n",
        "======================='''\n",
        "\n",
        "num_row = np_option_data1.shape[0]\n",
        "option_list = []\n",
        "\n",
        "for i in range(num_row):\n",
        "  option1 = VanillaOption(\n",
        "      otype = np_option_data1[i,0],\n",
        "      strike = np_option_data1[i,2],\n",
        "      maturity = np_option_data1[i,1],\n",
        "      market_price = np_option_data1[i,3]\n",
        "  )\n",
        "      \n",
        "  option_list.append(option1)"
      ],
      "execution_count": 0,
      "outputs": []
    },
    {
      "metadata": {
        "id": "b547mVxDKEkH",
        "colab_type": "code",
        "colab": {}
      },
      "cell_type": "code",
      "source": [
        "#expand one column for vol\n",
        "np_option_data2 = np.append(np_option_data1, np.zeros([num_row,1]), axis = 1)"
      ],
      "execution_count": 0,
      "outputs": []
    },
    {
      "metadata": {
        "id": "_EPUN-MEz_BZ",
        "colab_type": "code",
        "colab": {}
      },
      "cell_type": "code",
      "source": [
        "'''================\n",
        "define an error function\n",
        "===================='''\n",
        "def error_function(vol, gbm, option):\n",
        "  gbm.vol_ratio = vol\n",
        "  return np.abs(option.market_price - gbm.bsm_price(option))\n",
        "\n",
        "'''==========\n",
        "define a method to seek for an implied volatility\n",
        "============'''\n",
        "\n",
        "def implied_volatility(gbm, option):\n",
        "  init_vol = .1 #initial guess\n",
        "  return so.fmin(error_function, init_vol, args = (gbm, option), disp = 0)[0]"
      ],
      "execution_count": 0,
      "outputs": []
    },
    {
      "metadata": {
        "id": "JETgl49UgY8v",
        "colab_type": "code",
        "outputId": "81094190-c190-476c-c65c-4b44e9331c37",
        "colab": {
          "base_uri": "https://localhost:8080/",
          "height": 170
        }
      },
      "cell_type": "code",
      "source": [
        "#compute implied vols and add them into the last column\n",
        "for i in range(num_row):\n",
        "  np_option_data2[i,4] = implied_volatility(gbm1, option_list[i])\n",
        "  \n",
        "print('>>>>>>otype, maturity, strike, option_price, implied vol')\n",
        "print(np_option_data2)  "
      ],
      "execution_count": 0,
      "outputs": [
        {
          "output_type": "stream",
          "text": [
            ">>>>>>otype, maturity, strike, option_price, implied vol\n",
            "[[  1.           0.16666667  97.           5.32705461   0.19125   ]\n",
            " [  1.           0.16666667  99.           3.86224255   0.17724609]\n",
            " [  1.           0.16666667 101.           2.7204371    0.17183594]\n",
            " [  1.           0.16666667 103.           2.1202793    0.18681641]\n",
            " [  1.           0.41666667  97.           7.23756307   0.170625  ]\n",
            " [  1.           0.41666667  99.           5.95053461   0.16804688]\n",
            " [  1.           0.41666667 101.           5.2640122    0.18373047]\n",
            " [  1.           0.41666667 103.           4.97493422   0.20901367]]\n"
          ],
          "name": "stdout"
        }
      ]
    },
    {
      "metadata": {
        "id": "BLj4cNzitkv_",
        "colab_type": "code",
        "outputId": "9857a5c9-f731-4b9d-c947-ca9bb04864a8",
        "colab": {
          "base_uri": "https://localhost:8080/",
          "height": 361
        }
      },
      "cell_type": "code",
      "source": [
        "filter1 = np_option_data2[np_option_data2[:,1] == 2/12]\n",
        "plt.plot(filter1[:,2], filter1[:,4], label = '2 mon maturity')\n",
        "filter2 = np_option_data2[np_option_data2[:,1] == 5/12]\n",
        "plt.plot(filter2[:,2], filter2[:,4], label = '5 mon maturity')\n",
        "plt.ylabel('implied vol')\n",
        "plt.xlabel('strike')\n",
        "plt.legend();"
      ],
      "execution_count": 0,
      "outputs": [
        {
          "output_type": "display_data",
          "data": {
            "image/png": "[encoded data removed]",
            "text/plain": [
              "<matplotlib.figure.Figure at 0x7f6fcb1c1f60>"
            ]
          },
          "metadata": {
            "tags": []
          }
        }
      ]
    }
  ]
}