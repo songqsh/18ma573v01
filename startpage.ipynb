{
 "cells": [
  {
   "cell_type": "markdown",
   "metadata": {},
   "source": [
    "# Notes"
   ]
  },
  {
   "cell_type": "markdown",
   "metadata": {},
   "source": [
    "- [Syllabus]\n",
    "- [Final project]\n",
    "- [Capstone project](./doc/capstone.pdf)"
   ]
  },
  {
   "cell_type": "markdown",
   "metadata": {},
   "source": [
    "## Python basics on Jupyter notebook\n",
    "\n",
    "In this section, we will get familiar with python language with Jupyter notebook through some financial applications.\n",
    "\n",
    "- [Python on notebook](./src/python_notebook.ipynb)\n",
    "- [Pandas](./src/pandas_basics.ipynb)\n",
    "- [First order finite difference operators](./src/first_fd.ipynb)\n",
    "- BSM formula -  [ipynb](./src/bsm_formula.ipynb)\n",
    "- [Convergence order](./src/convergence_rate.ipynb)\n",
    "    - Project: [Second order finite difference operator](./src/second_fd.ipynb) \n",
    "        ([Soln](./src/second_fd_soln.ipynb))\n",
    "    - Project: [Higher order finite difference](./src/ex_fd.ipynb)\n"
   ]
  },
  {
   "cell_type": "markdown",
   "metadata": {},
   "source": [
    "## Monte Carlo basics\n",
    "\n",
    "- [Monte Carlo basics: Estimating $\\pi$](./doc/pi_mc_01.pdf)\n",
    "- [Ordinary Monte Carlo: Definite integral](./doc/omc_integral.pdf)\n",
    "- [Exact sampling of Brownian motion](./src/bm_1d.ipynb)\n",
    "    - [Prj: BSM + exact value + exact sampling](./doc/omc_integral_prj.pdf)\n",
    "- [Inverse transform method + Importance sampling: Definite integral](./doc/is_it_integral.pdf)\n",
    "- 1d Euler scheme - [pdf](./doc/euler_sde_1d.pdf)\n",
    "    - Demo: bm_1d_path - [ipynb](./src/bm_1d_path.ipynb)\n",
    "    - Demo: euler_1d_path - [ipynb](./src/euler_1d.ipynb)\n",
    "- 2d Euler scheme - [pdf](./doc/euler_sde_2d.pdf)\n",
    "    - Call on Heston model - [ipynb](./src/euler_heston.ipynb)\n",
    "    - Heston data cook - [ipynb](./src/heston_data_cook.ipynb)\n",
    "- [Demonstration of Stability for FTCS](./doc/stability_ftcs_01.pdf)\n",
    "- [Stability analysis of FTCS](./doc/stability_ftcs_02.pdf)\n",
    "- [Crank-Nicolson scheme](./doc/stability_ftcs_03.pdf)"
   ]
  },
  {
   "cell_type": "markdown",
   "metadata": {},
   "source": [
    "# Explicit pricing formula\n",
    "\n",
    "- [Explicit Option Price: BSM+Eu](./src/explicit_bsm_eu.ipynb)\n",
    "- [Project: BSM Greeks](./src/explicit_bsm_greeks.ipynb)\n",
    "    - [Soln](./src/explicit_bsm_greeks_soln.ipynb)\n",
    "- [Explicit Zero Coupon price: Vasicek+Zcb](./src/explicit_vasicek_zcb.ipynb)\n",
    "- [Calibration: Vasicek + Libor + Swap](./src/calibration_vasicek_libor_swap.ipynb)\n",
    "\n"
   ]
  },
  {
   "cell_type": "markdown",
   "metadata": {},
   "source": [
    "# Monte Carlo - Exact sampling\n",
    "- [Exact Sampling: BSM+Eu](./src/es_bsm_eu.ipynb)\n",
    "- [Exact sampling: BSM + Knock-in](./src/es_bsm_knock_in.ipynb)\n",
    "- [Importance sampling: BSM + Knock-in](./src/is_bsm_knock_in.ipynb)\n",
    "- [Control Variates: BSM+Aac](./src/control_variates_bsm_aac.ipynb)\n"
   ]
  },
  {
   "cell_type": "markdown",
   "metadata": {},
   "source": [
    "# Finite difference method\n",
    "- [FTCS and stability: Heat equation](./src/ftcs_stability_heat_1d.ipynb)\n",
    "- [BTCS and stability: Heat equation](./src/btcs_stability_heat_1d.ipynb)"
   ]
  },
  {
   "cell_type": "markdown",
   "metadata": {},
   "source": [
    "# Problem Sets\n",
    "\n",
    "- [Problems01](./src/problems01.ipynb)"
   ]
  },
  {
   "cell_type": "code",
   "execution_count": null,
   "metadata": {},
   "outputs": [],
   "source": []
  }
 ],
 "metadata": {
  "kernelspec": {
   "display_name": "Python 3",
   "language": "python",
   "name": "python3"
  },
  "language_info": {
   "codemirror_mode": {
    "name": "ipython",
    "version": 3
   },
   "file_extension": ".py",
   "mimetype": "text/x-python",
   "name": "python",
   "nbconvert_exporter": "python",
   "pygments_lexer": "ipython3",
   "version": "3.6.4"
  }
 },
 "nbformat": 4,
 "nbformat_minor": 2
}
